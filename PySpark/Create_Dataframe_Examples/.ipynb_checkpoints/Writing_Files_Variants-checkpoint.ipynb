{
 "cells": [
  {
   "cell_type": "markdown",
   "metadata": {
    "pycharm": {
     "name": "#%%\n"
    }
   },
   "source": [
    "Default behavior is to generate part files and name can't be configured\n",
    "\n",
    "val df = Seq(\"one\", \"two\", \"three\").toDF(\"num\")\n",
    "\n",
    "`repartition` property configures how many part files are generated.\n",
    "\n",
    "`df.repartition(3).write.csv(sys.env(\"HOME\")+ \"/Documents/tmp/some-files\")` - 3 files\n",
    "\n",
    "`df.repartition(1).write.csv(sys.env(\"HOME\")+ \"/Documents/tmp/one-file-repartition\")` - 1 file\n",
    "\n",
    "`coalesce` property genereates one file, but you lose parallelism.\n",
    "\n",
    "`df.coalesce(1).write.csv(sys.env(\"HOME\")+ \"/Documents/tmp/one-file-coalesce\")` - 1 file\n",
    "\n",
    "Writing out a file with a specific name - `spark-daria` module\n",
    "\n",
    "**Example:**"
   ]
  },
  {
   "cell_type": "code",
   "execution_count": null,
   "metadata": {
    "pycharm": {
     "name": "#%%\n"
    }
   },
   "outputs": [],
   "source": [
    "import com.github.mrpowers.spark.daria.sql.DariaWriters\n",
    "\n",
    "DariaWriters.writeSingleFile(\n",
    "    df = df,\n",
    "    format = \"csv\",\n",
    "    sc = spark.sparkContext,\n",
    "    tmpFolder = sys.env(\"HOME\") + \"/Documents/better/tmp\",\n",
    "    filename = sys.env(\"HOME\") + \"/Documents/better/mydata.csv\"\n",
    ")"
   ]
  }
 ],
 "metadata": {
  "kernelspec": {
   "display_name": "Python 3 (ipykernel)",
   "language": "python",
   "name": "python3"
  },
  "language_info": {
   "codemirror_mode": {
    "name": "ipython",
    "version": 3
   },
   "file_extension": ".py",
   "mimetype": "text/x-python",
   "name": "python",
   "nbconvert_exporter": "python",
   "pygments_lexer": "ipython3",
   "version": "3.9.7"
  },
  "toc": {
   "base_numbering": 1,
   "nav_menu": {},
   "number_sections": true,
   "sideBar": true,
   "skip_h1_title": false,
   "title_cell": "Table of Contents",
   "title_sidebar": "Contents",
   "toc_cell": false,
   "toc_position": {},
   "toc_section_display": true,
   "toc_window_display": true
  }
 },
 "nbformat": 4,
 "nbformat_minor": 1
}
