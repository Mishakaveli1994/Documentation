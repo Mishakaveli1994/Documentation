{
 "cells": [
  {
   "cell_type": "markdown",
   "metadata": {
    "collapsed": true,
    "pycharm": {
     "name": "#%%\n"
    }
   },
   "source": [
    "## GroupBy\n",
    "\n",
    "When we perform groupBy() on PySpark Dataframe, it returns GroupedData object\n",
    "which contains below aggregate functions.\n",
    "\n",
    "`count()` - Returns the count of rows for each group.\n",
    "\n",
    "`mean()` - Returns the mean of values for each group.\n",
    "\n",
    "`max()` - Returns the maximum of values for each group.\n",
    "\n",
    "`min()` - Returns the minimum of values for each group.\n",
    "\n",
    "`sum()` - Returns the total for values for each group.\n",
    "\n",
    "`avg()` - Returns the average for values for each group.\n",
    "\n",
    "`agg()` - Using agg() function, we can calculate more than one aggregate at a time.\n",
    "\n",
    "`pivot()` - This function is used to Pivot the DataFrame"
   ]
  },
  {
   "cell_type": "code",
   "execution_count": 1,
   "metadata": {
    "scrolled": true
   },
   "outputs": [],
   "source": [
    "from pyspark.sql import SparkSession\n",
    "from pyspark.sql.functions import *"
   ]
  },
  {
   "cell_type": "code",
   "execution_count": 2,
   "metadata": {},
   "outputs": [
    {
     "name": "stdout",
     "output_type": "stream",
     "text": [
      "root\n",
      " |-- employee_name: string (nullable = true)\n",
      " |-- department: string (nullable = true)\n",
      " |-- state: string (nullable = true)\n",
      " |-- salary: long (nullable = true)\n",
      " |-- age: long (nullable = true)\n",
      " |-- bonus: long (nullable = true)\n",
      "\n",
      "+-------------+----------+-----+------+---+-----+\n",
      "|employee_name|department|state|salary|age|bonus|\n",
      "+-------------+----------+-----+------+---+-----+\n",
      "|James        |Sales     |NY   |90000 |34 |10000|\n",
      "|Michael      |Sales     |NY   |86000 |56 |20000|\n",
      "|Robert       |Sales     |CA   |81000 |30 |23000|\n",
      "|Maria        |Finance   |CA   |90000 |24 |23000|\n",
      "|Raman        |Finance   |CA   |99000 |40 |24000|\n",
      "|Scott        |Finance   |NY   |83000 |36 |19000|\n",
      "|Jen          |Finance   |NY   |79000 |53 |15000|\n",
      "|Jeff         |Marketing |CA   |80000 |25 |18000|\n",
      "|Kumar        |Marketing |NY   |91000 |50 |21000|\n",
      "+-------------+----------+-----+------+---+-----+\n",
      "\n"
     ]
    }
   ],
   "source": [
    "simpleData = [(\"James\", \"Sales\", \"NY\", 90000, 34, 10000),\n",
    "              (\"Michael\", \"Sales\", \"NY\", 86000, 56, 20000),\n",
    "              (\"Robert\", \"Sales\", \"CA\", 81000, 30, 23000),\n",
    "              (\"Maria\", \"Finance\", \"CA\", 90000, 24, 23000),\n",
    "              (\"Raman\", \"Finance\", \"CA\", 99000, 40, 24000),\n",
    "              (\"Scott\", \"Finance\", \"NY\", 83000, 36, 19000),\n",
    "              (\"Jen\", \"Finance\", \"NY\", 79000, 53, 15000),\n",
    "              (\"Jeff\", \"Marketing\", \"CA\", 80000, 25, 18000),\n",
    "              (\"Kumar\", \"Marketing\", \"NY\", 91000, 50, 21000)\n",
    "              ]\n",
    "\n",
    "schema = [\"employee_name\", \"department\", \"state\", \"salary\", \"age\", \"bonus\"]\n",
    "\n",
    "spark = SparkSession.builder.master(\"local[1]\").appName(\"SparkByExamples.com\").getOrCreate()\n",
    "\n",
    "df = spark.createDataFrame(data=simpleData, schema=schema)\n",
    "df.printSchema()\n",
    "df.show(truncate=False)"
   ]
  },
  {
   "cell_type": "markdown",
   "metadata": {},
   "source": [
    "## GroupBy Functions"
   ]
  },
  {
   "cell_type": "markdown",
   "metadata": {},
   "source": [
    "### GroupBy & Sum"
   ]
  },
  {
   "cell_type": "code",
   "execution_count": 3,
   "metadata": {},
   "outputs": [
    {
     "name": "stdout",
     "output_type": "stream",
     "text": [
      "GroupBy & Sum\n",
      "+----------+-----------+\n",
      "|department|sum(salary)|\n",
      "+----------+-----------+\n",
      "|Sales     |257000     |\n",
      "|Finance   |351000     |\n",
      "|Marketing |171000     |\n",
      "+----------+-----------+\n",
      "\n"
     ]
    }
   ],
   "source": [
    "print('GroupBy & Sum')\n",
    "df.groupBy('department').sum('salary').show(truncate=False)"
   ]
  },
  {
   "cell_type": "markdown",
   "metadata": {},
   "source": [
    "### GroupBy & Count"
   ]
  },
  {
   "cell_type": "code",
   "execution_count": 4,
   "metadata": {},
   "outputs": [
    {
     "name": "stdout",
     "output_type": "stream",
     "text": [
      "GroupBy & Count\n",
      "+----------+-----+\n",
      "|department|count|\n",
      "+----------+-----+\n",
      "|     Sales|    3|\n",
      "|   Finance|    4|\n",
      "| Marketing|    2|\n",
      "+----------+-----+\n",
      "\n"
     ]
    }
   ],
   "source": [
    "print('GroupBy & Count')\n",
    "df.groupBy('department').count().show()"
   ]
  },
  {
   "cell_type": "markdown",
   "metadata": {},
   "source": [
    "### GroupBy & Min"
   ]
  },
  {
   "cell_type": "code",
   "execution_count": 5,
   "metadata": {},
   "outputs": [
    {
     "name": "stdout",
     "output_type": "stream",
     "text": [
      "GroupBy & Min\n",
      "+----------+-----------+--------+----------+\n",
      "|department|min(salary)|min(age)|min(bonus)|\n",
      "+----------+-----------+--------+----------+\n",
      "|     Sales|      81000|      30|     10000|\n",
      "|   Finance|      79000|      24|     15000|\n",
      "| Marketing|      80000|      25|     18000|\n",
      "+----------+-----------+--------+----------+\n",
      "\n"
     ]
    }
   ],
   "source": [
    "print('GroupBy & Min')\n",
    "df.groupBy('department').min().show()"
   ]
  },
  {
   "cell_type": "markdown",
   "metadata": {},
   "source": [
    "### GroupBy & Max"
   ]
  },
  {
   "cell_type": "code",
   "execution_count": 6,
   "metadata": {},
   "outputs": [
    {
     "name": "stdout",
     "output_type": "stream",
     "text": [
      "GroupBy & Max\n",
      "+----------+-----------+--------+----------+\n",
      "|department|max(salary)|max(age)|max(bonus)|\n",
      "+----------+-----------+--------+----------+\n",
      "|     Sales|      90000|      56|     23000|\n",
      "|   Finance|      99000|      53|     24000|\n",
      "| Marketing|      91000|      50|     21000|\n",
      "+----------+-----------+--------+----------+\n",
      "\n"
     ]
    }
   ],
   "source": [
    "print('GroupBy & Max')\n",
    "df.groupBy('department').max().show()"
   ]
  },
  {
   "cell_type": "markdown",
   "metadata": {},
   "source": [
    "### GroupBy & Avg"
   ]
  },
  {
   "cell_type": "code",
   "execution_count": 7,
   "metadata": {},
   "outputs": [
    {
     "name": "stdout",
     "output_type": "stream",
     "text": [
      "GroupBy & Avg\n",
      "+----------+-----------------+--------+------------------+\n",
      "|department|      avg(salary)|avg(age)|        avg(bonus)|\n",
      "+----------+-----------------+--------+------------------+\n",
      "|     Sales|85666.66666666667|    40.0|17666.666666666668|\n",
      "|   Finance|          87750.0|   38.25|           20250.0|\n",
      "| Marketing|          85500.0|    37.5|           19500.0|\n",
      "+----------+-----------------+--------+------------------+\n",
      "\n"
     ]
    }
   ],
   "source": [
    "print('GroupBy & Avg')\n",
    "df.groupBy('department').avg().show()"
   ]
  },
  {
   "cell_type": "markdown",
   "metadata": {},
   "source": [
    "### GroupBy & Mean"
   ]
  },
  {
   "cell_type": "code",
   "execution_count": 8,
   "metadata": {},
   "outputs": [
    {
     "name": "stdout",
     "output_type": "stream",
     "text": [
      "GroupBy & Mean\n",
      "+----------+-----------------+--------+------------------+\n",
      "|department|      avg(salary)|avg(age)|        avg(bonus)|\n",
      "+----------+-----------------+--------+------------------+\n",
      "|     Sales|85666.66666666667|    40.0|17666.666666666668|\n",
      "|   Finance|          87750.0|   38.25|           20250.0|\n",
      "| Marketing|          85500.0|    37.5|           19500.0|\n",
      "+----------+-----------------+--------+------------------+\n",
      "\n"
     ]
    }
   ],
   "source": [
    "print('GroupBy & Mean')\n",
    "df.groupBy('department').mean().show()"
   ]
  },
  {
   "cell_type": "markdown",
   "metadata": {},
   "source": [
    "### GroupBy and Aggregate on multiple columns"
   ]
  },
  {
   "cell_type": "code",
   "execution_count": 9,
   "metadata": {},
   "outputs": [
    {
     "name": "stdout",
     "output_type": "stream",
     "text": [
      "GroupBy and Aggregate on multiple columns\n",
      "+----------+-----+-----------+----------+\n",
      "|department|state|sum(salary)|sum(bonus)|\n",
      "+----------+-----+-----------+----------+\n",
      "|Finance   |NY   |162000     |34000     |\n",
      "|Marketing |NY   |91000      |21000     |\n",
      "|Sales     |CA   |81000      |23000     |\n",
      "|Marketing |CA   |80000      |18000     |\n",
      "|Finance   |CA   |189000     |47000     |\n",
      "|Sales     |NY   |176000     |30000     |\n",
      "+----------+-----+-----------+----------+\n",
      "\n"
     ]
    }
   ],
   "source": [
    "print('GroupBy and Aggregate on multiple columns')\n",
    "df.groupBy('department', 'state').sum('salary', 'bonus').show(truncate=False)"
   ]
  },
  {
   "cell_type": "markdown",
   "metadata": {},
   "source": [
    "## Multiple Aggregations"
   ]
  },
  {
   "cell_type": "code",
   "execution_count": 10,
   "metadata": {},
   "outputs": [
    {
     "name": "stdout",
     "output_type": "stream",
     "text": [
      "Multiple Aggregations\n",
      "+----------+----------+-----------------+---------+---------+\n",
      "|department|sum_salary|avg_salary       |sum_bonus|max_bonus|\n",
      "+----------+----------+-----------------+---------+---------+\n",
      "|Sales     |257000    |85666.66666666667|53000    |23000    |\n",
      "|Finance   |351000    |87750.0          |81000    |24000    |\n",
      "|Marketing |171000    |85500.0          |39000    |21000    |\n",
      "+----------+----------+-----------------+---------+---------+\n",
      "\n"
     ]
    }
   ],
   "source": [
    "print('Multiple Aggregations')\n",
    "df.groupBy('department').agg(sum('salary').alias('sum_salary'),\n",
    "                             avg('salary').alias('avg_salary'),\n",
    "                             sum('bonus').alias('sum_bonus'),\n",
    "                             max('bonus').alias('max_bonus')).show(truncate=False)"
   ]
  },
  {
   "cell_type": "markdown",
   "metadata": {},
   "source": [
    "## Using filter on Aggregate Data"
   ]
  },
  {
   "cell_type": "code",
   "execution_count": 11,
   "metadata": {},
   "outputs": [
    {
     "name": "stdout",
     "output_type": "stream",
     "text": [
      "Using filter on Aggregate Data\n",
      "+----------+----------+-----------------+---------+---------+\n",
      "|department|sum_salary|avg_salary       |sum_bonus|max_bonus|\n",
      "+----------+----------+-----------------+---------+---------+\n",
      "|Sales     |257000    |85666.66666666667|53000    |23000    |\n",
      "|Finance   |351000    |87750.0          |81000    |24000    |\n",
      "+----------+----------+-----------------+---------+---------+\n",
      "\n"
     ]
    }
   ],
   "source": [
    "print('Using filter on Aggregate Data')\n",
    "df.groupBy('department').agg(sum('salary').alias('sum_salary'),\n",
    "                             avg('salary').alias('avg_salary'),\n",
    "                             sum('bonus').alias('sum_bonus'),\n",
    "                             max('bonus').alias('max_bonus')) \\\n",
    "    .where(col('sum_bonus') >= 50000).show(truncate=False)"
   ]
  },
  {
   "cell_type": "code",
   "execution_count": null,
   "metadata": {},
   "outputs": [],
   "source": []
  }
 ],
 "metadata": {
  "kernelspec": {
   "display_name": "Python 3 (ipykernel)",
   "language": "python",
   "name": "python3"
  },
  "language_info": {
   "codemirror_mode": {
    "name": "ipython",
    "version": 3
   },
   "file_extension": ".py",
   "mimetype": "text/x-python",
   "name": "python",
   "nbconvert_exporter": "python",
   "pygments_lexer": "ipython3",
   "version": "3.9.7"
  },
  "toc": {
   "base_numbering": 1,
   "nav_menu": {},
   "number_sections": true,
   "sideBar": true,
   "skip_h1_title": false,
   "title_cell": "Table of Contents",
   "title_sidebar": "Contents",
   "toc_cell": false,
   "toc_position": {},
   "toc_section_display": true,
   "toc_window_display": true
  }
 },
 "nbformat": 4,
 "nbformat_minor": 1
}
