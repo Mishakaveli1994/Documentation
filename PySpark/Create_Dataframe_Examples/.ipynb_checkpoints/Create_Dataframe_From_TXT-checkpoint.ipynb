{
 "cells": [
  {
   "cell_type": "code",
   "execution_count": 1,
   "metadata": {
    "pycharm": {
     "name": "#%%\n"
    }
   },
   "outputs": [],
   "source": [
    "from pyspark.sql import SparkSession"
   ]
  },
  {
   "cell_type": "code",
   "execution_count": 2,
   "metadata": {},
   "outputs": [],
   "source": [
    "spark = SparkSession.builder.master(\"local[1]\").appName(\"SparkByExamples.com\").getOrCreate()"
   ]
  },
  {
   "cell_type": "markdown",
   "metadata": {},
   "source": [
    "## Create DataFrame from TXT"
   ]
  },
  {
   "cell_type": "code",
   "execution_count": 3,
   "metadata": {},
   "outputs": [
    {
     "name": "stdout",
     "output_type": "stream",
     "text": [
      "root\n",
      " |-- value: string (nullable = true)\n",
      "\n",
      "+--------------------+\n",
      "|               value|\n",
      "+--------------------+\n",
      "| Project Gutenberg’s|\n",
      "|Alice’s Adventure...|\n",
      "|    by Lewis Carroll|\n",
      "|This eBook is for...|\n",
      "|  of anyone anywhere|\n",
      "| at no cost and with|\n",
      "|Alice’s Adventure...|\n",
      "|    by Lewis Carroll|\n",
      "|This eBook is for...|\n",
      "|  of anyone anywhere|\n",
      "| at no cost and with|\n",
      "|This eBook is for...|\n",
      "|  of anyone anywhere|\n",
      "| at no cost and with|\n",
      "| Project Gutenberg’s|\n",
      "|Alice’s Adventure...|\n",
      "|    by Lewis Carroll|\n",
      "|This eBook is for...|\n",
      "|  of anyone anywhere|\n",
      "| at no cost and with|\n",
      "+--------------------+\n",
      "only showing top 20 rows\n",
      "\n"
     ]
    }
   ],
   "source": [
    "df = spark.read.text(\"../Example_Sources/test.txt\")\n",
    "df.printSchema()\n",
    "df.show()"
   ]
  }
 ],
 "metadata": {
  "kernelspec": {
   "display_name": "Python 3 (ipykernel)",
   "language": "python",
   "name": "python3"
  },
  "language_info": {
   "codemirror_mode": {
    "name": "ipython",
    "version": 3
   },
   "file_extension": ".py",
   "mimetype": "text/x-python",
   "name": "python",
   "nbconvert_exporter": "python",
   "pygments_lexer": "ipython3",
   "version": "3.9.7"
  },
  "toc": {
   "base_numbering": 1,
   "nav_menu": {},
   "number_sections": true,
   "sideBar": true,
   "skip_h1_title": false,
   "title_cell": "Table of Contents",
   "title_sidebar": "Contents",
   "toc_cell": false,
   "toc_position": {},
   "toc_section_display": true,
   "toc_window_display": true
  }
 },
 "nbformat": 4,
 "nbformat_minor": 1
}
