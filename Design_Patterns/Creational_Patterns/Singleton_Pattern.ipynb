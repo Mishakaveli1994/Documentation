{
 "cells": [
  {
   "cell_type": "code",
   "execution_count": 1,
   "metadata": {
    "pycharm": {
     "name": "#%%\n"
    }
   },
   "outputs": [
    {
     "data": {
      "text/html": [
       "<style>\n",
       "    pre.cd {\n",
       "            border: 1px dashed #93A1A1;\n",
       "            padding: 0.5em 0.8em;\n",
       "            background: #FCF6E3;\n",
       "    }\n",
       "    .highlight{\n",
       "        backgound: #FCF6E3 ;\n",
       "    }\n",
       "    .hll { background-color: #ffffcc }\n",
       "    .c { color: #93a1a1; font-style: italic } /* Comment */\n",
       "    .err { color: #dc322f } /* Error */\n",
       "    .g { color: #657b83 } /* Generic */\n",
       "    .k { color: #859900 } /* Keyword */\n",
       "    .l { color: #657b83 } /* Literal */\n",
       "    .n { color: #586e75 } /* Name */\n",
       "    .o { color: #657b83 } /* Operator */\n",
       "    .x { color: #657b83 } /* Other */\n",
       "    .p { color: #657b83 } /* Punctuation */\n",
       "    .cm { color: #93a1a1; font-style: italic } /* Comment.Multiline */\n",
       "    .cp { color: #93a1a1; font-style: italic } /* Comment.Preproc */\n",
       "    .c1 { color: #93a1a1; font-style: italic } /* Comment.Single */\n",
       "    .cs { color: #93a1a1; font-style: italic } /* Comment.Special */\n",
       "    .gd { color: #657b83 } /* Generic.Deleted */\n",
       "    .ge { color: #657b83 } /* Generic.Emph */\n",
       "    .gr { color: #657b83 } /* Generic.Error */\n",
       "    .gh { color: #657b83 } /* Generic.Heading */\n",
       "    .gi { color: #657b83 } /* Generic.Inserted */\n",
       "    .go { color: #000000 } /* Generic.Output (customized) */\n",
       "    .gp { color: #cb4b16 } /* Generic.Prompt (customized) */\n",
       "    .gs { color: #657b83 } /* Generic.Strong */\n",
       "    .gu { color: #657b83 } /* Generic.Subheading */\n",
       "    .gt { color: #657b83 } /* Generic.Traceback */\n",
       "    .kc { color: #859900 } /* Keyword.Constant */\n",
       "    .kd { color: #859900 } /* Keyword.Declaration */\n",
       "    .kn { color: #cb4b16 } /* Keyword.Namespace */\n",
       "    .kp { color: #cb4b16 } /* Keyword.Pseudo */\n",
       "    .kr { color: #859900 } /* Keyword.Reserved */\n",
       "    .kt { color: #859900 } /* Keyword.Type */\n",
       "    .ld { color: #657b83 } /* Literal.Date */\n",
       "    .m { color: #2aa198 } /* Literal.Number */\n",
       "    .s { color: #2aa198 } /* Literal.String */\n",
       "    .na { color: #657b83 } /* Name.Attribute */\n",
       "    .nb { color: #268bd2 } /* Name.Builtin */\n",
       "    .nc { color: #268bd2 } /* Name.Class */\n",
       "    .no { color: #b58900 } /* Name.Constant */\n",
       "    .nd { color: #cb4b16 } /* Name.Decorator */\n",
       "    .ni { color: #cb4b16 } /* Name.Entity */\n",
       "    .ne { color: #cb4b16 } /* Name.Exception */\n",
       "    .nf { color: #268bd2 } /* Name.Function */\n",
       "    .nl { color: #657b83 } /* Name.Label */\n",
       "    .nn { color: #b58900 } /* Name.Namespace */\n",
       "    .nx { color: #657b83 } /* Name.Other */\n",
       "    .py { color: #268bd2 } /* Name.Property */\n",
       "    .nt { color: #859900 } /* Name.Tag */\n",
       "    .nv { color: #cd4b16 } /* Name.Variable */\n",
       "    .ow { color: #859900 } /* Operator.Word */\n",
       "    .w { color: #fdf6e3 } /* Text.Whitespace */\n",
       "    .mf { color: #2aa198 } /* Literal.Number.Float */\n",
       "    .mh { color: #2aa198 } /* Literal.Number.Hex */\n",
       "    .mi { color: #2aa198 } /* Literal.Number.Integer */\n",
       "    .mo { color: #2aa198 } /* Literal.Number.Oct */\n",
       "    .sb { color: #2aa198 } /* Literal.String.Backtick */\n",
       "    .sc { color: #2aa198 } /* Literal.String.Char */\n",
       "    .sd { color: #2aa198 } /* Literal.String.Doc */\n",
       "    .s2 { color: #2aa198 } /* Literal.String.Double */\n",
       "    .se { color: #cb4b16 } /* Literal.String.Escape */\n",
       "    .sh { color: #2aa198 } /* Literal.String.Heredoc */\n",
       "    .si { color: #cb4b16 } /* Literal.String.Interpol */\n",
       "    .sx { color: #2aa198 } /* Literal.String.Other */\n",
       "    .sr { color: #2aa198 } /* Literal.String.Regex */\n",
       "    .s1 { color: #2aa198 } /* Literal.String.Single */\n",
       "    .ss { color: #2aa198 } /* Literal.String.Symbol */\n",
       "    .bp { color: #268bd2; font-weight: bold } /* Name.Builtin.Pseudo */\n",
       "    .vc { color: #268bd2 } /* Name.Variable.Class */\n",
       "    .vg { color: #268bd2 } /* Name.Variable.Global */\n",
       "    .vi { color: #268bd2 } /* Name.Variable.Instance */\n",
       "    .il { color: #2aa198 } /* Literal.Number.Integer.Long */\n",
       "    div.verdict-div{\n",
       "        background: #EEEEEE; \n",
       "        padding: 30px\n",
       "    }\n",
       "    p.verdict-title{\n",
       "        text-align: center;\n",
       "        font-weight: bold;\n",
       "    }\n",
       "</style>\n"
      ],
      "text/plain": [
       "<IPython.core.display.HTML object>"
      ]
     },
     "metadata": {},
     "output_type": "display_data"
    }
   ],
   "source": [
    "%%html\n",
    "<style>\n",
    "    pre.cd {\n",
    "            border: 1px dashed #93A1A1;\n",
    "            padding: 0.5em 0.8em;\n",
    "            background: #FCF6E3;\n",
    "    }\n",
    "    .highlight{\n",
    "        backgound: #FCF6E3 ;\n",
    "    }\n",
    "    .hll { background-color: #ffffcc }\n",
    "    .c { color: #93a1a1; font-style: italic } /* Comment */\n",
    "    .err { color: #dc322f } /* Error */\n",
    "    .g { color: #657b83 } /* Generic */\n",
    "    .k { color: #859900 } /* Keyword */\n",
    "    .l { color: #657b83 } /* Literal */\n",
    "    .n { color: #586e75 } /* Name */\n",
    "    .o { color: #657b83 } /* Operator */\n",
    "    .x { color: #657b83 } /* Other */\n",
    "    .p { color: #657b83 } /* Punctuation */\n",
    "    .cm { color: #93a1a1; font-style: italic } /* Comment.Multiline */\n",
    "    .cp { color: #93a1a1; font-style: italic } /* Comment.Preproc */\n",
    "    .c1 { color: #93a1a1; font-style: italic } /* Comment.Single */\n",
    "    .cs { color: #93a1a1; font-style: italic } /* Comment.Special */\n",
    "    .gd { color: #657b83 } /* Generic.Deleted */\n",
    "    .ge { color: #657b83 } /* Generic.Emph */\n",
    "    .gr { color: #657b83 } /* Generic.Error */\n",
    "    .gh { color: #657b83 } /* Generic.Heading */\n",
    "    .gi { color: #657b83 } /* Generic.Inserted */\n",
    "    .go { color: #000000 } /* Generic.Output (customized) */\n",
    "    .gp { color: #cb4b16 } /* Generic.Prompt (customized) */\n",
    "    .gs { color: #657b83 } /* Generic.Strong */\n",
    "    .gu { color: #657b83 } /* Generic.Subheading */\n",
    "    .gt { color: #657b83 } /* Generic.Traceback */\n",
    "    .kc { color: #859900 } /* Keyword.Constant */\n",
    "    .kd { color: #859900 } /* Keyword.Declaration */\n",
    "    .kn { color: #cb4b16 } /* Keyword.Namespace */\n",
    "    .kp { color: #cb4b16 } /* Keyword.Pseudo */\n",
    "    .kr { color: #859900 } /* Keyword.Reserved */\n",
    "    .kt { color: #859900 } /* Keyword.Type */\n",
    "    .ld { color: #657b83 } /* Literal.Date */\n",
    "    .m { color: #2aa198 } /* Literal.Number */\n",
    "    .s { color: #2aa198 } /* Literal.String */\n",
    "    .na { color: #657b83 } /* Name.Attribute */\n",
    "    .nb { color: #268bd2 } /* Name.Builtin */\n",
    "    .nc { color: #268bd2 } /* Name.Class */\n",
    "    .no { color: #b58900 } /* Name.Constant */\n",
    "    .nd { color: #cb4b16 } /* Name.Decorator */\n",
    "    .ni { color: #cb4b16 } /* Name.Entity */\n",
    "    .ne { color: #cb4b16 } /* Name.Exception */\n",
    "    .nf { color: #268bd2 } /* Name.Function */\n",
    "    .nl { color: #657b83 } /* Name.Label */\n",
    "    .nn { color: #b58900 } /* Name.Namespace */\n",
    "    .nx { color: #657b83 } /* Name.Other */\n",
    "    .py { color: #268bd2 } /* Name.Property */\n",
    "    .nt { color: #859900 } /* Name.Tag */\n",
    "    .nv { color: #cd4b16 } /* Name.Variable */\n",
    "    .ow { color: #859900 } /* Operator.Word */\n",
    "    .w { color: #fdf6e3 } /* Text.Whitespace */\n",
    "    .mf { color: #2aa198 } /* Literal.Number.Float */\n",
    "    .mh { color: #2aa198 } /* Literal.Number.Hex */\n",
    "    .mi { color: #2aa198 } /* Literal.Number.Integer */\n",
    "    .mo { color: #2aa198 } /* Literal.Number.Oct */\n",
    "    .sb { color: #2aa198 } /* Literal.String.Backtick */\n",
    "    .sc { color: #2aa198 } /* Literal.String.Char */\n",
    "    .sd { color: #2aa198 } /* Literal.String.Doc */\n",
    "    .s2 { color: #2aa198 } /* Literal.String.Double */\n",
    "    .se { color: #cb4b16 } /* Literal.String.Escape */\n",
    "    .sh { color: #2aa198 } /* Literal.String.Heredoc */\n",
    "    .si { color: #cb4b16 } /* Literal.String.Interpol */\n",
    "    .sx { color: #2aa198 } /* Literal.String.Other */\n",
    "    .sr { color: #2aa198 } /* Literal.String.Regex */\n",
    "    .s1 { color: #2aa198 } /* Literal.String.Single */\n",
    "    .ss { color: #2aa198 } /* Literal.String.Symbol */\n",
    "    .bp { color: #268bd2; font-weight: bold } /* Name.Builtin.Pseudo */\n",
    "    .vc { color: #268bd2 } /* Name.Variable.Class */\n",
    "    .vg { color: #268bd2 } /* Name.Variable.Global */\n",
    "    .vi { color: #268bd2 } /* Name.Variable.Instance */\n",
    "    .il { color: #2aa198 } /* Literal.Number.Integer.Long */\n",
    "    div.verdict-div{\n",
    "        background: #EEEEEE; \n",
    "        padding: 30px\n",
    "    }\n",
    "    p.verdict-title{\n",
    "        text-align: center;\n",
    "        font-weight: bold;\n",
    "    }\n",
    "</style>"
   ]
  },
  {
   "cell_type": "markdown",
   "metadata": {},
   "source": [
    "<div class=\"verdict-div\"><p class=\"verdict-title\">Verdict</p>\n",
    "\n",
    "Python programmers almost never implement the Singleton Pattern as described in the Gang of Four book, whose Singleton class forbids normal instantiation and instead offers a class method that returns the singleton instance. Python is more elegant, and lets a class continue to support the normal syntax for instantiation while defining a custom <code>\\__new__()</code> method that returns the singleton instance. But an even more Pythonic approach, if your design forces you to offer global access to a singleton object, is to use The Global Object Pattern instead.</div>"
   ]
  },
  {
   "cell_type": "markdown",
   "metadata": {},
   "source": [
    "# The Singleton Pattern\n",
    "## Disambiguation\n",
    "Python was already using the term singleton before the “Singleton Pattern” was defined by the object oriented design pattern community. So we should start by distinguishing the several meanings of “singleton” in Python.\n",
    "\n",
    "1. A tuple of length one is called a singleton. While this definition might surprise some programmers, it reflects the original definition of a singleton in mathematics: a set containing exactly one element. The Python Tutorial itself introduces newcomers to this definition when its chapter on Data Structures calls a one-element tuple a “singleton” and the word continues to be used in that sense through the rest of Python’s documentation. When the Extending and Embedding guide says, “To call the Python function … with one argument, pass a singleton tuple,” it means a tuple containing exactly one item.\n",
    "\n",
    "\n",
    "2. Modules are “singletons” in Python because `import` only creates a single copy of each module; subsequent imports of the same name keep returning the same module object. For example, when the Module Objects chapter of the Python/C API Reference Manual asserts that “Single-phase initialization creates singleton modules,” it means by a “singleton module” a module for which only one object is ever created.\n",
    "\n",
    "\n",
    "3. A “singleton” is a class instance that has been assigned a global name through The Global Object Pattern. For example, the official Python Programming FAQ answers the question “How do I share global variables across modules?” with the assertion that in Python “using a module is also the basis for implementing the Singleton design” — because not only can a module’s global namespace store constants (the FAQ’s example is `x = 0` shared between several modules), but mutable class instances as well.\n",
    "\n",
    "\n",
    "4. Individual flyweight objects that are examples of The Flyweight Pattern are often called “singleton” objects by Python programmers. For example, a comment inside the Standard Library’s `itertoolsmodule.c` asserts that “CPython’s empty tuple is a singleton” — meaning that the Python interpreter only ever creates a single empty tuple object, which `tuple()` returns over and over again every time it’s passed a zero-length sequence. A comment in `marshal.c` similarly refers to the “empty frozenset singleton.” But neither of these singleton objects is an example of the Gang of Four’s Singleton Pattern, because neither object is the sole instance of its class: `tuple` lets you build other tuples besides the empty tuple, and `frozenset` lets you build other frozen sets. Similarly, the `True` and `False` objects are a pair of flyweights, not examples of the Singleton Pattern, because neither is the sole instance of `bool`.\n",
    "\n",
    "\n",
    "5. Finally, Python programmers on a few rare occasions do actually mean “The Singleton Pattern” when they call an object a “singleton”: the lone object returned by its class every time the class is called.\n",
    "\n",
    "\n",
    "The Python 2 Standard Library included no examples of the Singleton Pattern. While it did feature singleton objects like `None` and `Ellipsis`, the language provided access to them through the more Pythonic Global Object Pattern by giving them names in the `__builtin__` module. But their classes were not callable:"
   ]
  },
  {
   "cell_type": "markdown",
   "metadata": {},
   "source": [
    "<pre class=\"cd\"><span></span><span class=\"gp\">&gt;&gt;&gt; </span><span class=\"nb\">type</span><span class=\"p\">(</span><span class=\"kc\">None</span><span class=\"p\">)</span>\n",
    "<span class=\"go\">&lt;type 'NoneType'&gt;</span>\n",
    "<span class=\"gp\">&gt;&gt;&gt; </span><span class=\"n\">NoneType</span> <span class=\"o\">=</span> <span class=\"nb\">type</span><span class=\"p\">(</span><span class=\"kc\">None</span><span class=\"p\">)</span>\n",
    "<span class=\"gp\">&gt;&gt;&gt; </span><span class=\"n\">NoneType</span><span class=\"p\">()</span>\n",
    "<span class=\"go\">TypeError: cannot create 'NoneType' instances</span>\n",
    "<span class=\"gp\">&gt;&gt;&gt; </span><span class=\"nb\">type</span><span class=\"p\">(</span><span class=\"bp\">Ellipsis</span><span class=\"p\">)()</span>\n",
    "<span class=\"go\">TypeError: cannot create 'ellipsis' instances</span>\n",
    "</pre>"
   ]
  },
  {
   "cell_type": "markdown",
   "metadata": {},
   "source": [
    "In Python 3, however, the classes were upgraded to use the Singleton Pattern:"
   ]
  },
  {
   "cell_type": "markdown",
   "metadata": {},
   "source": [
    "<pre class=\"cd\"><span></span><span class=\"gp\">&gt;&gt;&gt; </span><span class=\"n\">NoneType</span> <span class=\"o\">=</span> <span class=\"nb\">type</span><span class=\"p\">(</span><span class=\"kc\">None</span><span class=\"p\">)</span>\n",
    "<span class=\"gp\">&gt;&gt;&gt; </span><span class=\"nb\">print</span><span class=\"p\">(</span><span class=\"n\">NoneType</span><span class=\"p\">())</span>\n",
    "<span class=\"go\">None</span>\n",
    "<span class=\"gp\">&gt;&gt;&gt; </span><span class=\"nb\">type</span><span class=\"p\">(</span><span class=\"bp\">Ellipsis</span><span class=\"p\">)()</span>\n",
    "<span class=\"go\">Ellipsis</span>\n",
    "</pre>"
   ]
  },
  {
   "cell_type": "markdown",
   "metadata": {},
   "source": [
    "This makes life easier for programmers who need a quick callable that always returns `None`, though such occasions are rare. In most Python projects these classes are never called and the benefit remains purely theoretical. When Python programmers need the `None` object they use The Global Object Pattern and simply type its name."
   ]
  },
  {
   "cell_type": "markdown",
   "metadata": {},
   "source": [
    "## The Gang of Four’s implementation\n",
    "The C++ language that the Gang of Four were targeting imposed a distinct syntax on object creation, that looked something like:"
   ]
  },
  {
   "cell_type": "markdown",
   "metadata": {},
   "source": [
    "<pre class=\"cd\"><span></span><span class=\"c1\"># Object creation in a language</span>\n",
    "<span class=\"c1\"># that has a “new” keyword.</span>\n",
    "\n",
    "<span class=\"n\">log</span> <span class=\"o\">=</span> <span class=\"n\">new</span> <span class=\"n\">Logger</span><span class=\"p\">()</span>\n",
    "</pre>"
   ]
  },
  {
   "cell_type": "markdown",
   "metadata": {},
   "source": [
    "A line of C++ that says new always creates a new class instance — it never returns a singleton. In the presence of this special syntax, what were their options for offering singleton objects?\n",
    "\n",
    "1. The Gang of Four did not take the easy way out and use The Global Object Pattern because it did not work particularly well in early versions of the C++ language. There, global names all shared a single crowded global namespace, so elaborate naming conventions were necessary to prevent names from different libraries from colliding. The Gang judged that adding both a class and its singleton instance to the crowded global namespace would be excessive. And since C++ programmers couldn’t control the order in which global objects were initialized, no global object could depend on being able to call any other, so the responsibility of initializing globals often fell on client code.\n",
    "\n",
    "\n",
    "2. There was no way to override the meaning of `new` in C++, so an alternative syntax was necessary if all clients were to receive the same object. It was, though, at least possible to make it a compile-time error for client code to call `new` by marking the class constructor as either `protected` or `private`.\n",
    "\n",
    "\n",
    "3. So the Gang of Four pivoted to a class method that would return the class’s singleton object. Unlike a global function, a class method avoided adding yet another name to the global namespace, and unlike a static method, it could support subclasses that were singletons as well.\n",
    "\n",
    "\n",
    "How could Python code illustrate their approach? Python lacks the complications of `new`, `protected`, and `private`. An alternative is to raise an exception in `__init__()` to make normal object instantiation impossible. The class method can then use a dunder method trick to create the object without triggering the exception:"
   ]
  },
  {
   "cell_type": "markdown",
   "metadata": {},
   "source": [
    "<pre class=\"cd\"><span></span><span class=\"c1\"># What the Gang of Four’s original Singleton Pattern</span>\n",
    "<span class=\"c1\"># might look like in Python.</span>\n",
    "\n",
    "<span class=\"k\">class</span> <span class=\"nc\">Logger</span><span class=\"p\">(</span><span class=\"nb\">object</span><span class=\"p\">):</span>\n",
    "    <span class=\"n\">_instance</span> <span class=\"o\">=</span> <span class=\"kc\">None</span>\n",
    "\n",
    "    <span class=\"k\">def</span> <span class=\"fm\">__init__</span><span class=\"p\">(</span><span class=\"bp\">self</span><span class=\"p\">):</span>\n",
    "        <span class=\"k\">raise</span> <span class=\"ne\">RuntimeError</span><span class=\"p\">(</span><span class=\"s1\">'Call instance() instead'</span><span class=\"p\">)</span>\n",
    "\n",
    "    <span class=\"nd\">@classmethod</span>\n",
    "    <span class=\"k\">def</span> <span class=\"nf\">instance</span><span class=\"p\">(</span><span class=\"bp\">cls</span><span class=\"p\">):</span>\n",
    "        <span class=\"k\">if</span> <span class=\"bp\">cls</span><span class=\"o\">.</span><span class=\"n\">_instance</span> <span class=\"ow\">is</span> <span class=\"kc\">None</span><span class=\"p\">:</span>\n",
    "            <span class=\"nb\">print</span><span class=\"p\">(</span><span class=\"s1\">'Creating new instance'</span><span class=\"p\">)</span>\n",
    "            <span class=\"bp\">cls</span><span class=\"o\">.</span><span class=\"n\">_instance</span> <span class=\"o\">=</span> <span class=\"bp\">cls</span><span class=\"o\">.</span><span class=\"fm\">__new__</span><span class=\"p\">(</span><span class=\"bp\">cls</span><span class=\"p\">)</span>\n",
    "            <span class=\"c1\"># Put any initialization here.</span>\n",
    "        <span class=\"k\">return</span> <span class=\"bp\">cls</span><span class=\"o\">.</span><span class=\"n\">_instance</span>\n",
    "</pre>"
   ]
  },
  {
   "cell_type": "markdown",
   "metadata": {},
   "source": [
    "This successfully prevents clients from creating new instances by calling the class:"
   ]
  },
  {
   "cell_type": "markdown",
   "metadata": {},
   "source": [
    "<pre class=\"cd\"><span></span><span class=\"n\">log</span> <span class=\"o\">=</span> <span class=\"n\">Logger</span><span class=\"p\">()</span>\n",
    "</pre>"
   ]
  },
  {
   "cell_type": "markdown",
   "metadata": {},
   "source": [
    "<pre class=\"cd\"><span></span>Traceback (most recent call last):\n",
    "  ...\n",
    "RuntimeError: Call instance() instead\n",
    "</pre>"
   ]
  },
  {
   "cell_type": "markdown",
   "metadata": {},
   "source": [
    "Instead, callers are instructed to use the `instance()` class method, which creates and returns an object:"
   ]
  },
  {
   "cell_type": "markdown",
   "metadata": {},
   "source": [
    "<pre class=\"cd\"><span></span><span class=\"n\">log1</span> <span class=\"o\">=</span> <span class=\"n\">Logger</span><span class=\"o\">.</span><span class=\"n\">instance</span><span class=\"p\">()</span>\n",
    "<span class=\"nb\">print</span><span class=\"p\">(</span><span class=\"n\">log1</span><span class=\"p\">)</span>\n",
    "</pre>"
   ]
  },
  {
   "cell_type": "markdown",
   "metadata": {},
   "source": [
    "<pre class=\"cd\"><span></span>Creating new instance\n",
    "&lt;Logger object at 0x7f0ff5e7c080&gt;\n",
    "</pre>"
   ]
  },
  {
   "cell_type": "markdown",
   "metadata": {},
   "source": [
    "Subsequent calls to `instance()` return the singleton without repeating the initialization step (as we can see from the fact that “Creating new instance” isn’t printed again), exactly as the Gang of Four intended:"
   ]
  },
  {
   "cell_type": "markdown",
   "metadata": {},
   "source": [
    "<pre class=\"cd\"><span></span><span class=\"n\">log2</span> <span class=\"o\">=</span> <span class=\"n\">Logger</span><span class=\"o\">.</span><span class=\"n\">instance</span><span class=\"p\">()</span>\n",
    "<span class=\"nb\">print</span><span class=\"p\">(</span><span class=\"n\">log2</span><span class=\"p\">)</span>\n",
    "<span class=\"nb\">print</span><span class=\"p\">(</span><span class=\"s1\">'Are they the same object?'</span><span class=\"p\">,</span> <span class=\"n\">log1</span> <span class=\"ow\">is</span> <span class=\"n\">log2</span><span class=\"p\">)</span>\n",
    "</pre>"
   ]
  },
  {
   "cell_type": "markdown",
   "metadata": {},
   "source": [
    "<pre class=\"cd\"><span></span>&lt;Logger object at 0x7f0ff5e7c080&gt;\n",
    "Are they the same object? True\n",
    "</pre>"
   ]
  },
  {
   "cell_type": "markdown",
   "metadata": {},
   "source": [
    "There are more complicated schemes that I can imagine for implementing the original Gang of Four class method in Python, but I think the above example does the best job of illustrating the original scheme with the least magic possible. Since the Gang of Four’s pattern is not a good fit for Python anyway, I’ll resist the temptation to iterate on it further, and instead move on to how the pattern is best supported in Python."
   ]
  },
  {
   "cell_type": "markdown",
   "metadata": {},
   "source": [
    "## A more Pythonic implementation\n",
    "In one sense, Python started out better prepared than C++ for the Singleton Pattern, because Python lacks a `new` keyword that forces a new object to be created. Instead, objects are created by invoking a callable, which imposes no syntactic limitation on what operation the callable really performs:"
   ]
  },
  {
   "cell_type": "markdown",
   "metadata": {},
   "source": [
    "<pre class=\"cd\"><span></span><span class=\"n\">log</span> <span class=\"o\">=</span> <span class=\"n\">Logger</span><span class=\"p\">()</span>\n",
    "</pre>"
   ]
  },
  {
   "cell_type": "markdown",
   "metadata": {},
   "source": [
    "To let authors take control of calls to a class, Python 2.4 added the `__new__()` dunder method to support alternative creational patterns like the Singleton Pattern and The Flyweight Pattern.\n",
    "\n",
    "The Web is replete with Singleton Pattern recipes featuring `__new__()` that each propose a more or less complicated mechanism for working around the method’s biggest quirk: the fact that `__init__()` always gets called on the return value, whether the object that’s being returned is new or not. To make my own example simple, I will simply not define an `__init__()` method and thus avoid having to work around it:"
   ]
  },
  {
   "cell_type": "markdown",
   "metadata": {},
   "source": [
    "<pre class=\"cd\"><span></span><span class=\"c1\"># Straightforward implementation of the Singleton Pattern</span>\n",
    "\n",
    "<span class=\"k\">class</span> <span class=\"nc\">Logger</span><span class=\"p\">(</span><span class=\"nb\">object</span><span class=\"p\">):</span>\n",
    "    <span class=\"n\">_instance</span> <span class=\"o\">=</span> <span class=\"kc\">None</span>\n",
    "\n",
    "    <span class=\"k\">def</span> <span class=\"fm\">__new__</span><span class=\"p\">(</span><span class=\"bp\">cls</span><span class=\"p\">):</span>\n",
    "        <span class=\"k\">if</span> <span class=\"bp\">cls</span><span class=\"o\">.</span><span class=\"n\">_instance</span> <span class=\"ow\">is</span> <span class=\"kc\">None</span><span class=\"p\">:</span>\n",
    "            <span class=\"nb\">print</span><span class=\"p\">(</span><span class=\"s1\">'Creating the object'</span><span class=\"p\">)</span>\n",
    "            <span class=\"bp\">cls</span><span class=\"o\">.</span><span class=\"n\">_instance</span> <span class=\"o\">=</span> <span class=\"nb\">super</span><span class=\"p\">(</span><span class=\"n\">Logger</span><span class=\"p\">,</span> <span class=\"bp\">cls</span><span class=\"p\">)</span><span class=\"o\">.</span><span class=\"fm\">__new__</span><span class=\"p\">(</span><span class=\"bp\">cls</span><span class=\"p\">)</span>\n",
    "            <span class=\"c1\"># Put any initialization here.</span>\n",
    "        <span class=\"k\">return</span> <span class=\"bp\">cls</span><span class=\"o\">.</span><span class=\"n\">_instance</span>\n",
    "</pre>"
   ]
  },
  {
   "cell_type": "markdown",
   "metadata": {},
   "source": [
    "The object is created on the first call to the class:"
   ]
  },
  {
   "cell_type": "markdown",
   "metadata": {},
   "source": [
    "<pre class=\"cd\"><span></span><span class=\"n\">log1</span> <span class=\"o\">=</span> <span class=\"n\">Logger</span><span class=\"p\">()</span>\n",
    "<span class=\"nb\">print</span><span class=\"p\">(</span><span class=\"n\">log1</span><span class=\"p\">)</span>\n",
    "</pre>"
   ]
  },
  {
   "cell_type": "markdown",
   "metadata": {},
   "source": [
    "<pre class=\"cd\"><span></span>Creating the object\n",
    "&lt;Logger object at 0x7fa8e9cf7f60&gt;\n",
    "</pre>"
   ]
  },
  {
   "cell_type": "markdown",
   "metadata": {},
   "source": [
    "But the second call returns the same instance. The message “Creating the object” does not print, nor is a different object returned:"
   ]
  },
  {
   "cell_type": "markdown",
   "metadata": {},
   "source": [
    "<pre class=\"cd\"><span></span><span class=\"n\">log2</span> <span class=\"o\">=</span> <span class=\"n\">Logger</span><span class=\"p\">()</span>\n",
    "<span class=\"nb\">print</span><span class=\"p\">(</span><span class=\"n\">log2</span><span class=\"p\">)</span>\n",
    "<span class=\"nb\">print</span><span class=\"p\">(</span><span class=\"s1\">'Are they the same object?'</span><span class=\"p\">,</span> <span class=\"n\">log1</span> <span class=\"ow\">is</span> <span class=\"n\">log2</span><span class=\"p\">)</span>\n",
    "</pre>"
   ]
  },
  {
   "cell_type": "markdown",
   "metadata": {},
   "source": [
    "<pre class=\"cd\"><span></span>&lt;Logger object at 0x7fa8e9cf7f60&gt;\n",
    "Are they the same object? True\n",
    "</pre>"
   ]
  },
  {
   "cell_type": "markdown",
   "metadata": {},
   "source": [
    "The example above opts for simplicity, at the expense of doing the `cls._instance` attribute lookup twice in the common case. For programmers who cringe at such waste, the result can of course be assigned a name and re-used in the return statement. And various other improvements can be imagined that would result in faster bytecode. But however elaborately tweaked, the above pattern is the basis of every Python class that hides a singleton object behind what reads like normal class instantiation."
   ]
  },
  {
   "cell_type": "markdown",
   "metadata": {},
   "source": [
    "## Verdict\n",
    "While the Gang of Four’s original Singleton Pattern is a poor fit for a language like Python that lacks the concepts of `new`, `private`, and `protected`, it’s not as easy to dismiss the pattern when it’s built atop `__new__()` — after all, singletons were part of the reason the `__new__()` dunder method was introduced!\n",
    "\n",
    "But the Singleton Pattern in Python does suffer from several drawbacks.\n",
    "\n",
    "A first objection is that the Singleton Pattern’s implementation is difficult for many Python programmers to read. The alternative Global Object Pattern is easy to read: it’s simply the familiar assignment statement, placed up at a module’s top level. But a Python programmer reading a `__new__()` method for the first time is probably going to have to stop and look for documentation to understand what’s going on.\n",
    "\n",
    "A second objection is that the Singleton Pattern makes calls to the class, like `Logger()`, misleading for readers. Unless the designer has put “Singleton” or some other hint in the class name, and the reader knows design patterns well enough to understand the hint, the code will read as though a new instance is being created and returned.\n",
    "\n",
    "A third objection is that the Singleton Pattern forces a design commitment that The Global Object Pattern does not. Offering a global object still leaves a programmer free to create other instances of the class — which can be particularly helpful for tests, letting them each test a completely separate object without needing to reset a shared object back to a known good state. But the Singleton Pattern makes additional instances impossible. (Unless the caller is willing to stoop to monkey patching; or temporarily modifying `_instance` to subvert the logic in `__new__()`; or creating a subclass that replaces the method. But a pattern you have to work around is generally a pattern you should avoid.)\n",
    "\n",
    "Why, then, would you use the Singleton Pattern in Python?\n",
    "\n",
    "The one situation that would really demand the pattern would be an existing class that, because of a new requirement, will now operate best as a single instance. If it’s not possible to migrate all client code to stop calling the class directly and start using a global object, then the Singeton Pattern would be a natural approach to pivoting to a singleton while preserving the old syntax.\n",
    "\n",
    "But, otherwise, the pattern is best avoided in favor of following the advice of the official Python FAQ and using the The Global Object Pattern."
   ]
  },
  {
   "cell_type": "code",
   "execution_count": null,
   "metadata": {},
   "outputs": [],
   "source": []
  }
 ],
 "metadata": {
  "kernelspec": {
   "display_name": "Python 3 (ipykernel)",
   "language": "python",
   "name": "python3"
  },
  "language_info": {
   "codemirror_mode": {
    "name": "ipython",
    "version": 3
   },
   "file_extension": ".py",
   "mimetype": "text/x-python",
   "name": "python",
   "nbconvert_exporter": "python",
   "pygments_lexer": "ipython3",
   "version": "3.9.4"
  },
  "toc": {
   "base_numbering": 1,
   "nav_menu": {},
   "number_sections": true,
   "sideBar": true,
   "skip_h1_title": false,
   "title_cell": "Table of Contents",
   "title_sidebar": "Contents",
   "toc_cell": false,
   "toc_position": {},
   "toc_section_display": true,
   "toc_window_display": true
  }
 },
 "nbformat": 4,
 "nbformat_minor": 1
}
