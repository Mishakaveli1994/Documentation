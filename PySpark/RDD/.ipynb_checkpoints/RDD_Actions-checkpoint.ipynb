{
 "cells": [
  {
   "cell_type": "markdown",
   "metadata": {
    "pycharm": {
     "name": "#%%\n"
    }
   },
   "source": [
    "# RDD Actions\n",
    "RDD actions are PySpark operations that return the values to the driver program.\n",
    "Any function on RDD that returns other than RDD is considered as an action in PySpark programming."
   ]
  },
  {
   "cell_type": "code",
   "execution_count": null,
   "metadata": {
    "pycharm": {
     "is_executing": true,
     "name": "#%%\n"
    }
   },
   "outputs": [],
   "source": [
    "from pyspark.sql import SparkSession\n",
    "from operator import add"
   ]
  },
  {
   "cell_type": "code",
   "execution_count": 2,
   "metadata": {
    "pycharm": {
     "name": "#%%\n"
    }
   },
   "outputs": [],
   "source": [
    "spark = SparkSession.builder.appName('SparkByExamples.com').getOrCreate()\n",
    "data = [(\"Z\", 1), (\"A\", 20), (\"B\", 30), (\"C\", 40), (\"B\", 30), (\"B\", 60)]\n",
    "inputRDD = spark.sparkContext.parallelize(data)\n",
    "\n",
    "listRdd = spark.sparkContext.parallelize([1, 2, 3, 4, 5, 3, 2])"
   ]
  },
  {
   "cell_type": "markdown",
   "metadata": {
    "pycharm": {
     "name": "#%% md\n"
    }
   },
   "source": [
    "## Aggregate\n",
    "**Prototype**: `aggregate(zeroValue, seqOp, combOp)`\n",
    "\n",
    "**Description**:\n",
    "\n",
    "`aggregate()` lets you take an RDD and generate a single value that is of a different type than what was stored\n",
    " in the original RDD.\n",
    "\n",
    "**Parameters**:\n",
    "\n",
    "`zeroValue`: The initialization value, for your result, in the desired format.\n",
    "`seqOp`: The operation you want to apply to RDD records. Runs once for every record in a partition.\n",
    "`combOp`: Defines how the resulted objects (one for every partition), gets combined."
   ]
  },
  {
   "cell_type": "markdown",
   "metadata": {
    "pycharm": {
     "name": "#%% md\n"
    }
   },
   "source": [
    "### Aggregate Examples\n",
    "\n",
    "Compute the sum of a list and the length of that list. Return the result in a pair of (`sum`, `length`).\n",
    "\n",
    "In a Spark shell, I first created a list with 4 elements, with 2 partitions:\n",
    "\n",
    "`listRDD = sc.parallelize([1,2,3,4], 2)`\n",
    "\n",
    "then I defined my seqOp:\n",
    "\n",
    "`seqOp = (lambda local_result, list_element: (local_result[0] + list_element, local_result[1] + 1) )`\n",
    "and my combOp:\n",
    "\n",
    "`combOp = (lambda some_local_result, another_local_result: (some_local_result[0] + another_local_result[0], some_local_result[1] + another_local_result[1]) )`\n",
    " \n",
    "and then I aggregated:\n",
    "\n",
    "`listRDD.aggregate( (0, 0), seqOp, combOp)`\n",
    "\n",
    "Out[8]: `(10, 4)`\n",
    "\n",
    "As you can see, I gave descriptive names to my variables, but let me explain it further:\n",
    "\n",
    "The first partition has the `sublist [1, 2]`. We will apply the seqOp to each element of that list and this\n",
    " will produce a local result, a pair of (`sum`, `length`), that will reflect the result locally, only in that first partition.\n",
    "\n",
    "So, let's start: `local_result gets` initialized to the `zeroValue` parameter we provided the `aggregate()` with,\n",
    " i.e. `(0, 0)` and `list_element` is the first element of the list, i.e. 1. As a result this is what happens:\n",
    "\n",
    "0 + 1 = 1\n",
    "\n",
    "0 + 1 = 1\n",
    "\n",
    "Now, the local result is (1, 1), that means, that so far, for the 1st partition, after processing only the first \n",
    "element, the sum is 1 and the length 1. Notice, that `local_result` gets updated from `(0, 0)`, to `(1, 1)`.\n",
    "\n",
    "1 + 2 = 3\n",
    "\n",
    "1 + 1 = 2\n",
    "\n",
    "and now the local result is (3, 2), which will be the final result from the 1st partition, since they are no \n",
    "other elements in the sublist of the 1st partition.\n",
    "\n",
    "Doing the same for 2nd partition, we get (7, 2).\n",
    "\n",
    "Now we apply the `combOp` to each local result, so that we can form, the final, global result, \n",
    "like this: `(3,2) + (7,2) = (10, 4)`\n",
    "\n",
    "Example described in 'figure':\n",
    "\n",
    "`seqOp = (lambda local_result, list_element: (local_result[0] + list_element, local_result[1] + 1) )`\n",
    "\n",
    "Explanation:\n",
    "\n",
    "`(local_result[0] + list_element = (0, 0)[0] + (1, 2)[0] = 0 + 1 = 1`\n",
    "\n",
    "`local_result[1] + 1 = (0, 0)[1] + 1 = 0 + 1 = 1`\n",
    "    \n",
    "`(local_result[0] + list_element = (1, 1)[0] + (1, 2)[1] = 2 + 1 = 3`\n",
    "\n",
    "`local_result[1] + 1 = (1, 1)[1] + 1 = 1 + 1 = 2`\n",
    "\n",
    "`First Partition = (3, 2)`"
   ]
  },
  {
   "cell_type": "code",
   "execution_count": null,
   "metadata": {
    "pycharm": {
     "is_executing": true,
     "name": "#%%\n"
    }
   },
   "outputs": [],
   "source": [
    "#  Local\n",
    "#  \n",
    "#              (0, 0) <-- zeroValue\n",
    "#  \n",
    "#  [1, 2]                  [3, 4]\n",
    "#  \n",
    "#  0 + 1 = 1               0 + 3 = 3\n",
    "#  0 + 1 = 1               0 + 1 = 1\n",
    "#  \n",
    "#  1 + 2 = 3               3 + 4 = 7\n",
    "#  1 + 1 = 2               1 + 1 = 2       \n",
    "#      |                       |\n",
    "#      v                       v\n",
    "#    (3, 2)                  (7, 2)\n",
    "#        \\                    / \n",
    "#         \\                  /\n",
    "#          \\                /\n",
    "#           \\              /\n",
    "#            \\            /\n",
    "#             \\          / \n",
    "#             ------------\n",
    "#             |  combOp  |\n",
    "#             ------------\n",
    "#                  |\n",
    "#                  v\n",
    "#               (10, 4)"
   ]
  },
  {
   "cell_type": "markdown",
   "metadata": {
    "pycharm": {
     "name": "#%% md\n"
    }
   },
   "source": [
    "So now if the `zeroValue` is not `(0, 0)`, but `(1, 0)`, one would expect to get `(8 + 4, 2 + 2) = (12, 4)`, which doesn't \n",
    "explain what you experience. Even if we alter the number of partitions of my example, I won't be able to get that again."
   ]
  },
  {
   "cell_type": "code",
   "execution_count": 4,
   "metadata": {
    "pycharm": {
     "name": "#%%\n"
    }
   },
   "outputs": [
    {
     "name": "stdout",
     "output_type": "stream",
     "text": [
      "Aggregate Example 1\n",
      "20\n"
     ]
    }
   ],
   "source": [
    "print('Aggregate Example 1')\n",
    "seqOp = (lambda x, y: x + y)\n",
    "combOp = (lambda x, y: x + y)\n",
    "agg = listRdd.aggregate(0, seqOp, combOp)\n",
    "print(agg)  # output 20"
   ]
  },
  {
   "cell_type": "code",
   "execution_count": 5,
   "metadata": {
    "pycharm": {
     "name": "#%%\n"
    }
   },
   "outputs": [
    {
     "name": "stdout",
     "output_type": "stream",
     "text": [
      "Aggregate Example 2\n",
      "(20, 7)\n"
     ]
    }
   ],
   "source": [
    "print('Aggregate Example 2')\n",
    "seqOp2 = (lambda x, y: (x[0] + y, x[1] + 1))  # => sum(listRdd), count(listRdd)\n",
    "combOp2 = (lambda x, y: (x[0] + y[0], x[1] + y[1]))\n",
    "agg2 = listRdd.aggregate((0, 0), seqOp2, combOp2)\n",
    "print(agg2)  # output (20,7)"
   ]
  },
  {
   "cell_type": "markdown",
   "metadata": {
    "pycharm": {
     "name": "#%% md\n"
    }
   },
   "source": [
    "## treeAggregate\n",
    "`treeAggregate()` – Aggregates the elements of this RDD in a multi-level tree pattern. \n",
    "The output of this function will be similar to the aggregate function.\n",
    "\n",
    "**Syntax**: `treeAggregate(zeroValue, seqOp, combOp, depth=2)`"
   ]
  },
  {
   "cell_type": "code",
   "execution_count": 6,
   "metadata": {
    "pycharm": {
     "name": "#%%\n"
    }
   },
   "outputs": [
    {
     "name": "stdout",
     "output_type": "stream",
     "text": [
      "treeAggregate\n",
      "20\n"
     ]
    }
   ],
   "source": [
    "print('treeAggregate')\n",
    "seqOp = (lambda x, y: x + y)\n",
    "combOp = (lambda x, y: x + y)\n",
    "agg = listRdd.treeAggregate(0, seqOp, combOp)\n",
    "print(agg)  # output 20"
   ]
  },
  {
   "cell_type": "markdown",
   "metadata": {
    "pycharm": {
     "name": "#%% md\n"
    }
   },
   "source": [
    "## fold\n",
    "Aggregate the elements of each partition, and then the results for all the partitions."
   ]
  },
  {
   "cell_type": "code",
   "execution_count": 7,
   "metadata": {
    "pycharm": {
     "name": "#%%\n"
    }
   },
   "outputs": [
    {
     "name": "stdout",
     "output_type": "stream",
     "text": [
      "Fold\n",
      "20\n"
     ]
    }
   ],
   "source": [
    "print('Fold')\n",
    "foldRes = listRdd.fold(0, add)\n",
    "print(foldRes)"
   ]
  },
  {
   "cell_type": "markdown",
   "metadata": {
    "pycharm": {
     "name": "#%% md\n"
    }
   },
   "source": [
    "## reduce\n",
    "Reduces the elements of the dataset using the specified binary operator."
   ]
  },
  {
   "cell_type": "code",
   "execution_count": 8,
   "metadata": {
    "pycharm": {
     "name": "#%%\n"
    }
   },
   "outputs": [
    {
     "name": "stdout",
     "output_type": "stream",
     "text": [
      "Reduce\n",
      "20\n"
     ]
    }
   ],
   "source": [
    "print('Reduce')\n",
    "redRes = listRdd.reduce(add)\n",
    "print(redRes)  # output 20"
   ]
  },
  {
   "cell_type": "markdown",
   "metadata": {
    "pycharm": {
     "name": "#%% md\n"
    }
   },
   "source": [
    "## treeReduce\n",
    "Reduces the elements of this RDD in a multi-level tree pattern."
   ]
  },
  {
   "cell_type": "code",
   "execution_count": 9,
   "metadata": {
    "pycharm": {
     "name": "#%%\n"
    }
   },
   "outputs": [
    {
     "name": "stdout",
     "output_type": "stream",
     "text": [
      "TreeReduce\n",
      "20\n"
     ]
    }
   ],
   "source": [
    "print('TreeReduce')\n",
    "add = lambda x, y: x + y\n",
    "redRes = listRdd.treeReduce(add)\n",
    "print(redRes)  # output 20"
   ]
  },
  {
   "cell_type": "markdown",
   "metadata": {
    "pycharm": {
     "name": "#%% md\n"
    }
   },
   "source": [
    "## collect\n",
    "Return the complete dataset as an Array."
   ]
  },
  {
   "cell_type": "code",
   "execution_count": 10,
   "metadata": {
    "pycharm": {
     "name": "#%%\n"
    }
   },
   "outputs": [
    {
     "name": "stdout",
     "output_type": "stream",
     "text": [
      "Collect\n",
      "[1, 2, 3, 4, 5, 3, 2]\n"
     ]
    }
   ],
   "source": [
    "print('Collect')\n",
    "data = listRdd.collect()\n",
    "print(data)"
   ]
  },
  {
   "cell_type": "markdown",
   "metadata": {
    "pycharm": {
     "name": "#%% md\n"
    }
   },
   "source": [
    "## count\n",
    "Return the count of elements in the dataset."
   ]
  },
  {
   "cell_type": "code",
   "execution_count": 11,
   "metadata": {
    "pycharm": {
     "name": "#%%\n"
    }
   },
   "outputs": [
    {
     "name": "stdout",
     "output_type": "stream",
     "text": [
      "Count : 7\n"
     ]
    }
   ],
   "source": [
    "print(\"Count : \" + str(listRdd.count()))"
   ]
  },
  {
   "cell_type": "markdown",
   "metadata": {
    "pycharm": {
     "name": "#%% md\n"
    }
   },
   "source": [
    "## countApprox\n",
    "Return approximate count of elements in the dataset, this method returns incomplete when execution time meets timeout."
   ]
  },
  {
   "cell_type": "code",
   "execution_count": 12,
   "metadata": {
    "pycharm": {
     "name": "#%%\n"
    }
   },
   "outputs": [
    {
     "name": "stdout",
     "output_type": "stream",
     "text": [
      "countApprox : 7\n"
     ]
    }
   ],
   "source": [
    "print(\"countApprox : \" + str(listRdd.countApprox(1200)))"
   ]
  },
  {
   "cell_type": "markdown",
   "metadata": {
    "pycharm": {
     "name": "#%% md\n"
    }
   },
   "source": [
    "## countApproxDistinct\n",
    "Return an approximate number of distinct elements in the dataset."
   ]
  },
  {
   "cell_type": "code",
   "execution_count": 13,
   "metadata": {
    "pycharm": {
     "name": "#%%\n"
    }
   },
   "outputs": [
    {
     "name": "stdout",
     "output_type": "stream",
     "text": [
      "countApproxDistinct listRDD : 5\n",
      "countApproxDistinct inputRDD : 5\n"
     ]
    }
   ],
   "source": [
    "print(\"countApproxDistinct listRDD : \" + str(listRdd.countApproxDistinct()))\n",
    "print(\"countApproxDistinct inputRDD : \" + str(inputRDD.countApproxDistinct()))"
   ]
  },
  {
   "cell_type": "markdown",
   "metadata": {
    "pycharm": {
     "name": "#%% md\n"
    }
   },
   "source": [
    "## countByValue\n",
    "Return `Map[T,Long]` key representing each unique value in dataset and value represents count each value present."
   ]
  },
  {
   "cell_type": "code",
   "execution_count": 14,
   "metadata": {
    "pycharm": {
     "name": "#%%\n"
    }
   },
   "outputs": [
    {
     "name": "stdout",
     "output_type": "stream",
     "text": [
      "countByValue :  defaultdict(<class 'int'>, {1: 1, 2: 2, 3: 2, 4: 1, 5: 1})\n"
     ]
    }
   ],
   "source": [
    "print(\"countByValue :  \" + str(listRdd.countByValue()))"
   ]
  },
  {
   "cell_type": "markdown",
   "metadata": {
    "pycharm": {
     "name": "#%% md\n"
    }
   },
   "source": [
    "## first\n",
    "Return the first element in the dataset."
   ]
  },
  {
   "cell_type": "code",
   "execution_count": 15,
   "metadata": {
    "pycharm": {
     "name": "#%%\n"
    }
   },
   "outputs": [
    {
     "name": "stdout",
     "output_type": "stream",
     "text": [
      "first listRDD :  1\n",
      "first inputRDD :  ('Z', 1)\n"
     ]
    }
   ],
   "source": [
    "print(\"first listRDD :  \" + str(listRdd.first()))\n",
    "\n",
    "print(\"first inputRDD :  \" + str(inputRDD.first()))"
   ]
  },
  {
   "cell_type": "markdown",
   "metadata": {
    "pycharm": {
     "name": "#%% md\n"
    }
   },
   "source": [
    "## top\n",
    "Return top n elements from the dataset."
   ]
  },
  {
   "cell_type": "code",
   "execution_count": 16,
   "metadata": {
    "pycharm": {
     "name": "#%%\n"
    }
   },
   "outputs": [
    {
     "name": "stdout",
     "output_type": "stream",
     "text": [
      "top listRDD : [5, 4]\n",
      "top inputRDD : [('Z', 1), ('C', 40)]\n"
     ]
    }
   ],
   "source": [
    "print(\"top listRDD : \" + str(listRdd.top(2)))\n",
    "print(\"top inputRDD : \" + str(inputRDD.top(2)))"
   ]
  },
  {
   "cell_type": "markdown",
   "metadata": {
    "pycharm": {
     "name": "#%% md\n"
    }
   },
   "source": [
    "## min\n",
    "Return the minimum value from the dataset."
   ]
  },
  {
   "cell_type": "code",
   "execution_count": 17,
   "metadata": {
    "pycharm": {
     "name": "#%%\n"
    }
   },
   "outputs": [
    {
     "name": "stdout",
     "output_type": "stream",
     "text": [
      "min listRDD :  1\n",
      "min inputRDD :  ('A', 20)\n"
     ]
    }
   ],
   "source": [
    "print(\"min listRDD :  \" + str(listRdd.min()))\n",
    "print(\"min inputRDD :  \" + str(inputRDD.min()))"
   ]
  },
  {
   "cell_type": "markdown",
   "metadata": {
    "pycharm": {
     "name": "#%% md\n"
    }
   },
   "source": [
    "## max\n",
    "Return the maximum value from the dataset."
   ]
  },
  {
   "cell_type": "code",
   "execution_count": 18,
   "metadata": {
    "pycharm": {
     "name": "#%%\n"
    }
   },
   "outputs": [
    {
     "name": "stdout",
     "output_type": "stream",
     "text": [
      "max listRDD :  5\n",
      "max inputRDD :  ('Z', 1)\n"
     ]
    }
   ],
   "source": [
    "print(\"max listRDD :  \" + str(listRdd.max()))\n",
    "print(\"max inputRDD :  \" + str(inputRDD.max()))"
   ]
  },
  {
   "cell_type": "markdown",
   "metadata": {
    "pycharm": {
     "name": "#%% md\n"
    }
   },
   "source": [
    "## take\n",
    "Return the first num elements of the dataset."
   ]
  },
  {
   "cell_type": "code",
   "execution_count": 19,
   "metadata": {
    "pycharm": {
     "name": "#%%\n"
    }
   },
   "outputs": [
    {
     "name": "stdout",
     "output_type": "stream",
     "text": [
      "take : [1, 2]\n"
     ]
    }
   ],
   "source": [
    "print(\"take : \" + str(listRdd.take(2)))"
   ]
  },
  {
   "cell_type": "markdown",
   "metadata": {
    "pycharm": {
     "name": "#%% md\n"
    }
   },
   "source": [
    "## takeOrdered\n",
    "Return the first num (smallest) elements from the dataset and this is the opposite of the `take()` action.\n",
    "\n",
    "<span style=\"color:red\">Note</span>: Use this method only when the resulting array is small, as all the data is loaded into the driver’s memory."
   ]
  },
  {
   "cell_type": "code",
   "execution_count": 20,
   "metadata": {
    "pycharm": {
     "name": "#%%\n"
    }
   },
   "outputs": [
    {
     "name": "stdout",
     "output_type": "stream",
     "text": [
      "takeOrdered : [1, 2]\n"
     ]
    }
   ],
   "source": [
    "print(\"takeOrdered : \" + str(listRdd.takeOrdered(2)))"
   ]
  },
  {
   "cell_type": "markdown",
   "metadata": {
    "pycharm": {
     "name": "#%% md\n"
    }
   },
   "source": [
    "## takeSample\n",
    "Return the subset of the dataset in an Array.\n",
    "\n",
    "<span style=\"color:red\">Note</span>: Use this method only when the resulting array is small, as all the data is loaded into the driver’s memory."
   ]
  },
  {
   "cell_type": "code",
   "execution_count": 21,
   "metadata": {
    "pycharm": {
     "name": "#%%\n"
    }
   },
   "outputs": [
    {
     "name": "stdout",
     "output_type": "stream",
     "text": [
      "take : [3, 4, 2, 5, 3]\n"
     ]
    }
   ],
   "source": [
    "print(\"take : \" + str(listRdd.takeSample(False, 5, 2)))"
   ]
  }
 ],
 "metadata": {
  "kernelspec": {
   "display_name": "Python 3 (ipykernel)",
   "language": "python",
   "name": "python3"
  },
  "language_info": {
   "codemirror_mode": {
    "name": "ipython",
    "version": 3
   },
   "file_extension": ".py",
   "mimetype": "text/x-python",
   "name": "python",
   "nbconvert_exporter": "python",
   "pygments_lexer": "ipython3",
   "version": "3.9.7"
  },
  "toc": {
   "base_numbering": 1,
   "nav_menu": {},
   "number_sections": true,
   "sideBar": true,
   "skip_h1_title": false,
   "title_cell": "Table of Contents",
   "title_sidebar": "Contents",
   "toc_cell": false,
   "toc_position": {},
   "toc_section_display": true,
   "toc_window_display": true
  }
 },
 "nbformat": 4,
 "nbformat_minor": 1
}
