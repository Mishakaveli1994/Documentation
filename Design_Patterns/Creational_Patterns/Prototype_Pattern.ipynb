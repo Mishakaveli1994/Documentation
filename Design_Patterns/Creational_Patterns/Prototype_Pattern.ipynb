{
 "cells": [
  {
   "cell_type": "code",
   "execution_count": 1,
   "metadata": {
    "pycharm": {
     "name": "#%%\n"
    }
   },
   "outputs": [
    {
     "data": {
      "text/html": [
       "<style>\n",
       "    pre.cd {\n",
       "            border: 1px dashed #93A1A1;\n",
       "            padding: 0.5em 0.8em;\n",
       "            background: #FCF6E3;\n",
       "    }\n",
       "    .highlight{\n",
       "        backgound: #FCF6E3 ;\n",
       "    }\n",
       "    .hll { background-color: #ffffcc }\n",
       "    .c { color: #93a1a1; font-style: italic } /* Comment */\n",
       "    .err { color: #dc322f } /* Error */\n",
       "    .g { color: #657b83 } /* Generic */\n",
       "    .k { color: #859900 } /* Keyword */\n",
       "    .l { color: #657b83 } /* Literal */\n",
       "    .n { color: #586e75 } /* Name */\n",
       "    .o { color: #657b83 } /* Operator */\n",
       "    .x { color: #657b83 } /* Other */\n",
       "    .p { color: #657b83 } /* Punctuation */\n",
       "    .cm { color: #93a1a1; font-style: italic } /* Comment.Multiline */\n",
       "    .cp { color: #93a1a1; font-style: italic } /* Comment.Preproc */\n",
       "    .c1 { color: #93a1a1; font-style: italic } /* Comment.Single */\n",
       "    .cs { color: #93a1a1; font-style: italic } /* Comment.Special */\n",
       "    .gd { color: #657b83 } /* Generic.Deleted */\n",
       "    .ge { color: #657b83 } /* Generic.Emph */\n",
       "    .gr { color: #657b83 } /* Generic.Error */\n",
       "    .gh { color: #657b83 } /* Generic.Heading */\n",
       "    .gi { color: #657b83 } /* Generic.Inserted */\n",
       "    .go { color: #000000 } /* Generic.Output (customized) */\n",
       "    .gp { color: #cb4b16 } /* Generic.Prompt (customized) */\n",
       "    .gs { color: #657b83 } /* Generic.Strong */\n",
       "    .gu { color: #657b83 } /* Generic.Subheading */\n",
       "    .gt { color: #657b83 } /* Generic.Traceback */\n",
       "    .kc { color: #859900 } /* Keyword.Constant */\n",
       "    .kd { color: #859900 } /* Keyword.Declaration */\n",
       "    .kn { color: #cb4b16 } /* Keyword.Namespace */\n",
       "    .kp { color: #cb4b16 } /* Keyword.Pseudo */\n",
       "    .kr { color: #859900 } /* Keyword.Reserved */\n",
       "    .kt { color: #859900 } /* Keyword.Type */\n",
       "    .ld { color: #657b83 } /* Literal.Date */\n",
       "    .m { color: #2aa198 } /* Literal.Number */\n",
       "    .s { color: #2aa198 } /* Literal.String */\n",
       "    .na { color: #657b83 } /* Name.Attribute */\n",
       "    .nb { color: #268bd2 } /* Name.Builtin */\n",
       "    .nc { color: #268bd2 } /* Name.Class */\n",
       "    .no { color: #b58900 } /* Name.Constant */\n",
       "    .nd { color: #cb4b16 } /* Name.Decorator */\n",
       "    .ni { color: #cb4b16 } /* Name.Entity */\n",
       "    .ne { color: #cb4b16 } /* Name.Exception */\n",
       "    .nf { color: #268bd2 } /* Name.Function */\n",
       "    .nl { color: #657b83 } /* Name.Label */\n",
       "    .nn { color: #b58900 } /* Name.Namespace */\n",
       "    .nx { color: #657b83 } /* Name.Other */\n",
       "    .py { color: #268bd2 } /* Name.Property */\n",
       "    .nt { color: #859900 } /* Name.Tag */\n",
       "    .nv { color: #cd4b16 } /* Name.Variable */\n",
       "    .ow { color: #859900 } /* Operator.Word */\n",
       "    .w { color: #fdf6e3 } /* Text.Whitespace */\n",
       "    .mf { color: #2aa198 } /* Literal.Number.Float */\n",
       "    .mh { color: #2aa198 } /* Literal.Number.Hex */\n",
       "    .mi { color: #2aa198 } /* Literal.Number.Integer */\n",
       "    .mo { color: #2aa198 } /* Literal.Number.Oct */\n",
       "    .sb { color: #2aa198 } /* Literal.String.Backtick */\n",
       "    .sc { color: #2aa198 } /* Literal.String.Char */\n",
       "    .sd { color: #2aa198 } /* Literal.String.Doc */\n",
       "    .s2 { color: #2aa198 } /* Literal.String.Double */\n",
       "    .se { color: #cb4b16 } /* Literal.String.Escape */\n",
       "    .sh { color: #2aa198 } /* Literal.String.Heredoc */\n",
       "    .si { color: #cb4b16 } /* Literal.String.Interpol */\n",
       "    .sx { color: #2aa198 } /* Literal.String.Other */\n",
       "    .sr { color: #2aa198 } /* Literal.String.Regex */\n",
       "    .s1 { color: #2aa198 } /* Literal.String.Single */\n",
       "    .ss { color: #2aa198 } /* Literal.String.Symbol */\n",
       "    .bp { color: #268bd2; font-weight: bold } /* Name.Builtin.Pseudo */\n",
       "    .vc { color: #268bd2 } /* Name.Variable.Class */\n",
       "    .vg { color: #268bd2 } /* Name.Variable.Global */\n",
       "    .vi { color: #268bd2 } /* Name.Variable.Instance */\n",
       "    .il { color: #2aa198 } /* Literal.Number.Integer.Long */\n",
       "    div.verdict-div{\n",
       "        background: #EEEEEE; \n",
       "        padding: 30px\n",
       "    }\n",
       "    p.verdict-title{\n",
       "        text-align: center;\n",
       "        font-weight: bold;\n",
       "    }\n",
       "</style>\n"
      ],
      "text/plain": [
       "<IPython.core.display.HTML object>"
      ]
     },
     "metadata": {},
     "output_type": "display_data"
    }
   ],
   "source": [
    "%%html\n",
    "<style>\n",
    "    pre.cd {\n",
    "            border: 1px dashed #93A1A1;\n",
    "            padding: 0.5em 0.8em;\n",
    "            background: #FCF6E3;\n",
    "    }\n",
    "    .highlight{\n",
    "        backgound: #FCF6E3 ;\n",
    "    }\n",
    "    .hll { background-color: #ffffcc }\n",
    "    .c { color: #93a1a1; font-style: italic } /* Comment */\n",
    "    .err { color: #dc322f } /* Error */\n",
    "    .g { color: #657b83 } /* Generic */\n",
    "    .k { color: #859900 } /* Keyword */\n",
    "    .l { color: #657b83 } /* Literal */\n",
    "    .n { color: #586e75 } /* Name */\n",
    "    .o { color: #657b83 } /* Operator */\n",
    "    .x { color: #657b83 } /* Other */\n",
    "    .p { color: #657b83 } /* Punctuation */\n",
    "    .cm { color: #93a1a1; font-style: italic } /* Comment.Multiline */\n",
    "    .cp { color: #93a1a1; font-style: italic } /* Comment.Preproc */\n",
    "    .c1 { color: #93a1a1; font-style: italic } /* Comment.Single */\n",
    "    .cs { color: #93a1a1; font-style: italic } /* Comment.Special */\n",
    "    .gd { color: #657b83 } /* Generic.Deleted */\n",
    "    .ge { color: #657b83 } /* Generic.Emph */\n",
    "    .gr { color: #657b83 } /* Generic.Error */\n",
    "    .gh { color: #657b83 } /* Generic.Heading */\n",
    "    .gi { color: #657b83 } /* Generic.Inserted */\n",
    "    .go { color: #000000 } /* Generic.Output (customized) */\n",
    "    .gp { color: #cb4b16 } /* Generic.Prompt (customized) */\n",
    "    .gs { color: #657b83 } /* Generic.Strong */\n",
    "    .gu { color: #657b83 } /* Generic.Subheading */\n",
    "    .gt { color: #657b83 } /* Generic.Traceback */\n",
    "    .kc { color: #859900 } /* Keyword.Constant */\n",
    "    .kd { color: #859900 } /* Keyword.Declaration */\n",
    "    .kn { color: #cb4b16 } /* Keyword.Namespace */\n",
    "    .kp { color: #cb4b16 } /* Keyword.Pseudo */\n",
    "    .kr { color: #859900 } /* Keyword.Reserved */\n",
    "    .kt { color: #859900 } /* Keyword.Type */\n",
    "    .ld { color: #657b83 } /* Literal.Date */\n",
    "    .m { color: #2aa198 } /* Literal.Number */\n",
    "    .s { color: #2aa198 } /* Literal.String */\n",
    "    .na { color: #657b83 } /* Name.Attribute */\n",
    "    .nb { color: #268bd2 } /* Name.Builtin */\n",
    "    .nc { color: #268bd2 } /* Name.Class */\n",
    "    .no { color: #b58900 } /* Name.Constant */\n",
    "    .nd { color: #cb4b16 } /* Name.Decorator */\n",
    "    .ni { color: #cb4b16 } /* Name.Entity */\n",
    "    .ne { color: #cb4b16 } /* Name.Exception */\n",
    "    .nf { color: #268bd2 } /* Name.Function */\n",
    "    .nl { color: #657b83 } /* Name.Label */\n",
    "    .nn { color: #b58900 } /* Name.Namespace */\n",
    "    .nx { color: #657b83 } /* Name.Other */\n",
    "    .py { color: #268bd2 } /* Name.Property */\n",
    "    .nt { color: #859900 } /* Name.Tag */\n",
    "    .nv { color: #cd4b16 } /* Name.Variable */\n",
    "    .ow { color: #859900 } /* Operator.Word */\n",
    "    .w { color: #fdf6e3 } /* Text.Whitespace */\n",
    "    .mf { color: #2aa198 } /* Literal.Number.Float */\n",
    "    .mh { color: #2aa198 } /* Literal.Number.Hex */\n",
    "    .mi { color: #2aa198 } /* Literal.Number.Integer */\n",
    "    .mo { color: #2aa198 } /* Literal.Number.Oct */\n",
    "    .sb { color: #2aa198 } /* Literal.String.Backtick */\n",
    "    .sc { color: #2aa198 } /* Literal.String.Char */\n",
    "    .sd { color: #2aa198 } /* Literal.String.Doc */\n",
    "    .s2 { color: #2aa198 } /* Literal.String.Double */\n",
    "    .se { color: #cb4b16 } /* Literal.String.Escape */\n",
    "    .sh { color: #2aa198 } /* Literal.String.Heredoc */\n",
    "    .si { color: #cb4b16 } /* Literal.String.Interpol */\n",
    "    .sx { color: #2aa198 } /* Literal.String.Other */\n",
    "    .sr { color: #2aa198 } /* Literal.String.Regex */\n",
    "    .s1 { color: #2aa198 } /* Literal.String.Single */\n",
    "    .ss { color: #2aa198 } /* Literal.String.Symbol */\n",
    "    .bp { color: #268bd2; font-weight: bold } /* Name.Builtin.Pseudo */\n",
    "    .vc { color: #268bd2 } /* Name.Variable.Class */\n",
    "    .vg { color: #268bd2 } /* Name.Variable.Global */\n",
    "    .vi { color: #268bd2 } /* Name.Variable.Instance */\n",
    "    .il { color: #2aa198 } /* Literal.Number.Integer.Long */\n",
    "    div.verdict-div{\n",
    "        background: #EEEEEE; \n",
    "        padding: 30px\n",
    "    }\n",
    "    p.verdict-title{\n",
    "        text-align: center;\n",
    "        font-weight: bold;\n",
    "    }\n",
    "</style>"
   ]
  },
  {
   "cell_type": "markdown",
   "metadata": {},
   "source": [
    "<div class=\"verdict-div\"><p class=\"verdict-title\">Verdict</p>\n",
    "\n",
    "The Prototype pattern isn’t necessary in a language powerful enough to support first-class functions and classes.</div>"
   ]
  },
  {
   "cell_type": "markdown",
   "metadata": {},
   "source": [
    "# The Prototype Pattern\n",
    "It is almost embarrassing how many good alternatives Python offers to the Prototype pattern.\n",
    "\n",
    "As the problem and its solutions are simple, this article will be brief. We will define the problem, list several Pythonic solutions, and finish by studying how the Gang of Four solved the same problem under more onerous constraints."
   ]
  },
  {
   "cell_type": "markdown",
   "metadata": {},
   "source": [
    "## The problem\n",
    "The Prototype Pattern suggests a mechanism by which a caller can provide a framework with a menu of classes to instantiate when the user — or some other runtime source of dynamic requests — selects the classes from a menu of choices.\n",
    "\n",
    "The problem would be a much simpler one if none of the classes in the menu needed `__init__()` arguments:"
   ]
  },
  {
   "cell_type": "markdown",
   "metadata": {},
   "source": [
    "<pre class=\"cd\"><span></span><span class=\"k\">class</span> <span class=\"nc\">Sharp</span><span class=\"p\">(</span><span class=\"nb\">object</span><span class=\"p\">):</span>\n",
    "    <span class=\"s2\">\"The symbol ♯.\"</span>\n",
    "\n",
    "<span class=\"k\">class</span> <span class=\"nc\">Flat</span><span class=\"p\">(</span><span class=\"nb\">object</span><span class=\"p\">):</span>\n",
    "    <span class=\"s2\">\"The symbol ♭.\"</span>\n",
    "</pre>"
   ]
  },
  {
   "cell_type": "markdown",
   "metadata": {},
   "source": [
    "Instead, the Prototype pattern is called into play when classes will need to be instantiated that require arguments:"
   ]
  },
  {
   "cell_type": "markdown",
   "metadata": {},
   "source": [
    "<pre class=\"cd\"><span></span><span class=\"k\">class</span> <span class=\"nc\">Note</span><span class=\"p\">(</span><span class=\"nb\">object</span><span class=\"p\">):</span>\n",
    "    <span class=\"s2\">\"Musical note 1 ÷ `fraction` measures long.\"</span>\n",
    "    <span class=\"k\">def</span> <span class=\"fm\">__init__</span><span class=\"p\">(</span><span class=\"bp\">self</span><span class=\"p\">,</span> <span class=\"n\">fraction</span><span class=\"p\">):</span>\n",
    "        <span class=\"bp\">self</span><span class=\"o\">.</span><span class=\"n\">fraction</span> <span class=\"o\">=</span> <span class=\"n\">fraction</span>\n",
    "</pre>"
   ]
  },
  {
   "cell_type": "markdown",
   "metadata": {},
   "source": [
    "It is this situation — supplying a framework with a menu of classes that will need to be instantiated with pre-specified argument lists — that the Prototype pattern is designed to address."
   ]
  },
  {
   "cell_type": "markdown",
   "metadata": {},
   "source": [
    "## Pythonic solutions\n",
    "Python offers several possible mechanisms for supplying a framework with the classes we want to instantiate and the arguments we want them instantiated with.\n",
    "\n",
    "In the examples below, we will provide the menu of classes in a simple data structure — a Python dictionary — but the same principles apply even if the framework wants the menu items supplied in some other data structure, or supplied separately in a series of `register()` calls.\n",
    "\n",
    "One approach is to design the classes so that they only need positional arguments, not keyword arguments. The framework will then be able to store the arguments as a simple tuple, which can be supplied separately from the class itself — the familiar approach of the Standard Library Thread class which asks for a callable `target=` separately from the `args=(...)` it will be passed. Our menu items might look like:"
   ]
  },
  {
   "cell_type": "markdown",
   "metadata": {},
   "source": [
    "<pre class=\"cd\"><span></span><span class=\"n\">menu</span> <span class=\"o\">=</span> <span class=\"p\">{</span>\n",
    "    <span class=\"s1\">'whole note'</span><span class=\"p\">:</span> <span class=\"p\">(</span><span class=\"n\">Note</span><span class=\"p\">,</span> <span class=\"p\">(</span><span class=\"mi\">1</span><span class=\"p\">,)),</span>\n",
    "    <span class=\"s1\">'half note'</span><span class=\"p\">:</span> <span class=\"p\">(</span><span class=\"n\">Note</span><span class=\"p\">,</span> <span class=\"p\">(</span><span class=\"mi\">2</span><span class=\"p\">,)),</span>\n",
    "    <span class=\"s1\">'quarter note'</span><span class=\"p\">:</span> <span class=\"p\">(</span><span class=\"n\">Note</span><span class=\"p\">,</span> <span class=\"p\">(</span><span class=\"mi\">4</span><span class=\"p\">,)),</span>\n",
    "    <span class=\"s1\">'sharp'</span><span class=\"p\">:</span> <span class=\"p\">(</span><span class=\"n\">Sharp</span><span class=\"p\">,</span> <span class=\"p\">()),</span>\n",
    "    <span class=\"s1\">'flat'</span><span class=\"p\">:</span> <span class=\"p\">(</span><span class=\"n\">Flat</span><span class=\"p\">,</span> <span class=\"p\">()),</span>\n",
    "<span class=\"p\">}</span>\n",
    "</pre>"
   ]
  },
  {
   "cell_type": "markdown",
   "metadata": {},
   "source": [
    "Alternatively, each class and arguments could live in the same tuple:"
   ]
  },
  {
   "cell_type": "markdown",
   "metadata": {},
   "source": [
    "<pre class=\"cd\"><span></span><span class=\"n\">menu</span> <span class=\"o\">=</span> <span class=\"p\">{</span>\n",
    "    <span class=\"s1\">'whole note'</span><span class=\"p\">:</span> <span class=\"p\">(</span><span class=\"n\">Note</span><span class=\"p\">,</span> <span class=\"mi\">1</span><span class=\"p\">),</span>\n",
    "    <span class=\"s1\">'half note'</span><span class=\"p\">:</span> <span class=\"p\">(</span><span class=\"n\">Note</span><span class=\"p\">,</span> <span class=\"mi\">2</span><span class=\"p\">),</span>\n",
    "    <span class=\"s1\">'quarter note'</span><span class=\"p\">:</span> <span class=\"p\">(</span><span class=\"n\">Note</span><span class=\"p\">,</span> <span class=\"mi\">4</span><span class=\"p\">),</span>\n",
    "    <span class=\"s1\">'sharp'</span><span class=\"p\">:</span> <span class=\"p\">(</span><span class=\"n\">Sharp</span><span class=\"p\">,),</span>\n",
    "    <span class=\"s1\">'flat'</span><span class=\"p\">:</span> <span class=\"p\">(</span><span class=\"n\">Flat</span><span class=\"p\">,),</span>\n",
    "<span class=\"p\">}</span>\n",
    "</pre>"
   ]
  },
  {
   "cell_type": "markdown",
   "metadata": {},
   "source": [
    "The framework would then invoke each callable using some variation of `tup[0](*tup[1:])`.\n",
    "\n",
    "In the more general case, though, a class might require not just positional arguments but also keyword arguments. In response, we could pivot to providing simple callables to the framework, using lambda expressions for the classes that require arguments:"
   ]
  },
  {
   "cell_type": "markdown",
   "metadata": {},
   "source": [
    "<pre class=\"cd\"><span></span><span class=\"n\">menu</span> <span class=\"o\">=</span> <span class=\"p\">{</span>\n",
    "    <span class=\"s1\">'whole note'</span><span class=\"p\">:</span> <span class=\"k\">lambda</span><span class=\"p\">:</span> <span class=\"n\">Note</span><span class=\"p\">(</span><span class=\"n\">fraction</span><span class=\"o\">=</span><span class=\"mi\">1</span><span class=\"p\">),</span>\n",
    "    <span class=\"s1\">'half note'</span><span class=\"p\">:</span> <span class=\"k\">lambda</span><span class=\"p\">:</span> <span class=\"n\">Note</span><span class=\"p\">(</span><span class=\"n\">fraction</span><span class=\"o\">=</span><span class=\"mi\">2</span><span class=\"p\">),</span>\n",
    "    <span class=\"s1\">'quarter note'</span><span class=\"p\">:</span> <span class=\"k\">lambda</span><span class=\"p\">:</span> <span class=\"n\">Note</span><span class=\"p\">(</span><span class=\"n\">fraction</span><span class=\"o\">=</span><span class=\"mi\">4</span><span class=\"p\">),</span>\n",
    "    <span class=\"s1\">'sharp'</span><span class=\"p\">:</span> <span class=\"n\">Sharp</span><span class=\"p\">,</span>\n",
    "    <span class=\"s1\">'flat'</span><span class=\"p\">:</span> <span class=\"n\">Flat</span><span class=\"p\">,</span>\n",
    "<span class=\"p\">}</span>\n",
    "</pre>"
   ]
  },
  {
   "cell_type": "markdown",
   "metadata": {},
   "source": [
    "While lambdas don’t support quick introspection — it isn’t easy for a framework or debugger to inspect them to learn what callable they will invoke or what arguments they will supply — they work fine if all the framework needs to do is invoke them.\n",
    "\n",
    "Another approach is to use a partial for each item, which packages together a callable with both positional and keywords arguments that will be supplied when the partial itself is later called:"
   ]
  },
  {
   "cell_type": "markdown",
   "metadata": {},
   "source": [
    "<pre class=\"cd\"><span></span><span class=\"kn\">from</span> <span class=\"nn\">functools</span> <span class=\"kn\">import</span> <span class=\"n\">partial</span>\n",
    "\n",
    "<span class=\"c1\"># Keyword arguments for illustration only;</span>\n",
    "<span class=\"c1\"># in this case could instead write ‘partial(Note, 1)’</span>\n",
    "\n",
    "<span class=\"n\">menu</span> <span class=\"o\">=</span> <span class=\"p\">{</span>\n",
    "    <span class=\"s1\">'whole note'</span><span class=\"p\">:</span> <span class=\"n\">partial</span><span class=\"p\">(</span><span class=\"n\">Note</span><span class=\"p\">,</span> <span class=\"n\">fraction</span><span class=\"o\">=</span><span class=\"mi\">1</span><span class=\"p\">),</span>\n",
    "    <span class=\"s1\">'half note'</span><span class=\"p\">:</span> <span class=\"n\">partial</span><span class=\"p\">(</span><span class=\"n\">Note</span><span class=\"p\">,</span> <span class=\"n\">fraction</span><span class=\"o\">=</span><span class=\"mi\">2</span><span class=\"p\">),</span>\n",
    "    <span class=\"s1\">'quarter note'</span><span class=\"p\">:</span> <span class=\"n\">partial</span><span class=\"p\">(</span><span class=\"n\">Note</span><span class=\"p\">,</span> <span class=\"n\">fraction</span><span class=\"o\">=</span><span class=\"mi\">4</span><span class=\"p\">),</span>\n",
    "    <span class=\"s1\">'sharp'</span><span class=\"p\">:</span> <span class=\"n\">Sharp</span><span class=\"p\">,</span>\n",
    "    <span class=\"s1\">'flat'</span><span class=\"p\">:</span> <span class=\"n\">Flat</span><span class=\"p\">,</span>\n",
    "<span class=\"p\">}</span>\n",
    "</pre>"
   ]
  },
  {
   "cell_type": "markdown",
   "metadata": {},
   "source": [
    "I will stop there, though you are free to keep imagining more alternatives — for example, you could supply a class, a tuple, and a dictionary `(cls, args, kw)` for each menu item and the framework would call `cls(*args, **kw)` when each menu item is selected. The choices in Python for tackling this problem are numerous because classes and functions in Python are first-class and are therefore eligible to be passed as arguments and stored in data structures just like any other objects.\n",
    "\n",
    "## Implementing\n",
    "But the Gang of Four did not have the luxury of such easy circumstances as Python programmers enjoy. Armed with only polymorphism and the method call, they sallied forth to create a workable pattern.\n",
    "\n",
    "You might at first imagine that, in the absence of tuples and the ability to apply them as argument lists, we are going to need factory classes which will each remember a particular list of arguments and then supply those arguments when they are asked for a new object:"
   ]
  },
  {
   "cell_type": "markdown",
   "metadata": {},
   "source": [
    "<pre class=\"cd\"><span></span><span class=\"c1\"># What the Prototype pattern avoids:</span>\n",
    "<span class=\"c1\"># needing one factory for every class.</span>\n",
    "\n",
    "<span class=\"k\">class</span> <span class=\"nc\">NoteFactory</span><span class=\"p\">(</span><span class=\"nb\">object</span><span class=\"p\">):</span>\n",
    "    <span class=\"k\">def</span> <span class=\"fm\">__init__</span><span class=\"p\">(</span><span class=\"bp\">self</span><span class=\"p\">,</span> <span class=\"n\">fraction</span><span class=\"p\">):</span>\n",
    "        <span class=\"bp\">self</span><span class=\"o\">.</span><span class=\"n\">fraction</span> <span class=\"o\">=</span> <span class=\"n\">fraction</span>\n",
    "\n",
    "    <span class=\"k\">def</span> <span class=\"nf\">build</span><span class=\"p\">(</span><span class=\"bp\">self</span><span class=\"p\">):</span>\n",
    "        <span class=\"k\">return</span> <span class=\"n\">Note</span><span class=\"p\">(</span><span class=\"bp\">self</span><span class=\"o\">.</span><span class=\"n\">fraction</span><span class=\"p\">)</span>\n",
    "\n",
    "<span class=\"k\">class</span> <span class=\"nc\">SharpFactory</span><span class=\"p\">(</span><span class=\"nb\">object</span><span class=\"p\">):</span>\n",
    "    <span class=\"k\">def</span> <span class=\"fm\">__init__</span><span class=\"p\">(</span><span class=\"bp\">self</span><span class=\"p\">,</span> <span class=\"n\">fraction</span><span class=\"p\">):</span>\n",
    "        <span class=\"bp\">self</span><span class=\"o\">.</span><span class=\"n\">fraction</span> <span class=\"o\">=</span> <span class=\"n\">fraction</span>\n",
    "        \n",
    "    <span class=\"k\">def</span> <span class=\"nf\">build</span><span class=\"p\">(</span><span class=\"bp\">self</span><span class=\"p\">):</span>\n",
    "        <span class=\"k\">return</span> <span class=\"n\">Sharp</span><span class=\"p\">(</span><span class=\"bp\">self</span><span class=\"o\">.</span><span class=\"n\">fraction</span><span class=\"p\">)</span>\n",
    "\n",
    "<span class=\"k\">class</span> <span class=\"nc\">FlatFactory</span><span class=\"p\">(</span><span class=\"nb\">object</span><span class=\"p\">):</span>\n",
    "    <span class=\"k\">def</span> <span class=\"fm\">__init__</span><span class=\"p\">(</span><span class=\"bp\">self</span><span class=\"p\">,</span> <span class=\"n\">fraction</span><span class=\"p\">):</span>\n",
    "        <span class=\"bp\">self</span><span class=\"o\">.</span><span class=\"n\">fraction</span> <span class=\"o\">=</span> <span class=\"n\">fraction</span>\n",
    "    \n",
    "    <span class=\"k\">def</span> <span class=\"nf\">build</span><span class=\"p\">(</span><span class=\"bp\">self</span><span class=\"p\">):</span>\n",
    "        <span class=\"k\">return</span> <span class=\"n\">Flat</span><span class=\"p\">(</span><span class=\"bp\">self</span><span class=\"o\">.</span><span class=\"n\">fraction</span><span class=\"p\">)</span>\n",
    "</pre>"
   ]
  },
  {
   "cell_type": "markdown",
   "metadata": {},
   "source": [
    "Fortunately, the situation is not so grim. If you re-read the factory classes above, you will notice that they each look similar — eerily similar — remarkably similar! — to the target classes we want to create. The `NoteFactory`, exactly like the `Note` itself, stores an attribute `fraction`. The stack of factories winds up looking, at least in their attribute lists, like the stack of classes we want to instantiate.\n",
    "\n",
    "This symmetry suggest a way to solve our problem without having to mirror each class with a factory. What if we used the original objects themselves to store the arguments, and gave them the ability to provide new instances?\n",
    "\n",
    "The result is the Prototype pattern! All of the factory classes disappear. Instead, each instance gains a `clone()` method to which it responds by building a new instance with exactly the same arguments it received:"
   ]
  },
  {
   "cell_type": "markdown",
   "metadata": {},
   "source": [
    "<pre class=\"cd\"><span></span><span class=\"c1\"># The Prototype pattern: teach each object</span>\n",
    "<span class=\"c1\"># instance how to build copies of itself.</span>\n",
    "\n",
    "<span class=\"k\">class</span> <span class=\"nc\">Note</span><span class=\"p\">(</span><span class=\"nb\">object</span><span class=\"p\">):</span>\n",
    "    <span class=\"s2\">\"Musical note 1 ÷ `fraction` measures long.\"</span>\n",
    "    <span class=\"k\">def</span> <span class=\"fm\">__init__</span><span class=\"p\">(</span><span class=\"bp\">self</span><span class=\"p\">,</span> <span class=\"n\">fraction</span><span class=\"p\">):</span>\n",
    "        <span class=\"bp\">self</span><span class=\"o\">.</span><span class=\"n\">fraction</span> <span class=\"o\">=</span> <span class=\"n\">fraction</span>\n",
    "\n",
    "    <span class=\"k\">def</span> <span class=\"nf\">clone</span><span class=\"p\">(</span><span class=\"bp\">self</span><span class=\"p\">):</span>\n",
    "        <span class=\"k\">return</span> <span class=\"n\">Note</span><span class=\"p\">(</span><span class=\"bp\">self</span><span class=\"o\">.</span><span class=\"n\">fraction</span><span class=\"p\">)</span>\n",
    "\n",
    "<span class=\"k\">class</span> <span class=\"nc\">Sharp</span><span class=\"p\">(</span><span class=\"nb\">Note</span><span class=\"p\">):</span>\n",
    "    <span class=\"s2\">\"The symbol ♯.\"</span>\n",
    "    <span class=\"k\">def</span> <span class=\"fm\">__init__</span><span class=\"p\">(</span><span class=\"bp\">self</span><span class=\"p\">,</span> <span class=\"n\">fraction</span><span class=\"p\">):</span>\n",
    "        <span class=\"bp\">super</span><span class=\"o\">.</span><span class=\"n\">__init__()</span>\n",
    "        \n",
    "    <span class=\"k\">def</span> <span class=\"nf\">clone</span><span class=\"p\">(</span><span class=\"bp\">self</span><span class=\"p\">):</span>\n",
    "        <span class=\"k\">return</span> <span class=\"n\">Sharp</span><span class=\"p\">(</span><span class=\"bp\">self</span><span class=\"o\">.</span><span class=\"n\">fraction</span><span class=\"p\">)</span>\n",
    "\n",
    "<span class=\"k\">class</span> <span class=\"nc\">Flat</span><span class=\"p\">(</span><span class=\"nb\">Note</span><span class=\"p\">):</span>\n",
    "    <span class=\"s2\">\"The symbol ♭.\"</span>\n",
    "    <span class=\"k\">def</span> <span class=\"fm\">__init__</span><span class=\"p\">(</span><span class=\"bp\">self</span><span class=\"p\">,</span> <span class=\"n\">fraction</span><span class=\"p\">):</span>\n",
    "        <span class=\"bp\">super</span><span class=\"o\">.</span><span class=\"n\">__init__()</span>\n",
    "        \n",
    "    <span class=\"k\">def</span> <span class=\"nf\">clone</span><span class=\"p\">(</span><span class=\"bp\">self</span><span class=\"p\">):</span>\n",
    "        <span class=\"k\">return</span> <span class=\"n\">Flat</span><span class=\"p\">(</span><span class=\"bp\">self</span><span class=\"o\">.</span><span class=\"n\">fraction</span><span class=\"p\">)</span>\n",
    "</pre>"
   ]
  },
  {
   "cell_type": "markdown",
   "metadata": {},
   "source": [
    "While we could make this example more complicated — for example, each `clone()` method should probably call `type(self)` instead of hard-coding its class name, in case the method gets called on a subclass — this at least illustrates the pattern. The Prototype Pattern is not as convenient as the mechanisms available in the Python language, but this clever simplification made it much easier for the Gang of Four to accomplish parametrized object creation in some of the underpowered object oriented languages that were popular last century."
   ]
  },
  {
   "cell_type": "code",
   "execution_count": null,
   "metadata": {},
   "outputs": [],
   "source": []
  }
 ],
 "metadata": {
  "kernelspec": {
   "display_name": "Python 3 (ipykernel)",
   "language": "python",
   "name": "python3"
  },
  "language_info": {
   "codemirror_mode": {
    "name": "ipython",
    "version": 3
   },
   "file_extension": ".py",
   "mimetype": "text/x-python",
   "name": "python",
   "nbconvert_exporter": "python",
   "pygments_lexer": "ipython3",
   "version": "3.9.4"
  },
  "toc": {
   "base_numbering": 1,
   "nav_menu": {},
   "number_sections": true,
   "sideBar": true,
   "skip_h1_title": false,
   "title_cell": "Table of Contents",
   "title_sidebar": "Contents",
   "toc_cell": false,
   "toc_position": {},
   "toc_section_display": true,
   "toc_window_display": true
  }
 },
 "nbformat": 4,
 "nbformat_minor": 1
}
