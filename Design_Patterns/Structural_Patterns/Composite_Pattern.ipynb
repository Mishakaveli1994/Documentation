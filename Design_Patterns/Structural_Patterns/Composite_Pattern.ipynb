{
 "cells": [
  {
   "cell_type": "code",
   "execution_count": 1,
   "metadata": {
    "pycharm": {
     "name": "#%%\n"
    }
   },
   "outputs": [
    {
     "data": {
      "text/html": [
       "<style>\n",
       "    pre.cd {\n",
       "            border: 1px dashed #93A1A1;\n",
       "            padding: 0.5em 0.8em;\n",
       "            background: #FCF6E3;\n",
       "    }\n",
       "    .highlight{\n",
       "        backgound: #FCF6E3 ;\n",
       "    }\n",
       "    .hll { background-color: #ffffcc }\n",
       "    .c { color: #93a1a1; font-style: italic } /* Comment */\n",
       "    .err { color: #dc322f } /* Error */\n",
       "    .g { color: #657b83 } /* Generic */\n",
       "    .k { color: #859900 } /* Keyword */\n",
       "    .l { color: #657b83 } /* Literal */\n",
       "    .n { color: #586e75 } /* Name */\n",
       "    .o { color: #657b83 } /* Operator */\n",
       "    .x { color: #657b83 } /* Other */\n",
       "    .p { color: #657b83 } /* Punctuation */\n",
       "    .cm { color: #93a1a1; font-style: italic } /* Comment.Multiline */\n",
       "    .cp { color: #93a1a1; font-style: italic } /* Comment.Preproc */\n",
       "    .c1 { color: #93a1a1; font-style: italic } /* Comment.Single */\n",
       "    .cs { color: #93a1a1; font-style: italic } /* Comment.Special */\n",
       "    .gd { color: #657b83 } /* Generic.Deleted */\n",
       "    .ge { color: #657b83 } /* Generic.Emph */\n",
       "    .gr { color: #657b83 } /* Generic.Error */\n",
       "    .gh { color: #657b83 } /* Generic.Heading */\n",
       "    .gi { color: #657b83 } /* Generic.Inserted */\n",
       "    .go { color: #000000 } /* Generic.Output (customized) */\n",
       "    .gp { color: #cb4b16 } /* Generic.Prompt (customized) */\n",
       "    .gs { color: #657b83 } /* Generic.Strong */\n",
       "    .gu { color: #657b83 } /* Generic.Subheading */\n",
       "    .gt { color: #657b83 } /* Generic.Traceback */\n",
       "    .kc { color: #859900 } /* Keyword.Constant */\n",
       "    .kd { color: #859900 } /* Keyword.Declaration */\n",
       "    .kn { color: #cb4b16 } /* Keyword.Namespace */\n",
       "    .kp { color: #cb4b16 } /* Keyword.Pseudo */\n",
       "    .kr { color: #859900 } /* Keyword.Reserved */\n",
       "    .kt { color: #859900 } /* Keyword.Type */\n",
       "    .ld { color: #657b83 } /* Literal.Date */\n",
       "    .m { color: #2aa198 } /* Literal.Number */\n",
       "    .s { color: #2aa198 } /* Literal.String */\n",
       "    .na { color: #657b83 } /* Name.Attribute */\n",
       "    .nb { color: #268bd2 } /* Name.Builtin */\n",
       "    .nc { color: #268bd2 } /* Name.Class */\n",
       "    .no { color: #b58900 } /* Name.Constant */\n",
       "    .nd { color: #cb4b16 } /* Name.Decorator */\n",
       "    .ni { color: #cb4b16 } /* Name.Entity */\n",
       "    .ne { color: #cb4b16 } /* Name.Exception */\n",
       "    .nf { color: #268bd2 } /* Name.Function */\n",
       "    .nl { color: #657b83 } /* Name.Label */\n",
       "    .nn { color: #b58900 } /* Name.Namespace */\n",
       "    .nx { color: #657b83 } /* Name.Other */\n",
       "    .py { color: #268bd2 } /* Name.Property */\n",
       "    .nt { color: #859900 } /* Name.Tag */\n",
       "    .nv { color: #cd4b16 } /* Name.Variable */\n",
       "    .ow { color: #859900 } /* Operator.Word */\n",
       "    .w { color: #fdf6e3 } /* Text.Whitespace */\n",
       "    .mf { color: #2aa198 } /* Literal.Number.Float */\n",
       "    .mh { color: #2aa198 } /* Literal.Number.Hex */\n",
       "    .mi { color: #2aa198 } /* Literal.Number.Integer */\n",
       "    .mo { color: #2aa198 } /* Literal.Number.Oct */\n",
       "    .sb { color: #2aa198 } /* Literal.String.Backtick */\n",
       "    .sc { color: #2aa198 } /* Literal.String.Char */\n",
       "    .sd { color: #2aa198 } /* Literal.String.Doc */\n",
       "    .s2 { color: #2aa198 } /* Literal.String.Double */\n",
       "    .se { color: #cb4b16 } /* Literal.String.Escape */\n",
       "    .sh { color: #2aa198 } /* Literal.String.Heredoc */\n",
       "    .si { color: #cb4b16 } /* Literal.String.Interpol */\n",
       "    .sx { color: #2aa198 } /* Literal.String.Other */\n",
       "    .sr { color: #2aa198 } /* Literal.String.Regex */\n",
       "    .s1 { color: #2aa198 } /* Literal.String.Single */\n",
       "    .ss { color: #2aa198 } /* Literal.String.Symbol */\n",
       "    .bp { color: #268bd2; font-weight: bold } /* Name.Builtin.Pseudo */\n",
       "    .vc { color: #268bd2 } /* Name.Variable.Class */\n",
       "    .vg { color: #268bd2 } /* Name.Variable.Global */\n",
       "    .vi { color: #268bd2 } /* Name.Variable.Instance */\n",
       "    .il { color: #2aa198 } /* Literal.Number.Integer.Long */\n",
       "    div.verdict-div{\n",
       "        background: #EEEEEE; \n",
       "        padding: 30px\n",
       "    }\n",
       "    p.verdict-title{\n",
       "        text-align: center;\n",
       "        font-weight: bold;\n",
       "    }\n",
       "</style>\n"
      ],
      "text/plain": [
       "<IPython.core.display.HTML object>"
      ]
     },
     "metadata": {},
     "output_type": "display_data"
    }
   ],
   "source": [
    "%%html\n",
    "<style>\n",
    "    pre.cd {\n",
    "            border: 1px dashed #93A1A1;\n",
    "            padding: 0.5em 0.8em;\n",
    "            background: #FCF6E3;\n",
    "    }\n",
    "    .highlight{\n",
    "        backgound: #FCF6E3 ;\n",
    "    }\n",
    "    .hll { background-color: #ffffcc }\n",
    "    .c { color: #93a1a1; font-style: italic } /* Comment */\n",
    "    .err { color: #dc322f } /* Error */\n",
    "    .g { color: #657b83 } /* Generic */\n",
    "    .k { color: #859900 } /* Keyword */\n",
    "    .l { color: #657b83 } /* Literal */\n",
    "    .n { color: #586e75 } /* Name */\n",
    "    .o { color: #657b83 } /* Operator */\n",
    "    .x { color: #657b83 } /* Other */\n",
    "    .p { color: #657b83 } /* Punctuation */\n",
    "    .cm { color: #93a1a1; font-style: italic } /* Comment.Multiline */\n",
    "    .cp { color: #93a1a1; font-style: italic } /* Comment.Preproc */\n",
    "    .c1 { color: #93a1a1; font-style: italic } /* Comment.Single */\n",
    "    .cs { color: #93a1a1; font-style: italic } /* Comment.Special */\n",
    "    .gd { color: #657b83 } /* Generic.Deleted */\n",
    "    .ge { color: #657b83 } /* Generic.Emph */\n",
    "    .gr { color: #657b83 } /* Generic.Error */\n",
    "    .gh { color: #657b83 } /* Generic.Heading */\n",
    "    .gi { color: #657b83 } /* Generic.Inserted */\n",
    "    .go { color: #000000 } /* Generic.Output (customized) */\n",
    "    .gp { color: #cb4b16 } /* Generic.Prompt (customized) */\n",
    "    .gs { color: #657b83 } /* Generic.Strong */\n",
    "    .gu { color: #657b83 } /* Generic.Subheading */\n",
    "    .gt { color: #657b83 } /* Generic.Traceback */\n",
    "    .kc { color: #859900 } /* Keyword.Constant */\n",
    "    .kd { color: #859900 } /* Keyword.Declaration */\n",
    "    .kn { color: #cb4b16 } /* Keyword.Namespace */\n",
    "    .kp { color: #cb4b16 } /* Keyword.Pseudo */\n",
    "    .kr { color: #859900 } /* Keyword.Reserved */\n",
    "    .kt { color: #859900 } /* Keyword.Type */\n",
    "    .ld { color: #657b83 } /* Literal.Date */\n",
    "    .m { color: #2aa198 } /* Literal.Number */\n",
    "    .s { color: #2aa198 } /* Literal.String */\n",
    "    .na { color: #657b83 } /* Name.Attribute */\n",
    "    .nb { color: #268bd2 } /* Name.Builtin */\n",
    "    .nc { color: #268bd2 } /* Name.Class */\n",
    "    .no { color: #b58900 } /* Name.Constant */\n",
    "    .nd { color: #cb4b16 } /* Name.Decorator */\n",
    "    .ni { color: #cb4b16 } /* Name.Entity */\n",
    "    .ne { color: #cb4b16 } /* Name.Exception */\n",
    "    .nf { color: #268bd2 } /* Name.Function */\n",
    "    .nl { color: #657b83 } /* Name.Label */\n",
    "    .nn { color: #b58900 } /* Name.Namespace */\n",
    "    .nx { color: #657b83 } /* Name.Other */\n",
    "    .py { color: #268bd2 } /* Name.Property */\n",
    "    .nt { color: #859900 } /* Name.Tag */\n",
    "    .nv { color: #cd4b16 } /* Name.Variable */\n",
    "    .ow { color: #859900 } /* Operator.Word */\n",
    "    .w { color: #fdf6e3 } /* Text.Whitespace */\n",
    "    .mf { color: #2aa198 } /* Literal.Number.Float */\n",
    "    .mh { color: #2aa198 } /* Literal.Number.Hex */\n",
    "    .mi { color: #2aa198 } /* Literal.Number.Integer */\n",
    "    .mo { color: #2aa198 } /* Literal.Number.Oct */\n",
    "    .sb { color: #2aa198 } /* Literal.String.Backtick */\n",
    "    .sc { color: #2aa198 } /* Literal.String.Char */\n",
    "    .sd { color: #2aa198 } /* Literal.String.Doc */\n",
    "    .s2 { color: #2aa198 } /* Literal.String.Double */\n",
    "    .se { color: #cb4b16 } /* Literal.String.Escape */\n",
    "    .sh { color: #2aa198 } /* Literal.String.Heredoc */\n",
    "    .si { color: #cb4b16 } /* Literal.String.Interpol */\n",
    "    .sx { color: #2aa198 } /* Literal.String.Other */\n",
    "    .sr { color: #2aa198 } /* Literal.String.Regex */\n",
    "    .s1 { color: #2aa198 } /* Literal.String.Single */\n",
    "    .ss { color: #2aa198 } /* Literal.String.Symbol */\n",
    "    .bp { color: #268bd2; font-weight: bold } /* Name.Builtin.Pseudo */\n",
    "    .vc { color: #268bd2 } /* Name.Variable.Class */\n",
    "    .vg { color: #268bd2 } /* Name.Variable.Global */\n",
    "    .vi { color: #268bd2 } /* Name.Variable.Instance */\n",
    "    .il { color: #2aa198 } /* Literal.Number.Integer.Long */\n",
    "    div.verdict-div{\n",
    "        background: #EEEEEE; \n",
    "        padding: 30px\n",
    "    }\n",
    "    p.verdict-title{\n",
    "        text-align: center;\n",
    "        font-weight: bold;\n",
    "    }\n",
    "</style>"
   ]
  },
  {
   "cell_type": "markdown",
   "metadata": {},
   "source": [
    "<div class=\"verdict-div\"><p class=\"verdict-title\">Verdict</p>\n",
    "\n",
    "The Composite Pattern can bring symmetry not only to object hierarchies in Python, but even to hierarchies exposed by low-level system calls and high-level network applications. In Python, the Composite Pattern can often be implemented with less fuss than in tightly constrained object oriented languages. You won’t be forced to inherit your container objects and the objects inside of them from a common parent class. Instead, you can build classes that share only a common interface rather than any implementation — or that are simply duck typed to offer common behavior.</div>"
   ]
  },
  {
   "cell_type": "markdown",
   "metadata": {},
   "source": [
    "# The Composite Pattern\n",
    "The Composite Pattern suggests that whenever you design “container” objects that collect and organize what we’ll call “content” objects, you will simplify many operations if you give container objects and content objects a shared set of methods and thereby support as many operations as possible without the caller having to care whether they have been passed an individual content object or an entire container.\n",
    "\n",
    "This is such a general idea that we can begin by stepping back from Python and even from object-based programming, and looking at how the Composite Pattern works at the level of an operating system."
   ]
  },
  {
   "cell_type": "markdown",
   "metadata": {},
   "source": [
    "## Example: the UNIX file system\n",
    "The admirably pithy two-letter UNIX command `ls`, according to its manual page, stands for “list directory” and when given the path to a directory will list the files and subdirectories inside."
   ]
  },
  {
   "cell_type": "markdown",
   "metadata": {},
   "source": [
    "<pre class=\"cd\"><span></span>$ ls /usr\n",
    "3bnet/       bin/         lbin/        lost+found/  options/     spool/\n",
    "adm/         gnu/         lib/         mail/        preserve/    src/\n",
    "admin/       include/     local/       news/        pub/         tmp/\n",
    "</pre>"
   ]
  },
  {
   "cell_type": "markdown",
   "metadata": {},
   "source": [
    "But the name “list directory” is misleadingly narrow, because `ls` is also happy to be given a single file’s path as its argument!"
   ]
  },
  {
   "cell_type": "markdown",
   "metadata": {},
   "source": [
    "<pre class=\"cd\"><span></span>$ ls /usr/bin/banner\n",
    "/usr/bin/banner\n",
    "</pre>"
   ]
  },
  {
   "cell_type": "markdown",
   "metadata": {},
   "source": [
    "Of course, users rarely invoke `ls` on a single file like this, without specifying any option; the only thing you learn is that the file exists (if it doesn’t, `ls` will complain “No such file or directory”). Its ability to accept single file names makes more sense when combined with its “long listing” option."
   ]
  },
  {
   "cell_type": "markdown",
   "metadata": {},
   "source": [
    "<pre class=\"cd\"><span></span>$ ls -l /usr/bin/banner\n",
    "-r-xr-xr-x   1 bin      bin        12620 Mar  3  1988 /usr/bin/banner\n",
    "</pre>"
   ]
  },
  {
   "cell_type": "markdown",
   "metadata": {},
   "source": [
    "This symmetry — that `ls` operates without complaint on both individual files and also on the directories that contain them — seems so natural to most users that you might not notice the powerful design decision behind it. It would have been very easy for an operating system author to provide one command for listing a directory, and an entirely different command to show the attributes of one particular file. But the lack of symmetry would have carried a cost. While exploring the filesystem, you would then have had to constantly remember to switch from one command to the other depending on whether the object of your attention was a directory or file.\n",
    "\n",
    "Worse yet, two separate commands would have provided no way to support wildcard operations that might match both files and directories. But, happily, `ls` has no problem with a heterogeneous argument list that has both individual files and also a directory inside:"
   ]
  },
  {
   "cell_type": "markdown",
   "metadata": {},
   "source": [
    "<pre class=\"cd\"><span></span>$ ls -C /etc/l*\n",
    "/etc/labelit    /etc/ldsysdump  /etc/led        /etc/link\n",
    "\n",
    "/etc/log:\n",
    "filesave.log\n",
    "</pre>"
   ]
  },
  {
   "cell_type": "markdown",
   "metadata": {},
   "source": [
    "Here, `ls` has transparently detected that four of the names matched by the wildcard `/etc/l*` are files but that `/etc/log` is a directory with more files inside. (Well, with one file inside.) Had UNIX supplied separate commands for listing a file and listing a directory, this wildcard could not safely have been an argument to either command.\n",
    "\n",
    "This, at the level of a command line interface, is the Composite Pattern. Operations like `ls` and `du` and `chmod` that make sense on both files and directories are implemented so that they run transparently on both. This not only lowers cognitive overhead, but makes shell scripts easier to write — there are many operations that a script can simply run blindly without needing to stop and check first whether a path names a file or a directory.\n",
    "\n",
    "The art of using the Composite Pattern is determining where to break the symmetry. For example, the UNIX filesystem provides completely different commands `touch` for creating a new file and `mkdir` for creating a new directory. This could instead have been a single command with an option that flipped it from file-creating mode to directory-creating mode. But the designers thought that the two operations were conceptually different enough to deserve separate commands. The decision of how much symmetry to create will weigh upon each operation that a designer implements.\n",
    "\n",
    "Forcing symmetry where there is really a difference can create awkward special cases. For example, two of the three permission bits in UNIX apply equally to directories and files: `r` gives read permission and `w` gives write permission. But the symmetry breaks at `x`, the third bit, which gives permission to “execute” a file but to “search” a directory by using it in a path. Should there have been two different `chmod` commands, one for files and one for directories? Or should the single `chmod` binary at least have used a different letter for that third bit, maybe `x` when applied to a file but `s` for “search” when applied to a directory? I myself think the designers of UNIX made the right decision here, because I find it easier to remember that `x` means something a little different for a directory than to remember a separate letter for directories, or a separate command. But the decision could have gone either way, and making decisions like these are where the designer applying the Composite Pattern needs finesse.\n",
    "\n",
    "It should be noted that the symmetries that exist between files and directories on the command line are not exactly the same symmetries that exist down beneath `ls` and `chmod` at the level of system calls. At each level, the Composite Pattern was applied a bit differently. For system calls, some symmetry does exist: `stat()` and `chmod()` and `chown()` operate happily on both files and directories.\n",
    "\n",
    "But `ls` is hiding the fact that if `stat()` reveals that a path names a directory, then `ls` needs to switch to a directory-specific system call to list the files inside. There is no symmetry between the UNIX system call for reading a normal file’s content and the call for reading the list of files in a directory, and for a crucial reason: the two operations return different types of data. A file contains an unstructured stream of bytes; a directory, a series of distinct filenames. The question of return type will serve as a very important guardrail when you are designing in Python: if your desire to create symmetry between container and content leads you to engineer calls that require an `if` statement or `isinstance()` to safely handle their return value, then the desire for symmetry has led you astray."
   ]
  },
  {
   "cell_type": "markdown",
   "metadata": {},
   "source": [
    "## On hierarchies\n",
    "As we now turn our attention to how the Composite Pattern looks in a programming language like Python, we should ponder a question that hangs above so much of the object-oriented and design-pattern literature from the 1990s:\n",
    "\n",
    "Where have all the hierarchies gone?\n",
    "\n",
    "The construction and manipulation of extensive hierarchies was both a frequent exercise for new programmers and a tedious labor for more experienced programmers. Hours were spent deciding how hierarchies would be constructed, what operations they would support, and how their destructors could be safely invoked. Hierarchies were everywhere.\n",
    "\n",
    "And then they began to recede, like a tide that having run far up the sand begins to finally sweep out again.\n",
    "\n",
    "+ Popular languages in the late 1990s went wild for deeply nested package namespaces. To take a modern example from Go, the package `google.golang.org/appengine`, one must admit, comes with a hard guarantee that it won’t conflict with the name of a package from another firm. The Zope 3 project, in its heyday, happily festooned the Python Package Index with multi-level package names like `zope.app.form` and `zope.app.i18n`. But today most Python packages opt for a simple non-compound name that jostles alongside the names of all other Python packages. And it almost never causes problems.\n",
    "\n",
    "\n",
    "2. The programming curricula of yore were rife with binary search trees, B+ trees, and tree balancing algorithms. But in real code, trees are very scarce. For every programmer who works on trees to, say, to write a persistent storage engine like BoltDB or Redis, a thousand programmers get to skip the exercise. Python programmers don’t tend to use binary search trees; we use the even faster hash table (the Python “dictionary”) whose structure, as it happens, is entirely flat — not a hierarchy.\n",
    "\n",
    "\n",
    "3. There was an era when hierarchy was inherent in the structure of databases. An employee record might hold a salary history right inside of it. But while hierarchy continues to exist around the edges of data storage, most recently in the form of NoSQL and document databases, our workhorse data stores tend to be flat ones: the relational database, the CSV file, the Pandas dataframe."
   ]
  },
  {
   "cell_type": "markdown",
   "metadata": {},
   "source": [
    "Again and again our discipline seems to revert back, where we can, to tables and lists and arrays where hierarchies might have reigned instead. The principle has even been enshrined in the famous Zen of Python:\n",
    "\n",
    "<div class=\"verdict-div\">“Flat is better than nested.”</div>\n",
    "\n",
    "The big exception, the realm in which hierarchy does reign supreme today, is the document. Documents are almost universally processed and represented as a hierarchy of sections and paragraphs beneath which are spans of bold and italics and hyperlinks. But the whole point of their being documents is that we aren’t always forced to build them in code using object and method calls. Instead, when we can, we parse them from a native representation that makes the hierarchy explicit and natural. The great monument to the Composite Pattern on today’s web is not document construction — documents are usually delivered as HTML — but document manipulation, through the Document Object Model exposed for the use of JavaScript code.\n",
    "\n",
    "I will leave for another time my discussion of how the Document Object Model delivered a hierarchy, so programmers invented jQuery because they preferred an array instead.\n",
    "\n",
    "Let’s now turn to what the Composite pattern looks like in code."
   ]
  },
  {
   "cell_type": "markdown",
   "metadata": {},
   "source": [
    "## Example: GUI programming with Tkinter\n",
    "Let’s imagine that we want to print to the screen the hierarchy of frames and buttons out of which we have built a graphical user interface (GUI) using Tkinter, which comes built in to Python.\n",
    "\n",
    "It would have been easy enough for Tkinter’s designers to have decided that only `Frame` containers needed `winfo_children()` methods to list their children — after all, simpler widgets like `Label` and `Button` aren’t supposed to contain children, and could have omitted the method entirely. But that asymmetry would have forced an `if` statement into any routine that wanted to visit both frames and their children:"
   ]
  },
  {
   "cell_type": "markdown",
   "metadata": {},
   "source": [
    "<pre class=\"cd\"><span></span><span class=\"c1\"># If Frame objects alone had offered winfo_children()</span>\n",
    "\n",
    "<span class=\"k\">if</span> <span class=\"nb\">isinstance</span><span class=\"p\">(</span><span class=\"n\">widget</span><span class=\"p\">,</span> <span class=\"n\">Frame</span><span class=\"p\">):</span>\n",
    "    <span class=\"n\">children</span> <span class=\"o\">=</span> <span class=\"n\">widget</span><span class=\"o\">.</span><span class=\"n\">winfo_children</span><span class=\"p\">()</span>\n",
    "    <span class=\"o\">...</span>\n",
    "<span class=\"k\">else</span><span class=\"p\">:</span>\n",
    "    <span class=\"c1\"># carefully avoid calling winfo_children()</span>\n",
    "    <span class=\"o\">...</span>\n",
    "</pre>"
   ]
  },
  {
   "cell_type": "markdown",
   "metadata": {},
   "source": [
    "This pattern, when it can’t be avoided, can at least be improved by dodging the `isinstance()` call and instead using `getattr()` with three arguments to safely examine whether the object has the necessary method. This decouples the code from the vexed question of whether any other Tkinter widgets besides `Frame`, either today or in the future, can also include children widgets inside:"
   ]
  },
  {
   "cell_type": "markdown",
   "metadata": {},
   "source": [
    "<pre class=\"cd\"><span></span><span class=\"c1\"># Improvement: check for methods, not classes</span>\n",
    "<span class=\"o\">...</span>\n",
    "<span class=\"n\">winfo_children</span> <span class=\"o\">=</span> <span class=\"nb\">getattr</span><span class=\"p\">(</span><span class=\"n\">Frame</span><span class=\"p\">,</span> <span class=\"s1\">'winfo_children'</span><span class=\"p\">,</span> <span class=\"kc\">None</span><span class=\"p\">)</span>\n",
    "<span class=\"k\">if</span> <span class=\"n\">winfo_children</span> <span class=\"ow\">is</span> <span class=\"ow\">not</span> <span class=\"kc\">None</span><span class=\"p\">:</span>\n",
    "    <span class=\"n\">children</span> <span class=\"o\">=</span> <span class=\"n\">winfo_children</span><span class=\"p\">()</span>\n",
    "    <span class=\"o\">...</span>\n",
    "</pre>"
   ]
  },
  {
   "cell_type": "markdown",
   "metadata": {},
   "source": [
    "In either case, the difference between container widgets and normal widgets would have haunted every piece of code that wanted to perform general processing.\n",
    "\n",
    "But the authors of Tk chose, happily, to implement the Composite Pattern. Instead of making `winfo_children()` a special method that only `Frame` widgets offer, they made it a general method that is available on every single widget object! You never need to check whether it is present. For containers, it returns their list of child widgets. For other widgets? It simply returns an empty list.\n",
    "\n",
    "Your code can therefore fly forward and always assume the presence of the method. Here, so that you can see a working example, is a complete program that builds a simple Tkinter GUI that can print out the widget hierarchy to the terminal:"
   ]
  },
  {
   "cell_type": "markdown",
   "metadata": {},
   "source": [
    "<pre class=\"cd\"><span></span><span class=\"kn\">from</span> <span class=\"nn\">tkinter</span> <span class=\"kn\">import</span> <span class=\"n\">Tk</span><span class=\"p\">,</span> <span class=\"n\">Frame</span><span class=\"p\">,</span> <span class=\"n\">Button</span>\n",
    "\n",
    "<span class=\"c1\"># Our routine, that gets to treat all widgets the same.</span>\n",
    "\n",
    "<span class=\"k\">def</span> <span class=\"nf\">print_tree</span><span class=\"p\">(</span><span class=\"n\">widget</span><span class=\"p\">,</span> <span class=\"n\">indent</span><span class=\"o\">=</span><span class=\"mi\">0</span><span class=\"p\">):</span>\n",
    "    <span class=\"sd\">\"\"\"Print a hierarchy of Tk widgets in the terminal.\"\"\"</span>\n",
    "    <span class=\"nb\">print</span><span class=\"p\">(</span><span class=\"s1\">'{:&lt;</span><span class=\"si\">{}</span><span class=\"s1\">} * </span><span class=\"si\">{!r}</span><span class=\"s1\">'</span><span class=\"o\">.</span><span class=\"n\">format</span><span class=\"p\">(</span><span class=\"s1\">''</span><span class=\"p\">,</span> <span class=\"n\">indent</span> <span class=\"o\">*</span> <span class=\"mi\">4</span><span class=\"p\">,</span> <span class=\"n\">widget</span><span class=\"p\">))</span>\n",
    "    <span class=\"k\">for</span> <span class=\"n\">child</span> <span class=\"ow\">in</span> <span class=\"n\">widget</span><span class=\"o\">.</span><span class=\"n\">winfo_children</span><span class=\"p\">():</span>\n",
    "        <span class=\"n\">print_tree</span><span class=\"p\">(</span><span class=\"n\">child</span><span class=\"p\">,</span> <span class=\"n\">indent</span> <span class=\"o\">+</span> <span class=\"mi\">1</span><span class=\"p\">)</span>\n",
    "\n",
    "<span class=\"c1\"># A small sample GUI application with several widgets.</span>\n",
    "\n",
    "<span class=\"n\">root</span> <span class=\"o\">=</span> <span class=\"n\">Tk</span><span class=\"p\">()</span>\n",
    "<span class=\"n\">f</span> <span class=\"o\">=</span> <span class=\"n\">Frame</span><span class=\"p\">(</span><span class=\"n\">master</span><span class=\"o\">=</span><span class=\"n\">root</span><span class=\"p\">)</span>\n",
    "<span class=\"n\">f</span><span class=\"o\">.</span><span class=\"n\">pack</span><span class=\"p\">()</span>\n",
    "\n",
    "<span class=\"n\">tree_button</span> <span class=\"o\">=</span> <span class=\"n\">Button</span><span class=\"p\">(</span><span class=\"n\">f</span><span class=\"p\">)</span>\n",
    "<span class=\"n\">tree_button</span><span class=\"p\">[</span><span class=\"s1\">'text'</span><span class=\"p\">]</span> <span class=\"o\">=</span> <span class=\"s1\">'Print widget tree'</span>\n",
    "<span class=\"n\">tree_button</span><span class=\"p\">[</span><span class=\"s1\">'command'</span><span class=\"p\">]</span> <span class=\"o\">=</span> <span class=\"k\">lambda</span><span class=\"p\">:</span> <span class=\"n\">print_tree</span><span class=\"p\">(</span><span class=\"n\">f</span><span class=\"p\">)</span>\n",
    "<span class=\"n\">tree_button</span><span class=\"o\">.</span><span class=\"n\">pack</span><span class=\"p\">({</span><span class=\"s1\">'side'</span><span class=\"p\">:</span> <span class=\"s1\">'left'</span><span class=\"p\">})</span>\n",
    "\n",
    "<span class=\"n\">quit_button</span> <span class=\"o\">=</span> <span class=\"n\">Button</span><span class=\"p\">(</span><span class=\"n\">f</span><span class=\"p\">)</span>\n",
    "<span class=\"n\">quit_button</span><span class=\"p\">[</span><span class=\"s1\">'text'</span><span class=\"p\">]</span> <span class=\"o\">=</span> <span class=\"s1\">'Quit Tk application'</span>\n",
    "<span class=\"n\">quit_button</span><span class=\"p\">[</span><span class=\"s1\">'command'</span><span class=\"p\">]</span> <span class=\"o\">=</span>  <span class=\"n\">f</span><span class=\"o\">.</span><span class=\"n\">quit</span>\n",
    "<span class=\"n\">quit_button</span><span class=\"o\">.</span><span class=\"n\">pack</span><span class=\"p\">({</span><span class=\"s1\">'side'</span><span class=\"p\">:</span> <span class=\"s1\">'left'</span><span class=\"p\">})</span>\n",
    "\n",
    "<span class=\"n\">f</span><span class=\"o\">.</span><span class=\"n\">mainloop</span><span class=\"p\">()</span>\n",
    "<span class=\"n\">root</span><span class=\"o\">.</span><span class=\"n\">destroy</span><span class=\"p\">()</span>\n",
    "</pre>"
   ]
  },
  {
   "cell_type": "markdown",
   "metadata": {},
   "source": [
    "The resulting printout looks like:"
   ]
  },
  {
   "cell_type": "markdown",
   "metadata": {},
   "source": [
    "<pre class=\"cd\"><span></span>* &lt;tkinter.Frame object .!frame&gt;\n",
    "    * &lt;tkinter.Button object .!frame.!button&gt;\n",
    "    * &lt;tkinter.Button object .!frame.!button2&gt;\n",
    "</pre>"
   ]
  },
  {
   "cell_type": "markdown",
   "metadata": {},
   "source": [
    "Thanks to the Composite Pattern symmetry between widgets, no if statement is necessary to handle whatever kind of widget is passed to `print_tree()`.\n",
    "\n",
    "Note that there is controversy among Composite Pattern enthusiasts over whether all widgets should really act like containers — isn’t it fraudulent, they ask, for a widget to implement `winfo_children()` if it’s not going to let you add child widgets? What sense does it make for it to act like a halfway container that supports read operations (“list children”) without the corresponding write operations (“add child”)? The more restrictive option would be to avoid putting `winfo_children()` on all widgets and instead only making truly general operations like `winfo_rootx()` universal (general, because all widgets have an x-coordinate). I myself tend to enjoy interfaces more when there is as much symmetry as possible.\n",
    "\n",
    "If you study the Tkinter library — which is perhaps the most classic object oriented module in the entire Python Standard Library — you will find several more instances where a method that could have been limited to a few widgets was instead made a common operation on them all for the sake of simplicity and for the convenience of all the code that uses them. This is the Composite Pattern."
   ]
  },
  {
   "cell_type": "markdown",
   "metadata": {},
   "source": [
    "## Implementation: to inherit, or not?\n",
    "The benefits of the symmetry that the Composite Pattern creates between containers and their contents only accrue if the symmetry makes the objects interchangeable. But here, some statically typed languages impose an obstacle.\n",
    "\n",
    "One problem is posed by the most limited of the static languages. In those languages, objects of two different classes are only interchangeable if they are subclasses of a single parent class that implements the methods they have in common — or, if one of the two classes inherits directly from the other.\n",
    "\n",
    "In static languages that are a bit more powerful, the restriction is gentler. There is no strict need for a container and its contents to share an implementation. As long as both of them conform to an “interface” that declares exactly which methods they implement in common, the objects can be called symmetrically.\n",
    "\n",
    "In Python, both of these restrictions evaporate! You are free to position your code anywhere along the spectrum of safety versus brevity that you prefer. You can go the classic route and have a common superclass:"
   ]
  },
  {
   "cell_type": "markdown",
   "metadata": {},
   "source": [
    "<pre class=\"cd\"><span></span><span class=\"k\">class</span> <span class=\"nc\">Widget</span><span class=\"p\">(</span><span class=\"nb\">object</span><span class=\"p\">):</span>\n",
    "    <span class=\"k\">def</span> <span class=\"nf\">children</span><span class=\"p\">(</span><span class=\"bp\">self</span><span class=\"p\">):</span>\n",
    "        <span class=\"k\">return</span> <span class=\"p\">[]</span>\n",
    "\n",
    "<span class=\"k\">class</span> <span class=\"nc\">Frame</span><span class=\"p\">(</span><span class=\"n\">Widget</span><span class=\"p\">):</span>\n",
    "    <span class=\"k\">def</span> <span class=\"fm\">__init__</span><span class=\"p\">(</span><span class=\"bp\">self</span><span class=\"p\">,</span> <span class=\"n\">child_widgets</span><span class=\"p\">):</span>\n",
    "        <span class=\"bp\">self</span><span class=\"o\">.</span><span class=\"n\">child_widgets</span> <span class=\"o\">=</span> <span class=\"n\">child_widgets</span>\n",
    "\n",
    "    <span class=\"k\">def</span> <span class=\"nf\">children</span><span class=\"p\">(</span><span class=\"bp\">self</span><span class=\"p\">):</span>\n",
    "        <span class=\"k\">return</span> <span class=\"bp\">self</span><span class=\"o\">.</span><span class=\"n\">child_widgets</span>\n",
    "\n",
    "<span class=\"k\">class</span> <span class=\"nc\">Label</span><span class=\"p\">(</span><span class=\"n\">Widget</span><span class=\"p\">):</span>\n",
    "    <span class=\"k\">def</span> <span class=\"fm\">__init__</span><span class=\"p\">(</span><span class=\"bp\">self</span><span class=\"p\">,</span> <span class=\"n\">text</span><span class=\"p\">):</span>\n",
    "        <span class=\"bp\">self</span><span class=\"o\">.</span><span class=\"n\">text</span> <span class=\"o\">=</span> <span class=\"n\">text</span>\n",
    "</pre>"
   ]
  },
  {
   "cell_type": "markdown",
   "metadata": {},
   "source": [
    "Or your objects can simply duck type the same interface, and you can rely on tests to help you maintain the symmetries between containers and contents. (Where, for very simple scripts, your “test” might simply be the fact that the code runs.)"
   ]
  },
  {
   "cell_type": "markdown",
   "metadata": {},
   "source": [
    "<pre class=\"cd\"><span></span><span class=\"k\">class</span> <span class=\"nc\">Frame</span><span class=\"p\">(</span><span class=\"nb\">object</span><span class=\"p\">):</span>\n",
    "    <span class=\"k\">def</span> <span class=\"fm\">__init__</span><span class=\"p\">(</span><span class=\"bp\">self</span><span class=\"p\">,</span> <span class=\"n\">child_widgets</span><span class=\"p\">):</span>\n",
    "        <span class=\"bp\">self</span><span class=\"o\">.</span><span class=\"n\">child_widgets</span> <span class=\"o\">=</span> <span class=\"n\">child_widgets</span>\n",
    "\n",
    "    <span class=\"k\">def</span> <span class=\"nf\">children</span><span class=\"p\">(</span><span class=\"bp\">self</span><span class=\"p\">):</span>\n",
    "        <span class=\"k\">return</span> <span class=\"bp\">self</span><span class=\"o\">.</span><span class=\"n\">child_widgets</span>\n",
    "\n",
    "<span class=\"k\">class</span> <span class=\"nc\">Label</span><span class=\"p\">(</span><span class=\"nb\">object</span><span class=\"p\">):</span>\n",
    "    <span class=\"k\">def</span> <span class=\"fm\">__init__</span><span class=\"p\">(</span><span class=\"bp\">self</span><span class=\"p\">,</span> <span class=\"n\">text</span><span class=\"p\">):</span>\n",
    "        <span class=\"bp\">self</span><span class=\"o\">.</span><span class=\"n\">text</span> <span class=\"o\">=</span> <span class=\"n\">text</span>\n",
    "\n",
    "    <span class=\"k\">def</span> <span class=\"nf\">children</span><span class=\"p\">(</span><span class=\"bp\">self</span><span class=\"p\">):</span>\n",
    "        <span class=\"k\">return</span> <span class=\"p\">[]</span>\n",
    "</pre>"
   ]
  },
  {
   "cell_type": "markdown",
   "metadata": {},
   "source": [
    "Or you can choose another point on the design spectrum between these two extremes. Python supports many approaches:\n",
    "\n",
    "+ The classic common superclass architecture, shown in the first example above.\n",
    "\n",
    "\n",
    "+ Making the superclass an abstract base class with the tools inside Standard Library’s `abc` module.\n",
    "\n",
    "\n",
    "+ Having the two classes share an interface, like those supported by the old `zope.interface` package.\n",
    "\n",
    "\n",
    "+ You could spin up a type checking library like MyPy and use annotations to ask for hard guarantees that all of the objects processed by your code — both container and contents — implement the runtime behaviors that your code requires.\n",
    "\n",
    "\n",
    "+ You could duck type, and ask for neither permission or forgiveness!\n",
    "\n",
    "\n",
    "Because Python offers this whole range of approaches, I choose not to define the Composite Pattern classically, where it’s defined as one particular mechanism (a superclass) for creating or enforcing symmetry. Instead, I define it simply as the creation of symmetry — by whatever means — among the objects involved in concentric object hierarchies."
   ]
  },
  {
   "cell_type": "code",
   "execution_count": null,
   "metadata": {},
   "outputs": [],
   "source": []
  }
 ],
 "metadata": {
  "kernelspec": {
   "display_name": "Python 3 (ipykernel)",
   "language": "python",
   "name": "python3"
  },
  "language_info": {
   "codemirror_mode": {
    "name": "ipython",
    "version": 3
   },
   "file_extension": ".py",
   "mimetype": "text/x-python",
   "name": "python",
   "nbconvert_exporter": "python",
   "pygments_lexer": "ipython3",
   "version": "3.9.4"
  },
  "toc": {
   "base_numbering": 1,
   "nav_menu": {},
   "number_sections": true,
   "sideBar": true,
   "skip_h1_title": false,
   "title_cell": "Table of Contents",
   "title_sidebar": "Contents",
   "toc_cell": false,
   "toc_position": {},
   "toc_section_display": true,
   "toc_window_display": true
  }
 },
 "nbformat": 4,
 "nbformat_minor": 1
}
