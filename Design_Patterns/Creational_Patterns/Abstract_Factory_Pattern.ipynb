{
 "cells": [
  {
   "cell_type": "code",
   "execution_count": null,
   "outputs": [],
   "source": [
    "%%html\n",
    "<style>\n",
    "    pre.cd {\n",
    "            border: 1px dashed #93A1A1;\n",
    "            padding: 0.5em 0.8em;\n",
    "            background: #FCF6E3;\n",
    "    }\n",
    "    .highlight{\n",
    "        backgound: #FCF6E3 ;\n",
    "    }\n",
    "    .hll { background-color: #ffffcc }\n",
    "    .c { color: #93a1a1; font-style: italic } /* Comment */\n",
    "    .err { color: #dc322f } /* Error */\n",
    "    .g { color: #657b83 } /* Generic */\n",
    "    .k { color: #859900 } /* Keyword */\n",
    "    .l { color: #657b83 } /* Literal */\n",
    "    .n { color: #586e75 } /* Name */\n",
    "    .o { color: #657b83 } /* Operator */\n",
    "    .x { color: #657b83 } /* Other */\n",
    "    .p { color: #657b83 } /* Punctuation */\n",
    "    .cm { color: #93a1a1; font-style: italic } /* Comment.Multiline */\n",
    "    .cp { color: #93a1a1; font-style: italic } /* Comment.Preproc */\n",
    "    .c1 { color: #93a1a1; font-style: italic } /* Comment.Single */\n",
    "    .cs { color: #93a1a1; font-style: italic } /* Comment.Special */\n",
    "    .gd { color: #657b83 } /* Generic.Deleted */\n",
    "    .ge { color: #657b83 } /* Generic.Emph */\n",
    "    .gr { color: #657b83 } /* Generic.Error */\n",
    "    .gh { color: #657b83 } /* Generic.Heading */\n",
    "    .gi { color: #657b83 } /* Generic.Inserted */\n",
    "    .go { color: #000000 } /* Generic.Output (customized) */\n",
    "    .gp { color: #cb4b16 } /* Generic.Prompt (customized) */\n",
    "    .gs { color: #657b83 } /* Generic.Strong */\n",
    "    .gu { color: #657b83 } /* Generic.Subheading */\n",
    "    .gt { color: #657b83 } /* Generic.Traceback */\n",
    "    .kc { color: #859900 } /* Keyword.Constant */\n",
    "    .kd { color: #859900 } /* Keyword.Declaration */\n",
    "    .kn { color: #cb4b16 } /* Keyword.Namespace */\n",
    "    .kp { color: #cb4b16 } /* Keyword.Pseudo */\n",
    "    .kr { color: #859900 } /* Keyword.Reserved */\n",
    "    .kt { color: #859900 } /* Keyword.Type */\n",
    "    .ld { color: #657b83 } /* Literal.Date */\n",
    "    .m { color: #2aa198 } /* Literal.Number */\n",
    "    .s { color: #2aa198 } /* Literal.String */\n",
    "    .na { color: #657b83 } /* Name.Attribute */\n",
    "    .nb { color: #268bd2 } /* Name.Builtin */\n",
    "    .nc { color: #268bd2 } /* Name.Class */\n",
    "    .no { color: #b58900 } /* Name.Constant */\n",
    "    .nd { color: #cb4b16 } /* Name.Decorator */\n",
    "    .ni { color: #cb4b16 } /* Name.Entity */\n",
    "    .ne { color: #cb4b16 } /* Name.Exception */\n",
    "    .nf { color: #268bd2 } /* Name.Function */\n",
    "    .nl { color: #657b83 } /* Name.Label */\n",
    "    .nn { color: #b58900 } /* Name.Namespace */\n",
    "    .nx { color: #657b83 } /* Name.Other */\n",
    "    .py { color: #268bd2 } /* Name.Property */\n",
    "    .nt { color: #859900 } /* Name.Tag */\n",
    "    .nv { color: #cd4b16 } /* Name.Variable */\n",
    "    .ow { color: #859900 } /* Operator.Word */\n",
    "    .w { color: #fdf6e3 } /* Text.Whitespace */\n",
    "    .mf { color: #2aa198 } /* Literal.Number.Float */\n",
    "    .mh { color: #2aa198 } /* Literal.Number.Hex */\n",
    "    .mi { color: #2aa198 } /* Literal.Number.Integer */\n",
    "    .mo { color: #2aa198 } /* Literal.Number.Oct */\n",
    "    .sb { color: #2aa198 } /* Literal.String.Backtick */\n",
    "    .sc { color: #2aa198 } /* Literal.String.Char */\n",
    "    .sd { color: #2aa198 } /* Literal.String.Doc */\n",
    "    .s2 { color: #2aa198 } /* Literal.String.Double */\n",
    "    .se { color: #cb4b16 } /* Literal.String.Escape */\n",
    "    .sh { color: #2aa198 } /* Literal.String.Heredoc */\n",
    "    .si { color: #cb4b16 } /* Literal.String.Interpol */\n",
    "    .sx { color: #2aa198 } /* Literal.String.Other */\n",
    "    .sr { color: #2aa198 } /* Literal.String.Regex */\n",
    "    .s1 { color: #2aa198 } /* Literal.String.Single */\n",
    "    .ss { color: #2aa198 } /* Literal.String.Symbol */\n",
    "    .bp { color: #268bd2; font-weight: bold } /* Name.Builtin.Pseudo */\n",
    "    .vc { color: #268bd2 } /* Name.Variable.Class */\n",
    "    .vg { color: #268bd2 } /* Name.Variable.Global */\n",
    "    .vi { color: #268bd2 } /* Name.Variable.Instance */\n",
    "    .il { color: #2aa198 } /* Literal.Number.Integer.Long */\n",
    "    div.verdict-div{\n",
    "        background: #EEEEEE; \n",
    "        padding: 30px\n",
    "    }\n",
    "    p.verdict-title{\n",
    "        text-align: center;\n",
    "        font-weight: bold;\n",
    "    }\n",
    "</style>"
   ],
   "metadata": {
    "collapsed": false,
    "pycharm": {
     "name": "#%%\n"
    }
   }
  },
  {
   "cell_type": "code",
   "execution_count": null,
   "outputs": [],
   "source": [
    "<div class=\"verdict-div\"><p class=\"verdict-title\">Verdict</p>\n",
    "\n",
    "The Abstract Factory is an awkward workaround for the lack of first-class functions and classes in less powerful programming languages. It is a poor fit for Python, where we can instead simply pass a class or a factory function when a library needs to create objects on our behalf.</div>"
   ],
   "metadata": {
    "collapsed": false,
    "pycharm": {
     "name": "#%%\n"
    }
   }
  },
  {
   "cell_type": "markdown",
   "source": [
    "# The Abstract Factory Pattern\n",
    "\n",
    "The Python Standard Library’s `json` module is a good example of a library that needs to instantiate objects on behalf of its caller. Consider a JSON string like this one:"
   ],
   "metadata": {
    "collapsed": false,
    "pycharm": {
     "name": "#%% md\n"
    }
   }
  },
  {
   "cell_type": "markdown",
   "source": [
    "<pre class=\"cd\"><span></span><span class=\"n\">text</span> <span class=\"o\">=</span> <span class=\"s1\">'{\"total\": 9.61, \"items\": [\"Americano\", \"Omelet\"]}'</span>\n",
    "</pre>"
   ],
   "metadata": {
    "collapsed": false,
    "pycharm": {
     "name": "#%% md\n"
    }
   }
  },
  {
   "cell_type": "markdown",
   "source": [
    "By default, the `json` module’s `loads()` function will create `unicode` objects for the strings `\"Americano\"` and `\"Omelet\"`, a `list` to hold them, a Python `float` for `9.61`, and a `dict` with `unicode` keys for the top-level JSON object.\n",
    "\n",
    "But some users will not be content with these defaults. For example, an accountant would probably be unhappy with the choice of a `float` to represent an exact amount like “9 dollars 61 cents” and would prefer an exact `Decimal` instead.\n",
    "\n",
    "The need to control what kind of numeric object the `json` module creates is a specific instance of a general problem:\n",
    "\n",
    "+ In the course of performing its duties, a routine is going to need to create a number of objects on behalf of the caller.\n",
    "\n",
    "\n",
    "+ But the class that the routine would instantiate by default does not cover all possible cases.\n",
    "\n",
    "\n",
    "+ So instead of hard-coding that default class and making customization impossible, the routine wants to let the caller specify which classes it will instantiate.\n",
    "\n",
    "\n",
    "First, we’ll look at the Pythonic approach to this problem. Then we’ll start placing a series of restrictions on our Python code to more closely model legacy object oriented languages, until the Abstract Factory pattern emerges as the best solution within those limitations."
   ],
   "metadata": {
    "collapsed": false,
    "pycharm": {
     "name": "#%% md\n"
    }
   }
  },
  {
   "cell_type": "markdown",
   "source": [
    "## The Pythonic approach: callable factories\n",
    "In Python, a “callable” — any object `f` that executes code when invoked using the syntax `f(a, b, c)` — is a first-class object. To be “first class” means that a callable can be passed as a parameter, returned as a return value, and can even be stored in a data structure like a list or dictionary.\n",
    "\n",
    "First-class callables offer a powerful mechanism for implementing object “factories”, a fancy term for “routines that build and return new objects.”\n",
    "\n",
    "A beginning Python programmer might expect that each time they need to supply a factory, they will be responsible for writing a function:"
   ],
   "metadata": {
    "collapsed": false,
    "pycharm": {
     "name": "#%% md\n"
    }
   }
  },
  {
   "cell_type": "markdown",
   "source": [
    "<pre class=\"cd\"><span></span><span class=\"kn\">import</span> <span class=\"nn\">json</span>\n",
    "<span class=\"kn\">from</span> <span class=\"nn\">decimal</span> <span class=\"kn\">import</span> <span class=\"n\">Decimal</span>\n",
    "\n",
    "<span class=\"k\">def</span> <span class=\"nf\">build_decimal</span><span class=\"p\">(</span><span class=\"n\">string</span><span class=\"p\">):</span>\n",
    "    <span class=\"k\">return</span> <span class=\"n\">Decimal</span><span class=\"p\">(</span><span class=\"n\">string</span><span class=\"p\">)</span>\n",
    "\n",
    "<span class=\"nb\">print</span><span class=\"p\">(</span><span class=\"n\">json</span><span class=\"o\">.</span><span class=\"n\">loads</span><span class=\"p\">(</span><span class=\"n\">text</span><span class=\"p\">,</span> <span class=\"n\">parse_float</span><span class=\"o\">=</span><span class=\"n\">build_decimal</span><span class=\"p\">))</span>\n",
    "</pre>"
   ],
   "metadata": {
    "collapsed": false,
    "pycharm": {
     "name": "#%% md\n"
    }
   }
  },
  {
   "cell_type": "markdown",
   "source": [
    "<pre class=\"cd\"><span></span>{'total': Decimal('9.61'), 'items': ['Americano', 'Omelet']}\n",
    "</pre>"
   ],
   "metadata": {
    "collapsed": false,
    "pycharm": {
     "name": "#%% md\n"
    }
   }
  },
  {
   "cell_type": "markdown",
   "source": [
    "This simple factory ran successfully! The number returned is a decimal instead of a float.\n",
    "\n",
    "(Note my choice of a verb `build_decimal()` as the name of this function, instead of a noun like `decimal_factory()` — I find a function name easier to read when it tells me what the function does instead of telling me what kind of function it is.)\n",
    "\n",
    "While the above function will certainly work, there is an elision we can perform thanks to the fact that Python types are themselves callables. Because `Decimal` is a callable taking a string argument and returning a decimal object instance, we can dispense with our own factory and pass the `Decimal` type directly to the JSON loader! Unless we need to edit the string first, like by removing a leading currency symbol, `Decimal` can completely replace our little factory:"
   ],
   "metadata": {
    "collapsed": false,
    "pycharm": {
     "name": "#%% md\n"
    }
   }
  },
  {
   "cell_type": "markdown",
   "source": [
    "<pre class=\"cd\"><span></span><span class=\"nb\">print</span><span class=\"p\">(</span><span class=\"n\">json</span><span class=\"o\">.</span><span class=\"n\">loads</span><span class=\"p\">(</span><span class=\"n\">text</span><span class=\"p\">,</span> <span class=\"n\">parse_float</span><span class=\"o\">=</span><span class=\"n\">Decimal</span><span class=\"p\">))</span>\n",
    "</pre>"
   ],
   "metadata": {
    "collapsed": false,
    "pycharm": {
     "name": "#%% md\n"
    }
   }
  },
  {
   "cell_type": "markdown",
   "source": [
    "<pre class=\"cd\"><span></span>{'total': Decimal('9.61'), 'items': ['Americano', 'Omelet']}\n",
    "</pre>"
   ],
   "metadata": {
    "collapsed": false,
    "pycharm": {
     "name": "#%% md\n"
    }
   }
  },
  {
   "cell_type": "markdown",
   "source": [
    "There is one implementation detail that deserves mention. If you study the `json` module you will discover that `load()` is simply a wrapper around the `JSONDecoder` class. How does the decoder instance itself support an alternative factory? Its initialization method stores the `parse_float` argument as an instance attribute, defaulting to Python’s built-in `float` type if no override was specified:"
   ],
   "metadata": {
    "collapsed": false,
    "pycharm": {
     "name": "#%% md\n"
    }
   }
  },
  {
   "cell_type": "markdown",
   "source": [
    "<pre class=\"cd\"><span></span><span class=\"bp\">self</span><span class=\"o\">.</span><span class=\"n\">parse_float</span> <span class=\"o\">=</span> <span class=\"n\">parse_float</span> <span class=\"ow\">or</span> <span class=\"nb\">float</span>\n",
    "</pre>"
   ],
   "metadata": {
    "collapsed": false,
    "pycharm": {
     "name": "#%% md\n"
    }
   }
  },
  {
   "cell_type": "markdown",
   "source": [
    "It can then invoke it later as `self.parse_float(…)`.\n",
    "\n",
    "If you are interested in variations on this pattern — where a class uses its instance attributes to remember how it’s supposed to create a specific kind of object — then try reading about the Factory Method which explores several variations on this maneuver.\n",
    "\n",
    "But to arrive at the Abstract Factory pattern, we need to head in a different direction. Here we’ll pursue what happens to an object factory itself — whether `Decimal()` or our hand-written `build_decimal()` — if we begin restricting the set of Python features we let ourselves use."
   ],
   "metadata": {
    "collapsed": false,
    "pycharm": {
     "name": "#%% md\n"
    }
   }
  },
  {
   "cell_type": "markdown",
   "source": [
    "## Restriction: outlaw passing callables\n",
    "What if Python didn’t let you pass callables as parameters?\n",
    "\n",
    "That restriction would remove an entire dimension from Python’s flexibility. Instead of supporting both “nouns” and “verbs” as arguments — both class instances and callable functions — some legacy languages only support passing class instances. Under that restriction, every simple factory would need to pivot from a function to a method:"
   ],
   "metadata": {
    "collapsed": false,
    "pycharm": {
     "name": "#%% md\n"
    }
   }
  },
  {
   "cell_type": "markdown",
   "source": [
    "<pre class=\"cd\"><span></span><span class=\"c1\"># In Python: a factory function.</span>\n",
    "\n",
    "<span class=\"k\">def</span> <span class=\"nf\">build_decimal</span><span class=\"p\">(</span><span class=\"n\">string</span><span class=\"p\">):</span>\n",
    "    <span class=\"k\">return</span> <span class=\"n\">Decimal</span><span class=\"p\">(</span><span class=\"n\">string</span><span class=\"o\">.</span><span class=\"n\">lstrip</span><span class=\"p\">(</span><span class=\"s1\">'$'</span><span class=\"p\">))</span>\n",
    "\n",
    "<span class=\"c1\"># In some legacy languages: the code must</span>\n",
    "<span class=\"c1\"># move inside a class method instead.</span>\n",
    "\n",
    "<span class=\"k\">class</span> <span class=\"nc\">DecimalFactory</span><span class=\"p\">(</span><span class=\"nb\">object</span><span class=\"p\">):</span>\n",
    "    <span class=\"nd\">@staticmethod</span>\n",
    "    <span class=\"k\">def</span> <span class=\"nf\">build</span><span class=\"p\">(</span><span class=\"n\">string</span><span class=\"p\">):</span>\n",
    "        <span class=\"k\">return</span> <span class=\"n\">Decimal</span><span class=\"p\">(</span><span class=\"n\">string</span><span class=\"o\">.</span><span class=\"n\">lstrip</span><span class=\"p\">(</span><span class=\"s1\">'$'</span><span class=\"p\">))</span>\n",
    "</pre>"
   ],
   "metadata": {
    "collapsed": false,
    "pycharm": {
     "name": "#%% md\n"
    }
   }
  },
  {
   "cell_type": "markdown",
   "source": [
    "In traditional Object Oriented programming, the word “factory” is the name of this kind of class — a class that offers a method that builds an object. In naming the equivalent Python function `build_decimal()`, therefore, I’m not only indulging in my own preference for giving functions verb-names rather than noun-names, but being as precise as possible in naming: the “factory” is not the callable, but the class that holds it.\n",
    "\n",
    "Instead of continuing our earlier example of JSON parsing, let’s switch to a simpler task that can fit in a couple of lines of code: parsing a comma-separated list of numbers. Here’s how the parser would invoke the builder method on our factory class."
   ],
   "metadata": {
    "collapsed": false,
    "pycharm": {
     "name": "#%% md\n"
    }
   }
  },
  {
   "cell_type": "markdown",
   "source": [
    "<pre class=\"cd\"><span></span><span class=\"k\">class</span> <span class=\"nc\">Loader</span><span class=\"p\">(</span><span class=\"nb\">object</span><span class=\"p\">):</span>\n",
    "    <span class=\"nd\">@staticmethod</span>\n",
    "    <span class=\"k\">def</span> <span class=\"nf\">load</span><span class=\"p\">(</span><span class=\"n\">string</span><span class=\"p\">,</span> <span class=\"n\">factory</span><span class=\"p\">):</span>\n",
    "        <span class=\"n\">string</span> <span class=\"o\">=</span> <span class=\"n\">string</span><span class=\"o\">.</span><span class=\"n\">rstrip</span><span class=\"p\">(</span><span class=\"s1\">','</span><span class=\"p\">)</span>  <span class=\"c1\"># allow trailing comma</span>\n",
    "        <span class=\"k\">return</span> <span class=\"p\">[</span><span class=\"n\">factory</span><span class=\"o\">.</span><span class=\"n\">build</span><span class=\"p\">(</span><span class=\"n\">item</span><span class=\"p\">)</span> <span class=\"k\">for</span> <span class=\"n\">item</span> <span class=\"ow\">in</span> <span class=\"n\">string</span><span class=\"o\">.</span><span class=\"n\">split</span><span class=\"p\">(</span><span class=\"s1\">','</span><span class=\"p\">)]</span>\n",
    "\n",
    "<span class=\"n\">result</span> <span class=\"o\">=</span> <span class=\"n\">Loader</span><span class=\"o\">.</span><span class=\"n\">load</span><span class=\"p\">(</span><span class=\"s1\">'464.80, 993.68'</span><span class=\"p\">,</span> <span class=\"n\">DecimalFactory</span><span class=\"p\">)</span>\n",
    "<span class=\"nb\">print</span><span class=\"p\">(</span><span class=\"n\">result</span><span class=\"p\">)</span>\n",
    "</pre>"
   ],
   "metadata": {
    "collapsed": false,
    "pycharm": {
     "name": "#%% md\n"
    }
   }
  },
  {
   "cell_type": "markdown",
   "source": [
    "<pre class=\"cd\"><span></span>[Decimal('464.80'), Decimal('993.68')]\n",
    "</pre>"
   ],
   "metadata": {
    "collapsed": false,
    "pycharm": {
     "name": "#%% md\n"
    }
   }
  },
  {
   "cell_type": "markdown",
   "source": [
    "Note that, thanks to the fact that Python classes offer static and class methods that can be invoked without an instance, we have not yet been reduced to needing to instantiate the factory class — we are simply passing the Python class in as a first-class object."
   ],
   "metadata": {
    "collapsed": false,
    "pycharm": {
     "name": "#%% md\n"
    }
   }
  },
  {
   "cell_type": "markdown",
   "source": [
    "## Restriction: outlaw passing classes\n",
    "Next, let’s also pretend that a Python class cannot be passed as a value, but that only object instances can be assigned to names and passed as parameters.\n",
    "\n",
    "This restriction is going to prevent us from passing the `DecimalFactory` class as an argument to the `load()` method. Instead, we’re going to have to uselessly instantiate `DecimalFactory` and pass the resulting object:"
   ],
   "metadata": {
    "collapsed": false,
    "pycharm": {
     "name": "#%% md\n"
    }
   }
  },
  {
   "cell_type": "markdown",
   "source": [
    "<pre class=\"cd\"><span></span><span class=\"n\">f</span> <span class=\"o\">=</span> <span class=\"n\">DecimalFactory</span><span class=\"p\">()</span>\n",
    "\n",
    "<span class=\"n\">result</span> <span class=\"o\">=</span> <span class=\"n\">Loader</span><span class=\"o\">.</span><span class=\"n\">load</span><span class=\"p\">(</span><span class=\"s1\">'464.80, 993.68'</span><span class=\"p\">,</span> <span class=\"n\">f</span><span class=\"p\">)</span>\n",
    "<span class=\"nb\">print</span><span class=\"p\">(</span><span class=\"n\">result</span><span class=\"p\">)</span>\n",
    "</pre>"
   ],
   "metadata": {
    "collapsed": false,
    "pycharm": {
     "name": "#%% md\n"
    }
   }
  },
  {
   "cell_type": "markdown",
   "source": [
    "<pre cass=\"cd\"><span></span>[Decimal('464.80'), Decimal('993.68')]\n",
    "</pre>"
   ],
   "metadata": {
    "collapsed": false,
    "pycharm": {
     "name": "#%% md\n"
    }
   }
  },
  {
   "cell_type": "markdown",
   "source": [
    "Note the difference between this pattern and the Factory Method. Here, we are neither asked nor required to subclass `Loader` itself in order to customize the objects it creates. Instead, object creation is entirely parametrized by the separate factory object we choose to pass in.\n",
    "\n",
    "Note also the clear warning sign in the factory’s own code that `build()` should, in Python, not really be the method of an object. Scroll back up and read the method’s code. Where does it accept as an argument, or use in its result, the object `self` on which it is being invoked? It makes no use of it at all! The method never mentions `self` in its code. As Jack Diederich propounded in his famous talk Stop Writing Classes, a method that never uses `self` should not actually be a method in Python. But such are the depths to which we’ve been driven by these artificial restrictions."
   ],
   "metadata": {
    "collapsed": false,
    "pycharm": {
     "name": "#%% md\n"
    }
   }
  },
  {
   "cell_type": "markdown",
   "source": [
    "## Generalizing: the complete Abstract Factory\n",
    "Two final moves will illustrate the full design pattern.\n",
    "\n",
    "First, let’s expand our factory to create every kind of object that the loader needs to create — in this case, not just the numbers that are being parsed, but even the container that will hold them. Now that we have switched to instantiating the factory, we can write these as plain methods instead of static methods:"
   ],
   "metadata": {
    "collapsed": false,
    "pycharm": {
     "name": "#%% md\n"
    }
   }
  },
  {
   "cell_type": "markdown",
   "source": [
    "<pre class=\"cd\"><span></span><span class=\"k\">class</span> <span class=\"nc\">Factory</span><span class=\"p\">(</span><span class=\"nb\">object</span><span class=\"p\">):</span>\n",
    "    <span class=\"k\">def</span> <span class=\"nf\">build_sequence</span><span class=\"p\">(</span><span class=\"bp\">self</span><span class=\"p\">):</span>\n",
    "        <span class=\"k\">return</span> <span class=\"p\">[]</span>\n",
    "\n",
    "    <span class=\"k\">def</span> <span class=\"nf\">build_number</span><span class=\"p\">(</span><span class=\"bp\">self</span><span class=\"p\">,</span> <span class=\"n\">string</span><span class=\"p\">):</span>\n",
    "        <span class=\"k\">return</span> <span class=\"n\">Decimal</span><span class=\"p\">(</span><span class=\"n\">string</span><span class=\"p\">)</span>\n",
    "</pre>"
   ],
   "metadata": {
    "collapsed": false,
    "pycharm": {
     "name": "#%% md\n"
    }
   }
  },
  {
   "cell_type": "markdown",
   "source": [
    "And here is an updated loader that uses this factory:"
   ],
   "metadata": {
    "collapsed": false,
    "pycharm": {
     "name": "#%% md\n"
    }
   }
  },
  {
   "cell_type": "markdown",
   "source": [
    "<pre class=\"cd\"><span></span><span class=\"k\">class</span> <span class=\"nc\">Loader</span><span class=\"p\">(</span><span class=\"nb\">object</span><span class=\"p\">):</span>\n",
    "    <span class=\"k\">def</span> <span class=\"nf\">load</span><span class=\"p\">(</span><span class=\"n\">string</span><span class=\"p\">,</span> <span class=\"n\">factory</span><span class=\"p\">):</span>\n",
    "        <span class=\"n\">sequence</span> <span class=\"o\">=</span> <span class=\"n\">factory</span><span class=\"o\">.</span><span class=\"n\">build_sequence</span><span class=\"p\">()</span>\n",
    "        <span class=\"k\">for</span> <span class=\"n\">substring</span> <span class=\"ow\">in</span> <span class=\"n\">string</span><span class=\"o\">.</span><span class=\"n\">split</span><span class=\"p\">(</span><span class=\"s1\">','</span><span class=\"p\">):</span>\n",
    "            <span class=\"n\">item</span> <span class=\"o\">=</span> <span class=\"n\">factory</span><span class=\"o\">.</span><span class=\"n\">build_number</span><span class=\"p\">(</span><span class=\"n\">substring</span><span class=\"p\">)</span>\n",
    "            <span class=\"n\">sequence</span><span class=\"o\">.</span><span class=\"n\">append</span><span class=\"p\">(</span><span class=\"n\">item</span><span class=\"p\">)</span>\n",
    "        <span class=\"k\">return</span> <span class=\"n\">sequence</span>\n",
    "\n",
    "<span class=\"n\">f</span> <span class=\"o\">=</span> <span class=\"n\">Factory</span><span class=\"p\">()</span>\n",
    "<span class=\"n\">result</span> <span class=\"o\">=</span> <span class=\"n\">Loader</span><span class=\"o\">.</span><span class=\"n\">load</span><span class=\"p\">(</span><span class=\"s1\">'1.23, 4.56'</span><span class=\"p\">,</span> <span class=\"n\">f</span><span class=\"p\">)</span>\n",
    "<span class=\"nb\">print</span><span class=\"p\">(</span><span class=\"n\">result</span><span class=\"p\">)</span>\n",
    "</pre>"
   ],
   "metadata": {
    "collapsed": false,
    "pycharm": {
     "name": "#%% md\n"
    }
   }
  },
  {
   "cell_type": "markdown",
   "source": [
    "<pre class=\"cd\"><span></span>[Decimal('1.23'), Decimal('4.56')]\n",
    "</pre>"
   ],
   "metadata": {
    "collapsed": false,
    "pycharm": {
     "name": "#%% md\n"
    }
   }
  },
  {
   "cell_type": "markdown",
   "source": [
    "Every choice it needs to make about object instantiation is deferred to the factory instead of taking place in the parser itself.\n",
    "\n",
    "Second, consider the behavior of languages that force you to declare ahead of time the type of each method parameter. You would overly restrict your future choices if your code insisted that the `factory` parameter could only ever be an instance of this particular class `Factory` because then you could never pass in anything that didn’t inherit from it.\n",
    "\n",
    "Instead, to more happily separate specification from implementation, you would create an abstract class. It’s this final step that merits the word “abstract” in the pattern’s name “Abstract Factory”. Your abstract class would merely promise that the `factory` argument to `load()` would be a class adhering to the required interface:"
   ],
   "metadata": {
    "collapsed": false,
    "pycharm": {
     "name": "#%% md\n"
    }
   }
  },
  {
   "cell_type": "markdown",
   "source": [
    "<pre class=\"cd\"><span></span><span class=\"kn\">from</span> <span class=\"nn\">abc</span> <span class=\"kn\">import</span> <span class=\"n\">ABCMeta</span><span class=\"p\">,</span> <span class=\"n\">abstractmethod</span>\n",
    "\n",
    "<span class=\"k\">class</span> <span class=\"nc\">AbstractFactory</span><span class=\"p\">(</span><span class=\"n\">metaclass</span><span class=\"o\">=</span><span class=\"n\">ABCMeta</span><span class=\"p\">):</span>\n",
    "\n",
    "    <span class=\"nd\">@abstractmethod</span>\n",
    "    <span class=\"k\">def</span> <span class=\"nf\">build_sequence</span><span class=\"p\">(</span><span class=\"bp\">self</span><span class=\"p\">):</span>\n",
    "        <span class=\"k\">pass</span>\n",
    "\n",
    "    <span class=\"nd\">@abstractmethod</span>\n",
    "    <span class=\"k\">def</span> <span class=\"nf\">build_number</span><span class=\"p\">(</span><span class=\"bp\">self</span><span class=\"p\">,</span> <span class=\"n\">string</span><span class=\"p\">):</span>\n",
    "        <span class=\"k\">pass</span>\n",
    "</pre>"
   ],
   "metadata": {
    "collapsed": false,
    "pycharm": {
     "name": "#%% md\n"
    }
   }
  },
  {
   "cell_type": "markdown",
   "source": [
    "Once the abstract class is in place and `Factory` inherits from it, though, the operations that take place at runtime are exactly the same as they were before. The factory’s methods are called with various arguments, which direct them to create various kinds of object, which they construct and return without the caller needing to know the details.\n",
    "\n",
    "It’s like something you might do in Python, but made overly complicated. So avoid the Abstract Factory and use callables as factories instead."
   ],
   "metadata": {
    "collapsed": false,
    "pycharm": {
     "name": "#%% md\n"
    }
   }
  },
  {
   "cell_type": "markdown",
   "metadata": {
    "pycharm": {
     "name": "#%%\n"
    }
   },
   "source": [
    "<div class=\"verdict-div\"><p class=\"verdict-title\">Verdict</p>\n",
    "\n",
    "The Abstract Factory is an awkward workaround for the lack of first-class functions and classes in less powerful programming languages. It is a poor fit for Python, where we can instead simply pass a class or a factory function when a library needs to create objects on our behalf.</div>"
   ]
  },
  {
   "cell_type": "markdown",
   "metadata": {},
   "source": [
    "# The Abstract Factory Pattern\n",
    "\n",
    "The Python Standard Library’s `json` module is a good example of a library that needs to instantiate objects on behalf of its caller. Consider a JSON string like this one:"
   ]
  },
  {
   "cell_type": "markdown",
   "metadata": {},
   "source": [
    "<pre class=\"cd\"><span></span><span class=\"n\">text</span> <span class=\"o\">=</span> <span class=\"s1\">'{\"total\": 9.61, \"items\": [\"Americano\", \"Omelet\"]}'</span>\n",
    "</pre>"
   ]
  },
  {
   "cell_type": "markdown",
   "metadata": {},
   "source": [
    "By default, the `json` module’s `loads()` function will create `unicode` objects for the strings `\"Americano\"` and `\"Omelet\"`, a `list` to hold them, a Python `float` for `9.61`, and a `dict` with `unicode` keys for the top-level JSON object.\n",
    "\n",
    "But some users will not be content with these defaults. For example, an accountant would probably be unhappy with the choice of a `float` to represent an exact amount like “9 dollars 61 cents” and would prefer an exact `Decimal` instead.\n",
    "\n",
    "The need to control what kind of numeric object the `json` module creates is a specific instance of a general problem:\n",
    "\n",
    "+ In the course of performing its duties, a routine is going to need to create a number of objects on behalf of the caller.\n",
    "\n",
    "\n",
    "+ But the class that the routine would instantiate by default does not cover all possible cases.\n",
    "\n",
    "\n",
    "+ So instead of hard-coding that default class and making customization impossible, the routine wants to let the caller specify which classes it will instantiate.\n",
    "\n",
    "\n",
    "First, we’ll look at the Pythonic approach to this problem. Then we’ll start placing a series of restrictions on our Python code to more closely model legacy object oriented languages, until the Abstract Factory pattern emerges as the best solution within those limitations."
   ]
  },
  {
   "cell_type": "markdown",
   "metadata": {},
   "source": [
    "## The Pythonic approach: callable factories\n",
    "In Python, a “callable” — any object `f` that executes code when invoked using the syntax `f(a, b, c)` — is a first-class object. To be “first class” means that a callable can be passed as a parameter, returned as a return value, and can even be stored in a data structure like a list or dictionary.\n",
    "\n",
    "First-class callables offer a powerful mechanism for implementing object “factories”, a fancy term for “routines that build and return new objects.”\n",
    "\n",
    "A beginning Python programmer might expect that each time they need to supply a factory, they will be responsible for writing a function:"
   ]
  },
  {
   "cell_type": "markdown",
   "metadata": {},
   "source": [
    "<pre class=\"cd\"><span></span><span class=\"kn\">import</span> <span class=\"nn\">json</span>\n",
    "<span class=\"kn\">from</span> <span class=\"nn\">decimal</span> <span class=\"kn\">import</span> <span class=\"n\">Decimal</span>\n",
    "\n",
    "<span class=\"k\">def</span> <span class=\"nf\">build_decimal</span><span class=\"p\">(</span><span class=\"n\">string</span><span class=\"p\">):</span>\n",
    "    <span class=\"k\">return</span> <span class=\"n\">Decimal</span><span class=\"p\">(</span><span class=\"n\">string</span><span class=\"p\">)</span>\n",
    "\n",
    "<span class=\"nb\">print</span><span class=\"p\">(</span><span class=\"n\">json</span><span class=\"o\">.</span><span class=\"n\">loads</span><span class=\"p\">(</span><span class=\"n\">text</span><span class=\"p\">,</span> <span class=\"n\">parse_float</span><span class=\"o\">=</span><span class=\"n\">build_decimal</span><span class=\"p\">))</span>\n",
    "</pre>"
   ]
  },
  {
   "cell_type": "markdown",
   "metadata": {},
   "source": [
    "<pre class=\"cd\"><span></span>{'total': Decimal('9.61'), 'items': ['Americano', 'Omelet']}\n",
    "</pre>"
   ]
  },
  {
   "cell_type": "markdown",
   "metadata": {},
   "source": [
    "This simple factory ran successfully! The number returned is a decimal instead of a float.\n",
    "\n",
    "(Note my choice of a verb `build_decimal()` as the name of this function, instead of a noun like `decimal_factory()` — I find a function name easier to read when it tells me what the function does instead of telling me what kind of function it is.)\n",
    "\n",
    "While the above function will certainly work, there is an elision we can perform thanks to the fact that Python types are themselves callables. Because `Decimal` is a callable taking a string argument and returning a decimal object instance, we can dispense with our own factory and pass the `Decimal` type directly to the JSON loader! Unless we need to edit the string first, like by removing a leading currency symbol, `Decimal` can completely replace our little factory:"
   ]
  },
  {
   "cell_type": "markdown",
   "metadata": {},
   "source": [
    "<pre class=\"cd\"><span></span><span class=\"nb\">print</span><span class=\"p\">(</span><span class=\"n\">json</span><span class=\"o\">.</span><span class=\"n\">loads</span><span class=\"p\">(</span><span class=\"n\">text</span><span class=\"p\">,</span> <span class=\"n\">parse_float</span><span class=\"o\">=</span><span class=\"n\">Decimal</span><span class=\"p\">))</span>\n",
    "</pre>"
   ]
  },
  {
   "cell_type": "markdown",
   "metadata": {},
   "source": [
    "<pre class=\"cd\"><span></span>{'total': Decimal('9.61'), 'items': ['Americano', 'Omelet']}\n",
    "</pre>"
   ]
  },
  {
   "cell_type": "markdown",
   "metadata": {},
   "source": [
    "There is one implementation detail that deserves mention. If you study the `json` module you will discover that `load()` is simply a wrapper around the `JSONDecoder` class. How does the decoder instance itself support an alternative factory? Its initialization method stores the `parse_float` argument as an instance attribute, defaulting to Python’s built-in `float` type if no override was specified:"
   ]
  },
  {
   "cell_type": "markdown",
   "metadata": {},
   "source": [
    "<pre class=\"cd\"><span></span><span class=\"bp\">self</span><span class=\"o\">.</span><span class=\"n\">parse_float</span> <span class=\"o\">=</span> <span class=\"n\">parse_float</span> <span class=\"ow\">or</span> <span class=\"nb\">float</span>\n",
    "</pre>"
   ]
  },
  {
   "cell_type": "markdown",
   "metadata": {},
   "source": [
    "It can then invoke it later as `self.parse_float(…)`.\n",
    "\n",
    "If you are interested in variations on this pattern — where a class uses its instance attributes to remember how it’s supposed to create a specific kind of object — then try reading about the Factory Method which explores several variations on this maneuver.\n",
    "\n",
    "But to arrive at the Abstract Factory pattern, we need to head in a different direction. Here we’ll pursue what happens to an object factory itself — whether `Decimal()` or our hand-written `build_decimal()` — if we begin restricting the set of Python features we let ourselves use."
   ]
  },
  {
   "cell_type": "markdown",
   "metadata": {},
   "source": [
    "## Restriction: outlaw passing callables\n",
    "What if Python didn’t let you pass callables as parameters?\n",
    "\n",
    "That restriction would remove an entire dimension from Python’s flexibility. Instead of supporting both “nouns” and “verbs” as arguments — both class instances and callable functions — some legacy languages only support passing class instances. Under that restriction, every simple factory would need to pivot from a function to a method:"
   ]
  },
  {
   "cell_type": "markdown",
   "metadata": {},
   "source": [
    "<pre class=\"cd\"><span></span><span class=\"c1\"># In Python: a factory function.</span>\n",
    "\n",
    "<span class=\"k\">def</span> <span class=\"nf\">build_decimal</span><span class=\"p\">(</span><span class=\"n\">string</span><span class=\"p\">):</span>\n",
    "    <span class=\"k\">return</span> <span class=\"n\">Decimal</span><span class=\"p\">(</span><span class=\"n\">string</span><span class=\"o\">.</span><span class=\"n\">lstrip</span><span class=\"p\">(</span><span class=\"s1\">'$'</span><span class=\"p\">))</span>\n",
    "\n",
    "<span class=\"c1\"># In some legacy languages: the code must</span>\n",
    "<span class=\"c1\"># move inside a class method instead.</span>\n",
    "\n",
    "<span class=\"k\">class</span> <span class=\"nc\">DecimalFactory</span><span class=\"p\">(</span><span class=\"nb\">object</span><span class=\"p\">):</span>\n",
    "    <span class=\"nd\">@staticmethod</span>\n",
    "    <span class=\"k\">def</span> <span class=\"nf\">build</span><span class=\"p\">(</span><span class=\"n\">string</span><span class=\"p\">):</span>\n",
    "        <span class=\"k\">return</span> <span class=\"n\">Decimal</span><span class=\"p\">(</span><span class=\"n\">string</span><span class=\"o\">.</span><span class=\"n\">lstrip</span><span class=\"p\">(</span><span class=\"s1\">'$'</span><span class=\"p\">))</span>\n",
    "</pre>"
   ]
  },
  {
   "cell_type": "markdown",
   "metadata": {},
   "source": [
    "In traditional Object Oriented programming, the word “factory” is the name of this kind of class — a class that offers a method that builds an object. In naming the equivalent Python function `build_decimal()`, therefore, I’m not only indulging in my own preference for giving functions verb-names rather than noun-names, but being as precise as possible in naming: the “factory” is not the callable, but the class that holds it.\n",
    "\n",
    "Instead of continuing our earlier example of JSON parsing, let’s switch to a simpler task that can fit in a couple of lines of code: parsing a comma-separated list of numbers. Here’s how the parser would invoke the builder method on our factory class."
   ]
  },
  {
   "cell_type": "markdown",
   "metadata": {},
   "source": [
    "<pre class=\"cd\"><span></span><span class=\"k\">class</span> <span class=\"nc\">Loader</span><span class=\"p\">(</span><span class=\"nb\">object</span><span class=\"p\">):</span>\n",
    "    <span class=\"nd\">@staticmethod</span>\n",
    "    <span class=\"k\">def</span> <span class=\"nf\">load</span><span class=\"p\">(</span><span class=\"n\">string</span><span class=\"p\">,</span> <span class=\"n\">factory</span><span class=\"p\">):</span>\n",
    "        <span class=\"n\">string</span> <span class=\"o\">=</span> <span class=\"n\">string</span><span class=\"o\">.</span><span class=\"n\">rstrip</span><span class=\"p\">(</span><span class=\"s1\">','</span><span class=\"p\">)</span>  <span class=\"c1\"># allow trailing comma</span>\n",
    "        <span class=\"k\">return</span> <span class=\"p\">[</span><span class=\"n\">factory</span><span class=\"o\">.</span><span class=\"n\">build</span><span class=\"p\">(</span><span class=\"n\">item</span><span class=\"p\">)</span> <span class=\"k\">for</span> <span class=\"n\">item</span> <span class=\"ow\">in</span> <span class=\"n\">string</span><span class=\"o\">.</span><span class=\"n\">split</span><span class=\"p\">(</span><span class=\"s1\">','</span><span class=\"p\">)]</span>\n",
    "\n",
    "<span class=\"n\">result</span> <span class=\"o\">=</span> <span class=\"n\">Loader</span><span class=\"o\">.</span><span class=\"n\">load</span><span class=\"p\">(</span><span class=\"s1\">'464.80, 993.68'</span><span class=\"p\">,</span> <span class=\"n\">DecimalFactory</span><span class=\"p\">)</span>\n",
    "<span class=\"nb\">print</span><span class=\"p\">(</span><span class=\"n\">result</span><span class=\"p\">)</span>\n",
    "</pre>"
   ]
  },
  {
   "cell_type": "markdown",
   "metadata": {},
   "source": [
    "<pre class=\"cd\"><span></span>[Decimal('464.80'), Decimal('993.68')]\n",
    "</pre>"
   ]
  },
  {
   "cell_type": "markdown",
   "metadata": {},
   "source": [
    "Note that, thanks to the fact that Python classes offer static and class methods that can be invoked without an instance, we have not yet been reduced to needing to instantiate the factory class — we are simply passing the Python class in as a first-class object."
   ]
  },
  {
   "cell_type": "markdown",
   "metadata": {},
   "source": [
    "## Restriction: outlaw passing classes\n",
    "Next, let’s also pretend that a Python class cannot be passed as a value, but that only object instances can be assigned to names and passed as parameters.\n",
    "\n",
    "This restriction is going to prevent us from passing the `DecimalFactory` class as an argument to the `load()` method. Instead, we’re going to have to uselessly instantiate `DecimalFactory` and pass the resulting object:"
   ]
  },
  {
   "cell_type": "markdown",
   "metadata": {},
   "source": [
    "<pre class=\"cd\"><span></span><span class=\"n\">f</span> <span class=\"o\">=</span> <span class=\"n\">DecimalFactory</span><span class=\"p\">()</span>\n",
    "\n",
    "<span class=\"n\">result</span> <span class=\"o\">=</span> <span class=\"n\">Loader</span><span class=\"o\">.</span><span class=\"n\">load</span><span class=\"p\">(</span><span class=\"s1\">'464.80, 993.68'</span><span class=\"p\">,</span> <span class=\"n\">f</span><span class=\"p\">)</span>\n",
    "<span class=\"nb\">print</span><span class=\"p\">(</span><span class=\"n\">result</span><span class=\"p\">)</span>\n",
    "</pre>"
   ]
  },
  {
   "cell_type": "markdown",
   "metadata": {},
   "source": [
    "<pre cass=\"cd\"><span></span>[Decimal('464.80'), Decimal('993.68')]\n",
    "</pre>"
   ]
  },
  {
   "cell_type": "markdown",
   "metadata": {},
   "source": [
    "Note the difference between this pattern and the Factory Method. Here, we are neither asked nor required to subclass `Loader` itself in order to customize the objects it creates. Instead, object creation is entirely parametrized by the separate factory object we choose to pass in.\n",
    "\n",
    "Note also the clear warning sign in the factory’s own code that `build()` should, in Python, not really be the method of an object. Scroll back up and read the method’s code. Where does it accept as an argument, or use in its result, the object `self` on which it is being invoked? It makes no use of it at all! The method never mentions `self` in its code. As Jack Diederich propounded in his famous talk Stop Writing Classes, a method that never uses `self` should not actually be a method in Python. But such are the depths to which we’ve been driven by these artificial restrictions."
   ]
  },
  {
   "cell_type": "markdown",
   "metadata": {},
   "source": [
    "## Generalizing: the complete Abstract Factory\n",
    "Two final moves will illustrate the full design pattern.\n",
    "\n",
    "First, let’s expand our factory to create every kind of object that the loader needs to create — in this case, not just the numbers that are being parsed, but even the container that will hold them. Now that we have switched to instantiating the factory, we can write these as plain methods instead of static methods:"
   ]
  },
  {
   "cell_type": "markdown",
   "metadata": {},
   "source": [
    "<pre class=\"cd\"><span></span><span class=\"k\">class</span> <span class=\"nc\">Factory</span><span class=\"p\">(</span><span class=\"nb\">object</span><span class=\"p\">):</span>\n",
    "    <span class=\"k\">def</span> <span class=\"nf\">build_sequence</span><span class=\"p\">(</span><span class=\"bp\">self</span><span class=\"p\">):</span>\n",
    "        <span class=\"k\">return</span> <span class=\"p\">[]</span>\n",
    "\n",
    "    <span class=\"k\">def</span> <span class=\"nf\">build_number</span><span class=\"p\">(</span><span class=\"bp\">self</span><span class=\"p\">,</span> <span class=\"n\">string</span><span class=\"p\">):</span>\n",
    "        <span class=\"k\">return</span> <span class=\"n\">Decimal</span><span class=\"p\">(</span><span class=\"n\">string</span><span class=\"p\">)</span>\n",
    "</pre>"
   ]
  },
  {
   "cell_type": "markdown",
   "metadata": {},
   "source": [
    "And here is an updated loader that uses this factory:"
   ]
  },
  {
   "cell_type": "markdown",
   "metadata": {},
   "source": [
    "<pre class=\"cd\"><span></span><span class=\"k\">class</span> <span class=\"nc\">Loader</span><span class=\"p\">(</span><span class=\"nb\">object</span><span class=\"p\">):</span>\n",
    "    <span class=\"k\">def</span> <span class=\"nf\">load</span><span class=\"p\">(</span><span class=\"n\">string</span><span class=\"p\">,</span> <span class=\"n\">factory</span><span class=\"p\">):</span>\n",
    "        <span class=\"n\">sequence</span> <span class=\"o\">=</span> <span class=\"n\">factory</span><span class=\"o\">.</span><span class=\"n\">build_sequence</span><span class=\"p\">()</span>\n",
    "        <span class=\"k\">for</span> <span class=\"n\">substring</span> <span class=\"ow\">in</span> <span class=\"n\">string</span><span class=\"o\">.</span><span class=\"n\">split</span><span class=\"p\">(</span><span class=\"s1\">','</span><span class=\"p\">):</span>\n",
    "            <span class=\"n\">item</span> <span class=\"o\">=</span> <span class=\"n\">factory</span><span class=\"o\">.</span><span class=\"n\">build_number</span><span class=\"p\">(</span><span class=\"n\">substring</span><span class=\"p\">)</span>\n",
    "            <span class=\"n\">sequence</span><span class=\"o\">.</span><span class=\"n\">append</span><span class=\"p\">(</span><span class=\"n\">item</span><span class=\"p\">)</span>\n",
    "        <span class=\"k\">return</span> <span class=\"n\">sequence</span>\n",
    "\n",
    "<span class=\"n\">f</span> <span class=\"o\">=</span> <span class=\"n\">Factory</span><span class=\"p\">()</span>\n",
    "<span class=\"n\">result</span> <span class=\"o\">=</span> <span class=\"n\">Loader</span><span class=\"o\">.</span><span class=\"n\">load</span><span class=\"p\">(</span><span class=\"s1\">'1.23, 4.56'</span><span class=\"p\">,</span> <span class=\"n\">f</span><span class=\"p\">)</span>\n",
    "<span class=\"nb\">print</span><span class=\"p\">(</span><span class=\"n\">result</span><span class=\"p\">)</span>\n",
    "</pre>"
   ]
  },
  {
   "cell_type": "markdown",
   "metadata": {},
   "source": [
    "<pre class=\"cd\"><span></span>[Decimal('1.23'), Decimal('4.56')]\n",
    "</pre>"
   ]
  },
  {
   "cell_type": "markdown",
   "metadata": {},
   "source": [
    "Every choice it needs to make about object instantiation is deferred to the factory instead of taking place in the parser itself.\n",
    "\n",
    "Second, consider the behavior of languages that force you to declare ahead of time the type of each method parameter. You would overly restrict your future choices if your code insisted that the `factory` parameter could only ever be an instance of this particular class `Factory` because then you could never pass in anything that didn’t inherit from it.\n",
    "\n",
    "Instead, to more happily separate specification from implementation, you would create an abstract class. It’s this final step that merits the word “abstract” in the pattern’s name “Abstract Factory”. Your abstract class would merely promise that the `factory` argument to `load()` would be a class adhering to the required interface:"
   ]
  },
  {
   "cell_type": "markdown",
   "metadata": {},
   "source": [
    "<pre class=\"cd\"><span></span><span class=\"kn\">from</span> <span class=\"nn\">abc</span> <span class=\"kn\">import</span> <span class=\"n\">ABCMeta</span><span class=\"p\">,</span> <span class=\"n\">abstractmethod</span>\n",
    "\n",
    "<span class=\"k\">class</span> <span class=\"nc\">AbstractFactory</span><span class=\"p\">(</span><span class=\"n\">metaclass</span><span class=\"o\">=</span><span class=\"n\">ABCMeta</span><span class=\"p\">):</span>\n",
    "\n",
    "    <span class=\"nd\">@abstractmethod</span>\n",
    "    <span class=\"k\">def</span> <span class=\"nf\">build_sequence</span><span class=\"p\">(</span><span class=\"bp\">self</span><span class=\"p\">):</span>\n",
    "        <span class=\"k\">pass</span>\n",
    "\n",
    "    <span class=\"nd\">@abstractmethod</span>\n",
    "    <span class=\"k\">def</span> <span class=\"nf\">build_number</span><span class=\"p\">(</span><span class=\"bp\">self</span><span class=\"p\">,</span> <span class=\"n\">string</span><span class=\"p\">):</span>\n",
    "        <span class=\"k\">pass</span>\n",
    "</pre>"
   ]
  },
  {
   "cell_type": "markdown",
   "metadata": {},
   "source": [
    "Once the abstract class is in place and `Factory` inherits from it, though, the operations that take place at runtime are exactly the same as they were before. The factory’s methods are called with various arguments, which direct them to create various kinds of object, which they construct and return without the caller needing to know the details.\n",
    "\n",
    "It’s like something you might do in Python, but made overly complicated. So avoid the Abstract Factory and use callables as factories instead."
   ]
  },
  {
   "cell_type": "code",
   "execution_count": null,
   "metadata": {},
   "outputs": [],
   "source": []
  }
 ],
 "metadata": {
  "kernelspec": {
   "display_name": "Python 3 (ipykernel)",
   "language": "python",
   "name": "python3"
  },
  "language_info": {
   "codemirror_mode": {
    "name": "ipython",
    "version": 3
   },
   "file_extension": ".py",
   "mimetype": "text/x-python",
   "name": "python",
   "nbconvert_exporter": "python",
   "pygments_lexer": "ipython3",
   "version": "3.9.4"
  },
  "toc": {
   "base_numbering": 1,
   "nav_menu": {},
   "number_sections": true,
   "sideBar": true,
   "skip_h1_title": false,
   "title_cell": "Table of Contents",
   "title_sidebar": "Contents",
   "toc_cell": false,
   "toc_position": {},
   "toc_section_display": true,
   "toc_window_display": true
  }
 },
 "nbformat": 4,
 "nbformat_minor": 1
}