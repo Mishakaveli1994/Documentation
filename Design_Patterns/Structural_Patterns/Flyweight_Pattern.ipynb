{
 "cells": [
  {
   "cell_type": "code",
   "execution_count": 1,
   "metadata": {
    "pycharm": {
     "name": "#%%\n"
    }
   },
   "outputs": [
    {
     "data": {
      "text/html": [
       "<style>\n",
       "    pre.cd {\n",
       "            border: 1px dashed #93A1A1;\n",
       "            padding: 0.5em 0.8em;\n",
       "            background: #FCF6E3;\n",
       "    }\n",
       "    .highlight{\n",
       "        backgound: #FCF6E3 ;\n",
       "    }\n",
       "    .hll { background-color: #ffffcc }\n",
       "    .c { color: #93a1a1; font-style: italic } /* Comment */\n",
       "    .err { color: #dc322f } /* Error */\n",
       "    .g { color: #657b83 } /* Generic */\n",
       "    .k { color: #859900 } /* Keyword */\n",
       "    .l { color: #657b83 } /* Literal */\n",
       "    .n { color: #586e75 } /* Name */\n",
       "    .o { color: #657b83 } /* Operator */\n",
       "    .x { color: #657b83 } /* Other */\n",
       "    .p { color: #657b83 } /* Punctuation */\n",
       "    .cm { color: #93a1a1; font-style: italic } /* Comment.Multiline */\n",
       "    .cp { color: #93a1a1; font-style: italic } /* Comment.Preproc */\n",
       "    .c1 { color: #93a1a1; font-style: italic } /* Comment.Single */\n",
       "    .cs { color: #93a1a1; font-style: italic } /* Comment.Special */\n",
       "    .gd { color: #657b83 } /* Generic.Deleted */\n",
       "    .ge { color: #657b83 } /* Generic.Emph */\n",
       "    .gr { color: #657b83 } /* Generic.Error */\n",
       "    .gh { color: #657b83 } /* Generic.Heading */\n",
       "    .gi { color: #657b83 } /* Generic.Inserted */\n",
       "    .go { color: #000000 } /* Generic.Output (customized) */\n",
       "    .gp { color: #cb4b16 } /* Generic.Prompt (customized) */\n",
       "    .gs { color: #657b83 } /* Generic.Strong */\n",
       "    .gu { color: #657b83 } /* Generic.Subheading */\n",
       "    .gt { color: #657b83 } /* Generic.Traceback */\n",
       "    .kc { color: #859900 } /* Keyword.Constant */\n",
       "    .kd { color: #859900 } /* Keyword.Declaration */\n",
       "    .kn { color: #cb4b16 } /* Keyword.Namespace */\n",
       "    .kp { color: #cb4b16 } /* Keyword.Pseudo */\n",
       "    .kr { color: #859900 } /* Keyword.Reserved */\n",
       "    .kt { color: #859900 } /* Keyword.Type */\n",
       "    .ld { color: #657b83 } /* Literal.Date */\n",
       "    .m { color: #2aa198 } /* Literal.Number */\n",
       "    .s { color: #2aa198 } /* Literal.String */\n",
       "    .na { color: #657b83 } /* Name.Attribute */\n",
       "    .nb { color: #268bd2 } /* Name.Builtin */\n",
       "    .nc { color: #268bd2 } /* Name.Class */\n",
       "    .no { color: #b58900 } /* Name.Constant */\n",
       "    .nd { color: #cb4b16 } /* Name.Decorator */\n",
       "    .ni { color: #cb4b16 } /* Name.Entity */\n",
       "    .ne { color: #cb4b16 } /* Name.Exception */\n",
       "    .nf { color: #268bd2 } /* Name.Function */\n",
       "    .nl { color: #657b83 } /* Name.Label */\n",
       "    .nn { color: #b58900 } /* Name.Namespace */\n",
       "    .nx { color: #657b83 } /* Name.Other */\n",
       "    .py { color: #268bd2 } /* Name.Property */\n",
       "    .nt { color: #859900 } /* Name.Tag */\n",
       "    .nv { color: #cd4b16 } /* Name.Variable */\n",
       "    .ow { color: #859900 } /* Operator.Word */\n",
       "    .w { color: #fdf6e3 } /* Text.Whitespace */\n",
       "    .mf { color: #2aa198 } /* Literal.Number.Float */\n",
       "    .mh { color: #2aa198 } /* Literal.Number.Hex */\n",
       "    .mi { color: #2aa198 } /* Literal.Number.Integer */\n",
       "    .mo { color: #2aa198 } /* Literal.Number.Oct */\n",
       "    .sb { color: #2aa198 } /* Literal.String.Backtick */\n",
       "    .sc { color: #2aa198 } /* Literal.String.Char */\n",
       "    .sd { color: #2aa198 } /* Literal.String.Doc */\n",
       "    .s2 { color: #2aa198 } /* Literal.String.Double */\n",
       "    .se { color: #cb4b16 } /* Literal.String.Escape */\n",
       "    .sh { color: #2aa198 } /* Literal.String.Heredoc */\n",
       "    .si { color: #cb4b16 } /* Literal.String.Interpol */\n",
       "    .sx { color: #2aa198 } /* Literal.String.Other */\n",
       "    .sr { color: #2aa198 } /* Literal.String.Regex */\n",
       "    .s1 { color: #2aa198 } /* Literal.String.Single */\n",
       "    .ss { color: #2aa198 } /* Literal.String.Symbol */\n",
       "    .bp { color: #268bd2; font-weight: bold } /* Name.Builtin.Pseudo */\n",
       "    .vc { color: #268bd2 } /* Name.Variable.Class */\n",
       "    .vg { color: #268bd2 } /* Name.Variable.Global */\n",
       "    .vi { color: #268bd2 } /* Name.Variable.Instance */\n",
       "    .il { color: #2aa198 } /* Literal.Number.Integer.Long */\n",
       "    div.verdict-div{\n",
       "        background: #EEEEEE; \n",
       "        padding: 30px\n",
       "    }\n",
       "    p.verdict-title{\n",
       "        text-align: center;\n",
       "        font-weight: bold;\n",
       "    }\n",
       "</style>\n"
      ],
      "text/plain": [
       "<IPython.core.display.HTML object>"
      ]
     },
     "metadata": {},
     "output_type": "display_data"
    }
   ],
   "source": [
    "%%html\n",
    "<style>\n",
    "    pre.cd {\n",
    "            border: 1px dashed #93A1A1;\n",
    "            padding: 0.5em 0.8em;\n",
    "            background: #FCF6E3;\n",
    "    }\n",
    "    .highlight{\n",
    "        backgound: #FCF6E3 ;\n",
    "    }\n",
    "    .hll { background-color: #ffffcc }\n",
    "    .c { color: #93a1a1; font-style: italic } /* Comment */\n",
    "    .err { color: #dc322f } /* Error */\n",
    "    .g { color: #657b83 } /* Generic */\n",
    "    .k { color: #859900 } /* Keyword */\n",
    "    .l { color: #657b83 } /* Literal */\n",
    "    .n { color: #586e75 } /* Name */\n",
    "    .o { color: #657b83 } /* Operator */\n",
    "    .x { color: #657b83 } /* Other */\n",
    "    .p { color: #657b83 } /* Punctuation */\n",
    "    .cm { color: #93a1a1; font-style: italic } /* Comment.Multiline */\n",
    "    .cp { color: #93a1a1; font-style: italic } /* Comment.Preproc */\n",
    "    .c1 { color: #93a1a1; font-style: italic } /* Comment.Single */\n",
    "    .cs { color: #93a1a1; font-style: italic } /* Comment.Special */\n",
    "    .gd { color: #657b83 } /* Generic.Deleted */\n",
    "    .ge { color: #657b83 } /* Generic.Emph */\n",
    "    .gr { color: #657b83 } /* Generic.Error */\n",
    "    .gh { color: #657b83 } /* Generic.Heading */\n",
    "    .gi { color: #657b83 } /* Generic.Inserted */\n",
    "    .go { color: #000000 } /* Generic.Output (customized) */\n",
    "    .gp { color: #cb4b16 } /* Generic.Prompt (customized) */\n",
    "    .gs { color: #657b83 } /* Generic.Strong */\n",
    "    .gu { color: #657b83 } /* Generic.Subheading */\n",
    "    .gt { color: #657b83 } /* Generic.Traceback */\n",
    "    .kc { color: #859900 } /* Keyword.Constant */\n",
    "    .kd { color: #859900 } /* Keyword.Declaration */\n",
    "    .kn { color: #cb4b16 } /* Keyword.Namespace */\n",
    "    .kp { color: #cb4b16 } /* Keyword.Pseudo */\n",
    "    .kr { color: #859900 } /* Keyword.Reserved */\n",
    "    .kt { color: #859900 } /* Keyword.Type */\n",
    "    .ld { color: #657b83 } /* Literal.Date */\n",
    "    .m { color: #2aa198 } /* Literal.Number */\n",
    "    .s { color: #2aa198 } /* Literal.String */\n",
    "    .na { color: #657b83 } /* Name.Attribute */\n",
    "    .nb { color: #268bd2 } /* Name.Builtin */\n",
    "    .nc { color: #268bd2 } /* Name.Class */\n",
    "    .no { color: #b58900 } /* Name.Constant */\n",
    "    .nd { color: #cb4b16 } /* Name.Decorator */\n",
    "    .ni { color: #cb4b16 } /* Name.Entity */\n",
    "    .ne { color: #cb4b16 } /* Name.Exception */\n",
    "    .nf { color: #268bd2 } /* Name.Function */\n",
    "    .nl { color: #657b83 } /* Name.Label */\n",
    "    .nn { color: #b58900 } /* Name.Namespace */\n",
    "    .nx { color: #657b83 } /* Name.Other */\n",
    "    .py { color: #268bd2 } /* Name.Property */\n",
    "    .nt { color: #859900 } /* Name.Tag */\n",
    "    .nv { color: #cd4b16 } /* Name.Variable */\n",
    "    .ow { color: #859900 } /* Operator.Word */\n",
    "    .w { color: #fdf6e3 } /* Text.Whitespace */\n",
    "    .mf { color: #2aa198 } /* Literal.Number.Float */\n",
    "    .mh { color: #2aa198 } /* Literal.Number.Hex */\n",
    "    .mi { color: #2aa198 } /* Literal.Number.Integer */\n",
    "    .mo { color: #2aa198 } /* Literal.Number.Oct */\n",
    "    .sb { color: #2aa198 } /* Literal.String.Backtick */\n",
    "    .sc { color: #2aa198 } /* Literal.String.Char */\n",
    "    .sd { color: #2aa198 } /* Literal.String.Doc */\n",
    "    .s2 { color: #2aa198 } /* Literal.String.Double */\n",
    "    .se { color: #cb4b16 } /* Literal.String.Escape */\n",
    "    .sh { color: #2aa198 } /* Literal.String.Heredoc */\n",
    "    .si { color: #cb4b16 } /* Literal.String.Interpol */\n",
    "    .sx { color: #2aa198 } /* Literal.String.Other */\n",
    "    .sr { color: #2aa198 } /* Literal.String.Regex */\n",
    "    .s1 { color: #2aa198 } /* Literal.String.Single */\n",
    "    .ss { color: #2aa198 } /* Literal.String.Symbol */\n",
    "    .bp { color: #268bd2; font-weight: bold } /* Name.Builtin.Pseudo */\n",
    "    .vc { color: #268bd2 } /* Name.Variable.Class */\n",
    "    .vg { color: #268bd2 } /* Name.Variable.Global */\n",
    "    .vi { color: #268bd2 } /* Name.Variable.Instance */\n",
    "    .il { color: #2aa198 } /* Literal.Number.Integer.Long */\n",
    "    div.verdict-div{\n",
    "        background: #EEEEEE; \n",
    "        padding: 30px\n",
    "    }\n",
    "    p.verdict-title{\n",
    "        text-align: center;\n",
    "        font-weight: bold;\n",
    "    }\n",
    "</style>"
   ]
  },
  {
   "cell_type": "markdown",
   "metadata": {
    "pycharm": {
     "name": "#%% md\n"
    }
   },
   "source": [
    "<div class=\"verdict-div\"><p class=\"verdict-title\">Verdict</p>\n",
    "\n",
    "Flyweight objects are such a perfect fit for Python that the language itself uses the pattern for such popular values as identifiers, some integers, and Boolean true and false.</div>"
   ]
  },
  {
   "cell_type": "markdown",
   "metadata": {
    "pycharm": {
     "name": "#%% md\n"
    }
   },
   "source": [
    "# The Flyweight Pattern\n",
    "A perfect example of the Flyweight Pattern is the Python `intern()` function. It’s a builtin in Python 2 which was moved into the `sys` module in Python 3. When you pass it a string, it returns an exactly equal string. Its advantage is that it saves space: no matter how many different string objects you pass it for a particular value like `'xyzzy'`, it returns the same `'xyzzy'` object each time.\n",
    "\n",
    "It’s used internally in Python to save memory. As Python parses your program it’s likely to encounter a given identifier like `range` several times. Instead of storing each of them as a separate string object, it uses `intern()` so that all mentions of `range` in your code can share a single string object in memory that represents them all.\n",
    "\n",
    "We can see its behavior by computing the string `'python'` two different ways (to make it likely that any given Python implementation will really give us two different strings) and pass them to the intern function:"
   ]
  },
  {
   "cell_type": "markdown",
   "metadata": {
    "pycharm": {
     "name": "#%% md\n"
    }
   },
   "source": [
    "<pre class=\"cd\"><span></span><span class=\"gp\">&gt;&gt;&gt; </span><span class=\"kn\">from</span> <span class=\"nn\">sys</span> <span class=\"kn\">import</span> <span class=\"n\">intern</span>  <span class=\"c1\"># not necessary in Python 2</span>\n",
    "<span class=\"gp\">&gt;&gt;&gt; </span><span class=\"n\">a</span> <span class=\"o\">=</span> <span class=\"n\">intern</span><span class=\"p\">(</span><span class=\"s1\">'py'</span> <span class=\"o\">+</span> <span class=\"s1\">'thon'</span><span class=\"p\">)</span>\n",
    "<span class=\"gp\">&gt;&gt;&gt; </span><span class=\"n\">b</span> <span class=\"o\">=</span> <span class=\"n\">intern</span><span class=\"p\">(</span><span class=\"s1\">'PYTHON'</span><span class=\"o\">.</span><span class=\"n\">lower</span><span class=\"p\">())</span>\n",
    "<span class=\"gp\">&gt;&gt;&gt; </span><span class=\"n\">a</span>\n",
    "<span class=\"go\">'python'</span>\n",
    "<span class=\"gp\">&gt;&gt;&gt; </span><span class=\"n\">b</span>\n",
    "<span class=\"go\">'python'</span>\n",
    "<span class=\"gp\">&gt;&gt;&gt; </span><span class=\"n\">a</span> <span class=\"ow\">is</span> <span class=\"n\">b</span>\n",
    "<span class=\"go\">True</span>\n",
    "</pre>"
   ]
  },
  {
   "cell_type": "markdown",
   "metadata": {
    "pycharm": {
     "name": "#%% md\n"
    }
   },
   "source": [
    "Strings are natural candidates for the Flyweight Pattern because they have all three of the key properties of a flyweight object:\n",
    "\n",
    "+ Python strings are immutable, which makes them safe to share. Otherwise a routine that decided to change one of the string’s characters would affect the single copy shared with everyone else.\n",
    "\n",
    "\n",
    "+ A Python string carries no context about how it is being used. If it needed to maintain a reference back to the list, dictionary, or other object that was using it, then each string could only serve in one context at a time.\n",
    "\n",
    "\n",
    "+ Strings are important for their value, not their object identity. We compare them with `==` instead of with the `is` keyword. A well-written Python program will not even notice whether the string `\"brandon\"` used in one place as a directory name and somewhere else as a username are the same object or two different objects.\n",
    "\n",
    "\n",
    "The Gang of Four describe these same requirements a bit differently when they require that, “Most object state can be made extrinsic.” They imagine starting with an object that’s a mix of what they call “extrinsic” and “intrinsic” state:"
   ]
  },
  {
   "cell_type": "markdown",
   "metadata": {
    "pycharm": {
     "name": "#%% md\n"
    }
   },
   "source": [
    "<pre class=\"cd\"><span></span><span class=\"n\">a1</span> <span class=\"o\">=</span> <span class=\"n\">Glyph</span><span class=\"p\">(</span><span class=\"n\">width</span><span class=\"o\">=</span><span class=\"mi\">6</span><span class=\"p\">,</span> <span class=\"n\">ascent</span><span class=\"o\">=</span><span class=\"mi\">9</span><span class=\"p\">,</span> <span class=\"n\">descent</span><span class=\"o\">=</span><span class=\"mi\">3</span><span class=\"p\">,</span> <span class=\"n\">x</span><span class=\"o\">=</span><span class=\"mi\">32</span><span class=\"p\">,</span> <span class=\"n\">y</span><span class=\"o\">=</span><span class=\"mi\">8</span><span class=\"p\">)</span>\n",
    "<span class=\"n\">a2</span> <span class=\"o\">=</span> <span class=\"n\">Glyph</span><span class=\"p\">(</span><span class=\"n\">width</span><span class=\"o\">=</span><span class=\"mi\">6</span><span class=\"p\">,</span> <span class=\"n\">ascent</span><span class=\"o\">=</span><span class=\"mi\">9</span><span class=\"p\">,</span> <span class=\"n\">descent</span><span class=\"o\">=</span><span class=\"mi\">3</span><span class=\"p\">,</span> <span class=\"n\">x</span><span class=\"o\">=</span><span class=\"mi\">8</span><span class=\"p\">,</span> <span class=\"n\">y</span><span class=\"o\">=</span><span class=\"mi\">60</span><span class=\"p\">)</span>\n",
    "</pre>"
   ]
  },
  {
   "cell_type": "markdown",
   "metadata": {
    "pycharm": {
     "name": "#%% md\n"
    }
   },
   "source": [
    "Given a typeface and size, each occurrence of a given letter — say, the letter M — will have the same width, the same ascent above the baseline, and the same descent below it. The Gang of Four call these attributes “intrinsic” to what it means to be the letter M. But each M on a page will have a different `x` and `y` coordinate; that state is “extrinsic” and varies from one occurrence of the letter to another.\n",
    "\n",
    "Given an object that mixes intrinsic and extrinsic state, the Gang of Four arrives at the Flyweight by refactoring to separate the two kinds of state:"
   ]
  },
  {
   "cell_type": "markdown",
   "metadata": {
    "pycharm": {
     "name": "#%% md\n"
    }
   },
   "source": [
    "<pre class=\"cd\"><span></span><span class=\"n\">a</span> <span class=\"o\">=</span> <span class=\"n\">Glyph</span><span class=\"p\">(</span><span class=\"n\">width</span><span class=\"o\">=</span><span class=\"mi\">6</span><span class=\"p\">,</span> <span class=\"n\">ascent</span><span class=\"o\">=</span><span class=\"mi\">9</span><span class=\"p\">,</span> <span class=\"n\">descent</span><span class=\"o\">=</span><span class=\"mi\">3</span><span class=\"p\">)</span>\n",
    "<span class=\"n\">a1</span> <span class=\"o\">=</span> <span class=\"n\">DrawnGlyph</span><span class=\"p\">(</span><span class=\"n\">glyph</span><span class=\"o\">=</span><span class=\"n\">a</span><span class=\"p\">,</span> <span class=\"n\">x</span><span class=\"o\">=</span><span class=\"mi\">32</span><span class=\"p\">,</span> <span class=\"n\">y</span><span class=\"o\">=</span><span class=\"mi\">8</span><span class=\"p\">)</span>\n",
    "<span class=\"n\">a2</span> <span class=\"o\">=</span> <span class=\"n\">DrawnGlyph</span><span class=\"p\">(</span><span class=\"n\">glyph</span><span class=\"o\">=</span><span class=\"n\">a</span><span class=\"p\">,</span> <span class=\"n\">x</span><span class=\"o\">=</span><span class=\"mi\">8</span><span class=\"p\">,</span> <span class=\"n\">y</span><span class=\"o\">=</span><span class=\"mi\">60</span><span class=\"p\">)</span>\n",
    "</pre>"
   ]
  },
  {
   "cell_type": "markdown",
   "metadata": {
    "pycharm": {
     "name": "#%% md\n"
    }
   },
   "source": [
    "Not only can the space savings from the Flyweight Pattern be considerable, but the original 1990 paper introducing Flyweights found that a document editor written using the pattern had considerably simpler code."
   ]
  },
  {
   "cell_type": "markdown",
   "metadata": {
    "pycharm": {
     "name": "#%% md\n"
    }
   },
   "source": [
    "## Factory or Constructor\n",
    "The Gang of Four only imagined using a factory function like `intern()` for managing a collection of flyweights, but Python often moves the logic into a class’s constructor instead.\n",
    "\n",
    "The simplest example in Python is the `bool` type. It has exactly two instances. While they can be accessed through their builtin names `True` and `False`, they are also returned by their class when it is passed an object to test for truthiness or falsehood."
   ]
  },
  {
   "cell_type": "markdown",
   "metadata": {
    "pycharm": {
     "name": "#%% md\n"
    }
   },
   "source": [
    "<pre class=\"cd\"><span></span><span class=\"gp\">&gt;&gt;&gt; </span><span class=\"nb\">bool</span><span class=\"p\">(</span><span class=\"mi\">0</span><span class=\"p\">)</span>\n",
    "<span class=\"go\">False</span>\n",
    "<span class=\"gp\">&gt;&gt;&gt; </span><span class=\"nb\">bool</span><span class=\"p\">(</span><span class=\"s1\">''</span><span class=\"p\">)</span>\n",
    "<span class=\"go\">False</span>\n",
    "<span class=\"gp\">&gt;&gt;&gt; </span><span class=\"nb\">bool</span><span class=\"p\">(</span><span class=\"mi\">12</span><span class=\"p\">)</span>\n",
    "<span class=\"go\">True</span>\n",
    "</pre>"
   ]
  },
  {
   "cell_type": "markdown",
   "metadata": {
    "pycharm": {
     "name": "#%% md\n"
    }
   },
   "source": [
    "Another example is integers. As an implementation detail, the default C language version of Python treats the integers −5 through 256 as flyweights. Those integers are created ahead of time as the interpreter launches, and are returned when an integer with one of those values is needed. Computing any other integer value results in a unique object from each computation."
   ]
  },
  {
   "cell_type": "markdown",
   "metadata": {
    "pycharm": {
     "name": "#%% md\n"
    }
   },
   "source": [
    "<pre class=\"cd\"><span></span><span class=\"gp\">&gt;&gt;&gt; </span><span class=\"mi\">1</span> <span class=\"o\">+</span> <span class=\"mi\">4</span> <span class=\"ow\">is</span> <span class=\"mi\">2</span> <span class=\"o\">+</span> <span class=\"mi\">3</span>\n",
    "<span class=\"go\">True</span>\n",
    "<span class=\"gp\">&gt;&gt;&gt; </span><span class=\"mi\">100</span> <span class=\"o\">+</span> <span class=\"mi\">400</span> <span class=\"ow\">is</span> <span class=\"mi\">200</span> <span class=\"o\">+</span> <span class=\"mi\">300</span>\n",
    "<span class=\"go\">False</span>\n",
    "</pre>"
   ]
  },
  {
   "cell_type": "markdown",
   "metadata": {
    "pycharm": {
     "name": "#%% md\n"
    }
   },
   "source": [
    "There are a few other flyweights hiding in the Standard Library for very common immutable objects, like the empty string and the empty tuple."
   ]
  },
  {
   "cell_type": "markdown",
   "metadata": {
    "pycharm": {
     "name": "#%% md\n"
    }
   },
   "source": [
    "<pre class=\"cd\"><span></span><span class=\"gp\">&gt;&gt;&gt; </span><span class=\"nb\">str</span><span class=\"p\">()</span> <span class=\"ow\">is</span> <span class=\"s1\">''</span>\n",
    "<span class=\"go\">True</span>\n",
    "<span class=\"gp\">&gt;&gt;&gt; </span><span class=\"nb\">tuple</span><span class=\"p\">([])</span> <span class=\"ow\">is</span> <span class=\"p\">()</span>\n",
    "<span class=\"go\">True</span>\n",
    "</pre>"
   ]
  },
  {
   "cell_type": "markdown",
   "metadata": {
    "pycharm": {
     "name": "#%% md\n"
    }
   },
   "source": [
    "Note that not every object pre-built by the interpreter qualifies as a flyweight. The `None` object, for example, does not qualify: a class needs more than one instance to be a true Flyweight, but `None` is the only instance of `NoneType`."
   ]
  },
  {
   "cell_type": "markdown",
   "metadata": {
    "pycharm": {
     "name": "#%% md\n"
    }
   },
   "source": [
    "## Implementing\n",
    "The simplest flyweights are allocated ahead of time. A system for assigning letter grades might use flyweights for the grades themselves:"
   ]
  },
  {
   "cell_type": "markdown",
   "metadata": {
    "pycharm": {
     "name": "#%% md\n"
    }
   },
   "source": [
    "<pre class=\"cd\"><span></span><span class=\"n\">_grades</span> <span class=\"o\">=</span> <span class=\"p\">[</span><span class=\"n\">letter</span> <span class=\"o\">+</span> <span class=\"n\">suffix</span>\n",
    "           <span class=\"k\">for</span> <span class=\"n\">letter</span> <span class=\"ow\">in</span> <span class=\"s1\">'ABCD'</span>\n",
    "           <span class=\"k\">for</span> <span class=\"n\">suffix</span> <span class=\"ow\">in</span> <span class=\"p\">(</span><span class=\"s1\">'+'</span><span class=\"p\">,</span> <span class=\"s1\">''</span><span class=\"p\">,</span> <span class=\"s1\">'-'</span><span class=\"p\">)]</span> <span class=\"o\">+</span> <span class=\"p\">[</span><span class=\"s1\">'F'</span><span class=\"p\">]</span>\n",
    "\n",
    "<span class=\"k\">def</span> <span class=\"nf\">compute_grade</span><span class=\"p\">(</span><span class=\"n\">percent</span><span class=\"p\">):</span>\n",
    "    <span class=\"n\">percent</span> <span class=\"o\">=</span> <span class=\"nb\">max</span><span class=\"p\">(</span><span class=\"mi\">59</span><span class=\"p\">,</span> <span class=\"nb\">min</span><span class=\"p\">(</span><span class=\"mi\">99</span><span class=\"p\">,</span> <span class=\"n\">percent</span><span class=\"p\">))</span>\n",
    "    <span class=\"k\">return</span> <span class=\"n\">_grades</span><span class=\"p\">[(</span><span class=\"mi\">99</span> <span class=\"o\">-</span> <span class=\"n\">percent</span><span class=\"p\">)</span> <span class=\"o\">*</span> <span class=\"mi\">3</span> <span class=\"o\">//</span> <span class=\"mi\">10</span><span class=\"p\">]</span>\n",
    "\n",
    "<span class=\"nb\">print</span><span class=\"p\">(</span><span class=\"n\">compute_grade</span><span class=\"p\">(</span><span class=\"mi\">55</span><span class=\"p\">))</span>\n",
    "<span class=\"nb\">print</span><span class=\"p\">(</span><span class=\"n\">compute_grade</span><span class=\"p\">(</span><span class=\"mi\">89</span><span class=\"p\">))</span>\n",
    "<span class=\"nb\">print</span><span class=\"p\">(</span><span class=\"n\">compute_grade</span><span class=\"p\">(</span><span class=\"mi\">90</span><span class=\"p\">))</span>\n",
    "</pre>"
   ]
  },
  {
   "cell_type": "markdown",
   "metadata": {
    "pycharm": {
     "name": "#%% md\n"
    }
   },
   "source": [
    "<pre class=\"cd\"><span></span>F\n",
    "B+\n",
    "A-\n",
    "</pre>"
   ]
  },
  {
   "cell_type": "markdown",
   "metadata": {
    "pycharm": {
     "name": "#%% md\n"
    }
   },
   "source": [
    "Factories that need to build a flyweight population dynamically are more complicated: they’ll need a dynamic data structure in which to enroll the flyweights and find them again later. A dictionary is a typical choice:"
   ]
  },
  {
   "cell_type": "markdown",
   "metadata": {
    "pycharm": {
     "name": "#%% md\n"
    }
   },
   "source": [
    "<pre class=\"cd\"><span></span><span class=\"n\">_strings</span> <span class=\"o\">=</span> <span class=\"p\">{}</span>\n",
    "\n",
    "<span class=\"k\">def</span> <span class=\"nf\">my_intern</span><span class=\"p\">(</span><span class=\"n\">string</span><span class=\"p\">):</span>\n",
    "    <span class=\"n\">s</span> <span class=\"o\">=</span> <span class=\"n\">_strings</span><span class=\"o\">.</span><span class=\"n\">setdefault</span><span class=\"p\">(</span><span class=\"n\">string</span><span class=\"p\">,</span> <span class=\"n\">string</span><span class=\"p\">)</span>\n",
    "    <span class=\"k\">return</span> <span class=\"n\">s</span>\n",
    "\n",
    "<span class=\"n\">a1</span> <span class=\"o\">=</span> <span class=\"n\">my_intern</span><span class=\"p\">(</span><span class=\"s1\">'A'</span><span class=\"p\">)</span>\n",
    "<span class=\"n\">b1</span> <span class=\"o\">=</span> <span class=\"n\">my_intern</span><span class=\"p\">(</span><span class=\"s1\">'B'</span><span class=\"p\">)</span>\n",
    "<span class=\"n\">a2</span> <span class=\"o\">=</span> <span class=\"n\">my_intern</span><span class=\"p\">(</span><span class=\"s1\">'A'</span><span class=\"p\">)</span>\n",
    "\n",
    "<span class=\"nb\">print</span><span class=\"p\">(</span><span class=\"n\">a1</span> <span class=\"ow\">is</span> <span class=\"n\">b1</span><span class=\"p\">)</span>\n",
    "<span class=\"nb\">print</span><span class=\"p\">(</span><span class=\"n\">a1</span> <span class=\"ow\">is</span> <span class=\"n\">a2</span><span class=\"p\">)</span>\n",
    "</pre>"
   ]
  },
  {
   "cell_type": "markdown",
   "metadata": {
    "pycharm": {
     "name": "#%% md\n"
    }
   },
   "source": [
    "<pre class=\"cd\"><span></span>False\n",
    "True\n",
    "</pre>"
   ]
  },
  {
   "cell_type": "markdown",
   "metadata": {
    "pycharm": {
     "name": "#%% md\n"
    }
   },
   "source": [
    "One danger of dynamically allocated flyweights is the possibility of eventually exhausting memory, if the number of possible values is very large and callers might request a large number of unique values over a program’s runtime. In such cases you might consider using a `WeakValueDictionary` from the `weakref` module.\n",
    "\n",
    "Weak references wouldn’t work in the simple example given above, because `my_intern` uses each interned string not only as a value but also as the corresponding key. But it should work fine in the more common case where the indexes are simple values but the keys are more complicated object instances.\n",
    "\n",
    "The Gang of Four define the Flyweight Pattern as using a factory function, but Python provides another possibility: a class can implement the pattern right in its constructor, just like `bool()` and `int()`. Rewriting the above example as a class — and, for the sake of example, allocating objects on-demand instead of building them ahead of time — would produce something like:"
   ]
  },
  {
   "cell_type": "markdown",
   "metadata": {
    "pycharm": {
     "name": "#%% md\n"
    }
   },
   "source": [
    "<pre class=\"cd\"><span></span><span class=\"k\">class</span> <span class=\"nc\">Grade</span><span class=\"p\">(</span><span class=\"nb\">object</span><span class=\"p\">):</span>\n",
    "    <span class=\"n\">_instances</span> <span class=\"o\">=</span> <span class=\"p\">{}</span>\n",
    "\n",
    "    <span class=\"k\">def</span> <span class=\"fm\">__new__</span><span class=\"p\">(</span><span class=\"bp\">cls</span><span class=\"p\">,</span> <span class=\"n\">percent</span><span class=\"p\">):</span>\n",
    "        <span class=\"n\">percent</span> <span class=\"o\">=</span> <span class=\"nb\">max</span><span class=\"p\">(</span><span class=\"mi\">50</span><span class=\"p\">,</span> <span class=\"nb\">min</span><span class=\"p\">(</span><span class=\"mi\">99</span><span class=\"p\">,</span> <span class=\"n\">percent</span><span class=\"p\">))</span>\n",
    "        <span class=\"n\">letter</span> <span class=\"o\">=</span> <span class=\"s1\">'FDCBA'</span><span class=\"p\">[(</span><span class=\"n\">percent</span> <span class=\"o\">-</span> <span class=\"mi\">50</span><span class=\"p\">)</span> <span class=\"o\">//</span> <span class=\"mi\">10</span><span class=\"p\">]</span>\n",
    "        <span class=\"bp\">self</span> <span class=\"o\">=</span> <span class=\"bp\">cls</span><span class=\"o\">.</span><span class=\"n\">_instances</span><span class=\"o\">.</span><span class=\"n\">get</span><span class=\"p\">(</span><span class=\"n\">letter</span><span class=\"p\">)</span>\n",
    "        <span class=\"k\">if</span> <span class=\"bp\">self</span> <span class=\"ow\">is</span> <span class=\"kc\">None</span><span class=\"p\">:</span>\n",
    "            <span class=\"bp\">self</span> <span class=\"o\">=</span> <span class=\"bp\">cls</span><span class=\"o\">.</span><span class=\"n\">_instances</span><span class=\"p\">[</span><span class=\"n\">letter</span><span class=\"p\">]</span> <span class=\"o\">=</span> <span class=\"nb\">object</span><span class=\"o\">.</span><span class=\"fm\">__new__</span><span class=\"p\">(</span><span class=\"n\">Grade</span><span class=\"p\">)</span>\n",
    "            <span class=\"bp\">self</span><span class=\"o\">.</span><span class=\"n\">letter</span> <span class=\"o\">=</span> <span class=\"n\">letter</span>\n",
    "        <span class=\"k\">return</span> <span class=\"bp\">self</span>\n",
    "\n",
    "    <span class=\"k\">def</span> <span class=\"fm\">__repr__</span><span class=\"p\">(</span><span class=\"bp\">self</span><span class=\"p\">):</span>\n",
    "        <span class=\"k\">return</span> <span class=\"s1\">'Grade </span><span class=\"si\">{!r}</span><span class=\"s1\">'</span><span class=\"o\">.</span><span class=\"n\">format</span><span class=\"p\">(</span><span class=\"bp\">self</span><span class=\"o\">.</span><span class=\"n\">letter</span><span class=\"p\">)</span>\n",
    "\n",
    "<span class=\"nb\">print</span><span class=\"p\">(</span><span class=\"n\">Grade</span><span class=\"p\">(</span><span class=\"mi\">55</span><span class=\"p\">),</span> <span class=\"n\">Grade</span><span class=\"p\">(</span><span class=\"mi\">85</span><span class=\"p\">),</span> <span class=\"n\">Grade</span><span class=\"p\">(</span><span class=\"mi\">95</span><span class=\"p\">),</span> <span class=\"n\">Grade</span><span class=\"p\">(</span><span class=\"mi\">100</span><span class=\"p\">))</span>\n",
    "<span class=\"nb\">print</span><span class=\"p\">(</span><span class=\"nb\">len</span><span class=\"p\">(</span><span class=\"n\">Grade</span><span class=\"o\">.</span><span class=\"n\">_instances</span><span class=\"p\">))</span>    <span class=\"c1\"># number of instances</span>\n",
    "<span class=\"nb\">print</span><span class=\"p\">(</span><span class=\"n\">Grade</span><span class=\"p\">(</span><span class=\"mi\">95</span><span class=\"p\">)</span> <span class=\"ow\">is</span> <span class=\"n\">Grade</span><span class=\"p\">(</span><span class=\"mi\">100</span><span class=\"p\">))</span>  <span class=\"c1\"># ask for ‘A’ two more times</span>\n",
    "<span class=\"nb\">print</span><span class=\"p\">(</span><span class=\"nb\">len</span><span class=\"p\">(</span><span class=\"n\">Grade</span><span class=\"o\">.</span><span class=\"n\">_instances</span><span class=\"p\">))</span>    <span class=\"c1\"># number stayed the same?</span>\n",
    "</pre>"
   ]
  },
  {
   "cell_type": "markdown",
   "metadata": {
    "pycharm": {
     "name": "#%% md\n"
    }
   },
   "source": [
    "<pre class=\"cd\"><span></span>Grade 'F' Grade 'B' Grade 'A' Grade 'A'\n",
    "3\n",
    "True\n",
    "3\n",
    "</pre>"
   ]
  },
  {
   "cell_type": "markdown",
   "metadata": {
    "pycharm": {
     "name": "#%% md\n"
    }
   },
   "source": [
    "You can see that once a `Grade` object for A has been created, all further requests for it receive the same object; the instances dictionary doesn’t continue to grow.\n",
    "\n",
    "Note that we don’t define `__init__()` in a class like this whose `__new__()` might return an existing object. That’s because Python always calls `__init__()` on the object received back from `__new__()` (as long as the object is an instance of the class itself), which would be useful the first time we returned a new Flyweight object, but redundant on subsequent occasions when we returned the already-initialized object. So we instead do the work of initialization right in the middle of `__new__()`:"
   ]
  },
  {
   "cell_type": "markdown",
   "metadata": {
    "pycharm": {
     "name": "#%% md\n"
    }
   },
   "source": [
    "<pre class=\"cd\"><span></span><span class=\"bp\">self</span><span class=\"o\">.</span><span class=\"n\">letter</span> <span class=\"o\">=</span> <span class=\"n\">letter</span>\n",
    "</pre>"
   ]
  },
  {
   "cell_type": "markdown",
   "metadata": {
    "pycharm": {
     "name": "#%% md\n"
    }
   },
   "source": [
    "Having illustrated the possibility of hiding your Flyweight Pattern factory inside of `__new__()`, I recommend against it because it produces code whose behavior does not match its spelling. When a Python programmer sees `Grade(95)`, they are going to think “new object instance” along with all of the consequences, unless they are in on the secret that `__new__()` has been overridden and unless they always remember that fact when reading code.\n",
    "\n",
    "A traditional Flyweight Pattern factory function will be less likely to trigger assumptions like “this code is building a new object” and in any case is simpler both to implement and debug."
   ]
  },
  {
   "cell_type": "markdown",
   "metadata": {
    "pycharm": {
     "name": "#%% md\n"
    }
   },
   "source": []
  }
 ],
 "metadata": {
  "kernelspec": {
   "display_name": "Python 3 (ipykernel)",
   "language": "python",
   "name": "python3"
  },
  "language_info": {
   "codemirror_mode": {
    "name": "ipython",
    "version": 3
   },
   "file_extension": ".py",
   "mimetype": "text/x-python",
   "name": "python",
   "nbconvert_exporter": "python",
   "pygments_lexer": "ipython3",
   "version": "3.9.4"
  },
  "toc": {
   "base_numbering": 1,
   "nav_menu": {},
   "number_sections": true,
   "sideBar": true,
   "skip_h1_title": false,
   "title_cell": "Table of Contents",
   "title_sidebar": "Contents",
   "toc_cell": false,
   "toc_position": {},
   "toc_section_display": true,
   "toc_window_display": true
  }
 },
 "nbformat": 4,
 "nbformat_minor": 1
}