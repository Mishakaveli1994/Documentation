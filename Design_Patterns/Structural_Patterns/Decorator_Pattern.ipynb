{
 "cells": [
  {
   "cell_type": "code",
   "execution_count": 1,
   "metadata": {
    "pycharm": {
     "name": "#%%\n"
    }
   },
   "outputs": [
    {
     "data": {
      "text/html": [
       "<style>\n",
       "    pre.cd {\n",
       "            border: 1px dashed #93A1A1;\n",
       "            padding: 0.5em 0.8em;\n",
       "            background: #FCF6E3;\n",
       "    }\n",
       "    .highlight{\n",
       "        backgound: #FCF6E3 ;\n",
       "    }\n",
       "    .hll { background-color: #ffffcc }\n",
       "    .c { color: #93a1a1; font-style: italic } /* Comment */\n",
       "    .err { color: #dc322f } /* Error */\n",
       "    .g { color: #657b83 } /* Generic */\n",
       "    .k { color: #859900 } /* Keyword */\n",
       "    .l { color: #657b83 } /* Literal */\n",
       "    .n { color: #586e75 } /* Name */\n",
       "    .o { color: #657b83 } /* Operator */\n",
       "    .x { color: #657b83 } /* Other */\n",
       "    .p { color: #657b83 } /* Punctuation */\n",
       "    .cm { color: #93a1a1; font-style: italic } /* Comment.Multiline */\n",
       "    .cp { color: #93a1a1; font-style: italic } /* Comment.Preproc */\n",
       "    .c1 { color: #93a1a1; font-style: italic } /* Comment.Single */\n",
       "    .cs { color: #93a1a1; font-style: italic } /* Comment.Special */\n",
       "    .gd { color: #657b83 } /* Generic.Deleted */\n",
       "    .ge { color: #657b83 } /* Generic.Emph */\n",
       "    .gr { color: #657b83 } /* Generic.Error */\n",
       "    .gh { color: #657b83 } /* Generic.Heading */\n",
       "    .gi { color: #657b83 } /* Generic.Inserted */\n",
       "    .go { color: #000000 } /* Generic.Output (customized) */\n",
       "    .gp { color: #cb4b16 } /* Generic.Prompt (customized) */\n",
       "    .gs { color: #657b83 } /* Generic.Strong */\n",
       "    .gu { color: #657b83 } /* Generic.Subheading */\n",
       "    .gt { color: #657b83 } /* Generic.Traceback */\n",
       "    .kc { color: #859900 } /* Keyword.Constant */\n",
       "    .kd { color: #859900 } /* Keyword.Declaration */\n",
       "    .kn { color: #cb4b16 } /* Keyword.Namespace */\n",
       "    .kp { color: #cb4b16 } /* Keyword.Pseudo */\n",
       "    .kr { color: #859900 } /* Keyword.Reserved */\n",
       "    .kt { color: #859900 } /* Keyword.Type */\n",
       "    .ld { color: #657b83 } /* Literal.Date */\n",
       "    .m { color: #2aa198 } /* Literal.Number */\n",
       "    .s { color: #2aa198 } /* Literal.String */\n",
       "    .na { color: #657b83 } /* Name.Attribute */\n",
       "    .nb { color: #268bd2 } /* Name.Builtin */\n",
       "    .nc { color: #268bd2 } /* Name.Class */\n",
       "    .no { color: #b58900 } /* Name.Constant */\n",
       "    .nd { color: #cb4b16 } /* Name.Decorator */\n",
       "    .ni { color: #cb4b16 } /* Name.Entity */\n",
       "    .ne { color: #cb4b16 } /* Name.Exception */\n",
       "    .nf { color: #268bd2 } /* Name.Function */\n",
       "    .nl { color: #657b83 } /* Name.Label */\n",
       "    .nn { color: #b58900 } /* Name.Namespace */\n",
       "    .nx { color: #657b83 } /* Name.Other */\n",
       "    .py { color: #268bd2 } /* Name.Property */\n",
       "    .nt { color: #859900 } /* Name.Tag */\n",
       "    .nv { color: #cd4b16 } /* Name.Variable */\n",
       "    .ow { color: #859900 } /* Operator.Word */\n",
       "    .w { color: #fdf6e3 } /* Text.Whitespace */\n",
       "    .mf { color: #2aa198 } /* Literal.Number.Float */\n",
       "    .mh { color: #2aa198 } /* Literal.Number.Hex */\n",
       "    .mi { color: #2aa198 } /* Literal.Number.Integer */\n",
       "    .mo { color: #2aa198 } /* Literal.Number.Oct */\n",
       "    .sb { color: #2aa198 } /* Literal.String.Backtick */\n",
       "    .sc { color: #2aa198 } /* Literal.String.Char */\n",
       "    .sd { color: #2aa198 } /* Literal.String.Doc */\n",
       "    .s2 { color: #2aa198 } /* Literal.String.Double */\n",
       "    .se { color: #cb4b16 } /* Literal.String.Escape */\n",
       "    .sh { color: #2aa198 } /* Literal.String.Heredoc */\n",
       "    .si { color: #cb4b16 } /* Literal.String.Interpol */\n",
       "    .sx { color: #2aa198 } /* Literal.String.Other */\n",
       "    .sr { color: #2aa198 } /* Literal.String.Regex */\n",
       "    .s1 { color: #2aa198 } /* Literal.String.Single */\n",
       "    .ss { color: #2aa198 } /* Literal.String.Symbol */\n",
       "    .bp { color: #268bd2; font-weight: bold } /* Name.Builtin.Pseudo */\n",
       "    .vc { color: #268bd2 } /* Name.Variable.Class */\n",
       "    .vg { color: #268bd2 } /* Name.Variable.Global */\n",
       "    .vi { color: #268bd2 } /* Name.Variable.Instance */\n",
       "    .il { color: #2aa198 } /* Literal.Number.Integer.Long */\n",
       "    div.verdict-div{\n",
       "        background: #EEEEEE; \n",
       "        padding: 30px\n",
       "    }\n",
       "    div.warning-div{\n",
       "        background: #EEDDDD; \n",
       "        padding: 30px\n",
       "    }\n",
       "    p.verdict-title{\n",
       "        text-align: center;\n",
       "        font-weight: bold;\n",
       "    }\n",
       "    code.yellow{\n",
       "        background:#FCF6E3 !important;\n",
       "    }\n",
       "</style>\n"
      ],
      "text/plain": [
       "<IPython.core.display.HTML object>"
      ]
     },
     "metadata": {},
     "output_type": "display_data"
    }
   ],
   "source": [
    "%%html\n",
    "<style>\n",
    "    pre.cd {\n",
    "            border: 1px dashed #93A1A1;\n",
    "            padding: 0.5em 0.8em;\n",
    "            background: #FCF6E3;\n",
    "    }\n",
    "    .highlight{\n",
    "        backgound: #FCF6E3 ;\n",
    "    }\n",
    "    .hll { background-color: #ffffcc }\n",
    "    .c { color: #93a1a1; font-style: italic } /* Comment */\n",
    "    .err { color: #dc322f } /* Error */\n",
    "    .g { color: #657b83 } /* Generic */\n",
    "    .k { color: #859900 } /* Keyword */\n",
    "    .l { color: #657b83 } /* Literal */\n",
    "    .n { color: #586e75 } /* Name */\n",
    "    .o { color: #657b83 } /* Operator */\n",
    "    .x { color: #657b83 } /* Other */\n",
    "    .p { color: #657b83 } /* Punctuation */\n",
    "    .cm { color: #93a1a1; font-style: italic } /* Comment.Multiline */\n",
    "    .cp { color: #93a1a1; font-style: italic } /* Comment.Preproc */\n",
    "    .c1 { color: #93a1a1; font-style: italic } /* Comment.Single */\n",
    "    .cs { color: #93a1a1; font-style: italic } /* Comment.Special */\n",
    "    .gd { color: #657b83 } /* Generic.Deleted */\n",
    "    .ge { color: #657b83 } /* Generic.Emph */\n",
    "    .gr { color: #657b83 } /* Generic.Error */\n",
    "    .gh { color: #657b83 } /* Generic.Heading */\n",
    "    .gi { color: #657b83 } /* Generic.Inserted */\n",
    "    .go { color: #000000 } /* Generic.Output (customized) */\n",
    "    .gp { color: #cb4b16 } /* Generic.Prompt (customized) */\n",
    "    .gs { color: #657b83 } /* Generic.Strong */\n",
    "    .gu { color: #657b83 } /* Generic.Subheading */\n",
    "    .gt { color: #657b83 } /* Generic.Traceback */\n",
    "    .kc { color: #859900 } /* Keyword.Constant */\n",
    "    .kd { color: #859900 } /* Keyword.Declaration */\n",
    "    .kn { color: #cb4b16 } /* Keyword.Namespace */\n",
    "    .kp { color: #cb4b16 } /* Keyword.Pseudo */\n",
    "    .kr { color: #859900 } /* Keyword.Reserved */\n",
    "    .kt { color: #859900 } /* Keyword.Type */\n",
    "    .ld { color: #657b83 } /* Literal.Date */\n",
    "    .m { color: #2aa198 } /* Literal.Number */\n",
    "    .s { color: #2aa198 } /* Literal.String */\n",
    "    .na { color: #657b83 } /* Name.Attribute */\n",
    "    .nb { color: #268bd2 } /* Name.Builtin */\n",
    "    .nc { color: #268bd2 } /* Name.Class */\n",
    "    .no { color: #b58900 } /* Name.Constant */\n",
    "    .nd { color: #cb4b16 } /* Name.Decorator */\n",
    "    .ni { color: #cb4b16 } /* Name.Entity */\n",
    "    .ne { color: #cb4b16 } /* Name.Exception */\n",
    "    .nf { color: #268bd2 } /* Name.Function */\n",
    "    .nl { color: #657b83 } /* Name.Label */\n",
    "    .nn { color: #b58900 } /* Name.Namespace */\n",
    "    .nx { color: #657b83 } /* Name.Other */\n",
    "    .py { color: #268bd2 } /* Name.Property */\n",
    "    .nt { color: #859900 } /* Name.Tag */\n",
    "    .nv { color: #cd4b16 } /* Name.Variable */\n",
    "    .ow { color: #859900 } /* Operator.Word */\n",
    "    .w { color: #fdf6e3 } /* Text.Whitespace */\n",
    "    .mf { color: #2aa198 } /* Literal.Number.Float */\n",
    "    .mh { color: #2aa198 } /* Literal.Number.Hex */\n",
    "    .mi { color: #2aa198 } /* Literal.Number.Integer */\n",
    "    .mo { color: #2aa198 } /* Literal.Number.Oct */\n",
    "    .sb { color: #2aa198 } /* Literal.String.Backtick */\n",
    "    .sc { color: #2aa198 } /* Literal.String.Char */\n",
    "    .sd { color: #2aa198 } /* Literal.String.Doc */\n",
    "    .s2 { color: #2aa198 } /* Literal.String.Double */\n",
    "    .se { color: #cb4b16 } /* Literal.String.Escape */\n",
    "    .sh { color: #2aa198 } /* Literal.String.Heredoc */\n",
    "    .si { color: #cb4b16 } /* Literal.String.Interpol */\n",
    "    .sx { color: #2aa198 } /* Literal.String.Other */\n",
    "    .sr { color: #2aa198 } /* Literal.String.Regex */\n",
    "    .s1 { color: #2aa198 } /* Literal.String.Single */\n",
    "    .ss { color: #2aa198 } /* Literal.String.Symbol */\n",
    "    .bp { color: #268bd2; font-weight: bold } /* Name.Builtin.Pseudo */\n",
    "    .vc { color: #268bd2 } /* Name.Variable.Class */\n",
    "    .vg { color: #268bd2 } /* Name.Variable.Global */\n",
    "    .vi { color: #268bd2 } /* Name.Variable.Instance */\n",
    "    .il { color: #2aa198 } /* Literal.Number.Integer.Long */\n",
    "    div.verdict-div{\n",
    "        background: #EEEEEE; \n",
    "        padding: 30px\n",
    "    }\n",
    "    div.warning-div{\n",
    "        background: #EEDDDD; \n",
    "        padding: 30px\n",
    "    }\n",
    "    p.verdict-title{\n",
    "        text-align: center;\n",
    "        font-weight: bold;\n",
    "    }\n",
    "    code.yellow{\n",
    "        background:#FCF6E3 !important;\n",
    "    }\n",
    "</style>"
   ]
  },
  {
   "cell_type": "markdown",
   "metadata": {},
   "source": [
    "<div class=\"warning-div\"><p class=\"verdict-title\">Verdict</p>\n",
    "\n",
    "The “Decorator Pattern” <span style=\"dispay: inline; font-weight:bold\">≠<span> Python “decorators”!\n",
    "\n",
    "If you are interested in Python decorators like <code class=\"yellow\">@classmethod</code> and <code class=\"yellow\">@contextmanager</code> and <code class=\"yellow\">@wraps()</code>, then stay tuned for a later phase of this project in which I start tackling Python language features.</div>"
   ]
  },
  {
   "cell_type": "markdown",
   "metadata": {},
   "source": [
    "<div class=\"verdict-div\"><p class=\"verdict-title\">Verdict</p>\n",
    "\n",
    "The Decorator Pattern can be useful in Python code! Happily, the pattern can be easier to implement in a dynamic language like Python than in the static languages where it was first practiced. Use it on the rare occasion when you need to adjust the behavior of an object that you can’t subclass but can only wrap at runtime.</div>"
   ]
  },
  {
   "cell_type": "markdown",
   "metadata": {},
   "source": [
    "# The Decorator Pattern\n",
    "The Python core developers made the terminology surrounding this design pattern more confusing than necessary by using the decorator for an entirely unrelated language feature. The timeline:\n",
    "\n",
    "+ The design pattern was developed and named in the early 1990s by participants in the “Architecture Handbook” series of workshops that were kicked off at OOPSLA ’90, a conference for researchers of object-oriented programming languages.\n",
    "\n",
    "\n",
    "+ The design pattern became famous as the “Decorator Pattern” with the 1994 publication of the Gang of Four’s Design Patterns book.\n",
    "\n",
    "\n",
    "+ In 2003, the Python core developers decided to re-use the term decorator for a completely unrelated feature they were adding to Python 2.4.\n",
    "\n",
    "\n",
    "Why were the Python core developers not more concerned about the name collision? It may simply be that Python’s dynamic features kept its programming community so separate from the world of design-pattern literature for heavyweight languages that the core developers never imagined that confusion could arise.\n",
    "\n",
    "To try to keep the two concepts straight, I will use the term decorator class instead of just decorator when referring to a class that implements the Decorator Pattern."
   ]
  },
  {
   "cell_type": "markdown",
   "metadata": {},
   "source": [
    "## Definition\n",
    "A decorator class:\n",
    "\n",
    "+ Is an adapter (see the Adapter Pattern)\n",
    "\n",
    "\n",
    "+ That implements the same interface as the object it wraps\n",
    "\n",
    "\n",
    "+ That delegates method calls to the object it wraps\n",
    "\n",
    "\n",
    "The decorator class’s purpose is to add to, remove from, or adjust the behaviors that the wrapped object would normally implement when its methods are called. With a decorator class, you might:\n",
    "\n",
    "+ Log method calls that would normally work silently\n",
    "\n",
    "\n",
    "+ Perform extra setup or cleanup around a method\n",
    "\n",
    "\n",
    "+ Pre-process method arguments\n",
    "\n",
    "\n",
    "+ Post-process return values\n",
    "\n",
    "\n",
    "+ Forbid actions that the wrapped object would normally allow\n",
    "\n",
    "\n",
    "These purposes might remind you of situations in which you would also think of subclassing an existing class. But the Decorator Pattern has a crucial advantage over a subclass: you can only solve a problem with a subclass when your own code is in charge of creating the objects in the first place. For example, it isn’t helpful to subclass the Python file object if a library you’re using is returning normal file objects and you have no way to intercept their construction — your new `MyEvenBetterFile` subclass would sit unused. A decorator class does not have that limitation. It can be wrapped around a plain old file object any time you want, without the need for you be in control when the wrapped object was created."
   ]
  },
  {
   "cell_type": "markdown",
   "metadata": {},
   "source": [
    "## Implementing: Static wrapper\n",
    "First, let’s learn the drudgery of creating the kind of decorator class you would write in C++ or Java. We will not take advantage of the fact that Python is a dynamic language, but will instead write static (non-dynamic) code where every method and attribute appears literally, on the page.\n",
    "\n",
    "To be complete — to provide a real guarantee that every method called and attribute manipulated on the decorator object will be backed by the real behavior of the adapted object — the decorator class will need to implement:\n",
    "\n",
    "+ Every method of the adapted class\n",
    "\n",
    "\n",
    "+ A getter for every attribute\n",
    "\n",
    "\n",
    "+ A setter for every attribute\n",
    "\n",
    "\n",
    "+ A deleter for every attribute\n",
    "\n",
    "\n",
    "This approach is conceptually simple but, wow, it involves a lot of code!\n",
    "\n",
    "Imagine that one library is giving you open Python file objects, and you need to pass them to another routine or library — but to debug some product issues with latency, you want to log each time that data is written to the file.\n",
    "\n",
    "Python file objects often seem quite simple. We usually `read()` from them, `write()` to them, and not much else. But in fact the file object supports more than a dozen methods and offers five different attributes! A wrapper class that really wants to implement that full behavior runs to nearly 100 lines of code — as shown here, in our first working example of the Decorator Pattern:"
   ]
  },
  {
   "cell_type": "markdown",
   "metadata": {},
   "source": [
    "<pre class=\"cd\"><span></span><span class=\"c1\"># Traditional Decorator pattern: noticeably verbose</span>\n",
    "\n",
    "<span class=\"k\">class</span> <span class=\"nc\">WriteLoggingFile1</span><span class=\"p\">(</span><span class=\"nb\">object</span><span class=\"p\">):</span>\n",
    "    <span class=\"k\">def</span> <span class=\"fm\">__init__</span><span class=\"p\">(</span><span class=\"bp\">self</span><span class=\"p\">,</span> <span class=\"n\">file</span><span class=\"p\">,</span> <span class=\"n\">logger</span><span class=\"p\">):</span>\n",
    "        <span class=\"bp\">self</span><span class=\"o\">.</span><span class=\"n\">_file</span> <span class=\"o\">=</span> <span class=\"n\">file</span>\n",
    "        <span class=\"bp\">self</span><span class=\"o\">.</span><span class=\"n\">_logger</span> <span class=\"o\">=</span> <span class=\"n\">logger</span>\n",
    "\n",
    "    <span class=\"c1\"># We need to implement every file method,</span>\n",
    "    <span class=\"c1\"># and in the truly general case would need</span>\n",
    "    <span class=\"c1\"># a getter, setter, and deleter for every</span>\n",
    "    <span class=\"c1\"># single attribute!  Here goes:</span>\n",
    "\n",
    "    <span class=\"k\">def</span> <span class=\"fm\">__enter__</span><span class=\"p\">(</span><span class=\"bp\">self</span><span class=\"p\">):</span>\n",
    "        <span class=\"k\">return</span> <span class=\"bp\">self</span><span class=\"o\">.</span><span class=\"n\">_file</span><span class=\"o\">.</span><span class=\"fm\">__enter__</span><span class=\"p\">()</span>\n",
    "\n",
    "    <span class=\"k\">def</span> <span class=\"fm\">__exit__</span><span class=\"p\">(</span><span class=\"bp\">self</span><span class=\"p\">,</span> <span class=\"o\">*</span><span class=\"n\">excinfo</span><span class=\"p\">):</span>\n",
    "        <span class=\"k\">return</span> <span class=\"bp\">self</span><span class=\"o\">.</span><span class=\"n\">_file</span><span class=\"o\">.</span><span class=\"fm\">__exit__</span><span class=\"p\">(</span><span class=\"o\">*</span><span class=\"n\">excinfo</span><span class=\"p\">)</span>\n",
    "\n",
    "    <span class=\"k\">def</span> <span class=\"fm\">__iter__</span><span class=\"p\">(</span><span class=\"bp\">self</span><span class=\"p\">):</span>\n",
    "        <span class=\"k\">return</span> <span class=\"bp\">self</span><span class=\"o\">.</span><span class=\"n\">_file</span><span class=\"o\">.</span><span class=\"fm\">__iter__</span><span class=\"p\">()</span>\n",
    "\n",
    "    <span class=\"k\">def</span> <span class=\"fm\">__next__</span><span class=\"p\">(</span><span class=\"bp\">self</span><span class=\"p\">):</span>\n",
    "        <span class=\"k\">return</span> <span class=\"bp\">self</span><span class=\"o\">.</span><span class=\"n\">_file</span><span class=\"o\">.</span><span class=\"fm\">__next__</span><span class=\"p\">()</span>\n",
    "\n",
    "    <span class=\"k\">def</span> <span class=\"fm\">__repr__</span><span class=\"p\">(</span><span class=\"bp\">self</span><span class=\"p\">):</span>\n",
    "        <span class=\"k\">return</span> <span class=\"bp\">self</span><span class=\"o\">.</span><span class=\"n\">_file</span><span class=\"o\">.</span><span class=\"fm\">__repr__</span><span class=\"p\">()</span>\n",
    "\n",
    "    <span class=\"k\">def</span> <span class=\"nf\">close</span><span class=\"p\">(</span><span class=\"bp\">self</span><span class=\"p\">):</span>\n",
    "        <span class=\"k\">return</span> <span class=\"bp\">self</span><span class=\"o\">.</span><span class=\"n\">_file</span><span class=\"o\">.</span><span class=\"n\">close</span><span class=\"p\">()</span>\n",
    "\n",
    "    <span class=\"nd\">@property</span>\n",
    "    <span class=\"k\">def</span> <span class=\"nf\">closed</span><span class=\"p\">(</span><span class=\"bp\">self</span><span class=\"p\">):</span>\n",
    "        <span class=\"k\">return</span> <span class=\"bp\">self</span><span class=\"o\">.</span><span class=\"n\">_file</span><span class=\"o\">.</span><span class=\"n\">closed</span>\n",
    "\n",
    "    <span class=\"nd\">@closed</span><span class=\"o\">.</span><span class=\"n\">setter</span>\n",
    "    <span class=\"k\">def</span> <span class=\"nf\">closed</span><span class=\"p\">(</span><span class=\"bp\">self</span><span class=\"p\">,</span> <span class=\"n\">value</span><span class=\"p\">):</span>\n",
    "        <span class=\"bp\">self</span><span class=\"o\">.</span><span class=\"n\">_file</span><span class=\"o\">.</span><span class=\"n\">closed</span> <span class=\"o\">=</span> <span class=\"n\">value</span>\n",
    "\n",
    "    <span class=\"nd\">@closed</span><span class=\"o\">.</span><span class=\"n\">deleter</span>\n",
    "    <span class=\"k\">def</span> <span class=\"nf\">closed</span><span class=\"p\">(</span><span class=\"bp\">self</span><span class=\"p\">):</span>\n",
    "        <span class=\"k\">del</span> <span class=\"bp\">self</span><span class=\"o\">.</span><span class=\"n\">_file</span><span class=\"o\">.</span><span class=\"n\">closed</span>\n",
    "\n",
    "    <span class=\"nd\">@property</span>\n",
    "    <span class=\"k\">def</span> <span class=\"nf\">encoding</span><span class=\"p\">(</span><span class=\"bp\">self</span><span class=\"p\">):</span>\n",
    "        <span class=\"k\">return</span> <span class=\"bp\">self</span><span class=\"o\">.</span><span class=\"n\">_file</span><span class=\"o\">.</span><span class=\"n\">encoding</span>\n",
    "\n",
    "    <span class=\"nd\">@encoding</span><span class=\"o\">.</span><span class=\"n\">setter</span>\n",
    "    <span class=\"k\">def</span> <span class=\"nf\">encoding</span><span class=\"p\">(</span><span class=\"bp\">self</span><span class=\"p\">,</span> <span class=\"n\">value</span><span class=\"p\">):</span>\n",
    "        <span class=\"bp\">self</span><span class=\"o\">.</span><span class=\"n\">_file</span><span class=\"o\">.</span><span class=\"n\">encoding</span> <span class=\"o\">=</span> <span class=\"n\">value</span>\n",
    "\n",
    "    <span class=\"nd\">@encoding</span><span class=\"o\">.</span><span class=\"n\">deleter</span>\n",
    "    <span class=\"k\">def</span> <span class=\"nf\">encoding</span><span class=\"p\">(</span><span class=\"bp\">self</span><span class=\"p\">):</span>\n",
    "        <span class=\"k\">del</span> <span class=\"bp\">self</span><span class=\"o\">.</span><span class=\"n\">_file</span><span class=\"o\">.</span><span class=\"n\">encoding</span>\n",
    "\n",
    "    <span class=\"nd\">@property</span>\n",
    "    <span class=\"k\">def</span> <span class=\"nf\">errors</span><span class=\"p\">(</span><span class=\"bp\">self</span><span class=\"p\">):</span>\n",
    "        <span class=\"k\">return</span> <span class=\"bp\">self</span><span class=\"o\">.</span><span class=\"n\">_file</span><span class=\"o\">.</span><span class=\"n\">errors</span>\n",
    "\n",
    "    <span class=\"nd\">@errors</span><span class=\"o\">.</span><span class=\"n\">setter</span>\n",
    "    <span class=\"k\">def</span> <span class=\"nf\">errors</span><span class=\"p\">(</span><span class=\"bp\">self</span><span class=\"p\">,</span> <span class=\"n\">value</span><span class=\"p\">):</span>\n",
    "        <span class=\"bp\">self</span><span class=\"o\">.</span><span class=\"n\">_file</span><span class=\"o\">.</span><span class=\"n\">errors</span> <span class=\"o\">=</span> <span class=\"n\">value</span>\n",
    "\n",
    "    <span class=\"nd\">@errors</span><span class=\"o\">.</span><span class=\"n\">deleter</span>\n",
    "    <span class=\"k\">def</span> <span class=\"nf\">errors</span><span class=\"p\">(</span><span class=\"bp\">self</span><span class=\"p\">):</span>\n",
    "        <span class=\"k\">del</span> <span class=\"bp\">self</span><span class=\"o\">.</span><span class=\"n\">_file</span><span class=\"o\">.</span><span class=\"n\">errors</span>\n",
    "\n",
    "    <span class=\"k\">def</span> <span class=\"nf\">fileno</span><span class=\"p\">(</span><span class=\"bp\">self</span><span class=\"p\">):</span>\n",
    "        <span class=\"k\">return</span> <span class=\"bp\">self</span><span class=\"o\">.</span><span class=\"n\">_file</span><span class=\"o\">.</span><span class=\"n\">fileno</span><span class=\"p\">()</span>\n",
    "\n",
    "    <span class=\"k\">def</span> <span class=\"nf\">flush</span><span class=\"p\">(</span><span class=\"bp\">self</span><span class=\"p\">):</span>\n",
    "        <span class=\"k\">return</span> <span class=\"bp\">self</span><span class=\"o\">.</span><span class=\"n\">_file</span><span class=\"o\">.</span><span class=\"n\">flush</span><span class=\"p\">()</span>\n",
    "\n",
    "    <span class=\"k\">def</span> <span class=\"nf\">isatty</span><span class=\"p\">(</span><span class=\"bp\">self</span><span class=\"p\">):</span>\n",
    "        <span class=\"k\">return</span> <span class=\"bp\">self</span><span class=\"o\">.</span><span class=\"n\">_file</span><span class=\"o\">.</span><span class=\"n\">isatty</span><span class=\"p\">()</span>\n",
    "\n",
    "    <span class=\"nd\">@property</span>\n",
    "    <span class=\"k\">def</span> <span class=\"nf\">mode</span><span class=\"p\">(</span><span class=\"bp\">self</span><span class=\"p\">):</span>\n",
    "        <span class=\"k\">return</span> <span class=\"bp\">self</span><span class=\"o\">.</span><span class=\"n\">_file</span><span class=\"o\">.</span><span class=\"n\">mode</span>\n",
    "\n",
    "    <span class=\"nd\">@mode</span><span class=\"o\">.</span><span class=\"n\">setter</span>\n",
    "    <span class=\"k\">def</span> <span class=\"nf\">mode</span><span class=\"p\">(</span><span class=\"bp\">self</span><span class=\"p\">,</span> <span class=\"n\">value</span><span class=\"p\">):</span>\n",
    "        <span class=\"bp\">self</span><span class=\"o\">.</span><span class=\"n\">_file</span><span class=\"o\">.</span><span class=\"n\">mode</span> <span class=\"o\">=</span> <span class=\"n\">value</span>\n",
    "\n",
    "    <span class=\"nd\">@mode</span><span class=\"o\">.</span><span class=\"n\">deleter</span>\n",
    "    <span class=\"k\">def</span> <span class=\"nf\">mode</span><span class=\"p\">(</span><span class=\"bp\">self</span><span class=\"p\">):</span>\n",
    "        <span class=\"k\">del</span> <span class=\"bp\">self</span><span class=\"o\">.</span><span class=\"n\">_file</span><span class=\"o\">.</span><span class=\"n\">mode</span>\n",
    "\n",
    "    <span class=\"nd\">@property</span>\n",
    "    <span class=\"k\">def</span> <span class=\"nf\">name</span><span class=\"p\">(</span><span class=\"bp\">self</span><span class=\"p\">):</span>\n",
    "        <span class=\"k\">return</span> <span class=\"bp\">self</span><span class=\"o\">.</span><span class=\"n\">_file</span><span class=\"o\">.</span><span class=\"n\">name</span>\n",
    "\n",
    "    <span class=\"nd\">@name</span><span class=\"o\">.</span><span class=\"n\">setter</span>\n",
    "    <span class=\"k\">def</span> <span class=\"nf\">name</span><span class=\"p\">(</span><span class=\"bp\">self</span><span class=\"p\">,</span> <span class=\"n\">value</span><span class=\"p\">):</span>\n",
    "        <span class=\"bp\">self</span><span class=\"o\">.</span><span class=\"n\">_file</span><span class=\"o\">.</span><span class=\"n\">name</span> <span class=\"o\">=</span> <span class=\"n\">value</span>\n",
    "\n",
    "    <span class=\"nd\">@name</span><span class=\"o\">.</span><span class=\"n\">deleter</span>\n",
    "    <span class=\"k\">def</span> <span class=\"nf\">name</span><span class=\"p\">(</span><span class=\"bp\">self</span><span class=\"p\">):</span>\n",
    "        <span class=\"k\">del</span> <span class=\"bp\">self</span><span class=\"o\">.</span><span class=\"n\">_file</span><span class=\"o\">.</span><span class=\"n\">name</span>\n",
    "\n",
    "    <span class=\"nd\">@property</span>\n",
    "    <span class=\"k\">def</span> <span class=\"nf\">newlines</span><span class=\"p\">(</span><span class=\"bp\">self</span><span class=\"p\">):</span>\n",
    "        <span class=\"k\">return</span> <span class=\"bp\">self</span><span class=\"o\">.</span><span class=\"n\">_file</span><span class=\"o\">.</span><span class=\"n\">newlines</span>\n",
    "\n",
    "    <span class=\"nd\">@newlines</span><span class=\"o\">.</span><span class=\"n\">setter</span>\n",
    "    <span class=\"k\">def</span> <span class=\"nf\">newlines</span><span class=\"p\">(</span><span class=\"bp\">self</span><span class=\"p\">,</span> <span class=\"n\">value</span><span class=\"p\">):</span>\n",
    "        <span class=\"bp\">self</span><span class=\"o\">.</span><span class=\"n\">_file</span><span class=\"o\">.</span><span class=\"n\">newlines</span> <span class=\"o\">=</span> <span class=\"n\">value</span>\n",
    "\n",
    "    <span class=\"nd\">@newlines</span><span class=\"o\">.</span><span class=\"n\">deleter</span>\n",
    "    <span class=\"k\">def</span> <span class=\"nf\">newlines</span><span class=\"p\">(</span><span class=\"bp\">self</span><span class=\"p\">):</span>\n",
    "        <span class=\"k\">del</span> <span class=\"bp\">self</span><span class=\"o\">.</span><span class=\"n\">_file</span><span class=\"o\">.</span><span class=\"n\">newlines</span>\n",
    "\n",
    "    <span class=\"k\">def</span> <span class=\"nf\">read</span><span class=\"p\">(</span><span class=\"bp\">self</span><span class=\"p\">,</span> <span class=\"o\">*</span><span class=\"n\">args</span><span class=\"p\">):</span>\n",
    "        <span class=\"k\">return</span> <span class=\"bp\">self</span><span class=\"o\">.</span><span class=\"n\">_file</span><span class=\"o\">.</span><span class=\"n\">read</span><span class=\"p\">(</span><span class=\"o\">*</span><span class=\"n\">args</span><span class=\"p\">)</span>\n",
    "\n",
    "    <span class=\"k\">def</span> <span class=\"nf\">readinto</span><span class=\"p\">(</span><span class=\"bp\">self</span><span class=\"p\">,</span> <span class=\"n\">buffer</span><span class=\"p\">):</span>\n",
    "        <span class=\"k\">return</span> <span class=\"bp\">self</span><span class=\"o\">.</span><span class=\"n\">_file</span><span class=\"o\">.</span><span class=\"n\">readinto</span><span class=\"p\">(</span><span class=\"n\">buffer</span><span class=\"p\">)</span>\n",
    "\n",
    "    <span class=\"k\">def</span> <span class=\"nf\">readline</span><span class=\"p\">(</span><span class=\"bp\">self</span><span class=\"p\">,</span> <span class=\"o\">*</span><span class=\"n\">args</span><span class=\"p\">):</span>\n",
    "        <span class=\"k\">return</span> <span class=\"bp\">self</span><span class=\"o\">.</span><span class=\"n\">_file</span><span class=\"o\">.</span><span class=\"n\">readline</span><span class=\"p\">(</span><span class=\"o\">*</span><span class=\"n\">args</span><span class=\"p\">)</span>\n",
    "\n",
    "    <span class=\"k\">def</span> <span class=\"nf\">readlines</span><span class=\"p\">(</span><span class=\"bp\">self</span><span class=\"p\">,</span> <span class=\"o\">*</span><span class=\"n\">args</span><span class=\"p\">):</span>\n",
    "        <span class=\"k\">return</span> <span class=\"bp\">self</span><span class=\"o\">.</span><span class=\"n\">_file</span><span class=\"o\">.</span><span class=\"n\">readlines</span><span class=\"p\">(</span><span class=\"o\">*</span><span class=\"n\">args</span><span class=\"p\">)</span>\n",
    "\n",
    "    <span class=\"k\">def</span> <span class=\"nf\">seek</span><span class=\"p\">(</span><span class=\"bp\">self</span><span class=\"p\">,</span> <span class=\"o\">*</span><span class=\"n\">args</span><span class=\"p\">):</span>\n",
    "        <span class=\"k\">return</span> <span class=\"bp\">self</span><span class=\"o\">.</span><span class=\"n\">_file</span><span class=\"o\">.</span><span class=\"n\">seek</span><span class=\"p\">(</span><span class=\"o\">*</span><span class=\"n\">args</span><span class=\"p\">)</span>\n",
    "\n",
    "    <span class=\"k\">def</span> <span class=\"nf\">tell</span><span class=\"p\">(</span><span class=\"bp\">self</span><span class=\"p\">):</span>\n",
    "        <span class=\"k\">return</span> <span class=\"bp\">self</span><span class=\"o\">.</span><span class=\"n\">_file</span><span class=\"o\">.</span><span class=\"n\">tell</span><span class=\"p\">()</span>\n",
    "\n",
    "    <span class=\"k\">def</span> <span class=\"nf\">truncate</span><span class=\"p\">(</span><span class=\"bp\">self</span><span class=\"p\">,</span> <span class=\"o\">*</span><span class=\"n\">args</span><span class=\"p\">):</span>\n",
    "        <span class=\"k\">return</span> <span class=\"bp\">self</span><span class=\"o\">.</span><span class=\"n\">_file</span><span class=\"o\">.</span><span class=\"n\">truncate</span><span class=\"p\">(</span><span class=\"o\">*</span><span class=\"n\">args</span><span class=\"p\">)</span>\n",
    "\n",
    "    <span class=\"c1\"># Finally, we reach the two methods</span>\n",
    "    <span class=\"c1\"># that we actually want to specialize!</span>\n",
    "    <span class=\"c1\"># These log each time data is written:</span>\n",
    "\n",
    "    <span class=\"k\">def</span> <span class=\"nf\">write</span><span class=\"p\">(</span><span class=\"bp\">self</span><span class=\"p\">,</span> <span class=\"n\">s</span><span class=\"p\">):</span>\n",
    "        <span class=\"bp\">self</span><span class=\"o\">.</span><span class=\"n\">_file</span><span class=\"o\">.</span><span class=\"n\">write</span><span class=\"p\">(</span><span class=\"n\">s</span><span class=\"p\">)</span>\n",
    "        <span class=\"bp\">self</span><span class=\"o\">.</span><span class=\"n\">_logger</span><span class=\"o\">.</span><span class=\"n\">debug</span><span class=\"p\">(</span><span class=\"s1\">'wrote </span><span class=\"si\">%s</span><span class=\"s1\"> bytes to </span><span class=\"si\">%s</span><span class=\"s1\">'</span><span class=\"p\">,</span> <span class=\"nb\">len</span><span class=\"p\">(</span><span class=\"n\">s</span><span class=\"p\">),</span> <span class=\"bp\">self</span><span class=\"o\">.</span><span class=\"n\">_file</span><span class=\"p\">)</span>\n",
    "\n",
    "    <span class=\"k\">def</span> <span class=\"nf\">writelines</span><span class=\"p\">(</span><span class=\"bp\">self</span><span class=\"p\">,</span> <span class=\"n\">strings</span><span class=\"p\">):</span>\n",
    "        <span class=\"k\">if</span> <span class=\"bp\">self</span><span class=\"o\">.</span><span class=\"n\">closed</span><span class=\"p\">:</span>\n",
    "            <span class=\"k\">raise</span> <span class=\"ne\">ValueError</span><span class=\"p\">(</span><span class=\"s1\">'this file is closed'</span><span class=\"p\">)</span>\n",
    "        <span class=\"k\">for</span> <span class=\"n\">s</span> <span class=\"ow\">in</span> <span class=\"n\">strings</span><span class=\"p\">:</span>\n",
    "            <span class=\"bp\">self</span><span class=\"o\">.</span><span class=\"n\">write</span><span class=\"p\">(</span><span class=\"n\">s</span><span class=\"p\">)</span>\n",
    "</pre>"
   ]
  },
  {
   "cell_type": "markdown",
   "metadata": {},
   "source": [
    "So for the sake of the half-dozen lines of code at the bottom that supplement the behavior of `write()` and `writelines()`, another hundred or so lines of code wound up being necessary.\n",
    "\n",
    "You will notice that each Python object attribute goads us into being even more verbose than Java! A typical Java attribute is implemented as exactly two methods, like `getEncoding()` and `setEncoding()`. A Python attribute, on the other hand, will in the general case need to be backed by three actions — get, set, and delete — because Python’s object model is dynamic and supports the idea that an attribute might disappear from an instance.\n",
    "\n",
    "Of course, if the class you are decorating does not have as many methods and attributes as the Python file object we took as our example, then your wrapper will be shorter. But in the general case, writing out a full wrapper class will be tedious unless you have a tool like an IDE that can automate the process. Also, the wrapper will need to be updated in the future if the underlying object gains (or loses) any methods, arguments, or attributes."
   ]
  },
  {
   "cell_type": "markdown",
   "metadata": {},
   "source": [
    "## Implementing: Tactical wrapper\n",
    "The wrapper in the previous section might have struck you as ridiculous. It tackled the Python file object as a general example of a class that needed to be wrapped, instead of studying the how file objects work to look for shortcuts:\n",
    "\n",
    "+ File objects are implemented in the C language and don’t, in fact, permit deletion of any of their attributes. So our wrapper could have omitted all 6 deleter methods without any consequence, since the default behavior of a property in the absence of a deleter is to disallow deletion anyway. This would have saved 18 lines of code.\n",
    "\n",
    "\n",
    "+ All file attributes except `mode` are read-only and raise an `AttributeError` if assigned to — which is the behavior if a property lacks a setter method. So 5 of our 6 setters can be omitted, saving 15 more lines of code and bringing our wrapper to ⅓ its original length without sacrificing correctness.\n",
    "\n",
    "\n",
    "It might also have occurred to you that the code to which you are passing the wrapper is unlikely to call every single file method that exists. What if it only calls two methods? Or only one? In many cases a programmer has found that a trivial wrapper like the following will perfectly satisfy real-world code that just wants to write to a file:"
   ]
  },
  {
   "cell_type": "markdown",
   "metadata": {},
   "source": [
    "<pre class=\"cd\"><span></span><span class=\"c1\"># Tactical version of Decorator Pattern:</span>\n",
    "<span class=\"c1\"># what if you read the code, and the only thing</span>\n",
    "<span class=\"c1\"># the library really needs is the write() method?</span>\n",
    "\n",
    "<span class=\"k\">class</span> <span class=\"nc\">WriteLoggingFile2</span><span class=\"p\">(</span><span class=\"nb\">object</span><span class=\"p\">):</span>\n",
    "    <span class=\"k\">def</span> <span class=\"fm\">__init__</span><span class=\"p\">(</span><span class=\"bp\">self</span><span class=\"p\">,</span> <span class=\"n\">file</span><span class=\"p\">,</span> <span class=\"n\">logger</span><span class=\"p\">):</span>\n",
    "        <span class=\"bp\">self</span><span class=\"o\">.</span><span class=\"n\">_file</span> <span class=\"o\">=</span> <span class=\"n\">file</span>\n",
    "        <span class=\"bp\">self</span><span class=\"o\">.</span><span class=\"n\">_logger</span> <span class=\"o\">=</span> <span class=\"n\">logger</span>\n",
    "\n",
    "    <span class=\"k\">def</span> <span class=\"nf\">write</span><span class=\"p\">(</span><span class=\"bp\">self</span><span class=\"p\">,</span> <span class=\"n\">s</span><span class=\"p\">):</span>\n",
    "        <span class=\"bp\">self</span><span class=\"o\">.</span><span class=\"n\">_file</span><span class=\"o\">.</span><span class=\"n\">write</span><span class=\"p\">(</span><span class=\"n\">s</span><span class=\"p\">)</span>\n",
    "        <span class=\"bp\">self</span><span class=\"o\">.</span><span class=\"n\">_logger</span><span class=\"o\">.</span><span class=\"n\">debug</span><span class=\"p\">(</span><span class=\"s1\">'wrote </span><span class=\"si\">%s</span><span class=\"s1\"> bytes to </span><span class=\"si\">%s</span><span class=\"s1\">'</span><span class=\"p\">,</span> <span class=\"nb\">len</span><span class=\"p\">(</span><span class=\"n\">s</span><span class=\"p\">),</span> <span class=\"bp\">self</span><span class=\"o\">.</span><span class=\"n\">_file</span><span class=\"p\">)</span>\n",
    "</pre>"
   ]
  },
  {
   "cell_type": "markdown",
   "metadata": {},
   "source": [
    "Yes, this can admittedly be a bit dangerous. A routine that seems so happy with a minimal wrapper like this can suddenly fail later if rare circumstances make it dig into methods or attributes that you never implemented because you never saw it use them. Even if you audit the library’s code and are sure it can never call any method besides `write()`, that could change the next time you upgrade the library to a new version.\n",
    "\n",
    "In a more formal programming language, a duck typing requirement like “this function requires a file object” would likely be replaced with an exact specification like “this argument needs to support a `writelines()` method” or “pass an object that offers every methods in the interface `IWritableFile`.” But most Python code lacks this precision and will force you, as the author of a wrapper class, to decide where to draw the line between the magnificent pedantry of wrapping every possible method and the danger of not wrapping enough."
   ]
  },
  {
   "cell_type": "markdown",
   "metadata": {},
   "source": [
    "## Implementing: Dynamic wrapper\n",
    "A very common approach to the Decorator Pattern in Python is the dynamic wrapper. Instead of trying to implement a method and property for every method and attribute on the wrapped object, a dynamic wrapper intercepts live attribute accesses as the program executes and responds by trying to access the same attribute on the wrapped object.\n",
    "\n",
    "A dynamic wrapper implements the dunder methods `__getattr__()`, `__setattr__()`, and — if it really wants to be feature-complete — `__delattr__()` and responds to each of them by performing the equivalent operation on the wrapped object. Because `__getattr__()` is only invoked for attributes that are in fact missing on the wrapper, the wrapper is free to offer real implementations of any methods or properties it wants to intercept.\n",
    "\n",
    "There are a few edge cases that prevent every attribute access from being handled with `__getattr__()`. For example, if the wrapped object is iterable, then the basic operation `iter()` will fail on the wrapper if the wrapper is not given a real `__iter__()` method of its own. Similarly, even if the wrapped object is an iterator, `next()` will fail unless the wrapper offers a real `__next__()`, because these two operations examine an object’s class for dunder methods instead of hitting the object directly with a `__getattr__()`.\n",
    "\n",
    "As a result of these special cases, a getattr-powered wrapper usually involves at least a half-dozen methods in addition to the methods you specifically want to specialize:"
   ]
  },
  {
   "cell_type": "markdown",
   "metadata": {},
   "source": [
    "<pre class=\"cd\"><span></span><span class=\"c1\"># Dynamic version of Decorator Pattern: intercept live attributes</span>\n",
    "\n",
    "<span class=\"k\">class</span> <span class=\"nc\">WriteLoggingFile3</span><span class=\"p\">(</span><span class=\"nb\">object</span><span class=\"p\">):</span>\n",
    "    <span class=\"k\">def</span> <span class=\"fm\">__init__</span><span class=\"p\">(</span><span class=\"bp\">self</span><span class=\"p\">,</span> <span class=\"n\">file</span><span class=\"p\">,</span> <span class=\"n\">logger</span><span class=\"p\">):</span>\n",
    "        <span class=\"bp\">self</span><span class=\"o\">.</span><span class=\"n\">_file</span> <span class=\"o\">=</span> <span class=\"n\">file</span>\n",
    "        <span class=\"bp\">self</span><span class=\"o\">.</span><span class=\"n\">_logger</span> <span class=\"o\">=</span> <span class=\"n\">logger</span>\n",
    "\n",
    "    <span class=\"c1\"># The two methods we actually want to specialize,</span>\n",
    "    <span class=\"c1\"># to log each occasion on which data is written.</span>\n",
    "\n",
    "    <span class=\"k\">def</span> <span class=\"nf\">write</span><span class=\"p\">(</span><span class=\"bp\">self</span><span class=\"p\">,</span> <span class=\"n\">s</span><span class=\"p\">):</span>\n",
    "        <span class=\"bp\">self</span><span class=\"o\">.</span><span class=\"n\">_file</span><span class=\"o\">.</span><span class=\"n\">write</span><span class=\"p\">(</span><span class=\"n\">s</span><span class=\"p\">)</span>\n",
    "        <span class=\"bp\">self</span><span class=\"o\">.</span><span class=\"n\">_logger</span><span class=\"o\">.</span><span class=\"n\">debug</span><span class=\"p\">(</span><span class=\"s1\">'wrote </span><span class=\"si\">%s</span><span class=\"s1\"> bytes to </span><span class=\"si\">%s</span><span class=\"s1\">'</span><span class=\"p\">,</span> <span class=\"nb\">len</span><span class=\"p\">(</span><span class=\"n\">s</span><span class=\"p\">),</span> <span class=\"bp\">self</span><span class=\"o\">.</span><span class=\"n\">_file</span><span class=\"p\">)</span>\n",
    "\n",
    "    <span class=\"k\">def</span> <span class=\"nf\">writelines</span><span class=\"p\">(</span><span class=\"bp\">self</span><span class=\"p\">,</span> <span class=\"n\">strings</span><span class=\"p\">):</span>\n",
    "        <span class=\"k\">if</span> <span class=\"bp\">self</span><span class=\"o\">.</span><span class=\"n\">closed</span><span class=\"p\">:</span>\n",
    "            <span class=\"k\">raise</span> <span class=\"ne\">ValueError</span><span class=\"p\">(</span><span class=\"s1\">'this file is closed'</span><span class=\"p\">)</span>\n",
    "        <span class=\"k\">for</span> <span class=\"n\">s</span> <span class=\"ow\">in</span> <span class=\"n\">strings</span><span class=\"p\">:</span>\n",
    "            <span class=\"bp\">self</span><span class=\"o\">.</span><span class=\"n\">write</span><span class=\"p\">(</span><span class=\"n\">s</span><span class=\"p\">)</span>\n",
    "\n",
    "    <span class=\"c1\"># Two methods we don't actually want to intercept,</span>\n",
    "    <span class=\"c1\"># but iter() and next() will be upset without them.</span>\n",
    "\n",
    "    <span class=\"k\">def</span> <span class=\"fm\">__iter__</span><span class=\"p\">(</span><span class=\"bp\">self</span><span class=\"p\">):</span>\n",
    "        <span class=\"k\">return</span> <span class=\"bp\">self</span><span class=\"o\">.</span><span class=\"vm\">__dict__</span><span class=\"p\">[</span><span class=\"s1\">'_file'</span><span class=\"p\">]</span><span class=\"o\">.</span><span class=\"fm\">__iter__</span><span class=\"p\">()</span>\n",
    "\n",
    "    <span class=\"k\">def</span> <span class=\"fm\">__next__</span><span class=\"p\">(</span><span class=\"bp\">self</span><span class=\"p\">):</span>\n",
    "        <span class=\"k\">return</span> <span class=\"bp\">self</span><span class=\"o\">.</span><span class=\"vm\">__dict__</span><span class=\"p\">[</span><span class=\"s1\">'_file'</span><span class=\"p\">]</span><span class=\"o\">.</span><span class=\"fm\">__next__</span><span class=\"p\">()</span>\n",
    "\n",
    "    <span class=\"c1\"># Offer every other method and property dynamically.</span>\n",
    "\n",
    "    <span class=\"k\">def</span> <span class=\"fm\">__getattr__</span><span class=\"p\">(</span><span class=\"bp\">self</span><span class=\"p\">,</span> <span class=\"n\">name</span><span class=\"p\">):</span>\n",
    "        <span class=\"k\">return</span> <span class=\"nb\">getattr</span><span class=\"p\">(</span><span class=\"bp\">self</span><span class=\"o\">.</span><span class=\"vm\">__dict__</span><span class=\"p\">[</span><span class=\"s1\">'_file'</span><span class=\"p\">],</span> <span class=\"n\">name</span><span class=\"p\">)</span>\n",
    "\n",
    "    <span class=\"k\">def</span> <span class=\"fm\">__setattr__</span><span class=\"p\">(</span><span class=\"bp\">self</span><span class=\"p\">,</span> <span class=\"n\">name</span><span class=\"p\">,</span> <span class=\"n\">value</span><span class=\"p\">):</span>\n",
    "        <span class=\"k\">if</span> <span class=\"n\">name</span> <span class=\"ow\">in</span> <span class=\"p\">(</span><span class=\"s1\">'_file'</span><span class=\"p\">,</span> <span class=\"s1\">'_logger'</span><span class=\"p\">):</span>\n",
    "            <span class=\"bp\">self</span><span class=\"o\">.</span><span class=\"vm\">__dict__</span><span class=\"p\">[</span><span class=\"n\">name</span><span class=\"p\">]</span> <span class=\"o\">=</span> <span class=\"n\">value</span>\n",
    "        <span class=\"k\">else</span><span class=\"p\">:</span>\n",
    "            <span class=\"nb\">setattr</span><span class=\"p\">(</span><span class=\"bp\">self</span><span class=\"o\">.</span><span class=\"vm\">__dict__</span><span class=\"p\">[</span><span class=\"s1\">'_file'</span><span class=\"p\">],</span> <span class=\"n\">name</span><span class=\"p\">,</span> <span class=\"n\">value</span><span class=\"p\">)</span>\n",
    "\n",
    "    <span class=\"k\">def</span> <span class=\"fm\">__delattr__</span><span class=\"p\">(</span><span class=\"bp\">self</span><span class=\"p\">,</span> <span class=\"n\">name</span><span class=\"p\">):</span>\n",
    "        <span class=\"nb\">delattr</span><span class=\"p\">(</span><span class=\"bp\">self</span><span class=\"o\">.</span><span class=\"vm\">__dict__</span><span class=\"p\">[</span><span class=\"s1\">'_file'</span><span class=\"p\">],</span> <span class=\"n\">name</span><span class=\"p\">)</span>\n",
    "</pre>"
   ]
  },
  {
   "cell_type": "markdown",
   "metadata": {},
   "source": [
    "As you can see, the code can be quite economical compared to the vast slate of methods we saw earlier in `WriteLoggingFile1` for manually implementing every possible attribute.\n",
    "\n",
    "This extra level of indirection does carry a small performance penalty for every attribute access, but is usually preferred to the burden of writing a static wrapper.\n",
    "\n",
    "Dynamic wrappers also offer pleasant insulation against changes that might happen in the future to the object being wrapped. If a future version of Python adds or removes an attribute or method from the file object, the code of `WriteLoggingFile3` will require no change at all."
   ]
  },
  {
   "cell_type": "markdown",
   "metadata": {},
   "source": [
    "## Caveat: Wrapping doesn’t actually work\n",
    "If Python didn’t support introspection — if the only operation you could perform on an object was attribute lookup, whether statically through an identifier like `f.write` or dynamically via `getattr(f, attrname)` string lookup — then a decorator could be foolproof. As long as every attribute lookup that succeeds on the wrapped object will return the same sort of value when performed on the wrapper, then other Python code would never know the difference.\n",
    "\n",
    "But Python is not merely a dynamic programming language; it also supports introspection. And introspection is the downfall of the Decorator Pattern. If the code to which you pass the wrapper decides to look deeper, all kinds of differences become apparent. The native file object, for example, is buttressed with many private methods and attributes:"
   ]
  },
  {
   "cell_type": "markdown",
   "metadata": {},
   "source": [
    "<pre class=\"cd\"><span></span><span class=\"gp\">&gt;&gt;&gt; </span><span class=\"kn\">from</span> <span class=\"nn\">logging</span> <span class=\"kn\">import</span> <span class=\"n\">getLogger</span>\n",
    "<span class=\"gp\">&gt;&gt;&gt; </span><span class=\"n\">f</span> <span class=\"o\">=</span> <span class=\"nb\">open</span><span class=\"p\">(</span><span class=\"s1\">'/etc/passwd'</span><span class=\"p\">)</span>\n",
    "<span class=\"gp\">&gt;&gt;&gt; </span><span class=\"nb\">dir</span><span class=\"p\">(</span><span class=\"n\">f</span><span class=\"p\">)</span>\n",
    "<span class=\"go\">['_CHUNK_SIZE', '__class__', '__del__', '__delattr__', '__dict__', '__dir__', '__doc__', '__enter__', '__eq__', '__exit__', '__format__', '__ge__', '__getattribute__', '__getstate__', '__gt__', '__hash__', '__init__', '__init_subclass__', '__iter__', '__le__', '__lt__', '__ne__', '__new__', '__next__', '__reduce__', '__reduce_ex__', '__repr__', '__setattr__', '__sizeof__', '__str__', '__subclasshook__', '_checkClosed', '_checkReadable', '_checkSeekable', '_checkWritable', '_finalizing', 'buffer', 'close', 'closed', 'detach', 'encoding', 'errors', 'fileno', 'flush', 'isatty', 'line_buffering', 'mode', 'name', 'newlines', 'read', 'readable', 'readline', 'readlines', 'seek', 'seekable', 'tell', 'truncate', 'writable', 'write', 'writelines']</span>\n",
    "</pre>"
   ]
  },
  {
   "cell_type": "markdown",
   "metadata": {},
   "source": [
    "Your wrapper, on the other hand — if you have crafted it around the file’s public interface — will lack all of those private accouterments. Behind your carefully implemented public methods and attributes are the bare dunder methods of a generic Python `object`, plus the few you had to implement to maintain compatibility:"
   ]
  },
  {
   "cell_type": "markdown",
   "metadata": {},
   "source": [
    "<pre class=\"cd\"><span></span><span class=\"gp\">&gt;&gt;&gt; </span><span class=\"n\">w</span> <span class=\"o\">=</span> <span class=\"n\">WriteLoggingFile1</span><span class=\"p\">(</span><span class=\"n\">f</span><span class=\"p\">,</span> <span class=\"n\">getLogger</span><span class=\"p\">())</span>\n",
    "<span class=\"gp\">&gt;&gt;&gt; </span><span class=\"nb\">dir</span><span class=\"p\">(</span><span class=\"n\">w</span><span class=\"p\">)</span>\n",
    "<span class=\"go\">['__class__', '__delattr__', '__dict__', '__dir__', '__doc__', '__enter__', '__eq__', '__exit__', '__format__', '__ge__', '__getattribute__', '__gt__', '__hash__', '__init__', '__init_subclass__', '__iter__', '__le__', '__lt__', '__module__', '__ne__', '__new__', '__next__', '__reduce__', '__reduce_ex__', '__repr__', '__setattr__', '__sizeof__', '__str__', '__subclasshook__', '__weakref__', '_file', '_logger', 'close', 'closed', 'encoding', 'errors', 'fileno', 'flush', 'isatty', 'mode', 'name', 'newlines', 'read', 'readinto', 'readline', 'readlines', 'seek', 'tell', 'truncate', 'write', 'writelines']</span>\n",
    "</pre>"
   ]
  },
  {
   "cell_type": "markdown",
   "metadata": {},
   "source": [
    "The tactical wrapper, of course, looks spectacularly different than a real file object, because it does not even attempt to provide the full range of methods available on the wrapped object:"
   ]
  },
  {
   "cell_type": "markdown",
   "metadata": {},
   "source": [
    "<pre class=\"cd\"><span></span><span class=\"gp\">&gt;&gt;&gt; </span><span class=\"n\">w</span> <span class=\"o\">=</span> <span class=\"n\">WriteLoggingFile2</span><span class=\"p\">(</span><span class=\"n\">f</span><span class=\"p\">,</span> <span class=\"n\">getLogger</span><span class=\"p\">())</span>\n",
    "<span class=\"gp\">&gt;&gt;&gt; </span><span class=\"nb\">dir</span><span class=\"p\">(</span><span class=\"n\">w</span><span class=\"p\">)</span>\n",
    "<span class=\"go\">['__class__', '__delattr__', '__dict__', '__dir__', '__doc__', '__eq__', '__format__', '__ge__', '__getattribute__', '__gt__', '__hash__', '__init__', '__init_subclass__', '__le__', '__lt__', '__module__', '__ne__', '__new__', '__reduce__', '__reduce_ex__', '__repr__', '__setattr__', '__sizeof__', '__str__', '__subclasshook__', '__weakref__', '_file', '_logger', 'write']</span>\n",
    "</pre>"
   ]
  },
  {
   "cell_type": "markdown",
   "metadata": {},
   "source": [
    "More interesting is the getattr wrapper. Even though, in practice, it offers access to every attribute and method of the wrapped class, they are completely missing from its `dir()` because each attribute only springs into existence when accessed by name."
   ]
  },
  {
   "cell_type": "markdown",
   "metadata": {},
   "source": [
    "<pre class=\"cd\"><span></span><span class=\"gp\">&gt;&gt;&gt; </span><span class=\"n\">w</span> <span class=\"o\">=</span> <span class=\"n\">WriteLoggingFile3</span><span class=\"p\">(</span><span class=\"n\">f</span><span class=\"p\">,</span> <span class=\"n\">getLogger</span><span class=\"p\">())</span>\n",
    "<span class=\"gp\">&gt;&gt;&gt; </span><span class=\"nb\">dir</span><span class=\"p\">(</span><span class=\"n\">w</span><span class=\"p\">)</span>\n",
    "<span class=\"go\">['__class__', '__delattr__', '__dict__', '__dir__', '__doc__', '__eq__', '__format__', '__ge__', '__getattr__', '__getattribute__', '__gt__', '__hash__', '__init__', '__init_subclass__', '__iter__', '__le__', '__lt__', '__module__', '__ne__', '__new__', '__next__', '__reduce__', '__reduce_ex__', '__repr__', '__setattr__', '__sizeof__', '__str__', '__subclasshook__', '__weakref__', '_file', '_logger', 'write', 'writelines']</span>\n",
    "</pre>"
   ]
  },
  {
   "cell_type": "markdown",
   "metadata": {},
   "source": [
    "Could even these differences be ironed out? If you scroll through the many dunder methods in the Python Data Model, your might be struck by a sudden wild hope when you see the `__dir__` method — surely this is the final secret to camouflaging your wrapper?\n",
    "\n",
    "Alas, it will not be enough. Even if you implement `__dir__()` and forward it through to the wrapped object, Python special-cases the `__dict__` attribute — accessing it always provides direct access to the dictionary that holds a Python class instance’s attributes."
   ]
  },
  {
   "cell_type": "markdown",
   "metadata": {},
   "source": [
    "<pre class=\"cd\"><span></span><span class=\"gp\">&gt;&gt;&gt; </span><span class=\"n\">f</span><span class=\"o\">.</span><span class=\"vm\">__dict__</span>\n",
    "<span class=\"go\">{'mode': 'r'}</span>\n",
    "<span class=\"gp\">&gt;&gt;&gt; </span><span class=\"n\">w</span><span class=\"o\">.</span><span class=\"vm\">__dict__</span>\n",
    "<span class=\"go\">{'_file': &lt;_io.TextIOWrapper name='/etc/passwd' mode='r' encoding='UTF-8'&gt;, '_logger': &lt;RootLogger root (WARNING)&gt;}</span>\n",
    "</pre>"
   ]
  },
  {
   "cell_type": "markdown",
   "metadata": {},
   "source": [
    "You might begin to think of even more obscure ways to subvert Python’s introspection — at this point you might already be thinking of `__slots__`, for example — but all roads lead to the same place. However clever and obscure your maneuvers, at least a small chink will still be left in your wrapper’s armor which will allow careful enough introspection to see the difference. Thus we are lead to a conclusion:"
   ]
  },
  {
   "cell_type": "markdown",
   "metadata": {},
   "source": [
    "<div class=\"verdict-div\"><p class=\"verdict-title\">Maxim</p>\n",
    "\n",
    "The Decorator Pattern in Python supports programming — but not metaprogramming. Code that is happy to simply access attributes will be happy to accept a Decorator Pattern wrapper instead. But code that indulges in introspection will see the difference.</div>"
   ]
  },
  {
   "cell_type": "markdown",
   "metadata": {},
   "source": [
    "Among other things, Python code that attempts to list an object’s attributes, examine its `__class__`, or directly access its `__dict__` will see differences between the object it expected and the decorator object you have in fact given it instead. Well-written application code would never do such things, of course — they are necessary only when implementing a developer tool like a framework, test harness, or debugger. But as you don’t always have the option of dealing solely with well-written libraries, be prepared to see and work around any symptoms of intrusive introspection as you deploy the Decorator Pattern."
   ]
  },
  {
   "cell_type": "markdown",
   "metadata": {},
   "source": [
    "## Hack: Monkey-patch each object\n",
    "There are two final approaches to decoration based on the questionable practice of monkey patching. The first approach takes each object that needs decoration and installs a new method directly on the object, shadowing the official method that remains on the class itself.\n",
    "\n",
    "If you have ever attempted this maneuver yourself, you might have run aground on the fact that a function installed on a Python object instance does not receive an automatic `self` argument — instead, it sees only the arguments with which it is literally invoked. So a first try at supplementing a file’s `write()` with logging:"
   ]
  },
  {
   "cell_type": "markdown",
   "metadata": {},
   "source": [
    "<pre class=\"cd\"><span></span><span class=\"gp\">&gt;&gt;&gt; </span><span class=\"k\">def</span> <span class=\"nf\">bind_write_method</span><span class=\"p\">(</span><span class=\"n\">logger</span><span class=\"p\">):</span>\n",
    "<span class=\"gp\">... </span>    <span class=\"c1\"># Does not work: will not receive `self` argument</span>\n",
    "<span class=\"gp\">... </span>    <span class=\"k\">def</span> <span class=\"nf\">write_and_log</span><span class=\"p\">(</span><span class=\"bp\">self</span><span class=\"p\">,</span> <span class=\"n\">s</span><span class=\"p\">):</span>\n",
    "<span class=\"gp\">... </span>        <span class=\"bp\">self</span><span class=\"o\">.</span><span class=\"n\">write</span><span class=\"p\">(</span><span class=\"n\">s</span><span class=\"p\">)</span>\n",
    "<span class=\"gp\">... </span>        <span class=\"n\">logger</span><span class=\"o\">.</span><span class=\"n\">debug</span><span class=\"p\">(</span><span class=\"s1\">'wrote </span><span class=\"si\">%s</span><span class=\"s1\"> bytes to </span><span class=\"si\">%s</span><span class=\"s1\">'</span><span class=\"p\">,</span> <span class=\"nb\">len</span><span class=\"p\">(</span><span class=\"n\">s</span><span class=\"p\">),</span> <span class=\"bp\">self</span><span class=\"o\">.</span><span class=\"n\">_file</span><span class=\"p\">)</span>\n",
    "<span class=\"gp\">... </span>    <span class=\"k\">return</span> <span class=\"n\">write_and_log</span>\n",
    "</pre>"
   ]
  },
  {
   "cell_type": "markdown",
   "metadata": {},
   "source": [
    "— will die with an error because the new method sees only one argument, not two:"
   ]
  },
  {
   "cell_type": "markdown",
   "metadata": {},
   "source": [
    "<pre class=\"cd\"><span></span><span class=\"gp\">&gt;&gt;&gt; </span><span class=\"n\">f</span> <span class=\"o\">=</span> <span class=\"nb\">open</span><span class=\"p\">(</span><span class=\"s1\">'/dev/null'</span><span class=\"p\">,</span> <span class=\"s1\">'w'</span><span class=\"p\">)</span>\n",
    "<span class=\"gp\">&gt;&gt;&gt; </span><span class=\"n\">f</span><span class=\"o\">.</span><span class=\"n\">write</span>\n",
    "<span class=\"go\">&lt;built-in method write ...&gt;</span>\n",
    "<span class=\"gp\">&gt;&gt;&gt; </span><span class=\"n\">f</span><span class=\"o\">.</span><span class=\"n\">write</span> <span class=\"o\">=</span> <span class=\"n\">bind_write_method</span><span class=\"p\">(</span><span class=\"n\">getLogger</span><span class=\"p\">())</span>\n",
    "<span class=\"gp\">&gt;&gt;&gt; </span><span class=\"n\">f</span><span class=\"o\">.</span><span class=\"n\">write</span><span class=\"p\">(</span><span class=\"s1\">'Hello, world.'</span><span class=\"p\">)</span>\n",
    "<span class=\"gt\">Traceback (most recent call last):</span>\n",
    "  <span class=\"c\">...</span>\n",
    "<span class=\"gr\">TypeError</span>: <span class=\"n\">write_and_log() missing 1 required positional argument: 's'</span>\n",
    "</pre>"
   ]
  },
  {
   "cell_type": "markdown",
   "metadata": {},
   "source": [
    "The quick way to resolve the dilemma is to do the binding yourself, by providing the object instance to the closure that wraps the new method itself:"
   ]
  },
  {
   "cell_type": "markdown",
   "metadata": {},
   "source": [
    "<pre class=\"cd\"><span></span><span class=\"gp\">&gt;&gt;&gt; </span><span class=\"k\">def</span> <span class=\"nf\">bind_write_method</span><span class=\"p\">(</span><span class=\"bp\">self</span><span class=\"p\">,</span> <span class=\"n\">logger</span><span class=\"p\">):</span>\n",
    "<span class=\"gp\">... </span>    <span class=\"k\">def</span> <span class=\"nf\">write_and_log</span><span class=\"p\">(</span><span class=\"n\">s</span><span class=\"p\">):</span>\n",
    "<span class=\"gp\">... </span>        <span class=\"n\">write</span><span class=\"p\">(</span><span class=\"n\">s</span><span class=\"p\">)</span>\n",
    "<span class=\"gp\">... </span>        <span class=\"nb\">print</span><span class=\"p\">(</span><span class=\"s1\">'wrote </span><span class=\"si\">{}</span><span class=\"s1\"> bytes to </span><span class=\"si\">{}</span><span class=\"s1\">'</span><span class=\"o\">.</span><span class=\"n\">format</span><span class=\"p\">(</span><span class=\"nb\">len</span><span class=\"p\">(</span><span class=\"n\">s</span><span class=\"p\">),</span> <span class=\"bp\">self</span><span class=\"o\">.</span><span class=\"n\">name</span><span class=\"p\">))</span>\n",
    "<span class=\"gp\">... </span>    <span class=\"n\">write</span> <span class=\"o\">=</span> <span class=\"bp\">self</span><span class=\"o\">.</span><span class=\"n\">write</span>\n",
    "<span class=\"gp\">... </span>    <span class=\"k\">return</span> <span class=\"n\">write_and_log</span>\n",
    "</pre>"
   ]
  },
  {
   "cell_type": "markdown",
   "metadata": {},
   "source": [
    "<pre class=\"cd\"><span></span><span class=\"gp\">&gt;&gt;&gt; </span><span class=\"n\">f</span> <span class=\"o\">=</span> <span class=\"nb\">open</span><span class=\"p\">(</span><span class=\"s1\">'/dev/null'</span><span class=\"p\">,</span> <span class=\"s1\">'w'</span><span class=\"p\">)</span>\n",
    "<span class=\"gp\">&gt;&gt;&gt; </span><span class=\"n\">f</span><span class=\"o\">.</span><span class=\"n\">write</span> <span class=\"o\">=</span> <span class=\"n\">bind_write_method</span><span class=\"p\">(</span><span class=\"n\">f</span><span class=\"p\">,</span> <span class=\"n\">getLogger</span><span class=\"p\">())</span>\n",
    "<span class=\"gp\">&gt;&gt;&gt; </span><span class=\"n\">f</span><span class=\"o\">.</span><span class=\"n\">write</span><span class=\"p\">(</span><span class=\"s1\">'Hello, world.'</span><span class=\"p\">)</span>\n",
    "<span class=\"go\">wrote 13 bytes to /dev/null</span>\n",
    "</pre>"
   ]
  },
  {
   "cell_type": "markdown",
   "metadata": {},
   "source": [
    "While clunky, this approach does let you update the action of a single method on a single object instance while leaving the entire rest of its behavior alone."
   ]
  },
  {
   "cell_type": "markdown",
   "metadata": {},
   "source": [
    "## Hack: Monkey-patch the class\n",
    "Another approach you might see in the wild is to create a subclass that has the desired behaviors overridden, and then to surgically change the class of the object instance. This is not, alas, possible in the general case, and in fact fails for our example here because the file class, like all built-in classes, does not permit assignment to its `__class__` attribute:"
   ]
  },
  {
   "cell_type": "markdown",
   "metadata": {},
   "source": [
    "<pre class=\"cd\"><span></span><span class=\"gp\">&gt;&gt;&gt; </span><span class=\"n\">f</span> <span class=\"o\">=</span> <span class=\"nb\">open</span><span class=\"p\">(</span><span class=\"s1\">'/etc/passwd'</span><span class=\"p\">)</span>\n",
    "<span class=\"gp\">&gt;&gt;&gt; </span><span class=\"k\">class</span> <span class=\"nc\">Foo</span><span class=\"p\">(</span><span class=\"nb\">type</span><span class=\"p\">(</span><span class=\"n\">f</span><span class=\"p\">)):</span>\n",
    "<span class=\"gp\">... </span>    <span class=\"k\">def</span> <span class=\"nf\">write_and_log</span><span class=\"p\">(</span><span class=\"bp\">self</span><span class=\"p\">,</span> <span class=\"n\">s</span><span class=\"p\">):</span>\n",
    "<span class=\"gp\">... </span>        <span class=\"bp\">self</span><span class=\"o\">.</span><span class=\"n\">write</span><span class=\"p\">(</span><span class=\"n\">s</span><span class=\"p\">)</span>\n",
    "<span class=\"gp\">... </span>        <span class=\"n\">logger</span><span class=\"o\">.</span><span class=\"n\">debug</span><span class=\"p\">(</span><span class=\"s1\">'wrote </span><span class=\"si\">%s</span><span class=\"s1\"> bytes to </span><span class=\"si\">%s</span><span class=\"s1\">'</span><span class=\"p\">,</span> <span class=\"nb\">len</span><span class=\"p\">(</span><span class=\"n\">s</span><span class=\"p\">),</span> <span class=\"bp\">self</span><span class=\"o\">.</span><span class=\"n\">_file</span><span class=\"p\">)</span>\n",
    "<span class=\"gp\">...</span>\n",
    "<span class=\"gp\">&gt;&gt;&gt; </span><span class=\"n\">f</span><span class=\"o\">.</span><span class=\"vm\">__class__</span> <span class=\"o\">=</span> <span class=\"n\">Foo</span>\n",
    "<span class=\"gt\">Traceback (most recent call last):</span>\n",
    "  <span class=\"c\">...</span>\n",
    "<span class=\"gr\">TypeError</span>: <span class=\"n\">__class__ assignment only supported for heap types or ModuleType subclasses</span>\n",
    "</pre>"
   ]
  }
 ],
 "metadata": {
  "kernelspec": {
   "display_name": "Python 3 (ipykernel)",
   "language": "python",
   "name": "python3"
  },
  "language_info": {
   "codemirror_mode": {
    "name": "ipython",
    "version": 3
   },
   "file_extension": ".py",
   "mimetype": "text/x-python",
   "name": "python",
   "nbconvert_exporter": "python",
   "pygments_lexer": "ipython3",
   "version": "3.9.4"
  },
  "toc": {
   "base_numbering": 1,
   "nav_menu": {},
   "number_sections": true,
   "sideBar": true,
   "skip_h1_title": false,
   "title_cell": "Table of Contents",
   "title_sidebar": "Contents",
   "toc_cell": false,
   "toc_position": {},
   "toc_section_display": true,
   "toc_window_display": true
  }
 },
 "nbformat": 4,
 "nbformat_minor": 1
}
