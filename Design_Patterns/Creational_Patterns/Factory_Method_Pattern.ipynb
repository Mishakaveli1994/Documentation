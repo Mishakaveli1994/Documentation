{
 "cells": [
  {
   "cell_type": "code",
   "execution_count": 1,
   "metadata": {
    "pycharm": {
     "name": "#%%\n"
    }
   },
   "outputs": [
    {
     "data": {
      "text/html": [
       "<style>\n",
       "    pre.cd {\n",
       "            border: 1px dashed #93A1A1;\n",
       "            padding: 0.5em 0.8em;\n",
       "            background: #FCF6E3;\n",
       "    }\n",
       "    .highlight{\n",
       "        backgound: #FCF6E3 ;\n",
       "    }\n",
       "    .hll { background-color: #ffffcc }\n",
       "    .c { color: #93a1a1; font-style: italic } /* Comment */\n",
       "    .err { color: #dc322f } /* Error */\n",
       "    .g { color: #657b83 } /* Generic */\n",
       "    .k { color: #859900 } /* Keyword */\n",
       "    .l { color: #657b83 } /* Literal */\n",
       "    .n { color: #586e75 } /* Name */\n",
       "    .o { color: #657b83 } /* Operator */\n",
       "    .x { color: #657b83 } /* Other */\n",
       "    .p { color: #657b83 } /* Punctuation */\n",
       "    .cm { color: #93a1a1; font-style: italic } /* Comment.Multiline */\n",
       "    .cp { color: #93a1a1; font-style: italic } /* Comment.Preproc */\n",
       "    .c1 { color: #93a1a1; font-style: italic } /* Comment.Single */\n",
       "    .cs { color: #93a1a1; font-style: italic } /* Comment.Special */\n",
       "    .gd { color: #657b83 } /* Generic.Deleted */\n",
       "    .ge { color: #657b83 } /* Generic.Emph */\n",
       "    .gr { color: #657b83 } /* Generic.Error */\n",
       "    .gh { color: #657b83 } /* Generic.Heading */\n",
       "    .gi { color: #657b83 } /* Generic.Inserted */\n",
       "    .go { color: #000000 } /* Generic.Output (customized) */\n",
       "    .gp { color: #cb4b16 } /* Generic.Prompt (customized) */\n",
       "    .gs { color: #657b83 } /* Generic.Strong */\n",
       "    .gu { color: #657b83 } /* Generic.Subheading */\n",
       "    .gt { color: #657b83 } /* Generic.Traceback */\n",
       "    .kc { color: #859900 } /* Keyword.Constant */\n",
       "    .kd { color: #859900 } /* Keyword.Declaration */\n",
       "    .kn { color: #cb4b16 } /* Keyword.Namespace */\n",
       "    .kp { color: #cb4b16 } /* Keyword.Pseudo */\n",
       "    .kr { color: #859900 } /* Keyword.Reserved */\n",
       "    .kt { color: #859900 } /* Keyword.Type */\n",
       "    .ld { color: #657b83 } /* Literal.Date */\n",
       "    .m { color: #2aa198 } /* Literal.Number */\n",
       "    .s { color: #2aa198 } /* Literal.String */\n",
       "    .na { color: #657b83 } /* Name.Attribute */\n",
       "    .nb { color: #268bd2 } /* Name.Builtin */\n",
       "    .nc { color: #268bd2 } /* Name.Class */\n",
       "    .no { color: #b58900 } /* Name.Constant */\n",
       "    .nd { color: #cb4b16 } /* Name.Decorator */\n",
       "    .ni { color: #cb4b16 } /* Name.Entity */\n",
       "    .ne { color: #cb4b16 } /* Name.Exception */\n",
       "    .nf { color: #268bd2 } /* Name.Function */\n",
       "    .nl { color: #657b83 } /* Name.Label */\n",
       "    .nn { color: #b58900 } /* Name.Namespace */\n",
       "    .nx { color: #657b83 } /* Name.Other */\n",
       "    .py { color: #268bd2 } /* Name.Property */\n",
       "    .nt { color: #859900 } /* Name.Tag */\n",
       "    .nv { color: #cd4b16 } /* Name.Variable */\n",
       "    .ow { color: #859900 } /* Operator.Word */\n",
       "    .w { color: #fdf6e3 } /* Text.Whitespace */\n",
       "    .mf { color: #2aa198 } /* Literal.Number.Float */\n",
       "    .mh { color: #2aa198 } /* Literal.Number.Hex */\n",
       "    .mi { color: #2aa198 } /* Literal.Number.Integer */\n",
       "    .mo { color: #2aa198 } /* Literal.Number.Oct */\n",
       "    .sb { color: #2aa198 } /* Literal.String.Backtick */\n",
       "    .sc { color: #2aa198 } /* Literal.String.Char */\n",
       "    .sd { color: #2aa198 } /* Literal.String.Doc */\n",
       "    .s2 { color: #2aa198 } /* Literal.String.Double */\n",
       "    .se { color: #cb4b16 } /* Literal.String.Escape */\n",
       "    .sh { color: #2aa198 } /* Literal.String.Heredoc */\n",
       "    .si { color: #cb4b16 } /* Literal.String.Interpol */\n",
       "    .sx { color: #2aa198 } /* Literal.String.Other */\n",
       "    .sr { color: #2aa198 } /* Literal.String.Regex */\n",
       "    .s1 { color: #2aa198 } /* Literal.String.Single */\n",
       "    .ss { color: #2aa198 } /* Literal.String.Symbol */\n",
       "    .bp { color: #268bd2; font-weight: bold } /* Name.Builtin.Pseudo */\n",
       "    .vc { color: #268bd2 } /* Name.Variable.Class */\n",
       "    .vg { color: #268bd2 } /* Name.Variable.Global */\n",
       "    .vi { color: #268bd2 } /* Name.Variable.Instance */\n",
       "    .il { color: #2aa198 } /* Literal.Number.Integer.Long */\n",
       "    div.verdict-div{\n",
       "        background: #EEEEEE; \n",
       "        padding: 30px\n",
       "    }\n",
       "    p.verdict-title{\n",
       "        text-align: center;\n",
       "        font-weight: bold;\n",
       "    }\n",
       "</style>\n"
      ],
      "text/plain": [
       "<IPython.core.display.HTML object>"
      ]
     },
     "metadata": {},
     "output_type": "display_data"
    }
   ],
   "source": [
    "%%html\n",
    "<style>\n",
    "    pre.cd {\n",
    "            border: 1px dashed #93A1A1;\n",
    "            padding: 0.5em 0.8em;\n",
    "            background: #FCF6E3;\n",
    "    }\n",
    "    .highlight{\n",
    "        backgound: #FCF6E3 ;\n",
    "    }\n",
    "    .hll { background-color: #ffffcc }\n",
    "    .c { color: #93a1a1; font-style: italic } /* Comment */\n",
    "    .err { color: #dc322f } /* Error */\n",
    "    .g { color: #657b83 } /* Generic */\n",
    "    .k { color: #859900 } /* Keyword */\n",
    "    .l { color: #657b83 } /* Literal */\n",
    "    .n { color: #586e75 } /* Name */\n",
    "    .o { color: #657b83 } /* Operator */\n",
    "    .x { color: #657b83 } /* Other */\n",
    "    .p { color: #657b83 } /* Punctuation */\n",
    "    .cm { color: #93a1a1; font-style: italic } /* Comment.Multiline */\n",
    "    .cp { color: #93a1a1; font-style: italic } /* Comment.Preproc */\n",
    "    .c1 { color: #93a1a1; font-style: italic } /* Comment.Single */\n",
    "    .cs { color: #93a1a1; font-style: italic } /* Comment.Special */\n",
    "    .gd { color: #657b83 } /* Generic.Deleted */\n",
    "    .ge { color: #657b83 } /* Generic.Emph */\n",
    "    .gr { color: #657b83 } /* Generic.Error */\n",
    "    .gh { color: #657b83 } /* Generic.Heading */\n",
    "    .gi { color: #657b83 } /* Generic.Inserted */\n",
    "    .go { color: #000000 } /* Generic.Output (customized) */\n",
    "    .gp { color: #cb4b16 } /* Generic.Prompt (customized) */\n",
    "    .gs { color: #657b83 } /* Generic.Strong */\n",
    "    .gu { color: #657b83 } /* Generic.Subheading */\n",
    "    .gt { color: #657b83 } /* Generic.Traceback */\n",
    "    .kc { color: #859900 } /* Keyword.Constant */\n",
    "    .kd { color: #859900 } /* Keyword.Declaration */\n",
    "    .kn { color: #cb4b16 } /* Keyword.Namespace */\n",
    "    .kp { color: #cb4b16 } /* Keyword.Pseudo */\n",
    "    .kr { color: #859900 } /* Keyword.Reserved */\n",
    "    .kt { color: #859900 } /* Keyword.Type */\n",
    "    .ld { color: #657b83 } /* Literal.Date */\n",
    "    .m { color: #2aa198 } /* Literal.Number */\n",
    "    .s { color: #2aa198 } /* Literal.String */\n",
    "    .na { color: #657b83 } /* Name.Attribute */\n",
    "    .nb { color: #268bd2 } /* Name.Builtin */\n",
    "    .nc { color: #268bd2 } /* Name.Class */\n",
    "    .no { color: #b58900 } /* Name.Constant */\n",
    "    .nd { color: #cb4b16 } /* Name.Decorator */\n",
    "    .ni { color: #cb4b16 } /* Name.Entity */\n",
    "    .ne { color: #cb4b16 } /* Name.Exception */\n",
    "    .nf { color: #268bd2 } /* Name.Function */\n",
    "    .nl { color: #657b83 } /* Name.Label */\n",
    "    .nn { color: #b58900 } /* Name.Namespace */\n",
    "    .nx { color: #657b83 } /* Name.Other */\n",
    "    .py { color: #268bd2 } /* Name.Property */\n",
    "    .nt { color: #859900 } /* Name.Tag */\n",
    "    .nv { color: #cd4b16 } /* Name.Variable */\n",
    "    .ow { color: #859900 } /* Operator.Word */\n",
    "    .w { color: #fdf6e3 } /* Text.Whitespace */\n",
    "    .mf { color: #2aa198 } /* Literal.Number.Float */\n",
    "    .mh { color: #2aa198 } /* Literal.Number.Hex */\n",
    "    .mi { color: #2aa198 } /* Literal.Number.Integer */\n",
    "    .mo { color: #2aa198 } /* Literal.Number.Oct */\n",
    "    .sb { color: #2aa198 } /* Literal.String.Backtick */\n",
    "    .sc { color: #2aa198 } /* Literal.String.Char */\n",
    "    .sd { color: #2aa198 } /* Literal.String.Doc */\n",
    "    .s2 { color: #2aa198 } /* Literal.String.Double */\n",
    "    .se { color: #cb4b16 } /* Literal.String.Escape */\n",
    "    .sh { color: #2aa198 } /* Literal.String.Heredoc */\n",
    "    .si { color: #cb4b16 } /* Literal.String.Interpol */\n",
    "    .sx { color: #2aa198 } /* Literal.String.Other */\n",
    "    .sr { color: #2aa198 } /* Literal.String.Regex */\n",
    "    .s1 { color: #2aa198 } /* Literal.String.Single */\n",
    "    .ss { color: #2aa198 } /* Literal.String.Symbol */\n",
    "    .bp { color: #268bd2; font-weight: bold } /* Name.Builtin.Pseudo */\n",
    "    .vc { color: #268bd2 } /* Name.Variable.Class */\n",
    "    .vg { color: #268bd2 } /* Name.Variable.Global */\n",
    "    .vi { color: #268bd2 } /* Name.Variable.Instance */\n",
    "    .il { color: #2aa198 } /* Literal.Number.Integer.Long */\n",
    "    div.verdict-div{\n",
    "        background: #EEEEEE; \n",
    "        padding: 30px\n",
    "    }\n",
    "    p.verdict-title{\n",
    "        text-align: center;\n",
    "        font-weight: bold;\n",
    "    }\n",
    "</style>"
   ]
  },
  {
   "cell_type": "markdown",
   "metadata": {},
   "source": [
    "<div class=\"verdict-div\"><p class=\"verdict-title\">Verdict</p>\n",
    "\n",
    "The “Factory Method” pattern is a poor fit for Python. It was designed for underpowered programming languages where classes and functions can’t be passed as parameters or stored as attributes. In those languages, the Factory Method serves as an awkward but necessary escape route. But it’s not a good design for Python applications.</div>"
   ]
  },
  {
   "cell_type": "markdown",
   "metadata": {},
   "source": [
    "# The Factory Method Pattern\n",
    "You will often create objects in Python that themselves need to turn around and create more objects. Imagine an HTTP connection pool, for example, that sometimes needs to create new connections to replace old connections as they time out and close.\n",
    "\n",
    "Now comes the challenge. What if your program will run behind a special corporate proxy, and the HTTP connection pool will only be able to communicate if it creates and uses specially configured network connections instead of the generic sockets that it usually creates?\n",
    "\n",
    "The Factory Method is one pattern by which the HTTP connection pool class could offer you a way to choose what kind of connection it creates. Before learning how this awkward pattern works, let’s review the Pythonic design patterns that solve the same problem."
   ]
  },
  {
   "cell_type": "markdown",
   "metadata": {},
   "source": [
    "## Dodge: use Dependency Injection\n",
    "First, we should stop for a moment and double-check something. Does the class you’re designing really need to go around creating other classes?\n",
    "\n",
    "If you know up front all the objects that the class will need, you should consider providing them to the class yourself through Dependency Injection.\n",
    "\n",
    "You will see excellent examples of this simpler pattern everywhere that Python libraries let you pass an already-open file object instead of making you supply a path and insisting on opening the file themselves. Take the Standard Library’s JSON parser as an example. Instead of asking for a path, its `load()` method lets you open the file:"
   ]
  },
  {
   "cell_type": "markdown",
   "metadata": {},
   "source": [
    "<pre class=\"cd\"><span></span><span class=\"kn\">import</span> <span class=\"nn\">json</span>\n",
    "<span class=\"k\">with</span> <span class=\"nb\">open</span><span class=\"p\">(</span><span class=\"s1\">'input_data.json'</span><span class=\"p\">)</span> <span class=\"k\">as</span> <span class=\"n\">f</span><span class=\"p\">:</span>\n",
    "    <span class=\"n\">data</span> <span class=\"o\">=</span> <span class=\"n\">json</span><span class=\"o\">.</span><span class=\"n\">load</span><span class=\"p\">(</span><span class=\"n\">f</span><span class=\"p\">)</span>\n",
    "</pre>"
   ]
  },
  {
   "cell_type": "markdown",
   "metadata": {},
   "source": [
    "By leaving you in charge of instantiating the file object, this maneuver accomplishes many goals at once.\n",
    "\n",
    "+ <span style=\"font-weight:bold\">Decoupling:</span> the library doesn’t need to know all the parameters accepted by the open() method, and doesn’t need to accept every one of them as a parameter itself. If the file object were to grow more creation parameters in the future, json.load() won’t need to change.\n",
    "\n",
    "\n",
    "+ <span style=\"font-weight:bold\">Efficiency:</span> If you already have the file open for other reasons, you can go ahead and provide the open file object. The library won’t insist on re-opening the file. This is crucial if the file is a read-once source of data like an anonymous pipe.\n",
    "\n",
    "\n",
    "+ <span style=\"font-weight:bold\">Flexibility:</span> You can pass any file-like object you want. It can be a subclass of the standard file object, or be completely independent. You could pass a `StringIO` that operates directly on data in RAM instead of needing the JSON written to disk first. Or you could offer a wrapper around a socket that lets you parse JSON data as it arrives off the network without needing to be stored locally first.\n",
    "\n",
    "\n",
    "In a simple case like this, the Dependency Injection pattern completely eliminates the need for an object like a JSON parser to have its design made more complicated by the details of how other objects get created.\n",
    "\n",
    "So (a) if your class always needs a particular object built, and (b) if users will normally want to at least customize the parameters with which it is instantiated, you should strongly consider Dependency Injection. In that case, you might want to read Miško Hevery’s 2008 post about dependency injection for an important note about the dangers of applying Dependency Injection halfway!"
   ]
  },
  {
   "cell_type": "markdown",
   "metadata": {},
   "source": [
    "## Instead: use a Class Attribute Factory\n",
    "The next alternative comes to us from the 1990s. The class that needs to be created can be attached as an attribute on the class that will be doing the creating.\n",
    "\n",
    "You can see this pattern in some of the older modules in the Python Standard Library. For example, when an `HTTPConnection` is done sending a request, it expects to receive and parse a response. But what class should it use to parse and represent the response? What if you happen to be talking to a server that sends non-standard information in its response for which you require special handling?\n",
    "\n",
    "What I will here call the Class Attribute Factory pattern takes advantage of the fact that classes are first-class objects in Python. It simply attaches the class as an attribute of the class that will be doing the creating. You’ll find the following code in the Standard Library:"
   ]
  },
  {
   "cell_type": "markdown",
   "metadata": {},
   "source": [
    "<pre class=\"cd\"><span></span><span class=\"k\">class</span> <span class=\"nc\">HTTPConnection</span><span class=\"p\">:</span>\n",
    "    <span class=\"o\">...</span>\n",
    "    <span class=\"n\">response_class</span> <span class=\"o\">=</span> <span class=\"n\">HTTPResponse</span>\n",
    "    <span class=\"o\">...</span>\n",
    "    <span class=\"k\">def</span> <span class=\"nf\">getresponse</span><span class=\"p\">(</span><span class=\"bp\">self</span><span class=\"p\">):</span>\n",
    "        <span class=\"o\">...</span>\n",
    "        <span class=\"n\">response</span> <span class=\"o\">=</span> <span class=\"bp\">self</span><span class=\"o\">.</span><span class=\"n\">response_class</span><span class=\"p\">(</span><span class=\"bp\">self</span><span class=\"o\">.</span><span class=\"n\">sock</span><span class=\"p\">,</span> <span class=\"n\">method</span><span class=\"o\">=</span><span class=\"bp\">self</span><span class=\"o\">.</span><span class=\"n\">_method</span><span class=\"p\">)</span>\n",
    "        <span class=\"o\">...</span>\n",
    "</pre>"
   ]
  },
  {
   "cell_type": "markdown",
   "metadata": {},
   "source": [
    "This gives the code using the `HTTPConnection` complete control over what happens when it is time to build a response. All it has to do is create a subclass and use the subclass instead:"
   ]
  },
  {
   "cell_type": "markdown",
   "metadata": {},
   "source": [
    "<pre class=\"cd\"><span></span><span class=\"k\">class</span> <span class=\"nc\">SpecialHTTPConnection</span><span class=\"p\">(</span><span class=\"n\">HTTPConnection</span><span class=\"p\">):</span>\n",
    "    <span class=\"n\">response_class</span> <span class=\"o\">=</span> <span class=\"n\">SpecialHTTPResponse</span>\n",
    "</pre>"
   ]
  },
  {
   "cell_type": "markdown",
   "metadata": {},
   "source": [
    "That’s all there is to it! While subclassing generally means that a software design is running at least somewhat against the grain of the Python language, the approach will still work well. The subclass will behave exactly like a normal Standard Library HTTP connection except when the moment comes to instantiate a response. At that point the connection will access its `response_class` attribute, receive the alternative class you provided instead of the normal one, and the alternative response class will then be in control.\n",
    "\n",
    "There is more flexibility here we should explore, but first let’s look at the more modern alternative to the Class Attribute Factory."
   ]
  },
  {
   "cell_type": "markdown",
   "metadata": {},
   "source": [
    "## Instead: use an Instance Attribute Factory\n",
    "Why should you have to subclass an object merely to customize its behavior?\n",
    "\n",
    "It’s a serious question — very serious, for at one point in the history of programming some adherents of a doctrine called “object orientation” were suggesting that if you wanted a button that said “Submit” that you shouldn’t be able to simply instantiate a button with a parameter like `label=\"Submit\"` but that you should instead have to subclass the button and override its default `label()` method to return something new.\n",
    "\n",
    "Happily, an alternative to subclass-powered customization has swept the Python community: what I’ll call the Instance Attribute Factory. Among the many good examples of its practice is the `json` module in the Standard Library, which was added around 2008.\n",
    "\n",
    "Here’s one example from the `json` module. Every time the JSON module encounters a number in its input, it has to instantiate some kind of Python object capable of representing the number. But which number class should it instantiate? An integer, if the fractional part of the number is zero? A float, the only numeric type in JavaScript? Or a `Decimal` that’s guaranteed to not lose any precision?\n",
    "\n",
    "Watch how elegantly the `json` module handles the question:"
   ]
  },
  {
   "cell_type": "markdown",
   "metadata": {},
   "source": [
    "<pre class=\"cd\"><span></span><span class=\"k\">class</span> <span class=\"nc\">JSONDecoder</span><span class=\"p\">(</span><span class=\"nb\">object</span><span class=\"p\">):</span>\n",
    "    <span class=\"o\">...</span>\n",
    "    <span class=\"k\">def</span> <span class=\"fm\">__init__</span><span class=\"p\">(</span><span class=\"bp\">self</span><span class=\"p\">,</span> <span class=\"o\">...</span> <span class=\"n\">parse_float</span><span class=\"o\">=</span><span class=\"kc\">None</span><span class=\"p\">,</span> <span class=\"o\">...</span><span class=\"p\">):</span>\n",
    "        <span class=\"o\">...</span>\n",
    "        <span class=\"bp\">self</span><span class=\"o\">.</span><span class=\"n\">parse_float</span> <span class=\"o\">=</span> <span class=\"n\">parse_float</span> <span class=\"ow\">or</span> <span class=\"nb\">float</span>\n",
    "        <span class=\"o\">...</span>\n",
    "</pre>"
   ]
  },
  {
   "cell_type": "markdown",
   "metadata": {},
   "source": [
    "Whenever it encounters a number in its input, it simply calls `self.parse_float()` with the string as input.\n",
    "\n",
    "This is Python code that’s running on all pistons. If the developer does not intervene, each number is interpreted using a lighting-fast call to the `float` type itself. If instead the developer has provided their own callable for parsing numbers, then that callable is transparently used instead.\n",
    "\n",
    "The beauty is that it all happens without a single additional class! Instead of forcing the programmer to create a new class each time they want to customize behavior, individual `JSONDecoder` instances can each be configured directly. You can create a custom decoder with a single line of code:"
   ]
  },
  {
   "cell_type": "markdown",
   "metadata": {},
   "source": [
    "<pre class=\"cd\"><span></span><span class=\"kn\">from</span> <span class=\"nn\">decimal</span> <span class=\"kn\">import</span> <span class=\"n\">Decimal</span>\n",
    "<span class=\"kn\">from</span> <span class=\"nn\">json</span> <span class=\"kn\">import</span> <span class=\"n\">JSONDecoder</span>\n",
    "\n",
    "<span class=\"n\">my_decoder</span> <span class=\"o\">=</span> <span class=\"n\">JSONDecoder</span><span class=\"p\">(</span><span class=\"n\">parse_float</span><span class=\"o\">=</span><span class=\"n\">Decimal</span><span class=\"p\">)</span>\n",
    "</pre>"
   ]
  },
  {
   "cell_type": "markdown",
   "metadata": {},
   "source": [
    "Besides the benefits of clarity and brevity, an advantage of customizing an object through its parameters is that parameters compose so beautifully in Python. If several pieces of code have parameters for the decoder that they need to combine, the task is no more difficult than building an empty `dict` and then using `update()` to fill it with each set of parameters, setting the parameters last that should be allowed to override the earlier ones."
   ]
  },
  {
   "cell_type": "markdown",
   "metadata": {},
   "source": [
    "## Instance attributes override class attributes\n",
    "I should admit that the previous two design patterns are not as completely different as I have tried to make it sound. At bottom, both classes — the `HTTPConnection` and the `JSONDecoder` — make the exact same move when they are ready to create a new object: they start with `self` and use `.` to access some specific attribute on it. The only difference in the two design patterns above is in how they choose to supply the attribute. The first pattern happens to use a class attribute, while the second uses an instance attribute.\n",
    "\n",
    "But the two are not mutually exclusive. There is no rule that if you have a class attribute named `.response_class` that you can’t also have an instance attribute named `.response_class` — and the rule in the case where you have both is simple: the instance attribute wins.\n",
    "\n",
    "Which means I should admit that, really, even though I made a big deal about claiming that the `HTTPConnection` forces you to subclass it, it’s not true. You can override the default but just setting an instance attribute instead, just like the `JSONDecoder` does! The only difference is that the `HTTPConnection` won’t give you any help — you’ll have to reach in and set the instance attribute yourself:"
   ]
  },
  {
   "cell_type": "markdown",
   "metadata": {},
   "source": [
    "<pre class=\"cd\"><span></span><span class=\"n\">conn</span> <span class=\"o\">=</span> <span class=\"n\">HTTPConnection</span><span class=\"p\">()</span>\n",
    "<span class=\"n\">conn</span><span class=\"o\">.</span><span class=\"n\">response_class</span> <span class=\"o\">=</span> <span class=\"n\">SpecialHTTPResponse</span>\n",
    "</pre>"
   ]
  },
  {
   "cell_type": "markdown",
   "metadata": {},
   "source": [
    "So even when an old-fashioned class looks like it wants you to create a subclass that specifies a new value for one of its class attributes, you can often use the more modern Instance Attribute Factory instead!\n",
    "\n",
    "There are tiny differences in semantics and performance between class attributes and instance attributes, but I’ll refer you to the Python documentation and to Stack Overflow if you think your code is wandering towards an edge case where you care about the difference.\n",
    "\n",
    "In general you should choose between the above patterns based on readability. If you can imagine developers ever wanting to customize object creation, then go ahead and try making the object creation routine (the “factory”) a parameter in your `__init__()` method and store it as an instance attribute. If instead you think that customization will be extremely rare, then make it a class attribute, remembering that the developer can always reach in and override it in those rare cases where they need to."
   ]
  },
  {
   "cell_type": "markdown",
   "metadata": {},
   "source": [
    "## Any callables accepted\n",
    "In the examples above, we used actual classes like `Decimal` and the fictional `SpecialHTTPResponse` when setting an attribute like `response_class` or `parse_float`. But you’ll note that the only thing the callers cared about was that these classes were callables. There’s happily no `new` keyword in Python, so object instantiation looks exactly like a normal function or method call.\n",
    "\n",
    "This means that you can substitute a function for any of these callbacks, and it will work just as well! For example, you could provide the JSON decoder with a function like this as its `parse_float` parameter:"
   ]
  },
  {
   "cell_type": "markdown",
   "metadata": {},
   "source": [
    "<pre class=\"cd\"><span></span><span class=\"k\">def</span> <span class=\"nf\">parse_number</span><span class=\"p\">(</span><span class=\"n\">string</span><span class=\"p\">):</span>\n",
    "    <span class=\"k\">if</span> <span class=\"s1\">'.'</span> <span class=\"ow\">in</span> <span class=\"n\">string</span><span class=\"p\">:</span>\n",
    "        <span class=\"k\">return</span> <span class=\"n\">Decimal</span><span class=\"p\">(</span><span class=\"n\">string</span><span class=\"p\">)</span>\n",
    "    <span class=\"k\">return</span> <span class=\"nb\">int</span><span class=\"p\">(</span><span class=\"n\">string</span><span class=\"p\">)</span>\n",
    "</pre>"
   ]
  },
  {
   "cell_type": "markdown",
   "metadata": {},
   "source": [
    "You can provide not only a function, but any other kind of callable as well — maybe a bound method, or a class method like an alternative constructor. You could even provide a callable that you’ve spun up dynamically using functional programming techniques like partial application:"
   ]
  },
  {
   "cell_type": "markdown",
   "metadata": {},
   "source": [
    "<pre class=\"cd\"><span></span><span class=\"kn\">from</span> <span class=\"nn\">decimal</span> <span class=\"kn\">import</span> <span class=\"n\">Context</span><span class=\"p\">,</span> <span class=\"n\">ROUND_DOWN</span>\n",
    "<span class=\"kn\">from</span> <span class=\"nn\">functools</span> <span class=\"kn\">import</span> <span class=\"n\">partial</span>\n",
    "\n",
    "<span class=\"n\">parse_number</span> <span class=\"o\">=</span> <span class=\"n\">partial</span><span class=\"p\">(</span><span class=\"n\">Decimal</span><span class=\"p\">,</span> <span class=\"n\">context</span><span class=\"o\">=</span><span class=\"n\">Context</span><span class=\"p\">(</span><span class=\"mi\">2</span><span class=\"p\">,</span> <span class=\"n\">ROUND_DOWN</span><span class=\"p\">))</span>\n",
    "</pre>"
   ]
  },
  {
   "cell_type": "markdown",
   "metadata": {},
   "source": [
    "Feel free to enjoy this Pythonic freedom of providing any kind of callable, and not limiting yourself to just providing classes, whether you are using the Class Attribute Factory or an Instance Attribute Factory."
   ]
  },
  {
   "cell_type": "markdown",
   "metadata": {},
   "source": [
    "## Implementing\n",
    "Having described the happy alternatives, I should finish by showing you the Factory Method itself. Imagine that you were using a language where:\n",
    "\n",
    "+ Classes are not first-class objects. You are not allowed to leave a class sitting around as an attribute of either a class instance or of another class itself.\n",
    "\n",
    "\n",
    "+ Functions are not first-class objects. You’re not allowed to save a function as an instance of a class or class instance.\n",
    "\n",
    "\n",
    "+ No other kind of callable exists that can be dynamically specified and attached to an object at runtime.\n",
    "\n",
    "\n",
    "Under such dire constraints, you would turn to subclassing as a natural way to attach verbs — new actions — to existing classes, and you might use method overriding as a basic means of customizing behavior. And if on one of your classes you designed a special method whose only purpose was to isolate the act of creating new objects, then you’d be using the Factory Method pattern.\n",
    "\n",
    "The Factory Method pattern can often be observed anywhere that code from an underpowered but object-oriented language has been translated straight into Python. The `logging` module from the Standard Library comes immediately to mind. Here’s an excerpt:"
   ]
  },
  {
   "cell_type": "markdown",
   "metadata": {},
   "source": [
    "<pre class=\"cd\"><span></span><span class=\"k\">class</span> <span class=\"nc\">Handler</span><span class=\"p\">(</span><span class=\"n\">Filterer</span><span class=\"p\">):</span>\n",
    "    <span class=\"o\">...</span>\n",
    "    <span class=\"k\">def</span> <span class=\"fm\">__init__</span><span class=\"p\">(</span><span class=\"bp\">self</span><span class=\"p\">,</span> <span class=\"n\">level</span><span class=\"o\">=</span><span class=\"n\">NOTSET</span><span class=\"p\">):</span>\n",
    "        <span class=\"o\">...</span>\n",
    "        <span class=\"bp\">self</span><span class=\"o\">.</span><span class=\"n\">createLock</span><span class=\"p\">()</span>\n",
    "    <span class=\"o\">...</span>\n",
    "    <span class=\"k\">def</span> <span class=\"nf\">createLock</span><span class=\"p\">(</span><span class=\"bp\">self</span><span class=\"p\">):</span>\n",
    "        <span class=\"sd\">\"\"\"</span>\n",
    "<span class=\"sd\">        Acquire a thread lock for serializing access to the underlying I/O.</span>\n",
    "<span class=\"sd\">        \"\"\"</span>\n",
    "        <span class=\"bp\">self</span><span class=\"o\">.</span><span class=\"n\">lock</span> <span class=\"o\">=</span> <span class=\"n\">threading</span><span class=\"o\">.</span><span class=\"n\">RLock</span><span class=\"p\">()</span>\n",
    "    <span class=\"o\">...</span>\n",
    "</pre>"
   ]
  },
  {
   "cell_type": "markdown",
   "metadata": {},
   "source": [
    "What if you wanted to create a `Handler` that uses a special kind of lock? The intention here is that you subclass `Filterer` and override `createLock()` to return your own favorite kind of lock instead. It’s a clunky approach, it takes several lines of code, and it won’t compose well if there are several ways you want to customize `Handler` objects in a variety of situations — you’ll wind up with classes all over the place.\n",
    "\n",
    "But it will work.\n",
    "\n",
    "It just won’t be very Pythonic."
   ]
  },
  {
   "cell_type": "code",
   "execution_count": null,
   "metadata": {},
   "outputs": [],
   "source": []
  }
 ],
 "metadata": {
  "kernelspec": {
   "display_name": "Python 3 (ipykernel)",
   "language": "python",
   "name": "python3"
  },
  "language_info": {
   "codemirror_mode": {
    "name": "ipython",
    "version": 3
   },
   "file_extension": ".py",
   "mimetype": "text/x-python",
   "name": "python",
   "nbconvert_exporter": "python",
   "pygments_lexer": "ipython3",
   "version": "3.9.4"
  },
  "toc": {
   "base_numbering": 1,
   "nav_menu": {},
   "number_sections": true,
   "sideBar": true,
   "skip_h1_title": false,
   "title_cell": "Table of Contents",
   "title_sidebar": "Contents",
   "toc_cell": false,
   "toc_position": {},
   "toc_section_display": true,
   "toc_window_display": true
  }
 },
 "nbformat": 4,
 "nbformat_minor": 1
}
