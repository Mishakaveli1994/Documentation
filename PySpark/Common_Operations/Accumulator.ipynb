{
 "cells": [
  {
   "cell_type": "markdown",
   "source": [
    "# PySpark Accumulator\n",
    "\n",
    "The PySpark Accumulator is a shared variable that is used with RDD and DataFrame to perform sum and counter\n",
    "operations similar to Map-reduce counters. These variables are shared by all executors to update and add\n",
    "information through aggregation or computative operations.\n",
    "\n",
    "## What is PySpark Accumulator?\n",
    "Accumulators are write-only and initialize once variables where only tasks that are running on workers are\n",
    "allowed to update and updates from the workers get propagated automatically to the driver program. But,\n",
    "only the driver program is allowed to access the Accumulator variable using the value property.\n",
    "\n",
    "## How to create Accumulator variable in PySpark?\n",
    "Using `accumulator()` from SparkContext class we can create an Accumulator in PySpark programming. Users can also\n",
    "create Accumulators for custom types using AccumulatorParam class of PySpark.\n",
    "\n",
    "## Some points to note..\n",
    "\n",
    "`sparkContext.accumulator()` is used to define accumulator variables.\n",
    "`add()` function is used to add/update a value in accumulator\n",
    "value property on the accumulator variable is used to retrieve the value from the accumulator.\n",
    "We can create Accumulators in PySpark for primitive types int and float. Users can also create\n",
    "Accumulators for custom types using AccumulatorParam class of PySpark."
   ],
   "metadata": {
    "collapsed": false,
    "pycharm": {
     "name": "#%% md\n"
    }
   }
  },
  {
   "cell_type": "markdown",
   "metadata": {
    "pycharm": {
     "name": "#%% md\n"
    }
   },
   "source": [
    "# Creating Accumulator Variable\n",
    "Below is an example of how to create an accumulator variable “accum” of type int and using it to sum all values \n",
    "in an RDD.\n",
    "\n",
    "## Normal Declaration"
   ]
  },
  {
   "cell_type": "code",
   "execution_count": 1,
   "metadata": {
    "pycharm": {
     "name": "#%%\n"
    }
   },
   "outputs": [
    {
     "name": "stdout",
     "output_type": "stream",
     "text": [
      "15\n"
     ]
    }
   ],
   "source": [
    "from pyspark.sql import SparkSession\n",
    "\n",
    "spark = SparkSession.builder.appName('SparkByExamples.com').getOrCreate()\n",
    "\n",
    "accum = spark.sparkContext.accumulator(0)\n",
    "rdd = spark.sparkContext.parallelize([1, 2, 3, 4, 5])\n",
    "rdd.foreach(lambda x: accum.add(x))\n",
    "print(accum.value)"
   ]
  },
  {
   "cell_type": "markdown",
   "metadata": {
    "pycharm": {
     "name": "#%% md\n"
    }
   },
   "source": [
    "Here, we have created an accumulator variable accum using `spark.sparkContext.accumulator(0)` with initial value 0. \n",
    "Later, we are iterating each element in an rdd using `foreach()` action and adding each element of rdd to accum variable. \n",
    "Finally, we are getting accumulator value using accum.value property.\n",
    "\n",
    "Note that, In this example, `rdd.foreach()` is executed on workers and accum.value is called from PySpark driver program.\n",
    "\n"
   ]
  },
  {
   "cell_type": "markdown",
   "metadata": {
    "pycharm": {
     "name": "#%% md\n"
    }
   },
   "source": [
    "## Function Declaration"
   ]
  },
  {
   "cell_type": "code",
   "execution_count": 2,
   "metadata": {
    "pycharm": {
     "name": "#%%\n"
    }
   },
   "outputs": [
    {
     "name": "stdout",
     "output_type": "stream",
     "text": [
      "15\n"
     ]
    }
   ],
   "source": [
    "accuSum = spark.sparkContext.accumulator(0)\n",
    "\n",
    "\n",
    "def countFun(x):\n",
    "    global accuSum\n",
    "    accuSum += x\n",
    "\n",
    "\n",
    "rdd.foreach(countFun)\n",
    "print(accuSum.value)"
   ]
  },
  {
   "cell_type": "markdown",
   "metadata": {
    "pycharm": {
     "name": "#%% md\n"
    }
   },
   "source": [
    "## Accumulator as Counter"
   ]
  },
  {
   "cell_type": "code",
   "execution_count": 3,
   "metadata": {
    "pycharm": {
     "name": "#%%\n"
    }
   },
   "outputs": [
    {
     "name": "stdout",
     "output_type": "stream",
     "text": [
      "5\n"
     ]
    }
   ],
   "source": [
    "accumCount = spark.sparkContext.accumulator(0)\n",
    "rdd2 = spark.sparkContext.parallelize([1, 2, 3, 4, 5])\n",
    "rdd2.foreach(lambda x: accumCount.add(1))\n",
    "print(accumCount.value)"
   ]
  },
  {
   "cell_type": "markdown",
   "metadata": {
    "pycharm": {
     "name": "#%% md\n"
    }
   },
   "source": [
    "## Function Declaration"
   ]
  },
  {
   "cell_type": "code",
   "execution_count": 4,
   "metadata": {
    "pycharm": {
     "name": "#%%\n"
    }
   },
   "outputs": [
    {
     "name": "stdout",
     "output_type": "stream",
     "text": [
      "15\n"
     ]
    }
   ],
   "source": [
    "accuSum = spark.sparkContext.accumulator(0)\n",
    "\n",
    "\n",
    "def countFun(x):\n",
    "    global accuSum\n",
    "    accuSum += x\n",
    "\n",
    "\n",
    "rdd.foreach(countFun)\n",
    "print(accuSum.value)"
   ]
  },
  {
   "cell_type": "markdown",
   "metadata": {
    "pycharm": {
     "name": "#%% md\n"
    }
   },
   "source": [
    "## Accumulator as Counter"
   ]
  },
  {
   "cell_type": "code",
   "execution_count": 5,
   "metadata": {
    "pycharm": {
     "name": "#%%\n"
    }
   },
   "outputs": [
    {
     "name": "stdout",
     "output_type": "stream",
     "text": [
      "5\n"
     ]
    }
   ],
   "source": [
    "accumCount = spark.sparkContext.accumulator(0)\n",
    "rdd2 = spark.sparkContext.parallelize([1, 2, 3, 4, 5])\n",
    "rdd2.foreach(lambda x: accumCount.add(1))\n",
    "print(accumCount.value)"
   ]
  },
  {
   "cell_type": "code",
   "execution_count": null,
   "metadata": {
    "pycharm": {
     "name": "#%%\n"
    }
   },
   "outputs": [],
   "source": []
  }
 ],
 "metadata": {
  "kernelspec": {
   "display_name": "Python 3 (ipykernel)",
   "language": "python",
   "name": "python3"
  },
  "language_info": {
   "codemirror_mode": {
    "name": "ipython",
    "version": 3
   },
   "file_extension": ".py",
   "mimetype": "text/x-python",
   "name": "python",
   "nbconvert_exporter": "python",
   "pygments_lexer": "ipython3",
   "version": "3.9.7"
  },
  "toc": {
   "base_numbering": 1,
   "nav_menu": {},
   "number_sections": true,
   "sideBar": true,
   "skip_h1_title": false,
   "title_cell": "Table of Contents",
   "title_sidebar": "Contents",
   "toc_cell": false,
   "toc_position": {},
   "toc_section_display": true,
   "toc_window_display": true
  }
 },
 "nbformat": 4,
 "nbformat_minor": 1
}