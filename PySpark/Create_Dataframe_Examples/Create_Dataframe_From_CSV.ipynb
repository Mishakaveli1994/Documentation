{
 "cells": [
  {
   "cell_type": "code",
   "execution_count": 1,
   "metadata": {
    "pycharm": {
     "name": "#%%\n"
    }
   },
   "outputs": [],
   "source": [
    "from pyspark.sql import SparkSession"
   ]
  },
  {
   "cell_type": "code",
   "execution_count": 2,
   "metadata": {},
   "outputs": [],
   "source": [
    "spark = SparkSession.builder.master(\"local[1]\").appName(\"SparkByExamples.com\").getOrCreate()"
   ]
  },
  {
   "cell_type": "markdown",
   "metadata": {},
   "source": [
    "## Create DataFrame from CSV with no headers"
   ]
  },
  {
   "cell_type": "code",
   "execution_count": 3,
   "metadata": {
    "pycharm": {
     "name": "#%%\n"
    }
   },
   "outputs": [
    {
     "name": "stdout",
     "output_type": "stream",
     "text": [
      "root\n",
      " |-- _c0: string (nullable = true)\n",
      " |-- _c1: string (nullable = true)\n",
      " |-- _c2: string (nullable = true)\n",
      " |-- _c3: string (nullable = true)\n",
      " |-- _c4: string (nullable = true)\n",
      " |-- _c5: string (nullable = true)\n",
      " |-- _c6: string (nullable = true)\n",
      " |-- _c7: string (nullable = true)\n",
      " |-- _c8: string (nullable = true)\n",
      " |-- _c9: string (nullable = true)\n",
      " |-- _c10: string (nullable = true)\n",
      " |-- _c11: string (nullable = true)\n",
      " |-- _c12: string (nullable = true)\n",
      " |-- _c13: string (nullable = true)\n",
      " |-- _c14: string (nullable = true)\n",
      " |-- _c15: string (nullable = true)\n",
      " |-- _c16: string (nullable = true)\n",
      " |-- _c17: string (nullable = true)\n",
      " |-- _c18: string (nullable = true)\n",
      " |-- _c19: string (nullable = true)\n",
      "\n"
     ]
    },
    {
     "data": {
      "text/html": [
       "<div>\n",
       "<style scoped>\n",
       "    .dataframe tbody tr th:only-of-type {\n",
       "        vertical-align: middle;\n",
       "    }\n",
       "\n",
       "    .dataframe tbody tr th {\n",
       "        vertical-align: top;\n",
       "    }\n",
       "\n",
       "    .dataframe thead th {\n",
       "        text-align: right;\n",
       "    }\n",
       "</style>\n",
       "<table border=\"1\" class=\"dataframe\">\n",
       "  <thead>\n",
       "    <tr style=\"text-align: right;\">\n",
       "      <th></th>\n",
       "      <th>_c0</th>\n",
       "      <th>_c1</th>\n",
       "      <th>_c2</th>\n",
       "      <th>_c3</th>\n",
       "      <th>_c4</th>\n",
       "      <th>_c5</th>\n",
       "      <th>_c6</th>\n",
       "      <th>_c7</th>\n",
       "      <th>_c8</th>\n",
       "      <th>_c9</th>\n",
       "      <th>_c10</th>\n",
       "      <th>_c11</th>\n",
       "      <th>_c12</th>\n",
       "      <th>_c13</th>\n",
       "      <th>_c14</th>\n",
       "      <th>_c15</th>\n",
       "      <th>_c16</th>\n",
       "      <th>_c17</th>\n",
       "      <th>_c18</th>\n",
       "      <th>_c19</th>\n",
       "    </tr>\n",
       "  </thead>\n",
       "  <tbody>\n",
       "    <tr>\n",
       "      <th>0</th>\n",
       "      <td>RecordNumber</td>\n",
       "      <td>Zipcode</td>\n",
       "      <td>ZipCodeType</td>\n",
       "      <td>City</td>\n",
       "      <td>State</td>\n",
       "      <td>LocationType</td>\n",
       "      <td>Lat</td>\n",
       "      <td>Long</td>\n",
       "      <td>Xaxis</td>\n",
       "      <td>Yaxis</td>\n",
       "      <td>Zaxis</td>\n",
       "      <td>WorldRegion</td>\n",
       "      <td>Country</td>\n",
       "      <td>LocationText</td>\n",
       "      <td>Location</td>\n",
       "      <td>Decommisioned</td>\n",
       "      <td>TaxReturnsFiled</td>\n",
       "      <td>EstimatedPopulation</td>\n",
       "      <td>TotalWages</td>\n",
       "      <td>Notes</td>\n",
       "    </tr>\n",
       "    <tr>\n",
       "      <th>1</th>\n",
       "      <td>1</td>\n",
       "      <td>704</td>\n",
       "      <td>STANDARD</td>\n",
       "      <td>PARC PARQUE</td>\n",
       "      <td>PR</td>\n",
       "      <td>NOT ACCEPTABLE</td>\n",
       "      <td>17.96</td>\n",
       "      <td>-66.22</td>\n",
       "      <td>0.38</td>\n",
       "      <td>-0.87</td>\n",
       "      <td>0.3</td>\n",
       "      <td>NA</td>\n",
       "      <td>US</td>\n",
       "      <td>Parc Parque, PR</td>\n",
       "      <td>NA-US-PR-PARC PARQUE</td>\n",
       "      <td>FALSE</td>\n",
       "      <td>None</td>\n",
       "      <td>None</td>\n",
       "      <td>None</td>\n",
       "      <td>None</td>\n",
       "    </tr>\n",
       "    <tr>\n",
       "      <th>2</th>\n",
       "      <td>2</td>\n",
       "      <td>704</td>\n",
       "      <td>STANDARD</td>\n",
       "      <td>PASEO COSTA DEL SUR</td>\n",
       "      <td>PR</td>\n",
       "      <td>NOT ACCEPTABLE</td>\n",
       "      <td>17.96</td>\n",
       "      <td>-66.22</td>\n",
       "      <td>0.38</td>\n",
       "      <td>-0.87</td>\n",
       "      <td>0.3</td>\n",
       "      <td>NA</td>\n",
       "      <td>US</td>\n",
       "      <td>Paseo Costa Del Sur, PR</td>\n",
       "      <td>NA-US-PR-PASEO COSTA DEL SUR</td>\n",
       "      <td>FALSE</td>\n",
       "      <td>None</td>\n",
       "      <td>None</td>\n",
       "      <td>None</td>\n",
       "      <td>None</td>\n",
       "    </tr>\n",
       "    <tr>\n",
       "      <th>3</th>\n",
       "      <td>10</td>\n",
       "      <td>709</td>\n",
       "      <td>STANDARD</td>\n",
       "      <td>BDA SAN LUIS</td>\n",
       "      <td>PR</td>\n",
       "      <td>NOT ACCEPTABLE</td>\n",
       "      <td>18.14</td>\n",
       "      <td>-66.26</td>\n",
       "      <td>0.38</td>\n",
       "      <td>-0.86</td>\n",
       "      <td>0.31</td>\n",
       "      <td>NA</td>\n",
       "      <td>US</td>\n",
       "      <td>Bda San Luis, PR</td>\n",
       "      <td>NA-US-PR-BDA SAN LUIS</td>\n",
       "      <td>FALSE</td>\n",
       "      <td>None</td>\n",
       "      <td>None</td>\n",
       "      <td>None</td>\n",
       "      <td>None</td>\n",
       "    </tr>\n",
       "    <tr>\n",
       "      <th>4</th>\n",
       "      <td>61391</td>\n",
       "      <td>76166</td>\n",
       "      <td>UNIQUE</td>\n",
       "      <td>CINGULAR WIRELESS</td>\n",
       "      <td>TX</td>\n",
       "      <td>NOT ACCEPTABLE</td>\n",
       "      <td>32.72</td>\n",
       "      <td>-97.31</td>\n",
       "      <td>-0.1</td>\n",
       "      <td>-0.83</td>\n",
       "      <td>0.54</td>\n",
       "      <td>NA</td>\n",
       "      <td>US</td>\n",
       "      <td>Cingular Wireless, TX</td>\n",
       "      <td>NA-US-TX-CINGULAR WIRELESS</td>\n",
       "      <td>FALSE</td>\n",
       "      <td>None</td>\n",
       "      <td>None</td>\n",
       "      <td>None</td>\n",
       "      <td>None</td>\n",
       "    </tr>\n",
       "  </tbody>\n",
       "</table>\n",
       "</div>"
      ],
      "text/plain": [
       "            _c0      _c1          _c2                  _c3    _c4  \\\n",
       "0  RecordNumber  Zipcode  ZipCodeType                 City  State   \n",
       "1             1      704     STANDARD          PARC PARQUE     PR   \n",
       "2             2      704     STANDARD  PASEO COSTA DEL SUR     PR   \n",
       "3            10      709     STANDARD         BDA SAN LUIS     PR   \n",
       "4         61391    76166       UNIQUE    CINGULAR WIRELESS     TX   \n",
       "\n",
       "              _c5    _c6     _c7    _c8    _c9   _c10         _c11     _c12  \\\n",
       "0    LocationType    Lat    Long  Xaxis  Yaxis  Zaxis  WorldRegion  Country   \n",
       "1  NOT ACCEPTABLE  17.96  -66.22   0.38  -0.87    0.3           NA       US   \n",
       "2  NOT ACCEPTABLE  17.96  -66.22   0.38  -0.87    0.3           NA       US   \n",
       "3  NOT ACCEPTABLE  18.14  -66.26   0.38  -0.86   0.31           NA       US   \n",
       "4  NOT ACCEPTABLE  32.72  -97.31   -0.1  -0.83   0.54           NA       US   \n",
       "\n",
       "                      _c13                          _c14           _c15  \\\n",
       "0             LocationText                      Location  Decommisioned   \n",
       "1          Parc Parque, PR          NA-US-PR-PARC PARQUE          FALSE   \n",
       "2  Paseo Costa Del Sur, PR  NA-US-PR-PASEO COSTA DEL SUR          FALSE   \n",
       "3         Bda San Luis, PR         NA-US-PR-BDA SAN LUIS          FALSE   \n",
       "4    Cingular Wireless, TX    NA-US-TX-CINGULAR WIRELESS          FALSE   \n",
       "\n",
       "              _c16                 _c17        _c18   _c19  \n",
       "0  TaxReturnsFiled  EstimatedPopulation  TotalWages  Notes  \n",
       "1             None                 None        None   None  \n",
       "2             None                 None        None   None  \n",
       "3             None                 None        None   None  \n",
       "4             None                 None        None   None  "
      ]
     },
     "execution_count": 3,
     "metadata": {},
     "output_type": "execute_result"
    }
   ],
   "source": [
    "df = spark.read.csv(\"../Example_Sources/zipcodes.csv\")\n",
    "df.printSchema()\n",
    "df.toPandas().head()"
   ]
  },
  {
   "cell_type": "markdown",
   "metadata": {
    "pycharm": {
     "name": "#%% md\n"
    }
   },
   "source": [
    "Other possible syntax\n",
    "df = spark.read.format(\"csv\").load(\"../Example_Sources/zipcodes.csv\")\n",
    "df = spark.read.format(\"org.apache.spark.sql.csv\").load(\"../Example_Sources/zipcodes.csv\")\n",
    "\n",
    "org.apache.spark.sql.csv is the fully qualified name for csv"
   ]
  },
  {
   "cell_type": "markdown",
   "metadata": {
    "pycharm": {
     "name": "#%% md\n"
    }
   },
   "source": [
    "## Create DataFrame from CSV with 1st row as header"
   ]
  },
  {
   "cell_type": "code",
   "execution_count": 4,
   "metadata": {
    "pycharm": {
     "name": "#%%\n"
    }
   },
   "outputs": [
    {
     "name": "stdout",
     "output_type": "stream",
     "text": [
      "root\n",
      " |-- RecordNumber: string (nullable = true)\n",
      " |-- Zipcode: string (nullable = true)\n",
      " |-- ZipCodeType: string (nullable = true)\n",
      " |-- City: string (nullable = true)\n",
      " |-- State: string (nullable = true)\n",
      " |-- LocationType: string (nullable = true)\n",
      " |-- Lat: string (nullable = true)\n",
      " |-- Long: string (nullable = true)\n",
      " |-- Xaxis: string (nullable = true)\n",
      " |-- Yaxis: string (nullable = true)\n",
      " |-- Zaxis: string (nullable = true)\n",
      " |-- WorldRegion: string (nullable = true)\n",
      " |-- Country: string (nullable = true)\n",
      " |-- LocationText: string (nullable = true)\n",
      " |-- Location: string (nullable = true)\n",
      " |-- Decommisioned: string (nullable = true)\n",
      " |-- TaxReturnsFiled: string (nullable = true)\n",
      " |-- EstimatedPopulation: string (nullable = true)\n",
      " |-- TotalWages: string (nullable = true)\n",
      " |-- Notes: string (nullable = true)\n",
      "\n"
     ]
    },
    {
     "data": {
      "text/html": [
       "<div>\n",
       "<style scoped>\n",
       "    .dataframe tbody tr th:only-of-type {\n",
       "        vertical-align: middle;\n",
       "    }\n",
       "\n",
       "    .dataframe tbody tr th {\n",
       "        vertical-align: top;\n",
       "    }\n",
       "\n",
       "    .dataframe thead th {\n",
       "        text-align: right;\n",
       "    }\n",
       "</style>\n",
       "<table border=\"1\" class=\"dataframe\">\n",
       "  <thead>\n",
       "    <tr style=\"text-align: right;\">\n",
       "      <th></th>\n",
       "      <th>RecordNumber</th>\n",
       "      <th>Zipcode</th>\n",
       "      <th>ZipCodeType</th>\n",
       "      <th>City</th>\n",
       "      <th>State</th>\n",
       "      <th>LocationType</th>\n",
       "      <th>Lat</th>\n",
       "      <th>Long</th>\n",
       "      <th>Xaxis</th>\n",
       "      <th>Yaxis</th>\n",
       "      <th>Zaxis</th>\n",
       "      <th>WorldRegion</th>\n",
       "      <th>Country</th>\n",
       "      <th>LocationText</th>\n",
       "      <th>Location</th>\n",
       "      <th>Decommisioned</th>\n",
       "      <th>TaxReturnsFiled</th>\n",
       "      <th>EstimatedPopulation</th>\n",
       "      <th>TotalWages</th>\n",
       "      <th>Notes</th>\n",
       "    </tr>\n",
       "  </thead>\n",
       "  <tbody>\n",
       "    <tr>\n",
       "      <th>0</th>\n",
       "      <td>1</td>\n",
       "      <td>704</td>\n",
       "      <td>STANDARD</td>\n",
       "      <td>PARC PARQUE</td>\n",
       "      <td>PR</td>\n",
       "      <td>NOT ACCEPTABLE</td>\n",
       "      <td>17.96</td>\n",
       "      <td>-66.22</td>\n",
       "      <td>0.38</td>\n",
       "      <td>-0.87</td>\n",
       "      <td>0.3</td>\n",
       "      <td>NA</td>\n",
       "      <td>US</td>\n",
       "      <td>Parc Parque, PR</td>\n",
       "      <td>NA-US-PR-PARC PARQUE</td>\n",
       "      <td>FALSE</td>\n",
       "      <td>None</td>\n",
       "      <td>None</td>\n",
       "      <td>None</td>\n",
       "      <td>None</td>\n",
       "    </tr>\n",
       "    <tr>\n",
       "      <th>1</th>\n",
       "      <td>2</td>\n",
       "      <td>704</td>\n",
       "      <td>STANDARD</td>\n",
       "      <td>PASEO COSTA DEL SUR</td>\n",
       "      <td>PR</td>\n",
       "      <td>NOT ACCEPTABLE</td>\n",
       "      <td>17.96</td>\n",
       "      <td>-66.22</td>\n",
       "      <td>0.38</td>\n",
       "      <td>-0.87</td>\n",
       "      <td>0.3</td>\n",
       "      <td>NA</td>\n",
       "      <td>US</td>\n",
       "      <td>Paseo Costa Del Sur, PR</td>\n",
       "      <td>NA-US-PR-PASEO COSTA DEL SUR</td>\n",
       "      <td>FALSE</td>\n",
       "      <td>None</td>\n",
       "      <td>None</td>\n",
       "      <td>None</td>\n",
       "      <td>None</td>\n",
       "    </tr>\n",
       "    <tr>\n",
       "      <th>2</th>\n",
       "      <td>10</td>\n",
       "      <td>709</td>\n",
       "      <td>STANDARD</td>\n",
       "      <td>BDA SAN LUIS</td>\n",
       "      <td>PR</td>\n",
       "      <td>NOT ACCEPTABLE</td>\n",
       "      <td>18.14</td>\n",
       "      <td>-66.26</td>\n",
       "      <td>0.38</td>\n",
       "      <td>-0.86</td>\n",
       "      <td>0.31</td>\n",
       "      <td>NA</td>\n",
       "      <td>US</td>\n",
       "      <td>Bda San Luis, PR</td>\n",
       "      <td>NA-US-PR-BDA SAN LUIS</td>\n",
       "      <td>FALSE</td>\n",
       "      <td>None</td>\n",
       "      <td>None</td>\n",
       "      <td>None</td>\n",
       "      <td>None</td>\n",
       "    </tr>\n",
       "    <tr>\n",
       "      <th>3</th>\n",
       "      <td>61391</td>\n",
       "      <td>76166</td>\n",
       "      <td>UNIQUE</td>\n",
       "      <td>CINGULAR WIRELESS</td>\n",
       "      <td>TX</td>\n",
       "      <td>NOT ACCEPTABLE</td>\n",
       "      <td>32.72</td>\n",
       "      <td>-97.31</td>\n",
       "      <td>-0.1</td>\n",
       "      <td>-0.83</td>\n",
       "      <td>0.54</td>\n",
       "      <td>NA</td>\n",
       "      <td>US</td>\n",
       "      <td>Cingular Wireless, TX</td>\n",
       "      <td>NA-US-TX-CINGULAR WIRELESS</td>\n",
       "      <td>FALSE</td>\n",
       "      <td>None</td>\n",
       "      <td>None</td>\n",
       "      <td>None</td>\n",
       "      <td>None</td>\n",
       "    </tr>\n",
       "    <tr>\n",
       "      <th>4</th>\n",
       "      <td>61392</td>\n",
       "      <td>76177</td>\n",
       "      <td>STANDARD</td>\n",
       "      <td>FORT WORTH</td>\n",
       "      <td>TX</td>\n",
       "      <td>PRIMARY</td>\n",
       "      <td>32.75</td>\n",
       "      <td>-97.33</td>\n",
       "      <td>-0.1</td>\n",
       "      <td>-0.83</td>\n",
       "      <td>0.54</td>\n",
       "      <td>NA</td>\n",
       "      <td>US</td>\n",
       "      <td>Fort Worth, TX</td>\n",
       "      <td>NA-US-TX-FORT WORTH</td>\n",
       "      <td>FALSE</td>\n",
       "      <td>2126</td>\n",
       "      <td>4053</td>\n",
       "      <td>122396986</td>\n",
       "      <td>None</td>\n",
       "    </tr>\n",
       "  </tbody>\n",
       "</table>\n",
       "</div>"
      ],
      "text/plain": [
       "  RecordNumber Zipcode ZipCodeType                 City State    LocationType  \\\n",
       "0            1     704    STANDARD          PARC PARQUE    PR  NOT ACCEPTABLE   \n",
       "1            2     704    STANDARD  PASEO COSTA DEL SUR    PR  NOT ACCEPTABLE   \n",
       "2           10     709    STANDARD         BDA SAN LUIS    PR  NOT ACCEPTABLE   \n",
       "3        61391   76166      UNIQUE    CINGULAR WIRELESS    TX  NOT ACCEPTABLE   \n",
       "4        61392   76177    STANDARD           FORT WORTH    TX         PRIMARY   \n",
       "\n",
       "     Lat    Long Xaxis  Yaxis Zaxis WorldRegion Country  \\\n",
       "0  17.96  -66.22  0.38  -0.87   0.3          NA      US   \n",
       "1  17.96  -66.22  0.38  -0.87   0.3          NA      US   \n",
       "2  18.14  -66.26  0.38  -0.86  0.31          NA      US   \n",
       "3  32.72  -97.31  -0.1  -0.83  0.54          NA      US   \n",
       "4  32.75  -97.33  -0.1  -0.83  0.54          NA      US   \n",
       "\n",
       "              LocationText                      Location Decommisioned  \\\n",
       "0          Parc Parque, PR          NA-US-PR-PARC PARQUE         FALSE   \n",
       "1  Paseo Costa Del Sur, PR  NA-US-PR-PASEO COSTA DEL SUR         FALSE   \n",
       "2         Bda San Luis, PR         NA-US-PR-BDA SAN LUIS         FALSE   \n",
       "3    Cingular Wireless, TX    NA-US-TX-CINGULAR WIRELESS         FALSE   \n",
       "4           Fort Worth, TX           NA-US-TX-FORT WORTH         FALSE   \n",
       "\n",
       "  TaxReturnsFiled EstimatedPopulation TotalWages Notes  \n",
       "0            None                None       None  None  \n",
       "1            None                None       None  None  \n",
       "2            None                None       None  None  \n",
       "3            None                None       None  None  \n",
       "4            2126                4053  122396986  None  "
      ]
     },
     "execution_count": 4,
     "metadata": {},
     "output_type": "execute_result"
    }
   ],
   "source": [
    "df2 = spark.read.option(\"header\", True).csv(\"../Example_Sources/zipcodes.csv\")\n",
    "df2.printSchema()\n",
    "df2.toPandas().head()"
   ]
  },
  {
   "cell_type": "markdown",
   "metadata": {},
   "source": [
    "### Read Multiple CSV Files\n",
    "df = spark.read.csv(\"path1,path2,path3\")\n",
    "\n",
    "### Read all CSV files in a Directory\n",
    "df = spark.read.csv(\"Folder path\")"
   ]
  },
  {
   "cell_type": "markdown",
   "metadata": {},
   "source": [
    "## Provide Options"
   ]
  },
  {
   "cell_type": "markdown",
   "metadata": {},
   "source": [
    "### How"
   ]
  },
  {
   "cell_type": "markdown",
   "metadata": {},
   "source": [
    "#### Chaining option(self, key, value) to use multiple options\n",
    "df4 = spark.read.option(\"inferSchema\",True).option(\"delimiter\",\",\").csv(\"../Example_Sources/zipcodes.csv\")"
   ]
  },
  {
   "cell_type": "markdown",
   "metadata": {},
   "source": [
    "#### Use multiple options at once options(self, **options) method\n",
    "df4 = spark.read.options(inferSchema='True',delimiter=',').csv(\"../Example_Sources/zipcodes.csv\")"
   ]
  },
  {
   "cell_type": "markdown",
   "metadata": {},
   "source": [
    "### Options"
   ]
  },
  {
   "cell_type": "markdown",
   "metadata": {},
   "source": [
    "`delimiter` - used to specify the column delimiter of the CSV file. By default, it is comma (,) character,\n",
    "but can be set to any character like pipe(|), tab (\\t), space using this option.\n",
    "\n",
    "`inferSchema` - The default value set to this option is False when setting to true it automatically infers column \n",
    "types based on the data. Note that, it requires reading the data one more time to infer the schema.\n",
    "\n",
    "`header` - This option is used to read the first line of the CSV file as column names. By default the value of this \n",
    "option is False , and all column types are assumed to be a string.\n",
    "\n",
    "`quotes` - When you have a column with a delimiter that used to split the columns, use quotes option to specify \n",
    "the quote character, by default it is ” and delimiters inside quotes are ignored. but using this option you \n",
    "can set any character\n",
    "\n",
    "`nullValues` - Using nullValues option you can specify the string in a CSV to consider as null. \n",
    "For example, if you want to consider a date column with a value \"1900-01-01\" set null on DataFrame.\n",
    "\n",
    "`dateFormat` - dateFormat option to used to set the format of the input DateType and TimestampType\n",
    "columns. Supports all java.text.SimpleDateFormat formats.\n",
    " \n",
    "`Full Documentation` - https://docs.databricks.com/data/data-sources/read-csv.html"
   ]
  },
  {
   "cell_type": "markdown",
   "metadata": {},
   "source": [
    "## Reading CSV files with a user-specified custom schema"
   ]
  },
  {
   "cell_type": "markdown",
   "metadata": {},
   "source": [
    "schema = StructType().add(\"RecordNumber\",IntegerType(),True) \\\n",
    "      &emsp;&emsp;&emsp;&emsp;&emsp;&emsp;&emsp;&emsp;&emsp;&emsp;.add(\"Zipcode\",IntegerType(),True) \\\n",
    "      &emsp;&emsp;&emsp;&emsp;&emsp;&emsp;&emsp;&emsp;&emsp;&emsp;.add(\"ZipCodeType\",StringType(),True) \\\n",
    "      &emsp;&emsp;&emsp;&emsp;&emsp;&emsp;&emsp;&emsp;&emsp;&emsp;.add(\"City\",StringType(),True) \\\n",
    "      &emsp;&emsp;&emsp;&emsp;&emsp;&emsp;&emsp;&emsp;&emsp;&emsp;.add(\"State\",StringType(),True) \\\n",
    "      &emsp;&emsp;&emsp;&emsp;&emsp;&emsp;&emsp;&emsp;&emsp;&emsp;.add(\"LocationType\",StringType(),True) \\\n",
    "      &emsp;&emsp;&emsp;&emsp;&emsp;&emsp;&emsp;&emsp;&emsp;&emsp;.add(\"Lat\",DoubleType(),True) \\\n",
    "      &emsp;&emsp;&emsp;&emsp;&emsp;&emsp;&emsp;&emsp;&emsp;&emsp;.add(\"Long\",DoubleType(),True) \\\n",
    "      &emsp;&emsp;&emsp;&emsp;&emsp;&emsp;&emsp;&emsp;&emsp;&emsp;.add(\"Xaxis\",IntegerType(),True) \\\n",
    "      &emsp;&emsp;&emsp;&emsp;&emsp;&emsp;&emsp;&emsp;&emsp;&emsp;.add(\"Yaxis\",DoubleType(),True) \\\n",
    "      &emsp;&emsp;&emsp;&emsp;&emsp;&emsp;&emsp;&emsp;&emsp;&emsp;.add(\"Zaxis\",DoubleType(),True) \\\n",
    "      &emsp;&emsp;&emsp;&emsp;&emsp;&emsp;&emsp;&emsp;&emsp;&emsp;.add(\"WorldRegion\",StringType(),True) \\\n",
    "      &emsp;&emsp;&emsp;&emsp;&emsp;&emsp;&emsp;&emsp;&emsp;&emsp;.add(\"Country\",StringType(),True) \\\n",
    "      &emsp;&emsp;&emsp;&emsp;&emsp;&emsp;&emsp;&emsp;&emsp;&emsp;.add(\"LocationText\",StringType(),True) \\\n",
    "      &emsp;&emsp;&emsp;&emsp;&emsp;&emsp;&emsp;&emsp;&emsp;&emsp;.add(\"Location\",StringType(),True) \\\n",
    "      &emsp;&emsp;&emsp;&emsp;&emsp;&emsp;&emsp;&emsp;&emsp;&emsp;.add(\"Decommisioned\",BooleanType(),True) \\\n",
    "      &emsp;&emsp;&emsp;&emsp;&emsp;&emsp;&emsp;&emsp;&emsp;&emsp;.add(\"TaxReturnsFiled\",StringType(),True) \\\n",
    "      &emsp;&emsp;&emsp;&emsp;&emsp;&emsp;&emsp;&emsp;&emsp;&emsp;.add(\"EstimatedPopulation\",IntegerType(),True) \\\n",
    "      &emsp;&emsp;&emsp;&emsp;&emsp;&emsp;&emsp;&emsp;&emsp;&emsp;.add(\"TotalWages\",IntegerType(),True) \\\n",
    "      &emsp;&emsp;&emsp;&emsp;&emsp;&emsp;&emsp;&emsp;&emsp;&emsp;.add(\"Notes\",StringType(),True)\n",
    "      \n",
    "df_with_schema = spark.read.format(\"csv\") \\\n",
    "      .option(\"header\", True) \\\n",
    "      .schema(schema) \\\n",
    "      .load(\"/tmp/resources/zipcodes.csv\")"
   ]
  },
  {
   "cell_type": "markdown",
   "metadata": {},
   "source": [
    "## Write PySpark DataFrame to CSV file"
   ]
  },
  {
   "cell_type": "markdown",
   "metadata": {},
   "source": [
    "df.write.option(\"header\", True).csv('../Example_Sources/zipcodes.csv')"
   ]
  },
  {
   "cell_type": "markdown",
   "metadata": {},
   "source": [
    "### Saving Modes"
   ]
  },
  {
   "cell_type": "markdown",
   "metadata": {},
   "source": [
    "`overwrite` – mode is used to overwrite the existing file."
   ]
  },
  {
   "cell_type": "markdown",
   "metadata": {},
   "source": [
    "`append` – To add the data to the existing file."
   ]
  },
  {
   "cell_type": "markdown",
   "metadata": {},
   "source": [
    "`ignore` – Ignores write operation when the file already exists."
   ]
  },
  {
   "cell_type": "markdown",
   "metadata": {},
   "source": [
    "`error` – This is a default option when the file already exists, it returns an error."
   ]
  },
  {
   "cell_type": "markdown",
   "metadata": {},
   "source": [
    "### Example"
   ]
  },
  {
   "cell_type": "markdown",
   "metadata": {},
   "source": [
    "df2.write.mode('overwrite').csv(\"../Example_Sources/zipcodes.csv\")"
   ]
  },
  {
   "cell_type": "markdown",
   "metadata": {},
   "source": [
    "*OR*"
   ]
  },
  {
   "cell_type": "markdown",
   "metadata": {},
   "source": [
    "df2.write.format(\"csv\").mode('overwrite').save(\"../Example_Sources/zipcodes.csv\")"
   ]
  }
 ],
 "metadata": {
  "kernelspec": {
   "display_name": "Python 3 (ipykernel)",
   "language": "python",
   "name": "python3"
  },
  "language_info": {
   "codemirror_mode": {
    "name": "ipython",
    "version": 3
   },
   "file_extension": ".py",
   "mimetype": "text/x-python",
   "name": "python",
   "nbconvert_exporter": "python",
   "pygments_lexer": "ipython3",
   "version": "3.9.7"
  },
  "toc": {
   "base_numbering": 1,
   "nav_menu": {},
   "number_sections": true,
   "sideBar": true,
   "skip_h1_title": false,
   "title_cell": "Table of Contents",
   "title_sidebar": "Contents",
   "toc_cell": false,
   "toc_position": {},
   "toc_section_display": true,
   "toc_window_display": true
  }
 },
 "nbformat": 4,
 "nbformat_minor": 1
}