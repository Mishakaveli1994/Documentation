{
 "cells": [
  {
   "cell_type": "markdown",
   "metadata": {},
   "source": [
    "# Docker images\n",
    "An image is a file that represents a packaged application with all the dependencies needed to run correctly. In other words, we could say that a Docker image is like a Java class.\n",
    "\n",
    "Images are built as a series of layers. Layers are assembled on top of one another. So, what is a layer? Simply put, a layer is an image.\n",
    "\n",
    "\n",
    "freestar\n",
    "Let's say we want to create a Docker image of a Hello World Java application. The first thing we need to think about is what does our application need.\n",
    "\n",
    "To start, it is a Java application, so we will need a JVM. OK, this seems easy, but what does a JVM need to run? It needs an Operating System. Therefore, our Docker image will have an Operating System layer, a JVM, and our Hello World application.\n",
    "\n",
    "A major advantage of Docker is its large community. If we want to build on to an image, we can go to Docker Hub and search if the image we need is available.\n",
    "\n",
    "Let's say we want to create a database, using the PostgreSQL database. We don't need to create a new PostgreSQL image from scratch. We just go to Docker Hub, search for postgres, which is the Docker official image name for PostgresSQL, choose the version we need, and run it.\n",
    "\n",
    "Every image we create or pull from Docker Hub is stored in our filesystem and is identified by its name and tag.  It can also be identified by its image id."
   ]
  },
  {
   "cell_type": "markdown",
   "metadata": {},
   "source": [
    "# Docker containers\n",
    "A container is an instance of an image. Each container can be identified by its ID. Going back to our Java development analogy, we could say that a container is like an instance of a class.\n",
    "\n",
    "Docker defines seven states for a container: created, restarting, running, removing, paused, exited, and dead. This is important to know. Since a container is just an instance of the image, it doesn't need to be running.\n",
    "\n",
    "The run command is used to create and start a new container of the image.\n",
    "\n",
    "One big advantage is that containers are like lightweight VMs. Their behaviors are completely isolated from each other. This means that we can run multiple containers of the same image, having each one in a different state with different data and different IDs.\n",
    "\n",
    "Being able to run multiple containers of the same image at the same time is a great advantage because it allows us an easy way of scaling applications. For example, let's think about microservices. If every service is packaged as a Docker image, then that means that new services can be deployed as containers on demand."
   ]
  },
  {
   "cell_type": "markdown",
   "metadata": {},
   "source": [
    "# Docker commands"
   ]
  },
  {
   "cell_type": "markdown",
   "metadata": {
    "collapsed": true,
    "pycharm": {
     "is_executing": true,
     "name": "#%%\n"
    }
   },
   "source": [
    "## Build image\n",
    "**Command** - `docker build <path_to_DockerFile>`\n",
    "\n",
    "*Flags*:\n",
    "\n",
    "`-f <TagName>` - provide a tag (name) for the image\n",
    "\n",
    "`--build-arg <arg_name>=<arg_value>` - provide a argument for the image (for example if there is a variable in the DockerFile and needs to be manually populated)"
   ]
  },
  {
   "cell_type": "markdown",
   "metadata": {},
   "source": [
    "## Pull image from the docker repository (hub.docker.com)\n",
    "\n",
    "**Command** - `docker pull <image_name>`"
   ]
  },
  {
   "cell_type": "markdown",
   "metadata": {
    "pycharm": {
     "name": "#%%\n"
    }
   },
   "source": [
    "## Run image\n",
    "**Command** - `docker run <image_id>`\n",
    "\n",
    "`-d` - detached mode (run in background)\n",
    "\n",
    "`-it` - interactive tty (can send multiple commands on container)\n",
    "\n",
    "`--rm` - delete container when exited (for one off docker runs)\n",
    "\n",
    "`-P` - publish all exposed ports to random ports\n",
    "\n",
    "`--name` - the name we want to give to the container\n",
    "\n",
    "### Create container from image\n",
    "`docker run -it -d <image>`"
   ]
  },
  {
   "cell_type": "markdown",
   "metadata": {},
   "source": [
    "## Pause container\n",
    "**Command** - `docker pause <container_id>`"
   ]
  },
  {
   "cell_type": "markdown",
   "metadata": {},
   "source": [
    "## Unpause container\n",
    "**Command** - `docker unpause <container_id>`"
   ]
  },
  {
   "cell_type": "markdown",
   "metadata": {},
   "source": [
    "## Find all images\n",
    "**Command** - `docker images`"
   ]
  },
  {
   "cell_type": "markdown",
   "metadata": {},
   "source": [
    "## Remove image\n",
    "**Command** - `docker image rm <image_id>`\n",
    "\n",
    "*Flags*:\n",
    "`-f` - force"
   ]
  },
  {
   "cell_type": "markdown",
   "metadata": {},
   "source": [
    "## Delete an image from local storage\n",
    "**Command** - `docker rmi <image_id>`"
   ]
  },
  {
   "cell_type": "markdown",
   "metadata": {},
   "source": [
    "## Remove container\n",
    "**Command** - `docker container rm <container_id>` OR `docker rm <container_id>`\n",
    "\n",
    "*Flags*:\n",
    "`-q` - return only numeric IDs\n",
    "\n",
    "`-f` - filter output based on condition\n",
    "\n",
    "### Remove all containers that are in specific status\n",
    "`docker rm $(docker ps -a -q -f status=<status>)`\n",
    "\n",
    "In newer versions - `docker container prune`"
   ]
  },
  {
   "cell_type": "markdown",
   "metadata": {},
   "source": [
    "## List containers \n",
    "**Command** - `docker ps`\n",
    "\n",
    "*Flags*:\n",
    "\n",
    "`-a` - show both running and exited containers\n",
    "\n",
    "`-f` - filter by criteria - `--filter \"key=value\"`\n",
    "\n",
    "*Possible container statuses*:\n",
    "\n",
    "`created`, `restarting`, `running`, `removing`, `paused`, `exited`, `dead`"
   ]
  },
  {
   "cell_type": "markdown",
   "metadata": {},
   "source": [
    "## Access a running container\n",
    "**Command** - `docker exec -it <container_id> bash`"
   ]
  },
  {
   "cell_type": "markdown",
   "metadata": {},
   "source": [
    "## Stop a running container\n",
    "**Command** - `docker stop <container_id>`"
   ]
  },
  {
   "cell_type": "markdown",
   "metadata": {},
   "source": [
    "## Kill container\n",
    "**Command** - `docker kill <container_id>`\n",
    "\n",
    "*Notes*:\n",
    "\n",
    "This command kills the container by stopping its execution immediately. The difference between ‘docker kill’ and ‘docker stop’ is that ‘docker stop’ gives the container time to shutdown gracefully, in situations when it is taking too much time for getting the container to stop, one can opt to kill it"
   ]
  },
  {
   "cell_type": "markdown",
   "metadata": {},
   "source": [
    "##  Commit a container’s file changes or settings into a new image\n",
    "**Command** - `docker commit [options] <container_id> <repository[:tag]>`"
   ]
  },
  {
   "cell_type": "markdown",
   "metadata": {},
   "source": [
    "## Login to docker hub repository\n",
    "**Command** - `docker login`"
   ]
  },
  {
   "cell_type": "markdown",
   "metadata": {},
   "source": [
    "## Push an image to the docker hub repository\n",
    "**Command** - `docker push <username/image name>`"
   ]
  },
  {
   "cell_type": "markdown",
   "metadata": {},
   "source": [
    "## See ports the container is using\n",
    "**Command** - `docker port <container_name>`\n",
    "\n",
    "*Flags*:\n",
    "\n",
    "`-p <ip:port>` - custom select port"
   ]
  },
  {
   "cell_type": "markdown",
   "metadata": {},
   "source": []
  },
  {
   "cell_type": "markdown",
   "metadata": {},
   "source": []
  },
  {
   "cell_type": "markdown",
   "metadata": {},
   "source": []
  },
  {
   "cell_type": "markdown",
   "metadata": {},
   "source": []
  },
  {
   "cell_type": "markdown",
   "metadata": {},
   "source": []
  },
  {
   "cell_type": "markdown",
   "metadata": {},
   "source": []
  },
  {
   "cell_type": "markdown",
   "metadata": {},
   "source": []
  }
 ],
 "metadata": {
  "kernelspec": {
   "display_name": "Python 3 (ipykernel)",
   "language": "python",
   "name": "python3"
  },
  "language_info": {
   "codemirror_mode": {
    "name": "ipython",
    "version": 3
   },
   "file_extension": ".py",
   "mimetype": "text/x-python",
   "name": "python",
   "nbconvert_exporter": "python",
   "pygments_lexer": "ipython3",
   "version": "3.9.7"
  },
  "toc": {
   "base_numbering": 1,
   "nav_menu": {},
   "number_sections": true,
   "sideBar": true,
   "skip_h1_title": false,
   "title_cell": "Table of Contents",
   "title_sidebar": "Contents",
   "toc_cell": false,
   "toc_position": {
    "height": "calc(100% - 180px)",
    "left": "10px",
    "top": "150px",
    "width": "384px"
   },
   "toc_section_display": true,
   "toc_window_display": true
  }
 },
 "nbformat": 4,
 "nbformat_minor": 1
}
