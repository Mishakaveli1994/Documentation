{
 "cells": [
  {
   "cell_type": "code",
   "execution_count": 27,
   "metadata": {},
   "outputs": [
    {
     "data": {
      "text/html": [
       "<style>\n",
       "    pre.cd {\n",
       "            border: 1px dashed #93A1A1;\n",
       "            padding: 0.5em 0.8em;\n",
       "            background: #FCF6E3;\n",
       "    }\n",
       "    .highlight{\n",
       "        backgound: #FCF6E3 ;\n",
       "    }\n",
       "    .hll { background-color: #ffffcc }\n",
       "    .c { color: #93a1a1; font-style: italic } /* Comment */\n",
       "    .err { color: #dc322f } /* Error */\n",
       "    .g { color: #657b83 } /* Generic */\n",
       "    .k { color: #859900 } /* Keyword */\n",
       "    .l { color: #657b83 } /* Literal */\n",
       "    .n { color: #586e75 } /* Name */\n",
       "    .o { color: #657b83 } /* Operator */\n",
       "    .x { color: #657b83 } /* Other */\n",
       "    .p { color: #657b83 } /* Punctuation */\n",
       "    .cm { color: #93a1a1; font-style: italic } /* Comment.Multiline */\n",
       "    .cp { color: #93a1a1; font-style: italic } /* Comment.Preproc */\n",
       "    .c1 { color: #93a1a1; font-style: italic } /* Comment.Single */\n",
       "    .cs { color: #93a1a1; font-style: italic } /* Comment.Special */\n",
       "    .gd { color: #657b83 } /* Generic.Deleted */\n",
       "    .ge { color: #657b83 } /* Generic.Emph */\n",
       "    .gr { color: #657b83 } /* Generic.Error */\n",
       "    .gh { color: #657b83 } /* Generic.Heading */\n",
       "    .gi { color: #657b83 } /* Generic.Inserted */\n",
       "    .go { color: #000000 } /* Generic.Output (customized) */\n",
       "    .gp { color: #cb4b16 } /* Generic.Prompt (customized) */\n",
       "    .gs { color: #657b83 } /* Generic.Strong */\n",
       "    .gu { color: #657b83 } /* Generic.Subheading */\n",
       "    .gt { color: #657b83 } /* Generic.Traceback */\n",
       "    .kc { color: #859900 } /* Keyword.Constant */\n",
       "    .kd { color: #859900 } /* Keyword.Declaration */\n",
       "    .kn { color: #cb4b16 } /* Keyword.Namespace */\n",
       "    .kp { color: #cb4b16 } /* Keyword.Pseudo */\n",
       "    .kr { color: #859900 } /* Keyword.Reserved */\n",
       "    .kt { color: #859900 } /* Keyword.Type */\n",
       "    .ld { color: #657b83 } /* Literal.Date */\n",
       "    .m { color: #2aa198 } /* Literal.Number */\n",
       "    .s { color: #2aa198 } /* Literal.String */\n",
       "    .na { color: #657b83 } /* Name.Attribute */\n",
       "    .nb { color: #268bd2 } /* Name.Builtin */\n",
       "    .nc { color: #268bd2 } /* Name.Class */\n",
       "    .no { color: #b58900 } /* Name.Constant */\n",
       "    .nd { color: #cb4b16 } /* Name.Decorator */\n",
       "    .ni { color: #cb4b16 } /* Name.Entity */\n",
       "    .ne { color: #cb4b16 } /* Name.Exception */\n",
       "    .nf { color: #268bd2 } /* Name.Function */\n",
       "    .nl { color: #657b83 } /* Name.Label */\n",
       "    .nn { color: #b58900 } /* Name.Namespace */\n",
       "    .nx { color: #657b83 } /* Name.Other */\n",
       "    .py { color: #268bd2 } /* Name.Property */\n",
       "    .nt { color: #859900 } /* Name.Tag */\n",
       "    .nv { color: #cd4b16 } /* Name.Variable */\n",
       "    .ow { color: #859900 } /* Operator.Word */\n",
       "    .w { color: #fdf6e3 } /* Text.Whitespace */\n",
       "    .mf { color: #2aa198 } /* Literal.Number.Float */\n",
       "    .mh { color: #2aa198 } /* Literal.Number.Hex */\n",
       "    .mi { color: #2aa198 } /* Literal.Number.Integer */\n",
       "    .mo { color: #2aa198 } /* Literal.Number.Oct */\n",
       "    .sb { color: #2aa198 } /* Literal.String.Backtick */\n",
       "    .sc { color: #2aa198 } /* Literal.String.Char */\n",
       "    .sd { color: #2aa198 } /* Literal.String.Doc */\n",
       "    .s2 { color: #2aa198 } /* Literal.String.Double */\n",
       "    .se { color: #cb4b16 } /* Literal.String.Escape */\n",
       "    .sh { color: #2aa198 } /* Literal.String.Heredoc */\n",
       "    .si { color: #cb4b16 } /* Literal.String.Interpol */\n",
       "    .sx { color: #2aa198 } /* Literal.String.Other */\n",
       "    .sr { color: #2aa198 } /* Literal.String.Regex */\n",
       "    .s1 { color: #2aa198 } /* Literal.String.Single */\n",
       "    .ss { color: #2aa198 } /* Literal.String.Symbol */\n",
       "    .bp { color: #268bd2; font-weight: bold } /* Name.Builtin.Pseudo */\n",
       "    .vc { color: #268bd2 } /* Name.Variable.Class */\n",
       "    .vg { color: #268bd2 } /* Name.Variable.Global */\n",
       "    .vi { color: #268bd2 } /* Name.Variable.Instance */\n",
       "    .il { color: #2aa198 } /* Literal.Number.Integer.Long */\n",
       "    div.verdict-div{\n",
       "        background: #EEEEEE; \n",
       "        padding: 30px\n",
       "    }\n",
       "    p.verdict-title{\n",
       "        text-align: center;\n",
       "        font-weight: bold;\n",
       "    }\n",
       "</style>\n"
      ],
      "text/plain": [
       "<IPython.core.display.HTML object>"
      ]
     },
     "metadata": {},
     "output_type": "display_data"
    }
   ],
   "source": [
    "%%html\n",
    "<style>\n",
    "    pre.cd {\n",
    "            border: 1px dashed #93A1A1;\n",
    "            padding: 0.5em 0.8em;\n",
    "            background: #FCF6E3;\n",
    "    }\n",
    "    .highlight{\n",
    "        backgound: #FCF6E3 ;\n",
    "    }\n",
    "    .hll { background-color: #ffffcc }\n",
    "    .c { color: #93a1a1; font-style: italic } /* Comment */\n",
    "    .err { color: #dc322f } /* Error */\n",
    "    .g { color: #657b83 } /* Generic */\n",
    "    .k { color: #859900 } /* Keyword */\n",
    "    .l { color: #657b83 } /* Literal */\n",
    "    .n { color: #586e75 } /* Name */\n",
    "    .o { color: #657b83 } /* Operator */\n",
    "    .x { color: #657b83 } /* Other */\n",
    "    .p { color: #657b83 } /* Punctuation */\n",
    "    .cm { color: #93a1a1; font-style: italic } /* Comment.Multiline */\n",
    "    .cp { color: #93a1a1; font-style: italic } /* Comment.Preproc */\n",
    "    .c1 { color: #93a1a1; font-style: italic } /* Comment.Single */\n",
    "    .cs { color: #93a1a1; font-style: italic } /* Comment.Special */\n",
    "    .gd { color: #657b83 } /* Generic.Deleted */\n",
    "    .ge { color: #657b83 } /* Generic.Emph */\n",
    "    .gr { color: #657b83 } /* Generic.Error */\n",
    "    .gh { color: #657b83 } /* Generic.Heading */\n",
    "    .gi { color: #657b83 } /* Generic.Inserted */\n",
    "    .go { color: #000000 } /* Generic.Output (customized) */\n",
    "    .gp { color: #cb4b16 } /* Generic.Prompt (customized) */\n",
    "    .gs { color: #657b83 } /* Generic.Strong */\n",
    "    .gu { color: #657b83 } /* Generic.Subheading */\n",
    "    .gt { color: #657b83 } /* Generic.Traceback */\n",
    "    .kc { color: #859900 } /* Keyword.Constant */\n",
    "    .kd { color: #859900 } /* Keyword.Declaration */\n",
    "    .kn { color: #cb4b16 } /* Keyword.Namespace */\n",
    "    .kp { color: #cb4b16 } /* Keyword.Pseudo */\n",
    "    .kr { color: #859900 } /* Keyword.Reserved */\n",
    "    .kt { color: #859900 } /* Keyword.Type */\n",
    "    .ld { color: #657b83 } /* Literal.Date */\n",
    "    .m { color: #2aa198 } /* Literal.Number */\n",
    "    .s { color: #2aa198 } /* Literal.String */\n",
    "    .na { color: #657b83 } /* Name.Attribute */\n",
    "    .nb { color: #268bd2 } /* Name.Builtin */\n",
    "    .nc { color: #268bd2 } /* Name.Class */\n",
    "    .no { color: #b58900 } /* Name.Constant */\n",
    "    .nd { color: #cb4b16 } /* Name.Decorator */\n",
    "    .ni { color: #cb4b16 } /* Name.Entity */\n",
    "    .ne { color: #cb4b16 } /* Name.Exception */\n",
    "    .nf { color: #268bd2 } /* Name.Function */\n",
    "    .nl { color: #657b83 } /* Name.Label */\n",
    "    .nn { color: #b58900 } /* Name.Namespace */\n",
    "    .nx { color: #657b83 } /* Name.Other */\n",
    "    .py { color: #268bd2 } /* Name.Property */\n",
    "    .nt { color: #859900 } /* Name.Tag */\n",
    "    .nv { color: #cd4b16 } /* Name.Variable */\n",
    "    .ow { color: #859900 } /* Operator.Word */\n",
    "    .w { color: #fdf6e3 } /* Text.Whitespace */\n",
    "    .mf { color: #2aa198 } /* Literal.Number.Float */\n",
    "    .mh { color: #2aa198 } /* Literal.Number.Hex */\n",
    "    .mi { color: #2aa198 } /* Literal.Number.Integer */\n",
    "    .mo { color: #2aa198 } /* Literal.Number.Oct */\n",
    "    .sb { color: #2aa198 } /* Literal.String.Backtick */\n",
    "    .sc { color: #2aa198 } /* Literal.String.Char */\n",
    "    .sd { color: #2aa198 } /* Literal.String.Doc */\n",
    "    .s2 { color: #2aa198 } /* Literal.String.Double */\n",
    "    .se { color: #cb4b16 } /* Literal.String.Escape */\n",
    "    .sh { color: #2aa198 } /* Literal.String.Heredoc */\n",
    "    .si { color: #cb4b16 } /* Literal.String.Interpol */\n",
    "    .sx { color: #2aa198 } /* Literal.String.Other */\n",
    "    .sr { color: #2aa198 } /* Literal.String.Regex */\n",
    "    .s1 { color: #2aa198 } /* Literal.String.Single */\n",
    "    .ss { color: #2aa198 } /* Literal.String.Symbol */\n",
    "    .bp { color: #268bd2; font-weight: bold } /* Name.Builtin.Pseudo */\n",
    "    .vc { color: #268bd2 } /* Name.Variable.Class */\n",
    "    .vg { color: #268bd2 } /* Name.Variable.Global */\n",
    "    .vi { color: #268bd2 } /* Name.Variable.Instance */\n",
    "    .il { color: #2aa198 } /* Literal.Number.Integer.Long */\n",
    "    div.verdict-div{\n",
    "        background: #EEEEEE; \n",
    "        padding: 30px\n",
    "    }\n",
    "    p.verdict-title{\n",
    "        text-align: center;\n",
    "        font-weight: bold;\n",
    "    }\n",
    "</style>"
   ]
  },
  {
   "cell_type": "markdown",
   "metadata": {},
   "source": [
    "# The Global Object Pattern"
   ]
  },
  {
   "cell_type": "markdown",
   "metadata": {
    "collapsed": true,
    "pycharm": {
     "name": "#%%\n"
    }
   },
   "source": [
    "<div class=\"verdict-div\"><p class=\"verdict-title\">Verdict</p>\n",
    "\n",
    "Like several other scripting languages, Python parses the outer level of each module as normal code. Un-indented assignment statements, expressions, and even loops and conditionals will execute as the module is imported. This presents an excellent opportunity to supplement a module’s classes and functions with constants and data structures that callers will find useful — but also offers dangerous temptations: mutable global objects can wind up coupling distant code, and I/O operations impose import-time expense and side effects.</div>"
   ]
  },
  {
   "cell_type": "markdown",
   "metadata": {},
   "source": [
    "Every Python module is a separate namespace. A module like `json` can offer a `loads()` function without conflicting with, replacing, or overwriting the completely different `loads()` function defined over in the `pickle` module.\n",
    "\n",
    "Separate namespaces are crucial to making a programming language tractable. If Python modules were not separate namespaces, you would be unable to read or write Python code by keeping your attention focused on the module in front of you — a line of code might use, or accidentally conflict with, a name defined anywhere else in the Standard Library or a third-party module you have installed. Upgrading a third-party module could break your entire program if the new version defined a new global that conflicted with yours. Programmers who are forced to code in a language without namespaces soon find themselves festooning global names with prefixes, suffixes, and extra punctuation in a desperate race to keep them from conflicting.\n",
    "\n",
    "While every function and class is, of course, an object — in Python, everything is an object — the Module Global pattern more specifically refers to normal object instances that are given names at the global level of a module.\n",
    "\n",
    "Two patterns use Module Globals but are important enough to warrant their own articles:\n",
    "\n",
    "+ Prebound Methods are generated when a module builds an object and then assigns one or more of the object’s bound methods to names at the module’s global level. The names can be used to call the methods later without needing to find the object itself.\n",
    "\n",
    "\n",
    "+ While a Sentinel Object doesn’t have to live in a module’s global namespace — some sentinel objects are defined as class attributes, while others are private and live inside of a closure — many sentinels, both in the Standard Library and beyond, are defined and accessed as module globals."
   ]
  },
  {
   "cell_type": "markdown",
   "metadata": {},
   "source": [
    "## The Constant Pattern\n",
    "\n",
    "Modules often assign useful numbers, strings, and other values to names in their global scope. The Standard Library includes many such assignments, from which we can excerpt a few examples."
   ]
  },
  {
   "cell_type": "markdown",
   "metadata": {},
   "source": [
    "<pre class=\"cd\"><span></span><span class=\"n\">January</span> <span class=\"o\">=</span> <span class=\"mi\">1</span>                   <span class=\"c1\"># calendar.py</span>\n",
    "<span class=\"n\">WARNING</span> <span class=\"o\">=</span> <span class=\"mi\">30</span>                  <span class=\"c1\"># logging.py</span>\n",
    "<span class=\"n\">MAX_INTERPOLATION_DEPTH</span> <span class=\"o\">=</span> <span class=\"mi\">10</span>  <span class=\"c1\"># configparser.py</span>\n",
    "<span class=\"n\">SSL_HANDSHAKE_TIMEOUT</span> <span class=\"o\">=</span> <span class=\"mf\">60.0</span>  <span class=\"c1\"># asyncio.constants.py</span>\n",
    "<span class=\"n\">TICK</span> <span class=\"o\">=</span> <span class=\"s2\">\"'\"</span>                    <span class=\"c1\"># email.utils.py</span>\n",
    "<span class=\"n\">CRLF</span> <span class=\"o\">=</span> <span class=\"s2\">\"</span><span class=\"se\">\\r\\n</span><span class=\"s2\">\"</span>                 <span class=\"c1\"># smtplib.py</span>\n",
    "</pre>"
   ]
  },
  {
   "cell_type": "markdown",
   "metadata": {},
   "source": [
    "Remember that these are “constants” only in the sense that the objects themselves are immutable. The names can still be reassigned."
   ]
  },
  {
   "cell_type": "markdown",
   "metadata": {
    "scrolled": true
   },
   "source": [
    "<pre class=\"cd\"><span></span><span class=\"kn\">import</span> <span class=\"nn\">calendar</span>\n",
    "<span class=\"n\">calendar</span><span class=\"o\">.</span><span class=\"n\">January</span> <span class=\"o\">=</span> <span class=\"mi\">13</span>\n",
    "<span class=\"nb\">print</span><span class=\"p\">(</span><span class=\"n\">calendar</span><span class=\"o\">.</span><span class=\"n\">January</span><span class=\"p\">)</span></pre>"
   ]
  },
  {
   "cell_type": "markdown",
   "metadata": {},
   "source": [
    "<pre class=\"cd\"><span></span>13\n",
    "</pre>"
   ]
  },
  {
   "cell_type": "markdown",
   "metadata": {},
   "source": [
    "Or deleted, for that matter."
   ]
  },
  {
   "cell_type": "markdown",
   "metadata": {
    "scrolled": true
   },
   "source": [
    "<pre class=\"cd\"><span></span><span class=\"k\">del</span> <span class=\"n\">calendar</span><span class=\"o\">.</span><span class=\"n\">January</span>\n",
    "<span class=\"nb\">print</span><span class=\"p\">(</span><span class=\"n\">calendar</span><span class=\"o\">.</span><span class=\"n\">January</span><span class=\"p\">)</span>\n",
    "</pre>"
   ]
  },
  {
   "cell_type": "markdown",
   "metadata": {},
   "source": [
    "<pre class=\"cd\"><span></span>Traceback (most recent call last):\n",
    "  ...\n",
    "AttributeError: module 'calendar' has no attribute 'January'\n",
    "</pre>"
   ]
  },
  {
   "cell_type": "markdown",
   "metadata": {},
   "source": [
    "In addition to integers, floats, and strings, constants also include immutable containers like tuples and frozen sets:"
   ]
  },
  {
   "cell_type": "markdown",
   "metadata": {},
   "source": [
    "<pre class=\"cd\"><span></span><span class=\"n\">all_errors</span> <span class=\"o\">=</span> <span class=\"p\">(</span><span class=\"n\">Error</span><span class=\"p\">,</span> <span class=\"ne\">OSError</span><span class=\"p\">,</span> <span class=\"ne\">EOFError</span><span class=\"p\">)</span>  <span class=\"c1\"># ftplib.py</span>\n",
    "<span class=\"n\">bytes_types</span> <span class=\"o\">=</span> <span class=\"p\">(</span><span class=\"nb\">bytes</span><span class=\"p\">,</span> <span class=\"nb\">bytearray</span><span class=\"p\">)</span>         <span class=\"c1\"># pickle.py</span>\n",
    "<span class=\"n\">DIGITS</span> <span class=\"o\">=</span> <span class=\"nb\">frozenset</span><span class=\"p\">(</span><span class=\"s2\">\"0123456789\"</span><span class=\"p\">)</span>         <span class=\"c1\"># sre_parse.py</span>\n",
    "</pre>"
   ]
  },
  {
   "cell_type": "markdown",
   "metadata": {},
   "source": [
    "More specialized immutable data types also serve as constants:"
   ]
  },
  {
   "cell_type": "markdown",
   "metadata": {},
   "source": [
    "<pre class=\"cd\"><span></span><span class=\"n\">_EPOCH</span> <span class=\"o\">=</span> <span class=\"n\">datetime</span><span class=\"p\">(</span><span class=\"mi\">1970</span><span class=\"p\">,</span> <span class=\"mi\">1</span><span class=\"p\">,</span> <span class=\"mi\">1</span><span class=\"p\">,</span> <span class=\"n\">tzinfo</span><span class=\"o\">=</span><span class=\"n\">timezone</span><span class=\"o\">.</span><span class=\"n\">utc</span><span class=\"p\">)</span>  <span class=\"c1\"># datetime</span>\n",
    "</pre>"
   ]
  },
  {
   "cell_type": "markdown",
   "metadata": {},
   "source": [
    "On rare occasions, a module global which the code clearly never intends to modify uses a mutable data structure anyway. Plain mutable sets are common in code that pre-dates the invention of the `frozenset`. Dictionaries are still used today because, alas, the Standard Library doesn’t offer a frozen dictionary."
   ]
  },
  {
   "cell_type": "markdown",
   "metadata": {},
   "source": [
    "<pre class=\"cd\"><span></span><span class=\"c1\"># socket.py</span>\n",
    "<span class=\"n\">_blocking_errnos</span> <span class=\"o\">=</span> <span class=\"p\">{</span> <span class=\"n\">EAGAIN</span><span class=\"p\">,</span> <span class=\"n\">EWOULDBLOCK</span> <span class=\"p\">}</span>\n",
    "</pre>"
   ]
  },
  {
   "cell_type": "markdown",
   "metadata": {},
   "source": [
    "<pre class=\"cd\"><span></span><span class=\"c1\"># locale.py</span>\n",
    "<span class=\"n\">windows_locale</span> <span class=\"o\">=</span> <span class=\"p\">{</span>\n",
    "  <span class=\"mh\">0x0436</span><span class=\"p\">:</span> <span class=\"s2\">\"af_ZA\"</span><span class=\"p\">,</span> <span class=\"c1\"># Afrikaans</span>\n",
    "  <span class=\"mh\">0x041c</span><span class=\"p\">:</span> <span class=\"s2\">\"sq_AL\"</span><span class=\"p\">,</span> <span class=\"c1\"># Albanian</span>\n",
    "  <span class=\"mh\">0x0484</span><span class=\"p\">:</span> <span class=\"s2\">\"gsw_FR\"</span><span class=\"p\">,</span><span class=\"c1\"># Alsatian - France</span>\n",
    "  <span class=\"o\">...</span>\n",
    "  <span class=\"mh\">0x0435</span><span class=\"p\">:</span> <span class=\"s2\">\"zu_ZA\"</span><span class=\"p\">,</span> <span class=\"c1\"># Zulu</span>\n",
    "<span class=\"p\">}</span>\n",
    "</pre>"
   ]
  },
  {
   "cell_type": "markdown",
   "metadata": {},
   "source": [
    "Constants are often introduced as a refactoring: the programmer notices that the same value `60.0` is appearing repeatedly in their code, and so introduces a constant `SSL_HANDSHAKE_TIMEOUT` for the value instead. Each use of the name will now incur the slight cost of a search into the global scope, but this is balanced by a couple of advantages. The constant’s name now documents the value’s meaning, improving the code’s readability. And the constant’s assignment statement now provides a single location where the value can be edited in the future without needing to hunt through the code for each place `60.0` was used.\n",
    "\n",
    "These advantages are weighty enough that a constant is sometimes introduced even for a value that’s used only once, hoisting a literal that was hidden deep in the code up into visibility as a global.\n",
    "\n",
    "Some programmers place constant assignments close to the code that use them; others put all constants at the top of the file. Unless a constant is placed so close to its code that it will always be in view of human readers, it can be more friendly to put constants at the top of the module for the easy reference of readers who haven’t yet configured their editors to support jump-to-definition.\n",
    "\n",
    "Another kind of constant is not directed inwards, towards the code in the module itself, but outwards as part of the module’s advertised API. A constant like `WARNING` from the `logging` module offers the advantages of a constant to the caller: code will be more readable, and the constant’s value could be adjusted later without every caller needing to edit their code.\n",
    "\n",
    "You might expect that a constant intended for the module’s own use, but not intended for callers, would always start with an underscore to mark it private. But Python programmers are not consistent in marking constants private, perhaps because the cost of needing to keep a constant around forever because a caller might have decided to start using it is smaller than the cost of having a helper function or class’s API forever locked up."
   ]
  },
  {
   "cell_type": "markdown",
   "metadata": {},
   "source": [
    "## Import-time computation\n",
    "Sometimes constants are introduced for efficiency, to avoid recomputing a value every time code is called. For example, even though math operations involving literal numbers are in fact optimized away in all modern Python implementations, developers often still feel more comfortable making it explicit that the math should be done at import time by assigning the result to a module global:"
   ]
  },
  {
   "cell_type": "markdown",
   "metadata": {},
   "source": [
    "<pre class='cd'><span></span><span class=\"c1\"># zipfile.py</span>\n",
    "<span class=\"n\">ZIP_FILECOUNT_LIMIT</span> <span class=\"o\">=</span> <span class=\"p\">(</span><span class=\"mi\">1</span> <span class=\"o\">&lt;&lt;</span> <span class=\"mi\">16</span><span class=\"p\">)</span> <span class=\"o\">-</span> <span class=\"mi\">1</span>\n",
    "</pre>"
   ]
  },
  {
   "cell_type": "markdown",
   "metadata": {},
   "source": [
    "When the math expression is complicated, assigning a name also enhances the code’s readability.\n",
    "\n",
    "As another example, there exist special floating point values that cannot be written in Python as literals; they can only be generated by passing a string to the float type. To avoid calling `float()` with `'nan'` or `'inf'` every single time such a value is needed, modules often build such values only once as module globals."
   ]
  },
  {
   "cell_type": "markdown",
   "metadata": {},
   "source": [
    "<pre class=\"cd\"><span></span><span class=\"c1\"># encoder.py</span>\n",
    "<span class=\"n\">INFINITY</span> <span class=\"o\">=</span> <span class=\"nb\">float</span><span class=\"p\">(</span><span class=\"s1\">'inf'</span><span class=\"p\">)</span>\n",
    "</pre>"
   ]
  },
  {
   "cell_type": "markdown",
   "metadata": {},
   "source": [
    "A constant can also capture the result of a conditional to avoid re-evaluating it each time the value is needed — as long, of course, as the condition won’t be changing while the program is running."
   ]
  },
  {
   "cell_type": "markdown",
   "metadata": {},
   "source": [
    "<pre class=\"cd\"><span></span><span class=\"c1\"># shutil.py</span>\n",
    "<span class=\"n\">COPY_BUFSIZE</span> <span class=\"o\">=</span> <span class=\"mi\">1024</span> <span class=\"o\">*</span> <span class=\"mi\">1024</span> <span class=\"k\">if</span> <span class=\"n\">_WINDOWS</span> <span class=\"k\">else</span> <span class=\"mi\">16</span> <span class=\"o\">*</span> <span class=\"mi\">1024</span>\n",
    "</pre>"
   ]
  },
  {
   "cell_type": "markdown",
   "metadata": {},
   "source": [
    "My favorite example of computed constants in the Standard Library is the `types` module. I had always assumed it was implemented in C, to gain special access to built-in type objects like `FunctionType` and `LambdaType` that are defined by the language implementation itself.\n",
    "\n",
    "It turns out? I was wrong. The `types` module is written in plain Python!\n",
    "\n",
    "Without any special access to language internals, it does what anyone else would do to learn what type functions have. It creates a function, then asks its type:"
   ]
  },
  {
   "cell_type": "markdown",
   "metadata": {},
   "source": [
    "<pre class=\"cd\"><span></span><span class=\"c1\"># types.py</span>\n",
    "<span class=\"k\">def</span> <span class=\"nf\">_f</span><span class=\"p\">():</span> <span class=\"k\">pass</span>\n",
    "<span class=\"n\">FunctionType</span> <span class=\"o\">=</span> <span class=\"nb\">type</span><span class=\"p\">(</span><span class=\"n\">_f</span><span class=\"p\">)</span>\n",
    "</pre>"
   ]
  },
  {
   "cell_type": "markdown",
   "metadata": {},
   "source": [
    "On the one hand, this makes the `types` module seem almost superfluous — you could always use the same trick to discover `FunctionType` yourself. But on the other hand, importing it from `types` lets both major benefits of the Constant Pattern shine: code becomes more readable because `FunctionType` will have the same name everywhere, and more efficient because the constant only needs to be computed once no matter how many modules in a large system might use it."
   ]
  },
  {
   "cell_type": "markdown",
   "metadata": {},
   "source": [
    "## Dunder Constants\n",
    "A special case of constants defined at a module’s global level are “dunder” constants whose names start and end with double underscores.\n",
    "\n",
    "Several Module Global dunder constants are set by the language itself. For the official list, look for the “Modules” subheading in the Python Reference’s section on the standard type hierarchy. The two encountered most often are `__name__`, which programs need to check because of Python’s awful design decision to assign the fake name `'__main__'` to the module invoked from the command line, and `__file__`, the full filesystem path to the module’s Python file itself — which is almost universally used to find data files included in a package, even though the official recommendation these days is to use `pkgutil.get_data()` instead."
   ]
  },
  {
   "cell_type": "markdown",
   "metadata": {},
   "source": [
    "<pre class=\"cd\"><span></span><span class=\"n\">here</span> <span class=\"o\">=</span> <span class=\"n\">os</span><span class=\"o\">.</span><span class=\"n\">path</span><span class=\"o\">.</span><span class=\"n\">dirname</span><span class=\"p\">(</span><span class=\"vm\">__file__</span><span class=\"p\">)</span>\n",
    "</pre>"
   ]
  },
  {
   "cell_type": "markdown",
   "metadata": {},
   "source": [
    "Beyond the dunder constants set by the language runtime, there is one Python recognizes if a module chooses to set it: if `__all__` is assigned a sequence of identifiers, then only those names will be imported into another module that does `from … import *`. You might have expected `__all__` to become less popular as `import *` gained a reputation as an anti-pattern, but it has gained a happy second career limiting the list of symbols included by automatic documentation engines like Sphinx autodoc module.\n",
    "\n",
    "Even though most modules never plan to modify `__all__`, they inexplicably specify it as a Python list. It is more elegant to use a tuple.\n",
    "\n",
    "Beyond these official dunder constants, some modules — despite unattractive how many people find dunder names — indulge in the creation of even more. Assignments to names like `__author__` and `__version__` are scattered across the Standard Library and beyond. While they don’t appear consistently enough for tooling can assume their presence, occasional readers probably find them informative, and they’re easier to get to than official package metadata.\n",
    "\n",
    "Beware that there does not seem to be agreement, even within the Standard Library, about what type `__author__` should have."
   ]
  },
  {
   "cell_type": "markdown",
   "metadata": {},
   "source": [
    "<pre class=\"cd\"><span></span><span class=\"c1\"># bz2.py</span>\n",
    "<span class=\"n\">__author__</span> <span class=\"o\">=</span> <span class=\"s2\">\"Nadeem Vawda &lt;nadeem.vawda@gmail.com&gt;\"</span>\n",
    "</pre>"
   ]
  },
  {
   "cell_type": "markdown",
   "metadata": {},
   "source": [
    "<pre class=\"cd\"><span></span><span class=\"c1\"># inspect.py</span>\n",
    "<span class=\"n\">__author__</span> <span class=\"o\">=</span> <span class=\"p\">(</span><span class=\"s1\">'Ka-Ping Yee &lt;ping@lfw.org&gt;'</span><span class=\"p\">,</span>\n",
    "              <span class=\"s1\">'Yury Selivanov &lt;yselivanov@sprymix.com&gt;'</span><span class=\"p\">)</span>\n",
    "</pre>"
   ]
  },
  {
   "cell_type": "markdown",
   "metadata": {},
   "source": [
    "Why not `author` and `version` instead, without the dunders? An early reader probably misunderstood dunders, which really meant “special to the Python language runtime,” as a vague indication that a value was module metadata rather than module code. A few Standard Library modules do offer their version without dunders, but without even agreeing on the capitalization."
   ]
  },
  {
   "cell_type": "markdown",
   "metadata": {},
   "source": [
    "<pre class=\"cd\"><span></span><span class=\"n\">VERSION</span> <span class=\"o\">=</span> <span class=\"s2\">\"1.3.0\"</span>  <span class=\"c1\"># etree/ElementTree.py</span>\n",
    "<span class=\"n\">version</span> <span class=\"o\">=</span> <span class=\"s2\">\"0.20\"</span>   <span class=\"c1\"># sax/expatreader.py</span>\n",
    "<span class=\"n\">version</span> <span class=\"o\">=</span> <span class=\"s2\">\"0.9.0\"</span>  <span class=\"c1\"># tarfile.py</span>\n",
    "</pre>"
   ]
  },
  {
   "cell_type": "markdown",
   "metadata": {},
   "source": [
    "To avoid the inconsistencies surrounding these informal and ad-hoc metadata conventions, a package that expects to be installed with `pip` can learn the names and versions of other installed packages directly from the Python package installation system. More information is available in the setuptools documentation on the `pkg_resources` module."
   ]
  },
  {
   "cell_type": "markdown",
   "metadata": {},
   "source": [
    "## The Global Object Pattern\n",
    "In the full-fledged Global Object pattern, as in the Constant pattern, a module instantiates an object at import time and assigns it a name in the module’s global scope. But the object does not simply serve as data; it is not merely an integer, string, or data structure. Instead, the object is made available for the sake of the methods it offers — for the actions it can perform.\n",
    "\n",
    "The simplest Global Objects are immutable. A common example is a compiled regular expression — here are a few examples from the Standard Library:"
   ]
  },
  {
   "cell_type": "markdown",
   "metadata": {},
   "source": [
    "<pre class=\"cd\"><span></span><span class=\"n\">escapesre</span> <span class=\"o\">=</span> <span class=\"n\">re</span><span class=\"o\">.</span><span class=\"n\">compile</span><span class=\"p\">(</span><span class=\"sa\">r</span><span class=\"s1\">'[</span><span class=\"se\">\\\\</span><span class=\"s1\">\"]'</span><span class=\"p\">)</span>       <span class=\"c1\"># email/utils.py</span>\n",
    "<span class=\"n\">magic_check</span> <span class=\"o\">=</span> <span class=\"n\">re</span><span class=\"o\">.</span><span class=\"n\">compile</span><span class=\"p\">(</span><span class=\"s1\">'([*?[])'</span><span class=\"p\">)</span>    <span class=\"c1\"># glob.py</span>\n",
    "<span class=\"n\">commentclose</span> <span class=\"o\">=</span> <span class=\"n\">re</span><span class=\"o\">.</span><span class=\"n\">compile</span><span class=\"p\">(</span><span class=\"sa\">r</span><span class=\"s1\">'--\\s*&gt;'</span><span class=\"p\">)</span>   <span class=\"c1\"># html/parser.py</span>\n",
    "<span class=\"n\">HAS_UTF8</span> <span class=\"o\">=</span> <span class=\"n\">re</span><span class=\"o\">.</span><span class=\"n\">compile</span><span class=\"p\">(</span><span class=\"sa\">b</span><span class=\"s1\">'[</span><span class=\"se\">\\x80</span><span class=\"s1\">-</span><span class=\"se\">\\xff</span><span class=\"s1\">]'</span><span class=\"p\">)</span>  <span class=\"c1\"># json/encoder.py</span>\n",
    "</pre>"
   ]
  },
  {
   "cell_type": "markdown",
   "metadata": {},
   "source": [
    "Compiling a regular expression as a module global is a good example of the more general Global Object pattern. It achieves an elegant and safe transfer of expense from later in a program’s runtime to import time instead. The tradeoffs are:\n",
    "\n",
    "+ The cost of importing the module increases by the cost of compiling the regular expression (plus the tiny cost of assigning it to a global name).\n",
    "\n",
    "\n",
    "+ The import-time cost is now borne by every program that imports the module. Even if a program doesn’t happen to call any code that uses the `HAS_UTF8` regular expression shown above, it will incur the expense of compiling it whenever it imports the `json` module. (Plot twist: in Python 3, the pattern is no longer even used in the module! But its name was not marked private with a leading underscore, so I suppose it’s not safe to remove — and every `import json` gets to pay its cost forever?)\n",
    "\n",
    "\n",
    "+ But functions and methods that do, in fact, need to use the regular expression will no longer incur a repeated cost for its compilation. The compiled regular expression is ready to start scanning a string immediately! If the regular expression is used frequently, like in the inner loop of a costly operation like parsing, the savings can be considerable.\n",
    "\n",
    "\n",
    "+ The global name will make calling code more readable than if the regular expression, when used locally, is used anonymously in a larger expression. (If readability is the only concern, though, remember that you can define the regular expression’s string as a global but skip the cost of compiling it at module level.)\n",
    "\n",
    "\n",
    "This list of tradeoffs is about the same, by the way, if you move a regular expression out into a class attribute instead of moving it all the way out to the global scope. When I finally get around to writing about Python and classes, I’ll link from here to further thoughts on class attributes."
   ]
  },
  {
   "cell_type": "markdown",
   "metadata": {},
   "source": [
    "## Global Objects that are mutable\n",
    "But what about Global Objects that are mutable?\n",
    "\n",
    "They are easiest to justify when they wrap system resources that are by their nature also global to an operating system process. One example in the Standard Library itself is the `environ` object that gives your Python program the “environment” — the text keys and values supplying your timezone, terminal type, so forth — that was passed to your Python program from its parent process.\n",
    "\n",
    "Now, it is arguable whether your program should really be writing new values into its environment as it runs. If you’re launching a subprocess that needs an environment variable adjusted, the `subprocess` routines offer an `env` parameter. But if code does need to manipulate this global resource, then it makes sense for that access to be mediated by a correspondingly global Python object:"
   ]
  },
  {
   "cell_type": "markdown",
   "metadata": {},
   "source": [
    "<pre class=\"cd\"><span></span><span class=\"c1\"># os.py</span>\n",
    "<span class=\"n\">environ</span> <span class=\"o\">=</span> <span class=\"n\">_createenviron</span><span class=\"p\">()</span>\n",
    "</pre>"
   ]
  },
  {
   "cell_type": "markdown",
   "metadata": {},
   "source": [
    "Through this global object, the various routines, and perhaps threads, in a Python program coordinate their access to this process-wide resource. Any change:"
   ]
  },
  {
   "cell_type": "markdown",
   "metadata": {},
   "source": [
    "<pre class=\"cd\"><span></span><span class=\"kn\">import</span> <span class=\"nn\">os</span>\n",
    "<span class=\"n\">os</span><span class=\"o\">.</span><span class=\"n\">environ</span><span class=\"p\">[</span><span class=\"s1\">'TERM'</span><span class=\"p\">]</span> <span class=\"o\">=</span> <span class=\"s1\">'xterm'</span>\n",
    "</pre>"
   ]
  },
  {
   "cell_type": "markdown",
   "metadata": {},
   "source": [
    "— will be immediately visible to any other part of the program that reads that environment key:"
   ]
  },
  {
   "cell_type": "markdown",
   "metadata": {},
   "source": [
    "<pre class=\"cd\"><span></span><span class=\"gp\">&gt;&gt;&gt; </span><span class=\"n\">os</span><span class=\"o\">.</span><span class=\"n\">environ</span><span class=\"p\">[</span><span class=\"s1\">'TERM'</span><span class=\"p\">]</span>\n",
    "<span class=\"go\">'xterm'</span>\n",
    "</pre>"
   ]
  },
  {
   "cell_type": "markdown",
   "metadata": {},
   "source": [
    "The problems with coupling distant parts of your codebase, and even unrelated parts of different libraries, through a unique global object are well known.\n",
    "\n",
    "+ Tests that were previously independent are suddenly coupled through the global object and can no longer safely be run in parallel. If one test makes a temporary assignment to `environ['PATH']` just before another test launches a binary with `subprocess`, the binary will inherit the test value of `$PATH` — possibly causing an error.\n",
    "\n",
    "\n",
    "+ You can sometimes serialize access to a global object through a lock. But unless you do a thorough audit of all of the libraries your code uses, and continue to audit them when upgrading to new versions, it can be difficult to even know which tests call code that ultimately touches particular global object like `environ`.\n",
    "\n",
    "\n",
    "+ Even tests run serially, not in parallel, will now wind up coupled if one test fails to restore `environ` to its original state before the next test runs. This can, it’s true, be mitigated with teardown routines or with mocks that automatically restore state. But unless every single test is perfectly cautious, your test suite can still suffer from exceptions that depend on random test ordering or on whether a previous test succeeded or exited early.\n",
    "\n",
    "\n",
    "+ These dangers beset not only tests but production runs as well. Even if your application doesn’t launch multiple threads, there can be surprising cases where a refactoring winds up calling code that performs one operation on `environ` right in the middle of another routine that was also in the middle of transforming its state."
   ]
  },
  {
   "cell_type": "markdown",
   "metadata": {},
   "source": [
    "The Standard Library has more examples of the Mutable Global pattern — both public globals and private ones litter its modules. Some correspond to unique resources at the system level:"
   ]
  },
  {
   "cell_type": "markdown",
   "metadata": {},
   "source": [
    "<pre class=\"cd\"><span></span><span class=\"c1\"># Lib/multiprocessing/process.py</span>\n",
    "<span class=\"n\">_current_process</span> <span class=\"o\">=</span> <span class=\"n\">_MainProcess</span><span class=\"p\">()</span>\n",
    "<span class=\"n\">_process_counter</span> <span class=\"o\">=</span> <span class=\"n\">itertools</span><span class=\"o\">.</span><span class=\"n\">count</span><span class=\"p\">(</span><span class=\"mi\">1</span><span class=\"p\">)</span>\n",
    "</pre>"
   ]
  },
  {
   "cell_type": "markdown",
   "metadata": {},
   "source": [
    "Others correspond to no outside resource but instead serve as single points of coordination for a process-wide activity like logging:"
   ]
  },
  {
   "cell_type": "markdown",
   "metadata": {},
   "source": [
    "<pre class=\"cd\"><span></span><span class=\"c1\"># Lib/logging/__init__.py</span>\n",
    "<span class=\"n\">root</span> <span class=\"o\">=</span> <span class=\"n\">RootLogger</span><span class=\"p\">(</span><span class=\"n\">WARNING</span><span class=\"p\">)</span>\n",
    "</pre>"
   ]
  },
  {
   "cell_type": "markdown",
   "metadata": {},
   "source": [
    "Third-party libraries can supply dozens of more examples, from global HTTP thread pools and database connections to registries of request handlers, library plugins, and third-party codecs. But in every case, the Mutable Global courts all of the dangers listed above in return for the convenience of putting a resource where every module can reach it.\n",
    "\n",
    "My advice, to the extent that you can, is to write code that accepts arguments and returns values computed from them. Failing that, try passing database connections or open sockets to code that will need to interact with the outside world. It is a compromise for code that finds itself stranded from the resources it needs to resort to accessing a global.\n",
    "\n",
    "The glory of Python, of course, is that it usually makes even anti-patterns and compromises read fairly elegantly in code. An assignment statement at the global level of a module is as easy to write and read as any other assignment statement, and callers can access the Mutable Global through exactly the same import statement they use for functions and classes."
   ]
  },
  {
   "cell_type": "markdown",
   "metadata": {},
   "source": [
    "## Import-time I/O"
   ]
  },
  {
   "cell_type": "markdown",
   "metadata": {},
   "source": [
    "Many of the worst Global Objects are those that perform file or network I/O at import time. They not only impose the cost of that I/O on every library, script, and test that need the module, but expose them to failure if a file or network is not available.\n",
    "\n",
    "Library authors have an unfortunate tendency to make assumptions like “the file `/etc/hosts` will always exist” when, in fact, they can’t know ahead of time all the exotic environments their code will one day face — maybe a tiny embedded system that in fact lacks that file; maybe a continuous integration environment spinning up containers that lack any network configuration at all.\n",
    "\n",
    "Even when faced with this possibility, a module author might still try to defend their import-time I/O: “But delaying the I/O until after import time simply postpones the inevitable — if the system doesn’t have `/etc/hosts` then the user will get exactly the same exception later anyway.” The attempt to make this excuse reveals three misunderstandings:\n",
    "\n",
    "1. Errors at import time are far more serious than errors at runtime. Remember that at the moment your package is imported, the program’s main routine has probably not started running — the caller is usually still up in the middle of the stack of `import` statements at the top of their file. They have probably not yet set up logging and have not yet entered their application’s main `try…except` block that catches and reports failures, so any errors during import will probably print directly to the standard output instead of getting properly reported.\n",
    "\n",
    "\n",
    "2. Applications are often written to survive the failure of some operations so that in an emergency they can still perform other functions. Even if features that need your library will now hit an exception, the application might have many others it can continue to offer — or could, if you didn’t kill it with an exception at import time.\n",
    "\n",
    "\n",
    "3. Finally, library authors need to keep in mind that a Python program that imports their library might not even use it! Never assume that simply because your code has been imported, it will be used. There are many situations where a module gets imported incidentally, as the dependency of yet further modules, but never happens to get called. By performing I/O at import time, you could impose expense and risk on hundreds of programs and tests that don’t even need or care about your network port, connection pool, or open file.\n",
    "\n",
    "For all of these reasons, it’s best for your global objects to wait until they’re first called before opening files and creating sockets — because it’s at the moment of that first call that the library knows the main program is now up and running, and knows that its services are in fact definitely needed in this particular run of the program.\n",
    "\n",
    "I’ll admit that, when my package needs to load a small data file that’s embedded in the package itself, I do sometimes break this rule."
   ]
  }
 ],
 "metadata": {
  "kernelspec": {
   "display_name": "Python 3 (ipykernel)",
   "language": "python",
   "name": "python3"
  },
  "language_info": {
   "codemirror_mode": {
    "name": "ipython",
    "version": 3
   },
   "file_extension": ".py",
   "mimetype": "text/x-python",
   "name": "python",
   "nbconvert_exporter": "python",
   "pygments_lexer": "ipython3",
   "version": "3.9.4"
  },
  "toc": {
   "base_numbering": 1,
   "nav_menu": {},
   "number_sections": true,
   "sideBar": true,
   "skip_h1_title": false,
   "title_cell": "Table of Contents",
   "title_sidebar": "Contents",
   "toc_cell": false,
   "toc_position": {},
   "toc_section_display": true,
   "toc_window_display": true
  }
 },
 "nbformat": 4,
 "nbformat_minor": 1
}
