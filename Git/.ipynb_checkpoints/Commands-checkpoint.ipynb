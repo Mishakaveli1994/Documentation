{
 "cells": [
  {
   "cell_type": "markdown",
   "metadata": {},
   "source": [
    "# General commands"
   ]
  },
  {
   "cell_type": "markdown",
   "metadata": {},
   "source": [
    "## Initialize a Local Repository\t\n",
    "**Command** - `git init`\t\t\t\t\t\t\t\t\t\t\t\t\t\t\t\t\t\t\t\t\t\t\t\t\t"
   ]
  },
  {
   "cell_type": "markdown",
   "metadata": {},
   "source": [
    "## Add files to Local Repository\n",
    "**Command** - `git add .`\n",
    "\n",
    "*Notes*:\n",
    "\n",
    "\".\" refers to the current directory"
   ]
  },
  {
   "cell_type": "markdown",
   "metadata": {},
   "source": [
    "## Commit the changes to the Local Repository and add comment\n",
    "\n",
    "**Command** - `git commit -m \"<comment>\"`\n",
    "\n",
    "*Flags*:\n",
    "\n",
    " `-a` - Skip staging\n",
    " \n",
    "`--amend` - Redo an pending commit"
   ]
  },
  {
   "cell_type": "markdown",
   "metadata": {},
   "source": [
    "## Clone a Remote Repository\n",
    "**Command** - `git clone <repository address>`\n",
    "\n",
    "*Notes*:\n",
    "\n",
    "Can add a directory name at the end if the default one needs to be changed"
   ]
  },
  {
   "cell_type": "markdown",
   "metadata": {
    "pycharm": {
     "name": "#%% md\n"
    }
   },
   "source": [
    "## Push to created branch\n",
    "**Command** - `git push -u origin <branch name>`"
   ]
  },
  {
   "cell_type": "markdown",
   "metadata": {
    "pycharm": {
     "name": "#%% md\n"
    }
   },
   "source": [
    "## Get status of the Repository\n",
    "**Command** - `git status`"
   ]
  },
  {
   "cell_type": "markdown",
   "metadata": {},
   "source": [
    "## Get data from your remote projects\n",
    "**Command** - `git fetch <remote>`\n",
    "\n",
    "*Notes*:\n",
    "\n",
    "It’s important to note that the git fetch command only downloads the data to your local repository — it doesn’t automatically merge it with any of your work or modify what you’re currently working on. You have to merge it manually into your work when you’re ready."
   ]
  },
  {
   "cell_type": "markdown",
   "metadata": {},
   "source": [
    "## Automatically fetch and then merge a Remote Repository\n",
    "**Command** - `git pull`\n",
    "\n",
    "*Flags*:\n",
    "\n",
    "`<remote>` - Fetch the specified remote’s copy of the current branch and immediately merge it into the local copy.\n",
    "\n",
    "`--no-commit <remote>` - Similar to the default invocation, fetches the remote content but does not create a new merge commit.\n",
    "\n",
    "`--rebase <remote>` - Same as the previous pull Instead of using git merge to integrate the remote branch with the local one, uses git rebase.\n",
    "\n",
    "`--verbose` - Gives verbose output during a pull which displays the content being downloaded and the merge details."
   ]
  },
  {
   "cell_type": "markdown",
   "metadata": {},
   "source": [
    "## Save current changes and revert to clean\n",
    "**Command** - `git stash`\n",
    "\n",
    "*Notes*:\n",
    "\n",
    "To revert - `git stash pop`. This will return the stashed changes"
   ]
  },
  {
   "cell_type": "markdown",
   "metadata": {},
   "source": [
    "# History and changes"
   ]
  },
  {
   "cell_type": "markdown",
   "metadata": {
    "pycharm": {
     "name": "#%% md\n"
    }
   },
   "source": [
    "## Unstage file/files\n",
    "**Command** - `git reset HEAD <file1> <file2> …` OR `git restore --staged <file>`"
   ]
  },
  {
   "cell_type": "markdown",
   "metadata": {
    "pycharm": {
     "name": "#%% md\n"
    }
   },
   "source": [
    "## Check differences between files\n",
    "**Command** - `git diff`\n",
    "\n",
    "*Flags*:\n",
    "\n",
    "`--staged / --cached` - Compare staged changes"
   ]
  },
  {
   "cell_type": "markdown",
   "metadata": {
    "pycharm": {
     "name": "#%% md\n"
    }
   },
   "source": [
    "## Remove tracked file\n",
    "**Command** - `git rm <filename>`\n",
    "\n",
    "*Flags*:\n",
    "\n",
    "`-f` - If modified or in staging"
   ]
  },
  {
   "cell_type": "markdown",
   "metadata": {
    "pycharm": {
     "name": "#%% md\n"
    }
   },
   "source": [
    "## Remove from staging and tracking but keep file\n",
    "**Command** - `git rm --cached <filename>`"
   ]
  },
  {
   "cell_type": "markdown",
   "metadata": {
    "pycharm": {
     "name": "#%% md\n"
    }
   },
   "source": [
    "## Move/rename a file\n",
    "**Command** - `git mv <file_from> <file_to>`"
   ]
  },
  {
   "cell_type": "markdown",
   "metadata": {
    "pycharm": {
     "name": "#%% md\n"
    }
   },
   "source": [
    "## Check Commit History\n",
    "**Command** - `git log`\n",
    "\n",
    "*Flags*:\n",
    "`-p (--patch)` - Display the actual changes\n",
    "\n",
    "`--stat` - For abbreviated statistics\n",
    "\n",
    "`--pretty=[oneline, short, full, fuller]` - Modifies output format\n",
    "\n",
    "`--pretty=format:\"\"\"\"%h - %an, %ar : %s\"\"\"\"` - Custom output format\n",
    "\n",
    "`--graph` - Show graph of commits (trains hehe)\n",
    "\n",
    "`--shortstat` - Display only the changed/insertions/deletions line from the --stat command.\n",
    "\n",
    "`--name-only` - Show the list of files modified after the commit information.\n",
    "\n",
    "`--name-status` - Show the list of files affected with added/modified/deleted information as well.\n",
    "\n",
    "`--abbrev-commit` - Show only the first few characters of the SHA-1 checksum instead of all 40.\n",
    "\n",
    "`--relative-date` - Display the date in a relative format (for example, “2 weeks ago”) instead of using the full date format.\n",
    "\n",
    "`--oneline` - Shorthand for --pretty=oneline --abbrev-commit used together.\n",
    "\n",
    "`--decorate` - Show branch pointers\n",
    "\n",
    "`<branch>` - Show commit history for specific branch\n",
    "    \n",
    "`--all` - Show commit history for all branches\n",
    "    \n",
    "**Limit Log Output**\n",
    "    \n",
    "`-<n>` - Show only the last n commits\n",
    "    \n",
    "`-since, --after` - Limit the commits to those made after the specified date.\n",
    "    \n",
    "`--until, --before` - Limit the commits to those made before the specified date.\n",
    "    \n",
    "`--author` - Only show commits in which the author entry matches the specified string.\n",
    "    \n",
    "`--committer` - Only show commits in which the committer entry matches the specified string.\n",
    "    \n",
    "`--grep` - Only show commits with a commit message containing the string\n",
    "    \n",
    "`-S` - Only show commits adding or removing code matching the string\n",
    "\n",
    "**Pretty Format Options**\n",
    "\n",
    "`--pretty='format:%C(auto)%h (%s, %ad)'` - example pretty format\n",
    "\n",
    "`%H` - Commit hash\n",
    "\n",
    "`%h` - Abbreviated commit hash\n",
    "\n",
    "`%T` - Tree hash\n",
    "\n",
    "`%t` - Abbreviated tree hash\n",
    "\n",
    "`%P` - Parent hashes\n",
    "\n",
    "`%p` - Abbreviated parent hashes\n",
    "\n",
    "`%an` - Author name\n",
    "\n",
    "`%ae` - Author email\n",
    "\n",
    "`%ad` - Author date (format respects the --date=option)\n",
    "\n",
    "`%ar` - Author date, relative\n",
    "\n",
    "`%cn` - Committer name\n",
    "\n",
    "`%ce` - Committer email\n",
    "\n",
    "`%cd` - Committer date\n",
    "\n",
    "`%cr` - Committer date, relative\n",
    "\n",
    "`%s` - Subject\""
   ]
  },
  {
   "cell_type": "markdown",
   "metadata": {
    "pycharm": {
     "name": "#%% md\n"
    }
   },
   "source": [
    "## Revert changes to file\n",
    "**Command** - `git checkout -- <file>` OR `git restore <file>`\n",
    "\n",
    "*Notes*:\n",
    "Replaces the file with the version from the last commit"
   ]
  },
  {
   "cell_type": "markdown",
   "metadata": {},
   "source": [
    "# Branch and repository setup"
   ]
  },
  {
   "cell_type": "markdown",
   "metadata": {
    "pycharm": {
     "name": "#%% md\n"
    }
   },
   "source": [
    "## Add origin Remote Repository\t\n",
    "**Command** - `git remote add origin https://github.com/<username>/<repo name>.git`\n",
    "\n",
    "**Example** - `git remote add origin https://github.com/Mishakaveli1994/learn_git.git`"
   ]
  },
  {
   "cell_type": "markdown",
   "metadata": {
    "pycharm": {
     "name": "#%% md\n"
    }
   },
   "source": [
    "## Create a branch on the remote origin\n",
    "**Command** - `git branch -M <branch name>`\n",
    "\n",
    "*Notes*: \n",
    "This command works only if you cloned from a server to which you have write access and if nobody has pushed in the meantime. If you and someone else clone at the same time and they push upstream and then you push upstream, your push will rightly be rejected. You’ll have to fetch their work first and incorporate it into yours before you’ll be allowed to push."
   ]
  },
  {
   "cell_type": "markdown",
   "metadata": {
    "pycharm": {
     "name": "#%% md\n"
    }
   },
   "source": [
    "## Remove Local Branch\n",
    "**Command** - `git branch -d <branch name>`"
   ]
  },
  {
   "cell_type": "markdown",
   "metadata": {
    "pycharm": {
     "name": "#%% md\n"
    }
   },
   "source": [
    "## Show Remote Repositories \n",
    "**Command** - `git remote`\n",
    "\n",
    "*Flags*:\n",
    "\n",
    "`-v` - Show the URL of the repository"
   ]
  },
  {
   "cell_type": "markdown",
   "metadata": {
    "pycharm": {
     "name": "#%% md\n"
    }
   },
   "source": [
    "## Add a new remote GIT Repository as a shortname\n",
    "**Command** - `git remote add <shortname> <url>`"
   ]
  },
  {
   "cell_type": "markdown",
   "metadata": {
    "pycharm": {
     "name": "#%% md\n"
    }
   },
   "source": [
    "## See more information about a particular remote\n",
    "**Command** - `git remote show <remote>`"
   ]
  },
  {
   "cell_type": "markdown",
   "metadata": {
    "pycharm": {
     "name": "#%% md\n"
    }
   },
   "source": [
    "## Change a Remote Repository’s shortname\n",
    "**Command** - `git remote rename <original name> <new name>`"
   ]
  },
  {
   "cell_type": "markdown",
   "metadata": {
    "pycharm": {
     "name": "#%% md\n"
    }
   },
   "source": [
    "## Remove a Remote Repository\n",
    "**Command** - `git remote rm <remote>`"
   ]
  },
  {
   "cell_type": "markdown",
   "metadata": {
    "pycharm": {
     "name": "#%% md\n"
    }
   },
   "source": [
    "## Rename a local branch\n",
    "**Command** - `git branch -m <old name> <new name>`"
   ]
  },
  {
   "cell_type": "markdown",
   "metadata": {
    "pycharm": {
     "name": "#%% md\n"
    }
   },
   "source": [
    "## Delete remote branch\n",
    "**Command** - `git push origin --delete <branch>`"
   ]
  },
  {
   "cell_type": "markdown",
   "metadata": {
    "pycharm": {
     "name": "#%% md\n"
    }
   },
   "source": [
    "## Update the upstream remote's HEAD.\n",
    "**Command** - `git remote set-head <branch> -a`"
   ]
  },
  {
   "cell_type": "markdown",
   "metadata": {
    "pycharm": {
     "name": "#%% md\n"
    }
   },
   "source": [
    "## Create a new branch\n",
    "**Command** - `git branch <branch name>`"
   ]
  },
  {
   "cell_type": "markdown",
   "metadata": {
    "pycharm": {
     "name": "#%% md\n"
    }
   },
   "source": [
    "## Switch between branches\n",
    "**Command** - `git checkout <branch>` OR `git switch <branch>`\n",
    "\n",
    "*git checkout flags*:\n",
    "\n",
    "`-b` - Create and switch to new branch\t\n",
    "\n",
    "*git switch flags*:\n",
    "\n",
    "`-c` (create) - Create and switch to new branch\n",
    "\n",
    "`git switch` -\tReturn to previous branch\n",
    "\n",
    "*Notes*:\n",
    "\n",
    "This moves HEAD to point to the testing branch."
   ]
  },
  {
   "cell_type": "markdown",
   "metadata": {
    "pycharm": {
     "name": "#%% md\n"
    }
   },
   "source": [
    "## Merge branches\n",
    "\n",
    "**Command** - `git merge <branch>`\n",
    "\n",
    "*Flags*:\n",
    "\n",
    "`--merged` - Show merged branches\n",
    "\n",
    "`--no-merged` - Show unmerged branches\n",
    "\n",
    "*Notes*:\n",
    "\n",
    "First checkout the branch you want to merge into. Branches on this list when using --merged without the * in front of them are generally fine to delete with git branch `-d`; you’ve already incorporated their work into another branch, so you’re not going to lose anything.\n",
    "\n",
    "The options described above, `--merged` and `--no-merged` will, if not given a commit or branch name as an argument, show you what is, respectively, merged or not merged into your current branch.\n",
    "\n",
    "You can always provide an additional argument to ask about the merge state with respect to some other branch without checking that other branch out first, as in, what is not merged into the master branch?\n",
    "\n",
    "`$ git checkout testing`\n",
    "\n",
    "`$ git branch --no-merged master`\n",
    "\n",
    "  `topicA`\n",
    "  \n",
    "  `featureB`"
   ]
  },
  {
   "cell_type": "markdown",
   "metadata": {
    "pycharm": {
     "name": "#%% md\n"
    }
   },
   "source": [
    "## Switch between branches\n",
    "**Command** - `git checkout <branch>` OR `git switch <branch>`\n",
    "\n",
    "*git checkout flags*:\n",
    "\n",
    "`-b` - Create and switch to new branch\t\n",
    "\n",
    "*git switch flags*:\n",
    "\n",
    "`-c` (create) - Create and switch to new branch\n",
    "\n",
    "`git switch` -\tReturn to previous branch\n",
    "\n",
    "*Notes*:\n",
    "\n",
    "This moves HEAD to point to the testing branch."
   ]
  },
  {
   "cell_type": "markdown",
   "metadata": {},
   "source": [
    "## Set default remote branch\n",
    "**Command** - `git branch --set-upstream-to=origin/<remote_branch> <local branch>`"
   ]
  }
 ],
 "metadata": {
  "kernelspec": {
   "display_name": "Python 3 (ipykernel)",
   "language": "python",
   "name": "python3"
  },
  "language_info": {
   "codemirror_mode": {
    "name": "ipython",
    "version": 3
   },
   "file_extension": ".py",
   "mimetype": "text/x-python",
   "name": "python",
   "nbconvert_exporter": "python",
   "pygments_lexer": "ipython3",
   "version": "3.9.7"
  },
  "toc": {
   "base_numbering": 1,
   "nav_menu": {},
   "number_sections": true,
   "sideBar": true,
   "skip_h1_title": false,
   "title_cell": "Table of Contents",
   "title_sidebar": "Contents",
   "toc_cell": false,
   "toc_position": {
    "height": "calc(100% - 180px)",
    "left": "10px",
    "top": "150px",
    "width": "384px"
   },
   "toc_section_display": true,
   "toc_window_display": true
  }
 },
 "nbformat": 4,
 "nbformat_minor": 1
}
