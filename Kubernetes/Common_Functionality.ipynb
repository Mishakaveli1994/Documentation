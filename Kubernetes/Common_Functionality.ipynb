{
 "cells": [
  {
   "cell_type": "markdown",
   "metadata": {
    "collapsed": true,
    "pycharm": {
     "name": "#%%\n"
    }
   },
   "source": [
    "# Setup\n",
    "Download `kubectl.exe` from https://kubernetes.io/docs/tasks/tools/\n",
    "\n",
    "Start and set in Windows Variables \"Path\""
   ]
  },
  {
   "cell_type": "markdown",
   "metadata": {},
   "source": [
    "# Configurations file setup\n",
    "Create a folder `.kube` in `Windows/Users/<Username>` and copy the config file to `config` (no extensions).\n",
    "\n",
    "That way Kubernetes will know where to connect."
   ]
  },
  {
   "cell_type": "markdown",
   "metadata": {},
   "source": [
    "# Commands"
   ]
  },
  {
   "cell_type": "markdown",
   "metadata": {},
   "source": [
    "## Cluster Management"
   ]
  },
  {
   "cell_type": "markdown",
   "metadata": {},
   "source": [
    "### Get available contexts\n",
    "**Command** - `kubectl config get-contexts`"
   ]
  },
  {
   "cell_type": "markdown",
   "metadata": {},
   "source": [
    "### Set namespace\n",
    "**Command** - `kubectl config set-context --current --namespace=agvs`"
   ]
  },
  {
   "cell_type": "markdown",
   "metadata": {},
   "source": [
    "### Get all available resources\n",
    "**Command** - `kubectl get all`"
   ]
  },
  {
   "cell_type": "markdown",
   "metadata": {},
   "source": [
    "### Get configuration of cluster\n",
    "**Command** - `kubectl config view`"
   ]
  },
  {
   "cell_type": "markdown",
   "metadata": {},
   "source": [
    "### Get available API resources\n",
    "**Command** - `kubectl api-resources`"
   ]
  },
  {
   "cell_type": "markdown",
   "metadata": {},
   "source": [
    "## Jobs, pods"
   ]
  },
  {
   "cell_type": "markdown",
   "metadata": {},
   "source": [
    "### Start cronjob\n",
    "**Command** - `kubectl create job --from=cronjob/<cronjob> <instance name>`"
   ]
  },
  {
   "cell_type": "markdown",
   "metadata": {},
   "source": [
    "### Get cronjobs\n",
    "**Command** - `kubectl get cronjob`"
   ]
  },
  {
   "cell_type": "markdown",
   "metadata": {},
   "source": [
    "### Get pods\n",
    "**Command** - `kubectl get pods`\n",
    "\n",
    "*Notes*:\n",
    "\n",
    "This will return something with the following structure - `<job_name>-<suffix>`\n",
    "\n",
    "`<job_name>-4m6h6`  &emsp;&emsp;&emsp; 0/1 &emsp;&emsp; Error &emsp;&emsp; 0 &emsp;&emsp; 9h\n",
    "\n",
    "`<job_name>-czc8h ` &emsp;&emsp;&emsp; 0/1 &emsp;&emsp; Error &emsp;&emsp; 0 &emsp;&emsp; 9h\n",
    "\n",
    "`<job_name>-kzgqx ` &emsp;&emsp;&emsp; 0/1 &emsp;&emsp; Error &emsp;&emsp; 0 &emsp;&emsp; 9h\n",
    "\n",
    "`<job_name>-mxt9q ` &emsp;&emsp;&emsp; 0/1 &emsp;&emsp; Error &emsp;&emsp; 0 &emsp;&emsp; 9h\n",
    "\n",
    "`<job_name>-v78wc ` &emsp;&emsp;&emsp; 0/1 &emsp;&emsp; Error &emsp;&emsp; 0 &emsp;&emsp; 9h\n",
    "\n",
    "`<job_name>-wp7pn ` &emsp;&emsp;&emsp; 0/1 &emsp;&emsp; Error &emsp;&emsp; 0 &emsp;&emsp; 9h\n",
    "\n",
    "`<job_name>-wzvd5 ` &emsp;&emsp;&emsp; 0/1 &emsp;&emsp; Error &emsp;&emsp; 0 &emsp;&emsp; 9h"
   ]
  },
  {
   "cell_type": "markdown",
   "metadata": {},
   "source": [
    "### Get jobs\n",
    "**Command** - `kubectl get job`"
   ]
  },
  {
   "cell_type": "markdown",
   "metadata": {},
   "source": [
    "### Get logs for a specific job\n",
    "**Command** - `kubectl logs <job_pod>`\n",
    "\n",
    "*Flags*:\n",
    "\n",
    "`--since=1h` - get logs for last hour\n",
    "\n",
    "`--tail=20` - get the most recent 20 lines of code\n",
    "\n",
    "`-f` - print logs for a pod and follow new logs\n",
    "\n",
    "*Notes*:\n",
    "\n",
    "Take the argument `<job_pod>` from the output of `kubectl get pods`\n",
    "\n",
    "*Examples*:\n",
    "\n",
    "`kubectl logs -f <service_name> [-c <container>]` - get logs from a service and optinally select which container\n",
    "\n",
    "`kubectl logs -c <container_name> <pod_name>` - print the logs for a container in a pod\n",
    "\n",
    "`kubectl logs --previous <pod_name>` - view the logs for a previously failed pod"
   ]
  },
  {
   "cell_type": "markdown",
   "metadata": {},
   "source": [
    "### Delete active pod\n",
    "**Command** - `kubectl delete pod <job_pod>`\n",
    "\n",
    "*Notes*:\n",
    "\n",
    "It's not enough to delete the jobs from Rancher, they also need to be deleted or they will go and restart themselves (2d18h - 681 restarts as an example)"
   ]
  },
  {
   "cell_type": "code",
   "execution_count": null,
   "metadata": {},
   "outputs": [],
   "source": []
  }
 ],
 "metadata": {
  "kernelspec": {
   "display_name": "Python 3 (ipykernel)",
   "language": "python",
   "name": "python3"
  },
  "language_info": {
   "codemirror_mode": {
    "name": "ipython",
    "version": 3
   },
   "file_extension": ".py",
   "mimetype": "text/x-python",
   "name": "python",
   "nbconvert_exporter": "python",
   "pygments_lexer": "ipython3",
   "version": "3.9.7"
  },
  "toc": {
   "base_numbering": 1,
   "nav_menu": {},
   "number_sections": true,
   "sideBar": true,
   "skip_h1_title": false,
   "title_cell": "Table of Contents",
   "title_sidebar": "Contents",
   "toc_cell": false,
   "toc_position": {
    "height": "calc(100% - 180px)",
    "left": "10px",
    "top": "150px",
    "width": "303.837px"
   },
   "toc_section_display": true,
   "toc_window_display": true
  }
 },
 "nbformat": 4,
 "nbformat_minor": 1
}
