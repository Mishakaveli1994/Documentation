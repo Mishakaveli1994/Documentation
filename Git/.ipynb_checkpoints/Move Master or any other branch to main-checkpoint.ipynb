{
 "cells": [
  {
   "cell_type": "markdown",
   "id": "1455088d",
   "metadata": {},
   "source": [
    "## Move the ‘master’ branch to ‘main’\n",
    "Run the following command which creates a branch called `main` using the history from `master`. Using the argument `-m` will transfer all of the commit history on the `master` branch to your new `main` branch so nothing gets lost.\n",
    "\n",
    "`git branch -m master main`"
   ]
  },
  {
   "cell_type": "markdown",
   "id": "8f004836",
   "metadata": {},
   "source": [
    "## Push ‘main’ to remote repo\n",
    "Remember that git is version control software on your local machine and GitHub is the remote server that stores your code. For this reason, you’ll have to push your new `main` branch up to GitHub and tell the local branch to start tracking the remote branch with the same name.\n",
    "\n",
    "`git push -u origin main`"
   ]
  },
  {
   "cell_type": "markdown",
   "id": "215246a5",
   "metadata": {},
   "source": [
    "## Point HEAD to ‘main’ branch\n",
    "At this stage if `master` was your default branch you cannot remove it without first changing HEAD, the pointer to the current branch reference. This following command will point it to `main`.\n",
    "\n",
    "`git symbolic-ref refs/remotes/origin/HEAD refs/remotes/origin/main`"
   ]
  },
  {
   "cell_type": "markdown",
   "id": "12e966a3",
   "metadata": {},
   "source": [
    "At this point you can take a breather. You’re on the home stretch! If you want to check that things are going as planned then you’re welcome to run the following that should show the HEAD is pointing to main which now frees you up to delete `master`. Note: When you enter this command in your Terminal you will have to type :q to exit it. Not CTRL+C, ESC, etc.\n",
    "\n",
    "`git branch -a`"
   ]
  }
 ],
 "metadata": {
  "kernelspec": {
   "display_name": "Python 3 (ipykernel)",
   "language": "python",
   "name": "python3"
  },
  "language_info": {
   "codemirror_mode": {
    "name": "ipython",
    "version": 3
   },
   "file_extension": ".py",
   "mimetype": "text/x-python",
   "name": "python",
   "nbconvert_exporter": "python",
   "pygments_lexer": "ipython3",
   "version": "3.9.7"
  },
  "toc": {
   "base_numbering": 1,
   "nav_menu": {},
   "number_sections": true,
   "sideBar": true,
   "skip_h1_title": false,
   "title_cell": "Table of Contents",
   "title_sidebar": "Contents",
   "toc_cell": false,
   "toc_position": {},
   "toc_section_display": true,
   "toc_window_display": true
  }
 },
 "nbformat": 4,
 "nbformat_minor": 5
}
