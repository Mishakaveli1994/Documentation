{
 "cells": [
  {
   "cell_type": "markdown",
   "source": [
    "## Go into directory of deployment .yml file"
   ],
   "metadata": {
    "collapsed": false,
    "pycharm": {
     "name": "#%% md\n"
    }
   }
  },
  {
   "cell_type": "markdown",
   "source": [
    "## Create a resource for the specified job\n",
    "**Command** - `joe job apply <config_name>.yaml`"
   ],
   "metadata": {
    "collapsed": false,
    "pycharm": {
     "name": "#%% md\n"
    }
   }
  },
  {
   "cell_type": "markdown",
   "source": [
    "## Deploy job (good to be in the right directory)\n",
    "**Command** - `joe job deploy -c <config>.yaml -v <version> --old`\n",
    "\n",
    "*Flags*:\n",
    "\n",
    "`--old` - use legacy JOE\n",
    "\n",
    "*Notes*:\n",
    "### How to get version\n",
    "1. Find container reigistry in Azure\n",
    "2. Find repository of job in Azure\n",
    "3. Click job name and see latest version - select any number newer than that\n"
   ],
   "metadata": {
    "collapsed": false,
    "pycharm": {
     "name": "#%% md\n"
    }
   }
  },
  {
   "cell_type": "markdown",
   "metadata": {
    "pycharm": {
     "name": "#%% md\n"
    }
   },
   "source": [
    "## Deploy job (good to be in the right directory)\n",
    "**Command** - `joe job deploy -c <config>.yaml -v <version> --old`\n",
    "\n",
    "*Flags*:\n",
    "\n",
    "`--old` - use legacy JOE\n",
    "\n",
    "*Notes*:\n",
    "### How to get version\n",
    "1. Find container reigistry in Azure\n",
    "2. Find repository of job in Azure\n",
    "3. Click job name and see latest version - select any number newer than that\n"
   ]
  },
  {
   "cell_type": "code",
   "execution_count": null,
   "outputs": [],
   "source": [],
   "metadata": {
    "collapsed": false,
    "pycharm": {
     "name": "#%%\n"
    }
   }
  }
 ],
 "metadata": {
  "kernelspec": {
   "display_name": "Python 3 (ipykernel)",
   "language": "python",
   "name": "python3"
  },
  "language_info": {
   "codemirror_mode": {
    "name": "ipython",
    "version": 3
   },
   "file_extension": ".py",
   "mimetype": "text/x-python",
   "name": "python",
   "nbconvert_exporter": "python",
   "pygments_lexer": "ipython3",
   "version": "3.9.7"
  },
  "toc": {
   "base_numbering": 1,
   "nav_menu": {},
   "number_sections": true,
   "sideBar": true,
   "skip_h1_title": false,
   "title_cell": "Table of Contents",
   "title_sidebar": "Contents",
   "toc_cell": false,
   "toc_position": {},
   "toc_section_display": true,
   "toc_window_display": true
  }
 },
 "nbformat": 4,
 "nbformat_minor": 1
}