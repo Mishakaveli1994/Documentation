{
 "cells": [
  {
   "cell_type": "markdown",
   "metadata": {
    "collapsed": true,
    "pycharm": {
     "name": "#%%\n"
    }
   },
   "source": [
    "## Drop Function\n",
    "\n",
    "Syntax: `drop(how='any', thresh=None, subset=None)`\n",
    "\n",
    "`how` – This takes values `any` or `all`. By using `any`, drop a row if it contains NULLs on any columns.\n",
    "      By using `all`, drop a row only if all columns have NULL values. Default is `any`.\n",
    "`thresh` – This takes int value, Drop rows that have less than thresh hold non-null values. Default is `None`.\n",
    "`subset` – Use this to select the columns for NULL values. Default is `None`."
   ]
  },
  {
   "cell_type": "code",
   "execution_count": 1,
   "metadata": {},
   "outputs": [],
   "source": [
    "from pyspark.sql import SparkSession"
   ]
  },
  {
   "cell_type": "code",
   "execution_count": 2,
   "metadata": {},
   "outputs": [
    {
     "name": "stdout",
     "output_type": "stream",
     "text": [
      "root\n",
      " |-- id: integer (nullable = true)\n",
      " |-- zipcode: integer (nullable = true)\n",
      " |-- type: string (nullable = true)\n",
      " |-- city: string (nullable = true)\n",
      " |-- state: string (nullable = true)\n",
      " |-- population: integer (nullable = true)\n",
      "\n",
      "+---+-------+--------+-------------------+-----+----------+\n",
      "|id |zipcode|type    |city               |state|population|\n",
      "+---+-------+--------+-------------------+-----+----------+\n",
      "|1  |704    |STANDARD|null               |PR   |30100     |\n",
      "|2  |704    |null    |PASEO COSTA DEL SUR|PR   |null      |\n",
      "|3  |709    |null    |BDA SAN LUIS       |PR   |3700      |\n",
      "|4  |76166  |UNIQUE  |CINGULAR WIRELESS  |TX   |84000     |\n",
      "|5  |76177  |STANDARD|null               |TX   |null      |\n",
      "+---+-------+--------+-------------------+-----+----------+\n",
      "\n"
     ]
    }
   ],
   "source": [
    "spark = SparkSession.builder.master(\"local[1]\").appName(\"SparkByExamples.com\").getOrCreate()\n",
    "\n",
    "filePath = '../Example_Sources/small_zipcode.csv'\n",
    "df = spark.read.options(header='true', inferSchema='true').csv(filePath)\n",
    "\n",
    "df.printSchema()\n",
    "df.show(truncate=False)"
   ]
  },
  {
   "cell_type": "markdown",
   "metadata": {},
   "source": [
    "## Remove rows that have a column with value NULL"
   ]
  },
  {
   "cell_type": "code",
   "execution_count": 7,
   "metadata": {},
   "outputs": [
    {
     "name": "stdout",
     "output_type": "stream",
     "text": [
      "Remove rows that have a column with value NULL\n",
      "+---+-------+------+-----------------+-----+----------+\n",
      "|id |zipcode|type  |city             |state|population|\n",
      "+---+-------+------+-----------------+-----+----------+\n",
      "|4  |76166  |UNIQUE|CINGULAR WIRELESS|TX   |84000     |\n",
      "+---+-------+------+-----------------+-----+----------+\n",
      "\n",
      "+---+-------+------+-----------------+-----+----------+\n",
      "|id |zipcode|type  |city             |state|population|\n",
      "+---+-------+------+-----------------+-----+----------+\n",
      "|4  |76166  |UNIQUE|CINGULAR WIRELESS|TX   |84000     |\n",
      "+---+-------+------+-----------------+-----+----------+\n",
      "\n"
     ]
    }
   ],
   "source": [
    "print('Remove rows that have a column with value NULL')\n",
    "df.na.drop().show(truncate=False)\n",
    "df.na.drop('any').show(truncate=False)"
   ]
  },
  {
   "cell_type": "markdown",
   "metadata": {},
   "source": [
    "## Remove rows that have NULL value in all columns"
   ]
  },
  {
   "cell_type": "code",
   "execution_count": 4,
   "metadata": {},
   "outputs": [
    {
     "name": "stdout",
     "output_type": "stream",
     "text": [
      "Remove rows that have NULL value in all columns\n",
      "+---+-------+--------+-------------------+-----+----------+\n",
      "|id |zipcode|type    |city               |state|population|\n",
      "+---+-------+--------+-------------------+-----+----------+\n",
      "|1  |704    |STANDARD|null               |PR   |30100     |\n",
      "|2  |704    |null    |PASEO COSTA DEL SUR|PR   |null      |\n",
      "|3  |709    |null    |BDA SAN LUIS       |PR   |3700      |\n",
      "|4  |76166  |UNIQUE  |CINGULAR WIRELESS  |TX   |84000     |\n",
      "|5  |76177  |STANDARD|null               |TX   |null      |\n",
      "+---+-------+--------+-------------------+-----+----------+\n",
      "\n"
     ]
    }
   ],
   "source": [
    "print('Remove rows that have NULL value in all columns')\n",
    "df.na.drop('all').show(truncate=False)"
   ]
  },
  {
   "cell_type": "markdown",
   "metadata": {},
   "source": [
    "## Remove Rows with NULL Value of Selected Columns"
   ]
  },
  {
   "cell_type": "code",
   "execution_count": 5,
   "metadata": {},
   "outputs": [
    {
     "name": "stdout",
     "output_type": "stream",
     "text": [
      "Remove Rows with NULL Value of Selected Columns\n",
      "+---+-------+--------+-----------------+-----+----------+\n",
      "|id |zipcode|type    |city             |state|population|\n",
      "+---+-------+--------+-----------------+-----+----------+\n",
      "|1  |704    |STANDARD|null             |PR   |30100     |\n",
      "|4  |76166  |UNIQUE  |CINGULAR WIRELESS|TX   |84000     |\n",
      "+---+-------+--------+-----------------+-----+----------+\n",
      "\n"
     ]
    }
   ],
   "source": [
    "print('Remove Rows with NULL Value of Selected Columns')\n",
    "df.na.drop(subset=['population', 'type']).show(truncate=False)"
   ]
  },
  {
   "cell_type": "markdown",
   "metadata": {},
   "source": [
    "## Remove Rows with NULL Values with dropna\n",
    "`drop(columns:Seq[String]) or drop(columns:Array[String])`"
   ]
  },
  {
   "cell_type": "code",
   "execution_count": 8,
   "metadata": {},
   "outputs": [
    {
     "name": "stdout",
     "output_type": "stream",
     "text": [
      "Remove Rows with NULL Values with dropna\n",
      "+---+-------+------+-----------------+-----+----------+\n",
      "|id |zipcode|type  |city             |state|population|\n",
      "+---+-------+------+-----------------+-----+----------+\n",
      "|4  |76166  |UNIQUE|CINGULAR WIRELESS|TX   |84000     |\n",
      "+---+-------+------+-----------------+-----+----------+\n",
      "\n"
     ]
    }
   ],
   "source": [
    "print('Remove Rows with NULL Values with dropna')\n",
    "df.dropna().show(truncate=False)"
   ]
  },
  {
   "cell_type": "code",
   "execution_count": null,
   "metadata": {},
   "outputs": [],
   "source": []
  }
 ],
 "metadata": {
  "kernelspec": {
   "display_name": "Python 3 (ipykernel)",
   "language": "python",
   "name": "python3"
  },
  "language_info": {
   "codemirror_mode": {
    "name": "ipython",
    "version": 3
   },
   "file_extension": ".py",
   "mimetype": "text/x-python",
   "name": "python",
   "nbconvert_exporter": "python",
   "pygments_lexer": "ipython3",
   "version": "3.9.7"
  },
  "toc": {
   "base_numbering": 1,
   "nav_menu": {},
   "number_sections": true,
   "sideBar": true,
   "skip_h1_title": false,
   "title_cell": "Table of Contents",
   "title_sidebar": "Contents",
   "toc_cell": false,
   "toc_position": {},
   "toc_section_display": true,
   "toc_window_display": true
  }
 },
 "nbformat": 4,
 "nbformat_minor": 1
}
